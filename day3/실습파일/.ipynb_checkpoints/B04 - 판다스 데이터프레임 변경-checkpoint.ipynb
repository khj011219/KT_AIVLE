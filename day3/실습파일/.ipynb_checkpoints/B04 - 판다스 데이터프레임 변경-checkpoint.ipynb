{
 "cells": [
  {
   "cell_type": "markdown",
   "metadata": {
    "id": "BFhIXgdYoYGp"
   },
   "source": [
    "<center><img src='https://raw.githubusercontent.com/Jangrae/img/master/title.png' width=500/></center>"
   ]
  },
  {
   "cell_type": "markdown",
   "metadata": {
    "id": "0kW6dzBFYnWW"
   },
   "source": [
    "# 4.데이터프레임 변경\n",
    "\n",
    "- 데이터 전처리를 위해 꼭 익혀두어야 할 내용입니다.\n",
    "- 반복 학습과 실습을 통해서 익숙해져야 합니다."
   ]
  },
  {
   "cell_type": "code",
   "execution_count": 1,
   "metadata": {
    "id": "b9NraxWDnYr1"
   },
   "outputs": [],
   "source": [
    "# 라이브러리 불러오기\n",
    "import pandas as pd"
   ]
  },
  {
   "cell_type": "code",
   "execution_count": 27,
   "metadata": {
    "id": "SOiVUXk_nlEl"
   },
   "outputs": [
    {
     "data": {
      "text/html": [
       "<div>\n",
       "<style scoped>\n",
       "    .dataframe tbody tr th:only-of-type {\n",
       "        vertical-align: middle;\n",
       "    }\n",
       "\n",
       "    .dataframe tbody tr th {\n",
       "        vertical-align: top;\n",
       "    }\n",
       "\n",
       "    .dataframe thead th {\n",
       "        text-align: right;\n",
       "    }\n",
       "</style>\n",
       "<table border=\"1\" class=\"dataframe\">\n",
       "  <thead>\n",
       "    <tr style=\"text-align: right;\">\n",
       "      <th></th>\n",
       "      <th>total_bill_amount</th>\n",
       "      <th>tip</th>\n",
       "      <th>male_female</th>\n",
       "      <th>smoke_yes_no</th>\n",
       "      <th>week_name</th>\n",
       "      <th>dinner_lunch</th>\n",
       "      <th>size</th>\n",
       "    </tr>\n",
       "  </thead>\n",
       "  <tbody>\n",
       "    <tr>\n",
       "      <th>0</th>\n",
       "      <td>16.99</td>\n",
       "      <td>1.01</td>\n",
       "      <td>Female</td>\n",
       "      <td>No</td>\n",
       "      <td>Sun</td>\n",
       "      <td>Dinner</td>\n",
       "      <td>2</td>\n",
       "    </tr>\n",
       "    <tr>\n",
       "      <th>1</th>\n",
       "      <td>10.34</td>\n",
       "      <td>1.66</td>\n",
       "      <td>Male</td>\n",
       "      <td>No</td>\n",
       "      <td>Sun</td>\n",
       "      <td>Dinner</td>\n",
       "      <td>3</td>\n",
       "    </tr>\n",
       "    <tr>\n",
       "      <th>2</th>\n",
       "      <td>21.01</td>\n",
       "      <td>3.50</td>\n",
       "      <td>Male</td>\n",
       "      <td>No</td>\n",
       "      <td>Sun</td>\n",
       "      <td>Dinner</td>\n",
       "      <td>3</td>\n",
       "    </tr>\n",
       "    <tr>\n",
       "      <th>3</th>\n",
       "      <td>23.68</td>\n",
       "      <td>3.31</td>\n",
       "      <td>Male</td>\n",
       "      <td>No</td>\n",
       "      <td>Sun</td>\n",
       "      <td>Dinner</td>\n",
       "      <td>2</td>\n",
       "    </tr>\n",
       "    <tr>\n",
       "      <th>4</th>\n",
       "      <td>24.59</td>\n",
       "      <td>3.61</td>\n",
       "      <td>Female</td>\n",
       "      <td>No</td>\n",
       "      <td>Sun</td>\n",
       "      <td>Dinner</td>\n",
       "      <td>4</td>\n",
       "    </tr>\n",
       "  </tbody>\n",
       "</table>\n",
       "</div>"
      ],
      "text/plain": [
       "   total_bill_amount   tip male_female smoke_yes_no week_name dinner_lunch  \\\n",
       "0              16.99  1.01      Female           No       Sun       Dinner   \n",
       "1              10.34  1.66        Male           No       Sun       Dinner   \n",
       "2              21.01  3.50        Male           No       Sun       Dinner   \n",
       "3              23.68  3.31        Male           No       Sun       Dinner   \n",
       "4              24.59  3.61      Female           No       Sun       Dinner   \n",
       "\n",
       "   size  \n",
       "0     2  \n",
       "1     3  \n",
       "2     3  \n",
       "3     2  \n",
       "4     4  "
      ]
     },
     "execution_count": 27,
     "metadata": {},
     "output_type": "execute_result"
    }
   ],
   "source": [
    "# 데이터 읽어오기\n",
    "path = 'https://raw.githubusercontent.com/Jangrae/csv/master/tips(2).csv'\n",
    "tip = pd.read_csv(path)\n",
    "\n",
    "# 확인\n",
    "tip.head()"
   ]
  },
  {
   "cell_type": "markdown",
   "metadata": {
    "id": "BCBZOe4UATv2"
   },
   "source": [
    "## 4.1.열 이름 변경\n",
    "\n",
    "- 기존 데이터프레임의 열 이름을 적절히 변경해야 할 경우가 있습니다.\n",
    "- 또는 집계 결과를 가진 열 이름을 이해하기 쉽게 변경해야 할 경우도 있습니다."
   ]
  },
  {
   "cell_type": "markdown",
   "metadata": {
    "id": "wE9-dcnOATwT"
   },
   "source": [
    "**1) 일부 열 이름 변경**\n",
    "\n",
    "- **rename()** 메서드를 사용해 변경 전후의 열 이름을 딕셔너리 형태로 나열하는 방법으로 변경합니다.\n",
    "- **inplace=True** 옵션을 설정해야 변경 사항이 실제 반영이 됩니다.\n",
    "- 다음과 같이 열 이름을 변경합니다.\n",
    "    - total_bill_amount → total_bill\n",
    "    - male_female → sex\n",
    "    - smoke_yes_no → smoker\n",
    "    - week_name → day\n",
    "    - dinner_lunch → time"
   ]
  },
  {
   "cell_type": "code",
   "execution_count": 28,
   "metadata": {
    "id": "nIBQUaLbwxo7"
   },
   "outputs": [
    {
     "data": {
      "text/html": [
       "<div>\n",
       "<style scoped>\n",
       "    .dataframe tbody tr th:only-of-type {\n",
       "        vertical-align: middle;\n",
       "    }\n",
       "\n",
       "    .dataframe tbody tr th {\n",
       "        vertical-align: top;\n",
       "    }\n",
       "\n",
       "    .dataframe thead th {\n",
       "        text-align: right;\n",
       "    }\n",
       "</style>\n",
       "<table border=\"1\" class=\"dataframe\">\n",
       "  <thead>\n",
       "    <tr style=\"text-align: right;\">\n",
       "      <th></th>\n",
       "      <th>total_bill</th>\n",
       "      <th>tip</th>\n",
       "      <th>sex</th>\n",
       "      <th>smoker</th>\n",
       "      <th>day</th>\n",
       "      <th>time</th>\n",
       "      <th>size</th>\n",
       "    </tr>\n",
       "  </thead>\n",
       "  <tbody>\n",
       "    <tr>\n",
       "      <th>0</th>\n",
       "      <td>16.99</td>\n",
       "      <td>1.01</td>\n",
       "      <td>Female</td>\n",
       "      <td>No</td>\n",
       "      <td>Sun</td>\n",
       "      <td>Dinner</td>\n",
       "      <td>2</td>\n",
       "    </tr>\n",
       "    <tr>\n",
       "      <th>1</th>\n",
       "      <td>10.34</td>\n",
       "      <td>1.66</td>\n",
       "      <td>Male</td>\n",
       "      <td>No</td>\n",
       "      <td>Sun</td>\n",
       "      <td>Dinner</td>\n",
       "      <td>3</td>\n",
       "    </tr>\n",
       "    <tr>\n",
       "      <th>2</th>\n",
       "      <td>21.01</td>\n",
       "      <td>3.50</td>\n",
       "      <td>Male</td>\n",
       "      <td>No</td>\n",
       "      <td>Sun</td>\n",
       "      <td>Dinner</td>\n",
       "      <td>3</td>\n",
       "    </tr>\n",
       "    <tr>\n",
       "      <th>3</th>\n",
       "      <td>23.68</td>\n",
       "      <td>3.31</td>\n",
       "      <td>Male</td>\n",
       "      <td>No</td>\n",
       "      <td>Sun</td>\n",
       "      <td>Dinner</td>\n",
       "      <td>2</td>\n",
       "    </tr>\n",
       "    <tr>\n",
       "      <th>4</th>\n",
       "      <td>24.59</td>\n",
       "      <td>3.61</td>\n",
       "      <td>Female</td>\n",
       "      <td>No</td>\n",
       "      <td>Sun</td>\n",
       "      <td>Dinner</td>\n",
       "      <td>4</td>\n",
       "    </tr>\n",
       "  </tbody>\n",
       "</table>\n",
       "</div>"
      ],
      "text/plain": [
       "   total_bill   tip     sex smoker  day    time  size\n",
       "0       16.99  1.01  Female     No  Sun  Dinner     2\n",
       "1       10.34  1.66    Male     No  Sun  Dinner     3\n",
       "2       21.01  3.50    Male     No  Sun  Dinner     3\n",
       "3       23.68  3.31    Male     No  Sun  Dinner     2\n",
       "4       24.59  3.61  Female     No  Sun  Dinner     4"
      ]
     },
     "execution_count": 28,
     "metadata": {},
     "output_type": "execute_result"
    }
   ],
   "source": [
    "# rename() 함수로 열 이름 변경\n",
    "tip.rename(columns={'total_bill_amount': 'total_bill',\n",
    "                    'male_female': 'sex',\n",
    "                    'smoke_yes_no': 'smoker',\n",
    "                    'week_name': 'day',\n",
    "                    'dinner_lunch': 'time'}, inplace=True)\n",
    "\n",
    "# 확인\n",
    "tip.head()"
   ]
  },
  {
   "cell_type": "markdown",
   "metadata": {
    "id": "MTGNl_DxATwH"
   },
   "source": [
    "**2) 모든 열 이름 변경**\n",
    "\n",
    "- 모든 열 이름을 변경할 때는 **columns** 속성을 변경합니다.\n",
    "- 변경이 필요없는 열은 기존 이름을 부여해 변경합니다.\n"
   ]
  },
  {
   "cell_type": "code",
   "execution_count": 29,
   "metadata": {
    "id": "EkoPSqHOwxo1"
   },
   "outputs": [
    {
     "data": {
      "text/html": [
       "<div>\n",
       "<style scoped>\n",
       "    .dataframe tbody tr th:only-of-type {\n",
       "        vertical-align: middle;\n",
       "    }\n",
       "\n",
       "    .dataframe tbody tr th {\n",
       "        vertical-align: top;\n",
       "    }\n",
       "\n",
       "    .dataframe thead th {\n",
       "        text-align: right;\n",
       "    }\n",
       "</style>\n",
       "<table border=\"1\" class=\"dataframe\">\n",
       "  <thead>\n",
       "    <tr style=\"text-align: right;\">\n",
       "      <th></th>\n",
       "      <th>total_bill</th>\n",
       "      <th>tip</th>\n",
       "      <th>sex</th>\n",
       "      <th>smoker</th>\n",
       "      <th>day</th>\n",
       "      <th>time</th>\n",
       "      <th>size</th>\n",
       "    </tr>\n",
       "  </thead>\n",
       "  <tbody>\n",
       "    <tr>\n",
       "      <th>0</th>\n",
       "      <td>16.99</td>\n",
       "      <td>1.01</td>\n",
       "      <td>Female</td>\n",
       "      <td>No</td>\n",
       "      <td>Sun</td>\n",
       "      <td>Dinner</td>\n",
       "      <td>2</td>\n",
       "    </tr>\n",
       "    <tr>\n",
       "      <th>1</th>\n",
       "      <td>10.34</td>\n",
       "      <td>1.66</td>\n",
       "      <td>Male</td>\n",
       "      <td>No</td>\n",
       "      <td>Sun</td>\n",
       "      <td>Dinner</td>\n",
       "      <td>3</td>\n",
       "    </tr>\n",
       "    <tr>\n",
       "      <th>2</th>\n",
       "      <td>21.01</td>\n",
       "      <td>3.50</td>\n",
       "      <td>Male</td>\n",
       "      <td>No</td>\n",
       "      <td>Sun</td>\n",
       "      <td>Dinner</td>\n",
       "      <td>3</td>\n",
       "    </tr>\n",
       "    <tr>\n",
       "      <th>3</th>\n",
       "      <td>23.68</td>\n",
       "      <td>3.31</td>\n",
       "      <td>Male</td>\n",
       "      <td>No</td>\n",
       "      <td>Sun</td>\n",
       "      <td>Dinner</td>\n",
       "      <td>2</td>\n",
       "    </tr>\n",
       "    <tr>\n",
       "      <th>4</th>\n",
       "      <td>24.59</td>\n",
       "      <td>3.61</td>\n",
       "      <td>Female</td>\n",
       "      <td>No</td>\n",
       "      <td>Sun</td>\n",
       "      <td>Dinner</td>\n",
       "      <td>4</td>\n",
       "    </tr>\n",
       "  </tbody>\n",
       "</table>\n",
       "</div>"
      ],
      "text/plain": [
       "   total_bill   tip     sex smoker  day    time  size\n",
       "0       16.99  1.01  Female     No  Sun  Dinner     2\n",
       "1       10.34  1.66    Male     No  Sun  Dinner     3\n",
       "2       21.01  3.50    Male     No  Sun  Dinner     3\n",
       "3       23.68  3.31    Male     No  Sun  Dinner     2\n",
       "4       24.59  3.61  Female     No  Sun  Dinner     4"
      ]
     },
     "execution_count": 29,
     "metadata": {},
     "output_type": "execute_result"
    }
   ],
   "source": [
    "# 모든 열 이름 변경\n",
    "tip.columns = ['total_bill', 'tip', 'sex', 'smoker', 'day', 'time', 'size']\n",
    "\n",
    "# 확인\n",
    "tip.head()"
   ]
  },
  {
   "cell_type": "markdown",
   "metadata": {
    "id": "705oIgrVATwZ"
   },
   "source": [
    "## 4.2.열 추가\n",
    "\n",
    "- 새로운 열을 추가하여 기존 데이터에서 계산된 결괏값을 저장해야할 경우가 있습니다.\n",
    "- total_bill에 tip을 더한 값을 갖는 final_amt 열을 추가합니다."
   ]
  },
  {
   "cell_type": "code",
   "execution_count": 30,
   "metadata": {
    "id": "EsXD6gb6ATw2",
    "scrolled": true
   },
   "outputs": [
    {
     "data": {
      "text/html": [
       "<div>\n",
       "<style scoped>\n",
       "    .dataframe tbody tr th:only-of-type {\n",
       "        vertical-align: middle;\n",
       "    }\n",
       "\n",
       "    .dataframe tbody tr th {\n",
       "        vertical-align: top;\n",
       "    }\n",
       "\n",
       "    .dataframe thead th {\n",
       "        text-align: right;\n",
       "    }\n",
       "</style>\n",
       "<table border=\"1\" class=\"dataframe\">\n",
       "  <thead>\n",
       "    <tr style=\"text-align: right;\">\n",
       "      <th></th>\n",
       "      <th>total_bill</th>\n",
       "      <th>tip</th>\n",
       "      <th>sex</th>\n",
       "      <th>smoker</th>\n",
       "      <th>day</th>\n",
       "      <th>time</th>\n",
       "      <th>size</th>\n",
       "      <th>final_amt</th>\n",
       "    </tr>\n",
       "  </thead>\n",
       "  <tbody>\n",
       "    <tr>\n",
       "      <th>0</th>\n",
       "      <td>16.99</td>\n",
       "      <td>1.01</td>\n",
       "      <td>Female</td>\n",
       "      <td>No</td>\n",
       "      <td>Sun</td>\n",
       "      <td>Dinner</td>\n",
       "      <td>2</td>\n",
       "      <td>18.00</td>\n",
       "    </tr>\n",
       "    <tr>\n",
       "      <th>1</th>\n",
       "      <td>10.34</td>\n",
       "      <td>1.66</td>\n",
       "      <td>Male</td>\n",
       "      <td>No</td>\n",
       "      <td>Sun</td>\n",
       "      <td>Dinner</td>\n",
       "      <td>3</td>\n",
       "      <td>12.00</td>\n",
       "    </tr>\n",
       "    <tr>\n",
       "      <th>2</th>\n",
       "      <td>21.01</td>\n",
       "      <td>3.50</td>\n",
       "      <td>Male</td>\n",
       "      <td>No</td>\n",
       "      <td>Sun</td>\n",
       "      <td>Dinner</td>\n",
       "      <td>3</td>\n",
       "      <td>24.51</td>\n",
       "    </tr>\n",
       "    <tr>\n",
       "      <th>3</th>\n",
       "      <td>23.68</td>\n",
       "      <td>3.31</td>\n",
       "      <td>Male</td>\n",
       "      <td>No</td>\n",
       "      <td>Sun</td>\n",
       "      <td>Dinner</td>\n",
       "      <td>2</td>\n",
       "      <td>26.99</td>\n",
       "    </tr>\n",
       "    <tr>\n",
       "      <th>4</th>\n",
       "      <td>24.59</td>\n",
       "      <td>3.61</td>\n",
       "      <td>Female</td>\n",
       "      <td>No</td>\n",
       "      <td>Sun</td>\n",
       "      <td>Dinner</td>\n",
       "      <td>4</td>\n",
       "      <td>28.20</td>\n",
       "    </tr>\n",
       "  </tbody>\n",
       "</table>\n",
       "</div>"
      ],
      "text/plain": [
       "   total_bill   tip     sex smoker  day    time  size  final_amt\n",
       "0       16.99  1.01  Female     No  Sun  Dinner     2      18.00\n",
       "1       10.34  1.66    Male     No  Sun  Dinner     3      12.00\n",
       "2       21.01  3.50    Male     No  Sun  Dinner     3      24.51\n",
       "3       23.68  3.31    Male     No  Sun  Dinner     2      26.99\n",
       "4       24.59  3.61  Female     No  Sun  Dinner     4      28.20"
      ]
     },
     "execution_count": 30,
     "metadata": {},
     "output_type": "execute_result"
    }
   ],
   "source": [
    "# final_amt 열 추가\n",
    "tip['final_amt'] = tip['total_bill'] + tip['tip']\n",
    "\n",
    "# 확인\n",
    "tip.head()"
   ]
  },
  {
   "cell_type": "markdown",
   "metadata": {
    "id": "HNLDyARyQTQx"
   },
   "source": [
    "- insert() 메서드를 사용하면 원하는 위치에 열을 추가할 수 있습니다.\n"
   ]
  },
  {
   "cell_type": "code",
   "execution_count": 31,
   "metadata": {
    "id": "C4d3Rz2vQTQ4",
    "scrolled": true
   },
   "outputs": [
    {
     "data": {
      "text/html": [
       "<div>\n",
       "<style scoped>\n",
       "    .dataframe tbody tr th:only-of-type {\n",
       "        vertical-align: middle;\n",
       "    }\n",
       "\n",
       "    .dataframe tbody tr th {\n",
       "        vertical-align: top;\n",
       "    }\n",
       "\n",
       "    .dataframe thead th {\n",
       "        text-align: right;\n",
       "    }\n",
       "</style>\n",
       "<table border=\"1\" class=\"dataframe\">\n",
       "  <thead>\n",
       "    <tr style=\"text-align: right;\">\n",
       "      <th></th>\n",
       "      <th>total_bill</th>\n",
       "      <th>div_tb</th>\n",
       "      <th>tip</th>\n",
       "      <th>sex</th>\n",
       "      <th>smoker</th>\n",
       "      <th>day</th>\n",
       "      <th>time</th>\n",
       "      <th>size</th>\n",
       "      <th>final_amt</th>\n",
       "    </tr>\n",
       "  </thead>\n",
       "  <tbody>\n",
       "    <tr>\n",
       "      <th>0</th>\n",
       "      <td>16.99</td>\n",
       "      <td>8.495000</td>\n",
       "      <td>1.01</td>\n",
       "      <td>Female</td>\n",
       "      <td>No</td>\n",
       "      <td>Sun</td>\n",
       "      <td>Dinner</td>\n",
       "      <td>2</td>\n",
       "      <td>18.00</td>\n",
       "    </tr>\n",
       "    <tr>\n",
       "      <th>1</th>\n",
       "      <td>10.34</td>\n",
       "      <td>3.446667</td>\n",
       "      <td>1.66</td>\n",
       "      <td>Male</td>\n",
       "      <td>No</td>\n",
       "      <td>Sun</td>\n",
       "      <td>Dinner</td>\n",
       "      <td>3</td>\n",
       "      <td>12.00</td>\n",
       "    </tr>\n",
       "    <tr>\n",
       "      <th>2</th>\n",
       "      <td>21.01</td>\n",
       "      <td>7.003333</td>\n",
       "      <td>3.50</td>\n",
       "      <td>Male</td>\n",
       "      <td>No</td>\n",
       "      <td>Sun</td>\n",
       "      <td>Dinner</td>\n",
       "      <td>3</td>\n",
       "      <td>24.51</td>\n",
       "    </tr>\n",
       "    <tr>\n",
       "      <th>3</th>\n",
       "      <td>23.68</td>\n",
       "      <td>11.840000</td>\n",
       "      <td>3.31</td>\n",
       "      <td>Male</td>\n",
       "      <td>No</td>\n",
       "      <td>Sun</td>\n",
       "      <td>Dinner</td>\n",
       "      <td>2</td>\n",
       "      <td>26.99</td>\n",
       "    </tr>\n",
       "    <tr>\n",
       "      <th>4</th>\n",
       "      <td>24.59</td>\n",
       "      <td>6.147500</td>\n",
       "      <td>3.61</td>\n",
       "      <td>Female</td>\n",
       "      <td>No</td>\n",
       "      <td>Sun</td>\n",
       "      <td>Dinner</td>\n",
       "      <td>4</td>\n",
       "      <td>28.20</td>\n",
       "    </tr>\n",
       "  </tbody>\n",
       "</table>\n",
       "</div>"
      ],
      "text/plain": [
       "   total_bill     div_tb   tip     sex smoker  day    time  size  final_amt\n",
       "0       16.99   8.495000  1.01  Female     No  Sun  Dinner     2      18.00\n",
       "1       10.34   3.446667  1.66    Male     No  Sun  Dinner     3      12.00\n",
       "2       21.01   7.003333  3.50    Male     No  Sun  Dinner     3      24.51\n",
       "3       23.68  11.840000  3.31    Male     No  Sun  Dinner     2      26.99\n",
       "4       24.59   6.147500  3.61  Female     No  Sun  Dinner     4      28.20"
      ]
     },
     "execution_count": 31,
     "metadata": {},
     "output_type": "execute_result"
    }
   ],
   "source": [
    "# tip 열 앞에 div_tb 열 추가\n",
    "tip.insert(1, 'div_tb', tip['total_bill'] / tip['size'])\n",
    "\n",
    "# 확인\n",
    "tip.head()"
   ]
  },
  {
   "cell_type": "markdown",
   "metadata": {
    "id": "bl6mG6JgATw5"
   },
   "source": [
    "## 4.3.열 삭제\n",
    "\n",
    "- 뭔가를 삭제할 때는 **항상 조심x100** 해야 합니다."
   ]
  },
  {
   "cell_type": "markdown",
   "metadata": {
    "id": "YxCLRWcTATxC"
   },
   "source": [
    "**1) 열 하나 삭제**\n",
    "\n",
    "- **drop()** 메서드를 사용해 열을 삭제합니다.\n",
    "- axis=0: 행 삭제(기본 값)\n",
    "- axis=1: 열 삭제\n",
    "- **inplace=True** 옵션을 지정해야 실제로 반영이 됩니다.\n"
   ]
  },
  {
   "cell_type": "code",
   "execution_count": 32,
   "metadata": {
    "id": "IllnJ5JfATxD"
   },
   "outputs": [
    {
     "data": {
      "text/html": [
       "<div>\n",
       "<style scoped>\n",
       "    .dataframe tbody tr th:only-of-type {\n",
       "        vertical-align: middle;\n",
       "    }\n",
       "\n",
       "    .dataframe tbody tr th {\n",
       "        vertical-align: top;\n",
       "    }\n",
       "\n",
       "    .dataframe thead th {\n",
       "        text-align: right;\n",
       "    }\n",
       "</style>\n",
       "<table border=\"1\" class=\"dataframe\">\n",
       "  <thead>\n",
       "    <tr style=\"text-align: right;\">\n",
       "      <th></th>\n",
       "      <th>total_bill</th>\n",
       "      <th>div_tb</th>\n",
       "      <th>tip</th>\n",
       "      <th>sex</th>\n",
       "      <th>smoker</th>\n",
       "      <th>day</th>\n",
       "      <th>time</th>\n",
       "      <th>size</th>\n",
       "    </tr>\n",
       "  </thead>\n",
       "  <tbody>\n",
       "    <tr>\n",
       "      <th>0</th>\n",
       "      <td>16.99</td>\n",
       "      <td>8.495000</td>\n",
       "      <td>1.01</td>\n",
       "      <td>Female</td>\n",
       "      <td>No</td>\n",
       "      <td>Sun</td>\n",
       "      <td>Dinner</td>\n",
       "      <td>2</td>\n",
       "    </tr>\n",
       "    <tr>\n",
       "      <th>1</th>\n",
       "      <td>10.34</td>\n",
       "      <td>3.446667</td>\n",
       "      <td>1.66</td>\n",
       "      <td>Male</td>\n",
       "      <td>No</td>\n",
       "      <td>Sun</td>\n",
       "      <td>Dinner</td>\n",
       "      <td>3</td>\n",
       "    </tr>\n",
       "    <tr>\n",
       "      <th>2</th>\n",
       "      <td>21.01</td>\n",
       "      <td>7.003333</td>\n",
       "      <td>3.50</td>\n",
       "      <td>Male</td>\n",
       "      <td>No</td>\n",
       "      <td>Sun</td>\n",
       "      <td>Dinner</td>\n",
       "      <td>3</td>\n",
       "    </tr>\n",
       "    <tr>\n",
       "      <th>3</th>\n",
       "      <td>23.68</td>\n",
       "      <td>11.840000</td>\n",
       "      <td>3.31</td>\n",
       "      <td>Male</td>\n",
       "      <td>No</td>\n",
       "      <td>Sun</td>\n",
       "      <td>Dinner</td>\n",
       "      <td>2</td>\n",
       "    </tr>\n",
       "    <tr>\n",
       "      <th>4</th>\n",
       "      <td>24.59</td>\n",
       "      <td>6.147500</td>\n",
       "      <td>3.61</td>\n",
       "      <td>Female</td>\n",
       "      <td>No</td>\n",
       "      <td>Sun</td>\n",
       "      <td>Dinner</td>\n",
       "      <td>4</td>\n",
       "    </tr>\n",
       "  </tbody>\n",
       "</table>\n",
       "</div>"
      ],
      "text/plain": [
       "   total_bill     div_tb   tip     sex smoker  day    time  size\n",
       "0       16.99   8.495000  1.01  Female     No  Sun  Dinner     2\n",
       "1       10.34   3.446667  1.66    Male     No  Sun  Dinner     3\n",
       "2       21.01   7.003333  3.50    Male     No  Sun  Dinner     3\n",
       "3       23.68  11.840000  3.31    Male     No  Sun  Dinner     2\n",
       "4       24.59   6.147500  3.61  Female     No  Sun  Dinner     4"
      ]
     },
     "execution_count": 32,
     "metadata": {},
     "output_type": "execute_result"
    }
   ],
   "source": [
    "# 열 하나 삭제\n",
    "tip.drop('final_amt', axis=1, inplace=True)\n",
    "\n",
    "# 확인\n",
    "tip.head()"
   ]
  },
  {
   "cell_type": "markdown",
   "metadata": {
    "id": "TFmpd24DATxI"
   },
   "source": [
    "**2) 여러 열 삭제**\n",
    "\n",
    "- 삭제할 열을 리스트 형태로 전달해 한 번에 여러 열을 제거할 수 있습니다."
   ]
  },
  {
   "cell_type": "code",
   "execution_count": 33,
   "metadata": {
    "id": "4P_cuUeOATxK",
    "scrolled": true
   },
   "outputs": [
    {
     "data": {
      "text/html": [
       "<div>\n",
       "<style scoped>\n",
       "    .dataframe tbody tr th:only-of-type {\n",
       "        vertical-align: middle;\n",
       "    }\n",
       "\n",
       "    .dataframe tbody tr th {\n",
       "        vertical-align: top;\n",
       "    }\n",
       "\n",
       "    .dataframe thead th {\n",
       "        text-align: right;\n",
       "    }\n",
       "</style>\n",
       "<table border=\"1\" class=\"dataframe\">\n",
       "  <thead>\n",
       "    <tr style=\"text-align: right;\">\n",
       "      <th></th>\n",
       "      <th>total_bill</th>\n",
       "      <th>tip</th>\n",
       "      <th>sex</th>\n",
       "      <th>smoker</th>\n",
       "      <th>time</th>\n",
       "      <th>size</th>\n",
       "    </tr>\n",
       "  </thead>\n",
       "  <tbody>\n",
       "    <tr>\n",
       "      <th>0</th>\n",
       "      <td>16.99</td>\n",
       "      <td>1.01</td>\n",
       "      <td>Female</td>\n",
       "      <td>No</td>\n",
       "      <td>Dinner</td>\n",
       "      <td>2</td>\n",
       "    </tr>\n",
       "    <tr>\n",
       "      <th>1</th>\n",
       "      <td>10.34</td>\n",
       "      <td>1.66</td>\n",
       "      <td>Male</td>\n",
       "      <td>No</td>\n",
       "      <td>Dinner</td>\n",
       "      <td>3</td>\n",
       "    </tr>\n",
       "    <tr>\n",
       "      <th>2</th>\n",
       "      <td>21.01</td>\n",
       "      <td>3.50</td>\n",
       "      <td>Male</td>\n",
       "      <td>No</td>\n",
       "      <td>Dinner</td>\n",
       "      <td>3</td>\n",
       "    </tr>\n",
       "    <tr>\n",
       "      <th>3</th>\n",
       "      <td>23.68</td>\n",
       "      <td>3.31</td>\n",
       "      <td>Male</td>\n",
       "      <td>No</td>\n",
       "      <td>Dinner</td>\n",
       "      <td>2</td>\n",
       "    </tr>\n",
       "    <tr>\n",
       "      <th>4</th>\n",
       "      <td>24.59</td>\n",
       "      <td>3.61</td>\n",
       "      <td>Female</td>\n",
       "      <td>No</td>\n",
       "      <td>Dinner</td>\n",
       "      <td>4</td>\n",
       "    </tr>\n",
       "  </tbody>\n",
       "</table>\n",
       "</div>"
      ],
      "text/plain": [
       "   total_bill   tip     sex smoker    time  size\n",
       "0       16.99  1.01  Female     No  Dinner     2\n",
       "1       10.34  1.66    Male     No  Dinner     3\n",
       "2       21.01  3.50    Male     No  Dinner     3\n",
       "3       23.68  3.31    Male     No  Dinner     2\n",
       "4       24.59  3.61  Female     No  Dinner     4"
      ]
     },
     "execution_count": 33,
     "metadata": {},
     "output_type": "execute_result"
    }
   ],
   "source": [
    "# 열 두 개 삭제\n",
    "tip.drop(['div_tb', 'day'], axis=1, inplace=True)\n",
    "\n",
    "# 확인\n",
    "tip.head()"
   ]
  },
  {
   "cell_type": "markdown",
   "metadata": {
    "id": "yohTkqw2ex7e"
   },
   "source": [
    "<img src='https://raw.githubusercontent.com/jangrae/img/master/practice_20.png' width=120 align=\"left\"/>"
   ]
  },
  {
   "cell_type": "markdown",
   "metadata": {
    "id": "hKxotLXL1EFl"
   },
   "source": [
    "[문1] pandas 라이브러리를 불러오세요."
   ]
  },
  {
   "cell_type": "code",
   "execution_count": 21,
   "metadata": {
    "id": "8hZaRpngVhlS"
   },
   "outputs": [],
   "source": [
    "# 라이브러리 불러오기\n",
    "import pandas as pd"
   ]
  },
  {
   "cell_type": "markdown",
   "metadata": {
    "id": "swByQenKUAXS"
   },
   "source": [
    "[문2] 다음 경로의 파일을 읽어 weather 데이터프레임을 만드세요.\n",
    "\n",
    "- 파일 경로: 'https://raw.githubusercontent.com/Jangrae/csv/master/weather.csv'"
   ]
  },
  {
   "cell_type": "code",
   "execution_count": 22,
   "metadata": {
    "id": "zFm_DPTaUdqQ"
   },
   "outputs": [],
   "source": [
    "# 파일 읽어오기\n",
    "weather = pd.read_csv('https://raw.githubusercontent.com/Jangrae/csv/master/weather.csv')\n"
   ]
  },
  {
   "cell_type": "markdown",
   "metadata": {
    "id": "WAGgvzDv2klV"
   },
   "source": [
    "[문3] 상위 5개 행을 확인하세요."
   ]
  },
  {
   "cell_type": "code",
   "execution_count": 23,
   "metadata": {
    "id": "vJwQEeOt2fSD"
   },
   "outputs": [
    {
     "data": {
      "text/html": [
       "<div>\n",
       "<style scoped>\n",
       "    .dataframe tbody tr th:only-of-type {\n",
       "        vertical-align: middle;\n",
       "    }\n",
       "\n",
       "    .dataframe tbody tr th {\n",
       "        vertical-align: top;\n",
       "    }\n",
       "\n",
       "    .dataframe thead th {\n",
       "        text-align: right;\n",
       "    }\n",
       "</style>\n",
       "<table border=\"1\" class=\"dataframe\">\n",
       "  <thead>\n",
       "    <tr style=\"text-align: right;\">\n",
       "      <th></th>\n",
       "      <th>연도</th>\n",
       "      <th>년월</th>\n",
       "      <th>기온</th>\n",
       "      <th>최고기온</th>\n",
       "      <th>극점최고기온</th>\n",
       "      <th>최저기온</th>\n",
       "      <th>극점최저기온</th>\n",
       "      <th>강수량</th>\n",
       "      <th>상대습도</th>\n",
       "      <th>풍속</th>\n",
       "      <th>최대풍속</th>\n",
       "      <th>최대순간풍속</th>\n",
       "    </tr>\n",
       "  </thead>\n",
       "  <tbody>\n",
       "    <tr>\n",
       "      <th>0</th>\n",
       "      <td>2000</td>\n",
       "      <td>2000. 01</td>\n",
       "      <td>-2.1</td>\n",
       "      <td>1.7</td>\n",
       "      <td>9.9</td>\n",
       "      <td>-5.7</td>\n",
       "      <td>-12.1</td>\n",
       "      <td>42.8</td>\n",
       "      <td>64.0</td>\n",
       "      <td>2.6</td>\n",
       "      <td>7.6</td>\n",
       "      <td>12.3</td>\n",
       "    </tr>\n",
       "    <tr>\n",
       "      <th>1</th>\n",
       "      <td>2000</td>\n",
       "      <td>2000. 02</td>\n",
       "      <td>-1.7</td>\n",
       "      <td>2.6</td>\n",
       "      <td>7.5</td>\n",
       "      <td>-5.8</td>\n",
       "      <td>-11.6</td>\n",
       "      <td>2.1</td>\n",
       "      <td>56.0</td>\n",
       "      <td>2.7</td>\n",
       "      <td>10.6</td>\n",
       "      <td>19.1</td>\n",
       "    </tr>\n",
       "    <tr>\n",
       "      <th>2</th>\n",
       "      <td>2000</td>\n",
       "      <td>2000. 03</td>\n",
       "      <td>6.3</td>\n",
       "      <td>11.4</td>\n",
       "      <td>18.9</td>\n",
       "      <td>1.7</td>\n",
       "      <td>-4.8</td>\n",
       "      <td>3.1</td>\n",
       "      <td>55.0</td>\n",
       "      <td>3.0</td>\n",
       "      <td>12.2</td>\n",
       "      <td>19.9</td>\n",
       "    </tr>\n",
       "    <tr>\n",
       "      <th>3</th>\n",
       "      <td>2000</td>\n",
       "      <td>2000. 04</td>\n",
       "      <td>11.9</td>\n",
       "      <td>16.9</td>\n",
       "      <td>23.5</td>\n",
       "      <td>7.3</td>\n",
       "      <td>1.8</td>\n",
       "      <td>30.7</td>\n",
       "      <td>56.0</td>\n",
       "      <td>2.9</td>\n",
       "      <td>9.5</td>\n",
       "      <td>18.8</td>\n",
       "    </tr>\n",
       "    <tr>\n",
       "      <th>4</th>\n",
       "      <td>2000</td>\n",
       "      <td>2000. 05</td>\n",
       "      <td>17.5</td>\n",
       "      <td>22.7</td>\n",
       "      <td>30.5</td>\n",
       "      <td>12.9</td>\n",
       "      <td>7.9</td>\n",
       "      <td>75.2</td>\n",
       "      <td>66.0</td>\n",
       "      <td>2.3</td>\n",
       "      <td>8.3</td>\n",
       "      <td>13.6</td>\n",
       "    </tr>\n",
       "  </tbody>\n",
       "</table>\n",
       "</div>"
      ],
      "text/plain": [
       "     연도        년월    기온  최고기온  극점최고기온  최저기온  극점최저기온   강수량  상대습도   풍속  최대풍속  \\\n",
       "0  2000  2000. 01  -2.1   1.7     9.9  -5.7   -12.1  42.8  64.0  2.6   7.6   \n",
       "1  2000  2000. 02  -1.7   2.6     7.5  -5.8   -11.6   2.1  56.0  2.7  10.6   \n",
       "2  2000  2000. 03   6.3  11.4    18.9   1.7    -4.8   3.1  55.0  3.0  12.2   \n",
       "3  2000  2000. 04  11.9  16.9    23.5   7.3     1.8  30.7  56.0  2.9   9.5   \n",
       "4  2000  2000. 05  17.5  22.7    30.5  12.9     7.9  75.2  66.0  2.3   8.3   \n",
       "\n",
       "   최대순간풍속  \n",
       "0    12.3  \n",
       "1    19.1  \n",
       "2    19.9  \n",
       "3    18.8  \n",
       "4    13.6  "
      ]
     },
     "execution_count": 23,
     "metadata": {},
     "output_type": "execute_result"
    }
   ],
   "source": [
    "# 상위 5개 확인\n",
    "weather.head()"
   ]
  },
  {
   "cell_type": "markdown",
   "metadata": {
    "id": "nIFVI4dD2LaD"
   },
   "source": [
    "[문4] 연도, 극점최고기온, 극점최저기온, 상대습도, 최대순간풍속 열을 삭제하고 확인하세요."
   ]
  },
  {
   "cell_type": "code",
   "execution_count": 24,
   "metadata": {
    "id": "rMLb6r445GSW",
    "scrolled": true
   },
   "outputs": [
    {
     "data": {
      "text/html": [
       "<div>\n",
       "<style scoped>\n",
       "    .dataframe tbody tr th:only-of-type {\n",
       "        vertical-align: middle;\n",
       "    }\n",
       "\n",
       "    .dataframe tbody tr th {\n",
       "        vertical-align: top;\n",
       "    }\n",
       "\n",
       "    .dataframe thead th {\n",
       "        text-align: right;\n",
       "    }\n",
       "</style>\n",
       "<table border=\"1\" class=\"dataframe\">\n",
       "  <thead>\n",
       "    <tr style=\"text-align: right;\">\n",
       "      <th></th>\n",
       "      <th>년월</th>\n",
       "      <th>기온</th>\n",
       "      <th>최고기온</th>\n",
       "      <th>최저기온</th>\n",
       "      <th>강수량</th>\n",
       "      <th>풍속</th>\n",
       "      <th>최대풍속</th>\n",
       "    </tr>\n",
       "  </thead>\n",
       "  <tbody>\n",
       "    <tr>\n",
       "      <th>0</th>\n",
       "      <td>2000. 01</td>\n",
       "      <td>-2.1</td>\n",
       "      <td>1.7</td>\n",
       "      <td>-5.7</td>\n",
       "      <td>42.8</td>\n",
       "      <td>2.6</td>\n",
       "      <td>7.6</td>\n",
       "    </tr>\n",
       "    <tr>\n",
       "      <th>1</th>\n",
       "      <td>2000. 02</td>\n",
       "      <td>-1.7</td>\n",
       "      <td>2.6</td>\n",
       "      <td>-5.8</td>\n",
       "      <td>2.1</td>\n",
       "      <td>2.7</td>\n",
       "      <td>10.6</td>\n",
       "    </tr>\n",
       "    <tr>\n",
       "      <th>2</th>\n",
       "      <td>2000. 03</td>\n",
       "      <td>6.3</td>\n",
       "      <td>11.4</td>\n",
       "      <td>1.7</td>\n",
       "      <td>3.1</td>\n",
       "      <td>3.0</td>\n",
       "      <td>12.2</td>\n",
       "    </tr>\n",
       "    <tr>\n",
       "      <th>3</th>\n",
       "      <td>2000. 04</td>\n",
       "      <td>11.9</td>\n",
       "      <td>16.9</td>\n",
       "      <td>7.3</td>\n",
       "      <td>30.7</td>\n",
       "      <td>2.9</td>\n",
       "      <td>9.5</td>\n",
       "    </tr>\n",
       "    <tr>\n",
       "      <th>4</th>\n",
       "      <td>2000. 05</td>\n",
       "      <td>17.5</td>\n",
       "      <td>22.7</td>\n",
       "      <td>12.9</td>\n",
       "      <td>75.2</td>\n",
       "      <td>2.3</td>\n",
       "      <td>8.3</td>\n",
       "    </tr>\n",
       "  </tbody>\n",
       "</table>\n",
       "</div>"
      ],
      "text/plain": [
       "         년월    기온  최고기온  최저기온   강수량   풍속  최대풍속\n",
       "0  2000. 01  -2.1   1.7  -5.7  42.8  2.6   7.6\n",
       "1  2000. 02  -1.7   2.6  -5.8   2.1  2.7  10.6\n",
       "2  2000. 03   6.3  11.4   1.7   3.1  3.0  12.2\n",
       "3  2000. 04  11.9  16.9   7.3  30.7  2.9   9.5\n",
       "4  2000. 05  17.5  22.7  12.9  75.2  2.3   8.3"
      ]
     },
     "execution_count": 24,
     "metadata": {},
     "output_type": "execute_result"
    }
   ],
   "source": [
    "# 연도, 극점최고기온, 극점최저기온, 상대습도, 최대순간풍속 열 삭제\n",
    "weather.drop(['연도', '극점최고기온', '극점최저기온', '상대습도', '최대순간풍속'], axis=1, inplace=True)\n",
    "\n",
    "\n",
    "# 확인\n",
    "weather.head()"
   ]
  },
  {
   "cell_type": "markdown",
   "metadata": {
    "id": "t2mgKkz7cF6V"
   },
   "source": [
    "[문5] 다음과 같이 열 이름을 변경하고 확인하세요.\n",
    "\n",
    "- 기온 --> 평균기온\n",
    "- 강수량 --> 평균강수량\n",
    "- 풍속 --> 평균풍속"
   ]
  },
  {
   "cell_type": "code",
   "execution_count": 25,
   "metadata": {
    "id": "YEW68Cx3cF6W",
    "scrolled": true
   },
   "outputs": [
    {
     "data": {
      "text/html": [
       "<div>\n",
       "<style scoped>\n",
       "    .dataframe tbody tr th:only-of-type {\n",
       "        vertical-align: middle;\n",
       "    }\n",
       "\n",
       "    .dataframe tbody tr th {\n",
       "        vertical-align: top;\n",
       "    }\n",
       "\n",
       "    .dataframe thead th {\n",
       "        text-align: right;\n",
       "    }\n",
       "</style>\n",
       "<table border=\"1\" class=\"dataframe\">\n",
       "  <thead>\n",
       "    <tr style=\"text-align: right;\">\n",
       "      <th></th>\n",
       "      <th>년월</th>\n",
       "      <th>평균기온</th>\n",
       "      <th>최고기온</th>\n",
       "      <th>최저기온</th>\n",
       "      <th>평균강수량</th>\n",
       "      <th>평균풍속</th>\n",
       "      <th>최대풍속</th>\n",
       "    </tr>\n",
       "  </thead>\n",
       "  <tbody>\n",
       "    <tr>\n",
       "      <th>0</th>\n",
       "      <td>2000. 01</td>\n",
       "      <td>-2.1</td>\n",
       "      <td>1.7</td>\n",
       "      <td>-5.7</td>\n",
       "      <td>42.8</td>\n",
       "      <td>2.6</td>\n",
       "      <td>7.6</td>\n",
       "    </tr>\n",
       "    <tr>\n",
       "      <th>1</th>\n",
       "      <td>2000. 02</td>\n",
       "      <td>-1.7</td>\n",
       "      <td>2.6</td>\n",
       "      <td>-5.8</td>\n",
       "      <td>2.1</td>\n",
       "      <td>2.7</td>\n",
       "      <td>10.6</td>\n",
       "    </tr>\n",
       "    <tr>\n",
       "      <th>2</th>\n",
       "      <td>2000. 03</td>\n",
       "      <td>6.3</td>\n",
       "      <td>11.4</td>\n",
       "      <td>1.7</td>\n",
       "      <td>3.1</td>\n",
       "      <td>3.0</td>\n",
       "      <td>12.2</td>\n",
       "    </tr>\n",
       "    <tr>\n",
       "      <th>3</th>\n",
       "      <td>2000. 04</td>\n",
       "      <td>11.9</td>\n",
       "      <td>16.9</td>\n",
       "      <td>7.3</td>\n",
       "      <td>30.7</td>\n",
       "      <td>2.9</td>\n",
       "      <td>9.5</td>\n",
       "    </tr>\n",
       "    <tr>\n",
       "      <th>4</th>\n",
       "      <td>2000. 05</td>\n",
       "      <td>17.5</td>\n",
       "      <td>22.7</td>\n",
       "      <td>12.9</td>\n",
       "      <td>75.2</td>\n",
       "      <td>2.3</td>\n",
       "      <td>8.3</td>\n",
       "    </tr>\n",
       "  </tbody>\n",
       "</table>\n",
       "</div>"
      ],
      "text/plain": [
       "         년월  평균기온  최고기온  최저기온 평균강수량  평균풍속  최대풍속\n",
       "0  2000. 01  -2.1   1.7  -5.7  42.8   2.6   7.6\n",
       "1  2000. 02  -1.7   2.6  -5.8   2.1   2.7  10.6\n",
       "2  2000. 03   6.3  11.4   1.7   3.1   3.0  12.2\n",
       "3  2000. 04  11.9  16.9   7.3  30.7   2.9   9.5\n",
       "4  2000. 05  17.5  22.7  12.9  75.2   2.3   8.3"
      ]
     },
     "execution_count": 25,
     "metadata": {},
     "output_type": "execute_result"
    }
   ],
   "source": [
    "# 열 이름 변경\n",
    "weather.rename(columns={\n",
    "    '기온':'평균기온', '강수량':'평균강수량', '풍속':'평균풍속',\n",
    "}, inplace=True)\n",
    "\n",
    "# 확인\n",
    "weather.head()"
   ]
  },
  {
   "cell_type": "markdown",
   "metadata": {
    "id": "VTlu-bdSfMYw"
   },
   "source": [
    "<img src='https://raw.githubusercontent.com/jangrae/img/master/practice_20e.png' width=45 align=\"left\"/>"
   ]
  },
  {
   "cell_type": "markdown",
   "metadata": {
    "id": "Z1pXUbUJWpzf"
   },
   "source": [
    "## 4.4.범줏값 변경\n",
    "\n",
    "- **map()** 메서드를 사용하면 범주형 값을 다른 값으로 쉽게 변경 할 수 있습니다."
   ]
  },
  {
   "cell_type": "markdown",
   "metadata": {
    "id": "O0eCkFlqFO0M"
   },
   "source": [
    "<img src='https://raw.githubusercontent.com/jangrae/img/master/map.png' width=500 align=\"left\"/>"
   ]
  },
  {
   "cell_type": "markdown",
   "metadata": {
    "id": "Q1nZQRk8FO0M"
   },
   "source": [
    "- 다음 구문은 Male, Female을 각각 숫자 1, 0으로 변경합니다."
   ]
  },
  {
   "cell_type": "code",
   "execution_count": 26,
   "metadata": {
    "id": "OJMr6a3OC8EH"
   },
   "outputs": [
    {
     "data": {
      "text/html": [
       "<div>\n",
       "<style scoped>\n",
       "    .dataframe tbody tr th:only-of-type {\n",
       "        vertical-align: middle;\n",
       "    }\n",
       "\n",
       "    .dataframe tbody tr th {\n",
       "        vertical-align: top;\n",
       "    }\n",
       "\n",
       "    .dataframe thead th {\n",
       "        text-align: right;\n",
       "    }\n",
       "</style>\n",
       "<table border=\"1\" class=\"dataframe\">\n",
       "  <thead>\n",
       "    <tr style=\"text-align: right;\">\n",
       "      <th></th>\n",
       "      <th>total_bill</th>\n",
       "      <th>tip</th>\n",
       "      <th>sex</th>\n",
       "      <th>smoker</th>\n",
       "      <th>time</th>\n",
       "      <th>size</th>\n",
       "    </tr>\n",
       "  </thead>\n",
       "  <tbody>\n",
       "    <tr>\n",
       "      <th>0</th>\n",
       "      <td>16.99</td>\n",
       "      <td>1.01</td>\n",
       "      <td>0</td>\n",
       "      <td>None</td>\n",
       "      <td>Dinner</td>\n",
       "      <td>2</td>\n",
       "    </tr>\n",
       "    <tr>\n",
       "      <th>1</th>\n",
       "      <td>10.34</td>\n",
       "      <td>1.66</td>\n",
       "      <td>1</td>\n",
       "      <td>None</td>\n",
       "      <td>Dinner</td>\n",
       "      <td>3</td>\n",
       "    </tr>\n",
       "    <tr>\n",
       "      <th>2</th>\n",
       "      <td>21.01</td>\n",
       "      <td>3.50</td>\n",
       "      <td>1</td>\n",
       "      <td>None</td>\n",
       "      <td>Dinner</td>\n",
       "      <td>3</td>\n",
       "    </tr>\n",
       "    <tr>\n",
       "      <th>3</th>\n",
       "      <td>23.68</td>\n",
       "      <td>3.31</td>\n",
       "      <td>1</td>\n",
       "      <td>None</td>\n",
       "      <td>Dinner</td>\n",
       "      <td>2</td>\n",
       "    </tr>\n",
       "    <tr>\n",
       "      <th>4</th>\n",
       "      <td>24.59</td>\n",
       "      <td>3.61</td>\n",
       "      <td>0</td>\n",
       "      <td>None</td>\n",
       "      <td>Dinner</td>\n",
       "      <td>4</td>\n",
       "    </tr>\n",
       "  </tbody>\n",
       "</table>\n",
       "</div>"
      ],
      "text/plain": [
       "   total_bill   tip  sex smoker    time  size\n",
       "0       16.99  1.01    0   None  Dinner     2\n",
       "1       10.34  1.66    1   None  Dinner     3\n",
       "2       21.01  3.50    1   None  Dinner     3\n",
       "3       23.68  3.31    1   None  Dinner     2\n",
       "4       24.59  3.61    0   None  Dinner     4"
      ]
     },
     "execution_count": 26,
     "metadata": {},
     "output_type": "execute_result"
    }
   ],
   "source": [
    "# Male -> 1, Female -> 0\n",
    "tip['sex'] = tip['sex'].map({'Male': 1, 'Female': 0})\n",
    "\n",
    "# 확인\n",
    "tip.head()"
   ]
  },
  {
   "cell_type": "markdown",
   "metadata": {
    "id": "PcJrvFmnFO0N"
   },
   "source": [
    "- **replace()** 메서드도 map() 메서드와 비슷한 방법으로 사용할 수 있습니다."
   ]
  },
  {
   "cell_type": "markdown",
   "metadata": {
    "id": "DA8uh7UxFO0N"
   },
   "source": [
    "<img src='https://raw.githubusercontent.com/jangrae/img/master/replace.png' width=500 align=\"left\"/>"
   ]
  },
  {
   "cell_type": "markdown",
   "metadata": {
    "id": "6fLjAnfuFO0N"
   },
   "source": [
    "- 다음 구문은 1, 0을 각각 Male, Female로 변경합니다."
   ]
  },
  {
   "cell_type": "code",
   "execution_count": 34,
   "metadata": {
    "id": "pbJ_ZPksFO0N"
   },
   "outputs": [
    {
     "data": {
      "text/html": [
       "<div>\n",
       "<style scoped>\n",
       "    .dataframe tbody tr th:only-of-type {\n",
       "        vertical-align: middle;\n",
       "    }\n",
       "\n",
       "    .dataframe tbody tr th {\n",
       "        vertical-align: top;\n",
       "    }\n",
       "\n",
       "    .dataframe thead th {\n",
       "        text-align: right;\n",
       "    }\n",
       "</style>\n",
       "<table border=\"1\" class=\"dataframe\">\n",
       "  <thead>\n",
       "    <tr style=\"text-align: right;\">\n",
       "      <th></th>\n",
       "      <th>total_bill</th>\n",
       "      <th>tip</th>\n",
       "      <th>sex</th>\n",
       "      <th>smoker</th>\n",
       "      <th>time</th>\n",
       "      <th>size</th>\n",
       "    </tr>\n",
       "  </thead>\n",
       "  <tbody>\n",
       "    <tr>\n",
       "      <th>0</th>\n",
       "      <td>16.99</td>\n",
       "      <td>1.01</td>\n",
       "      <td>Female</td>\n",
       "      <td>No</td>\n",
       "      <td>Dinner</td>\n",
       "      <td>2</td>\n",
       "    </tr>\n",
       "    <tr>\n",
       "      <th>1</th>\n",
       "      <td>10.34</td>\n",
       "      <td>1.66</td>\n",
       "      <td>Male</td>\n",
       "      <td>No</td>\n",
       "      <td>Dinner</td>\n",
       "      <td>3</td>\n",
       "    </tr>\n",
       "    <tr>\n",
       "      <th>2</th>\n",
       "      <td>21.01</td>\n",
       "      <td>3.50</td>\n",
       "      <td>Male</td>\n",
       "      <td>No</td>\n",
       "      <td>Dinner</td>\n",
       "      <td>3</td>\n",
       "    </tr>\n",
       "    <tr>\n",
       "      <th>3</th>\n",
       "      <td>23.68</td>\n",
       "      <td>3.31</td>\n",
       "      <td>Male</td>\n",
       "      <td>No</td>\n",
       "      <td>Dinner</td>\n",
       "      <td>2</td>\n",
       "    </tr>\n",
       "    <tr>\n",
       "      <th>4</th>\n",
       "      <td>24.59</td>\n",
       "      <td>3.61</td>\n",
       "      <td>Female</td>\n",
       "      <td>No</td>\n",
       "      <td>Dinner</td>\n",
       "      <td>4</td>\n",
       "    </tr>\n",
       "  </tbody>\n",
       "</table>\n",
       "</div>"
      ],
      "text/plain": [
       "   total_bill   tip     sex smoker    time  size\n",
       "0       16.99  1.01  Female     No  Dinner     2\n",
       "1       10.34  1.66    Male     No  Dinner     3\n",
       "2       21.01  3.50    Male     No  Dinner     3\n",
       "3       23.68  3.31    Male     No  Dinner     2\n",
       "4       24.59  3.61  Female     No  Dinner     4"
      ]
     },
     "execution_count": 34,
     "metadata": {},
     "output_type": "execute_result"
    }
   ],
   "source": [
    "# 1 --> Male, 0 --> Female\n",
    "tip['sex'] = tip['sex'].replace({1: 'Male', 0: 'Female'})\n",
    "\n",
    "# 확인\n",
    "tip.head()"
   ]
  },
  {
   "cell_type": "markdown",
   "metadata": {
    "id": "FCNi3cMP-1T6"
   },
   "source": [
    "<img src='https://raw.githubusercontent.com/jangrae/img/master/practice_20.png' width=120 align=\"left\"/>"
   ]
  },
  {
   "cell_type": "markdown",
   "metadata": {
    "id": "BB42jPlS-1UL"
   },
   "source": [
    "[문1] map() 메서드를 사용해 smoker 열의 값 Yes와 No를 각각 숫자 1과 0으로 변경하세요."
   ]
  },
  {
   "cell_type": "code",
   "execution_count": 35,
   "metadata": {
    "id": "Ogxjfp_s_NKU"
   },
   "outputs": [
    {
     "data": {
      "text/html": [
       "<div>\n",
       "<style scoped>\n",
       "    .dataframe tbody tr th:only-of-type {\n",
       "        vertical-align: middle;\n",
       "    }\n",
       "\n",
       "    .dataframe tbody tr th {\n",
       "        vertical-align: top;\n",
       "    }\n",
       "\n",
       "    .dataframe thead th {\n",
       "        text-align: right;\n",
       "    }\n",
       "</style>\n",
       "<table border=\"1\" class=\"dataframe\">\n",
       "  <thead>\n",
       "    <tr style=\"text-align: right;\">\n",
       "      <th></th>\n",
       "      <th>total_bill</th>\n",
       "      <th>tip</th>\n",
       "      <th>sex</th>\n",
       "      <th>smoker</th>\n",
       "      <th>time</th>\n",
       "      <th>size</th>\n",
       "    </tr>\n",
       "  </thead>\n",
       "  <tbody>\n",
       "    <tr>\n",
       "      <th>0</th>\n",
       "      <td>16.99</td>\n",
       "      <td>1.01</td>\n",
       "      <td>Female</td>\n",
       "      <td>0</td>\n",
       "      <td>Dinner</td>\n",
       "      <td>2</td>\n",
       "    </tr>\n",
       "    <tr>\n",
       "      <th>1</th>\n",
       "      <td>10.34</td>\n",
       "      <td>1.66</td>\n",
       "      <td>Male</td>\n",
       "      <td>0</td>\n",
       "      <td>Dinner</td>\n",
       "      <td>3</td>\n",
       "    </tr>\n",
       "    <tr>\n",
       "      <th>2</th>\n",
       "      <td>21.01</td>\n",
       "      <td>3.50</td>\n",
       "      <td>Male</td>\n",
       "      <td>0</td>\n",
       "      <td>Dinner</td>\n",
       "      <td>3</td>\n",
       "    </tr>\n",
       "    <tr>\n",
       "      <th>3</th>\n",
       "      <td>23.68</td>\n",
       "      <td>3.31</td>\n",
       "      <td>Male</td>\n",
       "      <td>0</td>\n",
       "      <td>Dinner</td>\n",
       "      <td>2</td>\n",
       "    </tr>\n",
       "    <tr>\n",
       "      <th>4</th>\n",
       "      <td>24.59</td>\n",
       "      <td>3.61</td>\n",
       "      <td>Female</td>\n",
       "      <td>0</td>\n",
       "      <td>Dinner</td>\n",
       "      <td>4</td>\n",
       "    </tr>\n",
       "  </tbody>\n",
       "</table>\n",
       "</div>"
      ],
      "text/plain": [
       "   total_bill   tip     sex  smoker    time  size\n",
       "0       16.99  1.01  Female       0  Dinner     2\n",
       "1       10.34  1.66    Male       0  Dinner     3\n",
       "2       21.01  3.50    Male       0  Dinner     3\n",
       "3       23.68  3.31    Male       0  Dinner     2\n",
       "4       24.59  3.61  Female       0  Dinner     4"
      ]
     },
     "execution_count": 35,
     "metadata": {},
     "output_type": "execute_result"
    }
   ],
   "source": [
    "# Yes -> 1, No -> 0\n",
    "tip['smoker'] = tip['smoker'].map({'Yes': 1, 'No': 0})\n",
    "\n",
    "# 확인\n",
    "tip.head()"
   ]
  },
  {
   "cell_type": "markdown",
   "metadata": {
    "id": "ju0MhhJbFO0N"
   },
   "source": [
    "[문2] replace() 메서드를 사용해 time 열의 값 Lunch와 Dinner를 각각 숫자 1과 0으로 변경하세요."
   ]
  },
  {
   "cell_type": "code",
   "execution_count": 37,
   "metadata": {
    "id": "B06kn8hgFO0N"
   },
   "outputs": [
    {
     "data": {
      "text/html": [
       "<div>\n",
       "<style scoped>\n",
       "    .dataframe tbody tr th:only-of-type {\n",
       "        vertical-align: middle;\n",
       "    }\n",
       "\n",
       "    .dataframe tbody tr th {\n",
       "        vertical-align: top;\n",
       "    }\n",
       "\n",
       "    .dataframe thead th {\n",
       "        text-align: right;\n",
       "    }\n",
       "</style>\n",
       "<table border=\"1\" class=\"dataframe\">\n",
       "  <thead>\n",
       "    <tr style=\"text-align: right;\">\n",
       "      <th></th>\n",
       "      <th>total_bill</th>\n",
       "      <th>tip</th>\n",
       "      <th>sex</th>\n",
       "      <th>smoker</th>\n",
       "      <th>time</th>\n",
       "      <th>size</th>\n",
       "    </tr>\n",
       "  </thead>\n",
       "  <tbody>\n",
       "    <tr>\n",
       "      <th>0</th>\n",
       "      <td>16.99</td>\n",
       "      <td>1.01</td>\n",
       "      <td>Female</td>\n",
       "      <td>0</td>\n",
       "      <td>0</td>\n",
       "      <td>2</td>\n",
       "    </tr>\n",
       "    <tr>\n",
       "      <th>1</th>\n",
       "      <td>10.34</td>\n",
       "      <td>1.66</td>\n",
       "      <td>Male</td>\n",
       "      <td>0</td>\n",
       "      <td>0</td>\n",
       "      <td>3</td>\n",
       "    </tr>\n",
       "    <tr>\n",
       "      <th>2</th>\n",
       "      <td>21.01</td>\n",
       "      <td>3.50</td>\n",
       "      <td>Male</td>\n",
       "      <td>0</td>\n",
       "      <td>0</td>\n",
       "      <td>3</td>\n",
       "    </tr>\n",
       "    <tr>\n",
       "      <th>3</th>\n",
       "      <td>23.68</td>\n",
       "      <td>3.31</td>\n",
       "      <td>Male</td>\n",
       "      <td>0</td>\n",
       "      <td>0</td>\n",
       "      <td>2</td>\n",
       "    </tr>\n",
       "    <tr>\n",
       "      <th>4</th>\n",
       "      <td>24.59</td>\n",
       "      <td>3.61</td>\n",
       "      <td>Female</td>\n",
       "      <td>0</td>\n",
       "      <td>0</td>\n",
       "      <td>4</td>\n",
       "    </tr>\n",
       "  </tbody>\n",
       "</table>\n",
       "</div>"
      ],
      "text/plain": [
       "   total_bill   tip     sex  smoker  time  size\n",
       "0       16.99  1.01  Female       0     0     2\n",
       "1       10.34  1.66    Male       0     0     3\n",
       "2       21.01  3.50    Male       0     0     3\n",
       "3       23.68  3.31    Male       0     0     2\n",
       "4       24.59  3.61  Female       0     0     4"
      ]
     },
     "execution_count": 37,
     "metadata": {},
     "output_type": "execute_result"
    }
   ],
   "source": [
    "# Lunch -> 1, Dinner -> 0\n",
    "tip['time'] = tip['time'].replace({'Lunch': 1, 'Dinner': 0})\n",
    "\n",
    "# 확인\n",
    "tip.head()"
   ]
  },
  {
   "cell_type": "markdown",
   "metadata": {
    "id": "K43sQJUU3VYo"
   },
   "source": [
    "<img src='https://raw.githubusercontent.com/jangrae/img/master/practice_20e.png' width=45 align=\"left\"/>"
   ]
  },
  {
   "cell_type": "markdown",
   "metadata": {
    "id": "aEBr4Fa_fyPK"
   },
   "source": [
    "## 4.5.결측치 처리\n",
    "\n",
    "- NaN 값, 즉 결측치는 정확한 분석을 방해합니다.\n",
    "- NaN 값을 만나면 오류가 발생하는 함수도 있습니다."
   ]
  },
  {
   "cell_type": "markdown",
   "metadata": {
    "id": "Sit9nStQglNh"
   },
   "source": [
    "<img src='https://raw.githubusercontent.com/Jangrae/img/master/nan.png' width=700 align=\"left\"/>"
   ]
  },
  {
   "cell_type": "markdown",
   "metadata": {
    "id": "ixz4UVQO2o3q"
   },
   "source": [
    "- NaN 값은 제거하든지 다른 값(예를 들면 평균값, 최빈값 등)으로 채워야 합니다."
   ]
  },
  {
   "cell_type": "markdown",
   "metadata": {
    "id": "tBiPJrpmJ7Ys"
   },
   "source": [
    "**[airquality 데이터 셋 정보]**\n",
    "\n",
    "- Ozone: 오존 농도  \n",
    "- Solar.R: 태양복사량\n",
    "- Wind: 풍속\n",
    "- Temp: 기온\n",
    "- Month: 월\n",
    "- Day: 일"
   ]
  },
  {
   "cell_type": "code",
   "execution_count": 38,
   "metadata": {
    "id": "JidNhJ9BAxZH"
   },
   "outputs": [
    {
     "data": {
      "text/html": [
       "<div>\n",
       "<style scoped>\n",
       "    .dataframe tbody tr th:only-of-type {\n",
       "        vertical-align: middle;\n",
       "    }\n",
       "\n",
       "    .dataframe tbody tr th {\n",
       "        vertical-align: top;\n",
       "    }\n",
       "\n",
       "    .dataframe thead th {\n",
       "        text-align: right;\n",
       "    }\n",
       "</style>\n",
       "<table border=\"1\" class=\"dataframe\">\n",
       "  <thead>\n",
       "    <tr style=\"text-align: right;\">\n",
       "      <th></th>\n",
       "      <th>Ozone</th>\n",
       "      <th>Solar.R</th>\n",
       "      <th>Wind</th>\n",
       "      <th>Temp</th>\n",
       "      <th>Month</th>\n",
       "      <th>Day</th>\n",
       "    </tr>\n",
       "  </thead>\n",
       "  <tbody>\n",
       "    <tr>\n",
       "      <th>0</th>\n",
       "      <td>41.0</td>\n",
       "      <td>190.0</td>\n",
       "      <td>7.4</td>\n",
       "      <td>67</td>\n",
       "      <td>5</td>\n",
       "      <td>1</td>\n",
       "    </tr>\n",
       "    <tr>\n",
       "      <th>1</th>\n",
       "      <td>36.0</td>\n",
       "      <td>118.0</td>\n",
       "      <td>8.0</td>\n",
       "      <td>72</td>\n",
       "      <td>5</td>\n",
       "      <td>2</td>\n",
       "    </tr>\n",
       "    <tr>\n",
       "      <th>2</th>\n",
       "      <td>12.0</td>\n",
       "      <td>149.0</td>\n",
       "      <td>12.6</td>\n",
       "      <td>74</td>\n",
       "      <td>5</td>\n",
       "      <td>3</td>\n",
       "    </tr>\n",
       "    <tr>\n",
       "      <th>3</th>\n",
       "      <td>18.0</td>\n",
       "      <td>313.0</td>\n",
       "      <td>11.5</td>\n",
       "      <td>62</td>\n",
       "      <td>5</td>\n",
       "      <td>4</td>\n",
       "    </tr>\n",
       "    <tr>\n",
       "      <th>4</th>\n",
       "      <td>NaN</td>\n",
       "      <td>NaN</td>\n",
       "      <td>14.3</td>\n",
       "      <td>56</td>\n",
       "      <td>5</td>\n",
       "      <td>5</td>\n",
       "    </tr>\n",
       "  </tbody>\n",
       "</table>\n",
       "</div>"
      ],
      "text/plain": [
       "   Ozone  Solar.R  Wind  Temp  Month  Day\n",
       "0   41.0    190.0   7.4    67      5    1\n",
       "1   36.0    118.0   8.0    72      5    2\n",
       "2   12.0    149.0  12.6    74      5    3\n",
       "3   18.0    313.0  11.5    62      5    4\n",
       "4    NaN      NaN  14.3    56      5    5"
      ]
     },
     "execution_count": 38,
     "metadata": {},
     "output_type": "execute_result"
    }
   ],
   "source": [
    "# 데이터 읽어오기\n",
    "path = 'https://raw.githubusercontent.com/Jangrae/csv/master/airquality.csv'\n",
    "air = pd.read_csv(path)\n",
    "\n",
    "# 확인\n",
    "air.head()"
   ]
  },
  {
   "cell_type": "markdown",
   "metadata": {
    "id": "ym9R9OVegJpd"
   },
   "source": [
    "### 4.5.1.결측치 찾기\n",
    "\n",
    "- 결측치 존재 여부를 확인하고 이를 어떻게 처리할 지 방법을 결정해야 합니다.\n",
    "- 결측치를 확인할 수 있는 방법은 참 많습니다."
   ]
  },
  {
   "cell_type": "markdown",
   "metadata": {
    "id": "r342ajaBiM4D"
   },
   "source": [
    "**1) info() 메서드로 확인**"
   ]
  },
  {
   "cell_type": "code",
   "execution_count": 39,
   "metadata": {
    "id": "QJtmOEpjgSEO"
   },
   "outputs": [
    {
     "name": "stdout",
     "output_type": "stream",
     "text": [
      "<class 'pandas.core.frame.DataFrame'>\n",
      "RangeIndex: 153 entries, 0 to 152\n",
      "Data columns (total 6 columns):\n",
      " #   Column   Non-Null Count  Dtype  \n",
      "---  ------   --------------  -----  \n",
      " 0   Ozone    116 non-null    float64\n",
      " 1   Solar.R  146 non-null    float64\n",
      " 2   Wind     153 non-null    float64\n",
      " 3   Temp     153 non-null    int64  \n",
      " 4   Month    153 non-null    int64  \n",
      " 5   Day      153 non-null    int64  \n",
      "dtypes: float64(3), int64(3)\n",
      "memory usage: 7.3 KB\n"
     ]
    }
   ],
   "source": [
    "# 값 개수로 결측치 존재 여부 확인\n",
    "air.info()"
   ]
  },
  {
   "cell_type": "markdown",
   "metadata": {
    "id": "qLZ-WjMLhk3P"
   },
   "source": [
    "**2) isnull(), notnull() 메서드 사용**\n",
    "\n",
    "- **isnull()** 메서드는 결측치면 True, 유효한 값이면 False를 반환합니다.\n",
    "- **notnull()** 메서드는 결측치면 False, 유효한 값이면 True를 반환합니다.\n",
    "- isnull() 대신 **isna()**, notnull() 대신 **notna()** 메서드를 사용해도 됩니다."
   ]
  },
  {
   "cell_type": "code",
   "execution_count": 40,
   "metadata": {
    "id": "EjMy9QB5dwtp"
   },
   "outputs": [
    {
     "data": {
      "text/html": [
       "<div>\n",
       "<style scoped>\n",
       "    .dataframe tbody tr th:only-of-type {\n",
       "        vertical-align: middle;\n",
       "    }\n",
       "\n",
       "    .dataframe tbody tr th {\n",
       "        vertical-align: top;\n",
       "    }\n",
       "\n",
       "    .dataframe thead th {\n",
       "        text-align: right;\n",
       "    }\n",
       "</style>\n",
       "<table border=\"1\" class=\"dataframe\">\n",
       "  <thead>\n",
       "    <tr style=\"text-align: right;\">\n",
       "      <th></th>\n",
       "      <th>Ozone</th>\n",
       "      <th>Solar.R</th>\n",
       "      <th>Wind</th>\n",
       "      <th>Temp</th>\n",
       "      <th>Month</th>\n",
       "      <th>Day</th>\n",
       "    </tr>\n",
       "  </thead>\n",
       "  <tbody>\n",
       "    <tr>\n",
       "      <th>0</th>\n",
       "      <td>False</td>\n",
       "      <td>False</td>\n",
       "      <td>False</td>\n",
       "      <td>False</td>\n",
       "      <td>False</td>\n",
       "      <td>False</td>\n",
       "    </tr>\n",
       "    <tr>\n",
       "      <th>1</th>\n",
       "      <td>False</td>\n",
       "      <td>False</td>\n",
       "      <td>False</td>\n",
       "      <td>False</td>\n",
       "      <td>False</td>\n",
       "      <td>False</td>\n",
       "    </tr>\n",
       "    <tr>\n",
       "      <th>2</th>\n",
       "      <td>False</td>\n",
       "      <td>False</td>\n",
       "      <td>False</td>\n",
       "      <td>False</td>\n",
       "      <td>False</td>\n",
       "      <td>False</td>\n",
       "    </tr>\n",
       "    <tr>\n",
       "      <th>3</th>\n",
       "      <td>False</td>\n",
       "      <td>False</td>\n",
       "      <td>False</td>\n",
       "      <td>False</td>\n",
       "      <td>False</td>\n",
       "      <td>False</td>\n",
       "    </tr>\n",
       "    <tr>\n",
       "      <th>4</th>\n",
       "      <td>True</td>\n",
       "      <td>True</td>\n",
       "      <td>False</td>\n",
       "      <td>False</td>\n",
       "      <td>False</td>\n",
       "      <td>False</td>\n",
       "    </tr>\n",
       "    <tr>\n",
       "      <th>...</th>\n",
       "      <td>...</td>\n",
       "      <td>...</td>\n",
       "      <td>...</td>\n",
       "      <td>...</td>\n",
       "      <td>...</td>\n",
       "      <td>...</td>\n",
       "    </tr>\n",
       "    <tr>\n",
       "      <th>148</th>\n",
       "      <td>False</td>\n",
       "      <td>False</td>\n",
       "      <td>False</td>\n",
       "      <td>False</td>\n",
       "      <td>False</td>\n",
       "      <td>False</td>\n",
       "    </tr>\n",
       "    <tr>\n",
       "      <th>149</th>\n",
       "      <td>True</td>\n",
       "      <td>False</td>\n",
       "      <td>False</td>\n",
       "      <td>False</td>\n",
       "      <td>False</td>\n",
       "      <td>False</td>\n",
       "    </tr>\n",
       "    <tr>\n",
       "      <th>150</th>\n",
       "      <td>False</td>\n",
       "      <td>False</td>\n",
       "      <td>False</td>\n",
       "      <td>False</td>\n",
       "      <td>False</td>\n",
       "      <td>False</td>\n",
       "    </tr>\n",
       "    <tr>\n",
       "      <th>151</th>\n",
       "      <td>False</td>\n",
       "      <td>False</td>\n",
       "      <td>False</td>\n",
       "      <td>False</td>\n",
       "      <td>False</td>\n",
       "      <td>False</td>\n",
       "    </tr>\n",
       "    <tr>\n",
       "      <th>152</th>\n",
       "      <td>False</td>\n",
       "      <td>False</td>\n",
       "      <td>False</td>\n",
       "      <td>False</td>\n",
       "      <td>False</td>\n",
       "      <td>False</td>\n",
       "    </tr>\n",
       "  </tbody>\n",
       "</table>\n",
       "<p>153 rows × 6 columns</p>\n",
       "</div>"
      ],
      "text/plain": [
       "     Ozone  Solar.R   Wind   Temp  Month    Day\n",
       "0    False    False  False  False  False  False\n",
       "1    False    False  False  False  False  False\n",
       "2    False    False  False  False  False  False\n",
       "3    False    False  False  False  False  False\n",
       "4     True     True  False  False  False  False\n",
       "..     ...      ...    ...    ...    ...    ...\n",
       "148  False    False  False  False  False  False\n",
       "149   True    False  False  False  False  False\n",
       "150  False    False  False  False  False  False\n",
       "151  False    False  False  False  False  False\n",
       "152  False    False  False  False  False  False\n",
       "\n",
       "[153 rows x 6 columns]"
      ]
     },
     "execution_count": 40,
     "metadata": {},
     "output_type": "execute_result"
    }
   ],
   "source": [
    "# 전체 데이터 중에서 결측치는 True로 표시\n",
    "air.isna()"
   ]
  },
  {
   "cell_type": "code",
   "execution_count": 41,
   "metadata": {
    "id": "9chfA7UFX4YY"
   },
   "outputs": [
    {
     "data": {
      "text/html": [
       "<div>\n",
       "<style scoped>\n",
       "    .dataframe tbody tr th:only-of-type {\n",
       "        vertical-align: middle;\n",
       "    }\n",
       "\n",
       "    .dataframe tbody tr th {\n",
       "        vertical-align: top;\n",
       "    }\n",
       "\n",
       "    .dataframe thead th {\n",
       "        text-align: right;\n",
       "    }\n",
       "</style>\n",
       "<table border=\"1\" class=\"dataframe\">\n",
       "  <thead>\n",
       "    <tr style=\"text-align: right;\">\n",
       "      <th></th>\n",
       "      <th>Ozone</th>\n",
       "      <th>Solar.R</th>\n",
       "      <th>Wind</th>\n",
       "      <th>Temp</th>\n",
       "      <th>Month</th>\n",
       "      <th>Day</th>\n",
       "    </tr>\n",
       "  </thead>\n",
       "  <tbody>\n",
       "    <tr>\n",
       "      <th>0</th>\n",
       "      <td>True</td>\n",
       "      <td>True</td>\n",
       "      <td>True</td>\n",
       "      <td>True</td>\n",
       "      <td>True</td>\n",
       "      <td>True</td>\n",
       "    </tr>\n",
       "    <tr>\n",
       "      <th>1</th>\n",
       "      <td>True</td>\n",
       "      <td>True</td>\n",
       "      <td>True</td>\n",
       "      <td>True</td>\n",
       "      <td>True</td>\n",
       "      <td>True</td>\n",
       "    </tr>\n",
       "    <tr>\n",
       "      <th>2</th>\n",
       "      <td>True</td>\n",
       "      <td>True</td>\n",
       "      <td>True</td>\n",
       "      <td>True</td>\n",
       "      <td>True</td>\n",
       "      <td>True</td>\n",
       "    </tr>\n",
       "    <tr>\n",
       "      <th>3</th>\n",
       "      <td>True</td>\n",
       "      <td>True</td>\n",
       "      <td>True</td>\n",
       "      <td>True</td>\n",
       "      <td>True</td>\n",
       "      <td>True</td>\n",
       "    </tr>\n",
       "    <tr>\n",
       "      <th>4</th>\n",
       "      <td>False</td>\n",
       "      <td>False</td>\n",
       "      <td>True</td>\n",
       "      <td>True</td>\n",
       "      <td>True</td>\n",
       "      <td>True</td>\n",
       "    </tr>\n",
       "    <tr>\n",
       "      <th>...</th>\n",
       "      <td>...</td>\n",
       "      <td>...</td>\n",
       "      <td>...</td>\n",
       "      <td>...</td>\n",
       "      <td>...</td>\n",
       "      <td>...</td>\n",
       "    </tr>\n",
       "    <tr>\n",
       "      <th>148</th>\n",
       "      <td>True</td>\n",
       "      <td>True</td>\n",
       "      <td>True</td>\n",
       "      <td>True</td>\n",
       "      <td>True</td>\n",
       "      <td>True</td>\n",
       "    </tr>\n",
       "    <tr>\n",
       "      <th>149</th>\n",
       "      <td>False</td>\n",
       "      <td>True</td>\n",
       "      <td>True</td>\n",
       "      <td>True</td>\n",
       "      <td>True</td>\n",
       "      <td>True</td>\n",
       "    </tr>\n",
       "    <tr>\n",
       "      <th>150</th>\n",
       "      <td>True</td>\n",
       "      <td>True</td>\n",
       "      <td>True</td>\n",
       "      <td>True</td>\n",
       "      <td>True</td>\n",
       "      <td>True</td>\n",
       "    </tr>\n",
       "    <tr>\n",
       "      <th>151</th>\n",
       "      <td>True</td>\n",
       "      <td>True</td>\n",
       "      <td>True</td>\n",
       "      <td>True</td>\n",
       "      <td>True</td>\n",
       "      <td>True</td>\n",
       "    </tr>\n",
       "    <tr>\n",
       "      <th>152</th>\n",
       "      <td>True</td>\n",
       "      <td>True</td>\n",
       "      <td>True</td>\n",
       "      <td>True</td>\n",
       "      <td>True</td>\n",
       "      <td>True</td>\n",
       "    </tr>\n",
       "  </tbody>\n",
       "</table>\n",
       "<p>153 rows × 6 columns</p>\n",
       "</div>"
      ],
      "text/plain": [
       "     Ozone  Solar.R  Wind  Temp  Month   Day\n",
       "0     True     True  True  True   True  True\n",
       "1     True     True  True  True   True  True\n",
       "2     True     True  True  True   True  True\n",
       "3     True     True  True  True   True  True\n",
       "4    False    False  True  True   True  True\n",
       "..     ...      ...   ...   ...    ...   ...\n",
       "148   True     True  True  True   True  True\n",
       "149  False     True  True  True   True  True\n",
       "150   True     True  True  True   True  True\n",
       "151   True     True  True  True   True  True\n",
       "152   True     True  True  True   True  True\n",
       "\n",
       "[153 rows x 6 columns]"
      ]
     },
     "execution_count": 41,
     "metadata": {},
     "output_type": "execute_result"
    }
   ],
   "source": [
    "# 전체 데이터 중에서 결측치는 False로 표시\n",
    "air.notna()"
   ]
  },
  {
   "cell_type": "markdown",
   "metadata": {
    "id": "b_vXSmZGYcbu"
   },
   "source": [
    "- **sum()** 메서드를 사용해 True 값의 개수, 즉 **열의 결측치 개수**를 확인할 수 있습니다."
   ]
  },
  {
   "cell_type": "code",
   "execution_count": 44,
   "metadata": {
    "id": "sP5s5liTYPGo"
   },
   "outputs": [
    {
     "data": {
      "text/plain": [
       "Ozone      37\n",
       "Solar.R     7\n",
       "Wind        0\n",
       "Temp        0\n",
       "Month       0\n",
       "Day         0\n",
       "dtype: int64"
      ]
     },
     "execution_count": 44,
     "metadata": {},
     "output_type": "execute_result"
    }
   ],
   "source": [
    "# 열의 결측치 개수 확인\n",
    "air.isnull().sum()"
   ]
  },
  {
   "cell_type": "markdown",
   "metadata": {
    "id": "Gj-SaA5akWAT"
   },
   "source": [
    "### 4.5.2.결측치 제거\n",
    "\n",
    "- **dropna()** 메서드로 결측치가 있는 열이나 행을 제거할 수 있습니다.\n",
    "- inplace=True 옵션을 지정해야 해당 데이터프레임에 실제로 반영됩니다.\n",
    "- axis 옵션으로 행을 제거할 지 열을 제거할 지 지정합니다.\n",
    "    - axis=0: 행 제거(기본값)\n",
    "    - axis=1: 열 제거"
   ]
  },
  {
   "cell_type": "markdown",
   "metadata": {
    "id": "l_k-OqWXqhN-"
   },
   "source": [
    "**1) 어떤 열이든 결측치가 있는 행 제거**\n",
    "\n",
    "- dropna() 메서드는 기본적으로 어느 열이든 결측치가 있는 행을 제거합니다."
   ]
  },
  {
   "cell_type": "markdown",
   "metadata": {
    "id": "aPvcT3n72o3s"
   },
   "source": [
    "<img src='https://raw.githubusercontent.com/Jangrae/img/master/dropna_01.png' width=300 align=\"left\"/>"
   ]
  },
  {
   "cell_type": "code",
   "execution_count": null,
   "metadata": {
    "id": "irYg8ojDzL_s"
   },
   "outputs": [],
   "source": [
    "# 데이터프레임 복사\n",
    "air_test = air.copy()\n",
    "\n",
    "# 열의 결측치 개수 확인\n",
    "air_test.isnull().sum()"
   ]
  },
  {
   "cell_type": "code",
   "execution_count": null,
   "metadata": {
    "id": "KUMVEY7EsxQO"
   },
   "outputs": [],
   "source": [
    "# 결측치가 하나라도 있는 행 제거\n",
    "air_test.dropna(axis=0, inplace=True)\n",
    "\n",
    "# 확인\n",
    "air_test.isna().sum()"
   ]
  },
  {
   "cell_type": "markdown",
   "metadata": {
    "id": "zsa83xmHFL4h"
   },
   "source": [
    "**2) 특정 열에 결측치가 있는 행 제거**\n",
    "\n",
    "- subset 옵션에 열을 지정해 해당 열에 결측치가 있는 행을 제거합니다."
   ]
  },
  {
   "cell_type": "markdown",
   "metadata": {
    "id": "fwCoCsOQgzBb"
   },
   "source": [
    "<img src='https://raw.githubusercontent.com/Jangrae/img/master/dropna_02.png' width=300 align=\"left\"/>"
   ]
  },
  {
   "cell_type": "code",
   "execution_count": 45,
   "metadata": {
    "id": "qxnVGzBijLr6",
    "scrolled": true
   },
   "outputs": [
    {
     "data": {
      "text/plain": [
       "Ozone      0\n",
       "Solar.R    5\n",
       "Wind       0\n",
       "Temp       0\n",
       "Month      0\n",
       "Day        0\n",
       "dtype: int64"
      ]
     },
     "execution_count": 45,
     "metadata": {},
     "output_type": "execute_result"
    }
   ],
   "source": [
    "# 데이터프레임 복사\n",
    "air_test = air.copy()\n",
    "\n",
    "# Ozone 열이 결측치인 행 제거\n",
    "air_test.dropna(subset=['Ozone'], axis=0, inplace=True)\n",
    "\n",
    "# 확인\n",
    "air_test.isna().sum()"
   ]
  },
  {
   "cell_type": "markdown",
   "metadata": {
    "id": "mdqeG19oGBSP"
   },
   "source": [
    "**3) 결측치가 있는 모든 열 제거**\n",
    "\n",
    "- axis=1 옵션을 지정해 열을 제거할 수 있습니다."
   ]
  },
  {
   "cell_type": "markdown",
   "metadata": {
    "id": "Kr9SHPt4g1pe"
   },
   "source": [
    "<img src='https://raw.githubusercontent.com/Jangrae/img/master/dropna_03.png' width=300 align=\"left\"/>"
   ]
  },
  {
   "cell_type": "code",
   "execution_count": null,
   "metadata": {
    "id": "MH0G7PQRGBST"
   },
   "outputs": [],
   "source": [
    "# 데이터프레임 복사\n",
    "air_test = air.copy()\n",
    "\n",
    "# 결측치가 있는 열 제거\n",
    "air_test.dropna(axis=1, inplace=True)\n",
    "\n",
    "# 확인\n",
    "air_test.isna().sum()"
   ]
  },
  {
   "cell_type": "markdown",
   "metadata": {
    "id": "cYaThcUMuP6u"
   },
   "source": [
    "### 4.5.3.결측치 채우기\n",
    "\n",
    "- **fillna()** 메서드를 사용해 결측치를 다른 값으로 채울 수 있습니다."
   ]
  },
  {
   "cell_type": "markdown",
   "metadata": {
    "id": "DanX5zk-viHI"
   },
   "source": [
    "**1) 평균값으로 채우기**\n",
    "\n",
    "- 결측치가 있는 열의 평균값을 구한 후 결측치를 그 값으로 채웁니다."
   ]
  },
  {
   "cell_type": "code",
   "execution_count": null,
   "metadata": {
    "id": "3LqSXjUrxXmU"
   },
   "outputs": [],
   "source": [
    "# 데이터프레임 복사\n",
    "air_test = air.copy()\n",
    "\n",
    "# Ozone 평균 구하기\n",
    "mean_Ozone = air_test['Ozone'].mean()\n",
    "\n",
    "# 결측치를 평균값으로 채우기\n",
    "air_test['Ozone'] = air_test['Ozone'].fillna(mean_Ozone)\n",
    "\n",
    "# 확인\n",
    "air_test.isna().sum()"
   ]
  },
  {
   "cell_type": "markdown",
   "metadata": {
    "id": "1pPFQQOjiQPw"
   },
   "source": [
    "**2) 특정 값으로 채우기**\n",
    "\n",
    "- 모든 결측치, 또는 일부 결측치를 특정 값으로 채웁니다."
   ]
  },
  {
   "cell_type": "code",
   "execution_count": null,
   "metadata": {
    "id": "ZnDQPgyMiTKd"
   },
   "outputs": [],
   "source": [
    "# Solar.R 열의 누락된 값을 0으로 채우기\n",
    "air_test['Solar.R'] = air_test['Solar.R'].fillna(0)\n",
    "\n",
    "# 확인\n",
    "air_test.isna().sum()"
   ]
  },
  {
   "cell_type": "markdown",
   "metadata": {
    "id": "ll4fBPfWsSyc"
   },
   "source": [
    "**4) 직전 행의 값 또는 바로 다음 행의 값으로 채우기**\n",
    "\n",
    "- 결측치를 바로 앞의 값이나 바로 다음에 나오는 값으로 채웁니다.\n",
    "- 날짜 또는 시간의 흐름에 따른 값을 갖는 시계열 데이터 처리시 유용합니다.\n",
    "- **method='ffill'**: 바로 앞의 값으로 변경(Forward Fill)\n",
    "- **method='bfill'**: 바로 다음 값으로 변경(Backward Fill)\n",
    "- 참고: method 속성으로 'ffill', 'bfill'을 지정하는 대신 **ffill(), bfill()** 메서드 사용을 권고"
   ]
  },
  {
   "cell_type": "markdown",
   "metadata": {
    "id": "JtsgxcXx2o3v"
   },
   "source": [
    "<img src='https://raw.githubusercontent.com/Jangrae/img/master/ffill_bfill.png' width=600 align=\"left\"/>"
   ]
  },
  {
   "cell_type": "code",
   "execution_count": null,
   "metadata": {
    "id": "_rPnVgsWhlkT"
   },
   "outputs": [],
   "source": [
    "# 데이터프레임 복사\n",
    "air_test = air.copy()\n",
    "\n",
    "# 결측치 확인\n",
    "air_test.isna().sum()"
   ]
  },
  {
   "cell_type": "code",
   "execution_count": null,
   "metadata": {
    "id": "AF9q0GZ4smrR"
   },
   "outputs": [],
   "source": [
    "# Ozone 열의 누락된 값을 바로 앞의 값으로 채우기\n",
    "air_test['Ozone'] = air_test['Ozone'].ffill()\n",
    "\n",
    "# Solar.R 열의 누락된 값을 바로 뒤의 값으로 채우기\n",
    "air_test['Solar.R'] = air_test['Solar.R'].bfill()\n",
    "\n",
    "# 확인\n",
    "air_test.isna().sum()"
   ]
  },
  {
   "cell_type": "markdown",
   "metadata": {
    "id": "E6WNEA69jDxL"
   },
   "source": [
    "**5) 선형보간법으로 채우기**\n",
    "\n",
    "- **interpolate()** 메서드를 사용해 선형보간법으로 채울 수 있습니다."
   ]
  },
  {
   "cell_type": "markdown",
   "metadata": {
    "id": "5rJrI32V2o3v"
   },
   "source": [
    "<img src='https://raw.githubusercontent.com/Jangrae/img/master/interpolate.png' width=300 align=\"left\"/>"
   ]
  },
  {
   "cell_type": "code",
   "execution_count": null,
   "metadata": {
    "id": "3P8wrhsFiih0"
   },
   "outputs": [],
   "source": [
    "# 데이터프레임 복사\n",
    "air_test = air.copy()\n",
    "\n",
    "# 선형보간법으로 채우기\n",
    "air_test['Ozone'] = air_test['Ozone'].interpolate(method='linear')\n",
    "air_test['Solar.R'] = air_test['Solar.R'].interpolate(method='linear')\n",
    "\n",
    "# 확인\n",
    "air_test.isna().sum()"
   ]
  },
  {
   "cell_type": "markdown",
   "metadata": {
    "id": "TKXSGj6GW2sU"
   },
   "source": [
    "## 4.6.데이터프레임 합치기(Concat)\n",
    "\n",
    "- **concat()** 함수를 사용해 **인덱스 값을 기준으로** 두 데이터프레임을 가로 또는 세로로 합칠 수 있습니다.\n"
   ]
  },
  {
   "cell_type": "markdown",
   "metadata": {
    "id": "Ai1-9_qwNth_"
   },
   "source": [
    "### 4.6.1.가로로 합치기\n",
    "\n",
    "- **axis=1** 옵션을 지정해 가로로 합칠 수 있습니다."
   ]
  },
  {
   "cell_type": "markdown",
   "metadata": {
    "id": "E0SAH5cR9MSg"
   },
   "source": [
    "<img src='https://raw.githubusercontent.com/Jangrae/img/master/concat_ax1.png' width=500, align=\"left\"/>"
   ]
  },
  {
   "cell_type": "markdown",
   "metadata": {
    "id": "u6QfphTxVsxF"
   },
   "source": [
    "**1) 데이터 읽어오기**"
   ]
  },
  {
   "cell_type": "code",
   "execution_count": null,
   "metadata": {
    "id": "G35EMi2Coc7Q"
   },
   "outputs": [],
   "source": [
    "# 서울 인구정보 읽어오기 #1\n",
    "path = 'https://raw.githubusercontent.com/Jangrae/csv/master/seoul_pop_h01.csv'\n",
    "pop01 = pd.read_csv(path, index_col='year')\n",
    "pop01.index.name = None\n",
    "\n",
    "# 확인\n",
    "pop01.head(10)"
   ]
  },
  {
   "cell_type": "code",
   "execution_count": null,
   "metadata": {
    "id": "9w2LWwOzVaAa"
   },
   "outputs": [],
   "source": [
    "# 서울 인구정보 읽어오기 #2\n",
    "path = 'https://raw.githubusercontent.com/Jangrae/csv/master/seoul_pop_h02.csv'\n",
    "pop02 = pd.read_csv(path, index_col='year')\n",
    "pop02.index.name = None\n",
    "\n",
    "# 확인\n",
    "pop02.head(10)"
   ]
  },
  {
   "cell_type": "markdown",
   "metadata": {
    "id": "e2QtLRzgJSfv"
   },
   "source": [
    "**2) 데이터프레임 합치기**\n",
    "\n",
    "- 이제 **concat()** 함수를 사용해 두 데이터프레임을 합쳐봅니다.\n",
    "- 가로로 합치므로 **axis=1** 옵션을 지정합니다.\n",
    "- join='outer'는 기본 옵션값이므로 생략이 가능합니다."
   ]
  },
  {
   "cell_type": "code",
   "execution_count": null,
   "metadata": {
    "id": "e2JTK2AzJPvI"
   },
   "outputs": [],
   "source": [
    "# 모든 열 합치기\n",
    "pop = pd.concat([pop01, pop02], join='outer', axis=1)\n",
    "\n",
    "# 확인\n",
    "pop.head(10)"
   ]
  },
  {
   "cell_type": "markdown",
   "metadata": {
    "id": "xgfGAfFfJkYq"
   },
   "source": [
    "- pop02 데이터프레임에는 1981~1984년 데이터가 없어 합쳐진 결과에 결측치가 생깁니다.\n",
    "- join='inner' 옵션을 지정하면 매핑되지 못한 행은 제외됩니다."
   ]
  },
  {
   "cell_type": "code",
   "execution_count": null,
   "metadata": {
    "id": "QG_IsO1nI7lt"
   },
   "outputs": [],
   "source": [
    "# 모든 열 합치기\n",
    "pop = pd.concat([pop01, pop02], join='inner', axis=1)\n",
    "\n",
    "# 확인\n",
    "pop.head(10)"
   ]
  },
  {
   "cell_type": "markdown",
   "metadata": {
    "id": "FALUn2QYJ6r_"
   },
   "source": [
    "### 4.6.2.세로로 합치기\n",
    "\n",
    "\n",
    "- **axis=0** 옵션을 지정해 세로로 합칠 수 있습니다.(기본값)"
   ]
  },
  {
   "cell_type": "markdown",
   "metadata": {
    "id": "PSmjf_uLMWGw"
   },
   "source": [
    "<img src='https://raw.githubusercontent.com/Jangrae/img/master/concat_ax0.png' width=450, align=\"left\"/>"
   ]
  },
  {
   "cell_type": "markdown",
   "metadata": {
    "id": "c6OmWbzqJ6sA"
   },
   "source": [
    "**1) 데이터 읽어오기**\n"
   ]
  },
  {
   "cell_type": "code",
   "execution_count": null,
   "metadata": {
    "id": "z7r8xxi8J6sC"
   },
   "outputs": [],
   "source": [
    "# 서울 인구정보 읽어오기 #1\n",
    "path = 'https://raw.githubusercontent.com/Jangrae/csv/master/seoul_pop_v01.csv'\n",
    "pop01 = pd.read_csv(path)\n",
    "\n",
    "# 확인\n",
    "pop01.head(10)"
   ]
  },
  {
   "cell_type": "code",
   "execution_count": null,
   "metadata": {
    "id": "zN7wOKMwJ6sS"
   },
   "outputs": [],
   "source": [
    "# 서울 인구정보 읽어오기 #2\n",
    "path = 'https://raw.githubusercontent.com/Jangrae/csv/master/seoul_pop_v02.csv'\n",
    "pop02 = pd.read_csv(path)\n",
    "\n",
    "# 확인\n",
    "pop02.head(10)"
   ]
  },
  {
   "cell_type": "markdown",
   "metadata": {
    "id": "5EinAPQPJ6sT"
   },
   "source": [
    "**2) 데이터프레임 합치기**\n",
    "\n",
    "- 이제 **concat()** 함수를 사용해 두 데이터프레임을 합쳐봅니다.\n",
    "- 세로로 합치므로 **axis=0** 옵션을 지정하거나 생략합니다."
   ]
  },
  {
   "cell_type": "code",
   "execution_count": null,
   "metadata": {
    "id": "M1pucV1cJ6sT"
   },
   "outputs": [],
   "source": [
    "# 모든 행 합치기\n",
    "pop = pd.concat([pop01, pop02], axis=0)\n",
    "\n",
    "# 확인\n",
    "pop.head(10)"
   ]
  },
  {
   "cell_type": "markdown",
   "metadata": {
    "id": "R-qgH4Npk2CB"
   },
   "source": [
    "- 세로로 합해지면 인덱스 값이 중복될 수 있으므로 인덱스를 초기화합니다."
   ]
  },
  {
   "cell_type": "code",
   "execution_count": null,
   "metadata": {
    "id": "WFLv7qCpktak"
   },
   "outputs": [],
   "source": [
    "# 인덱스 초기화\n",
    "pop.reset_index(drop=True, inplace=True)\n",
    "\n",
    "# 확인\n",
    "pop.head(10)"
   ]
  },
  {
   "cell_type": "markdown",
   "metadata": {
    "id": "0Cq3lmVb5oj2"
   },
   "source": [
    "## 4.7.데이터프레임 조인(Merge)\n",
    "\n",
    "- **merge()** 함수를 사용 두 데이터프레임을 지정한 키 값을 기준으로 병합할 수 있습니다."
   ]
  },
  {
   "cell_type": "markdown",
   "metadata": {
    "id": "KqOHu2W4C_0R"
   },
   "source": [
    "<img src='https://raw.githubusercontent.com/Jangrae/img/master/join.png' width=600, align=\"left\"/>"
   ]
  },
  {
   "cell_type": "markdown",
   "metadata": {
    "id": "npocTmMLLuQj"
   },
   "source": [
    "### 4.7.1.데이터 읽어오기"
   ]
  },
  {
   "cell_type": "code",
   "execution_count": null,
   "metadata": {
    "id": "WGSai17VLuQ6"
   },
   "outputs": [],
   "source": [
    "# 서울 인구정보 읽어오기 #1\n",
    "path = 'https://raw.githubusercontent.com/Jangrae/csv/master/seoul_pop_h01.csv'\n",
    "pop01 = pd.read_csv(path)\n",
    "\n",
    "# 확인\n",
    "pop01.head(10)"
   ]
  },
  {
   "cell_type": "code",
   "execution_count": null,
   "metadata": {
    "id": "_nR7Xni4LuQ7"
   },
   "outputs": [],
   "source": [
    "# 서울 인구정보 읽어오기 #2\n",
    "path = 'https://raw.githubusercontent.com/Jangrae/csv/master/seoul_pop_h02.csv'\n",
    "pop02 = pd.read_csv(path)\n",
    "\n",
    "# 확인\n",
    "pop02.head(10)"
   ]
  },
  {
   "cell_type": "markdown",
   "metadata": {
    "id": "6DbFlvK6olV4"
   },
   "source": [
    "### 4.7.2.inner 조인\n",
    "\n",
    "- 같은 이름의 열이 있으면 on 옵션을 지정하지 않아도 그 열을 기준으로 조인됩니다.\n",
    "- 그래도 기준 열을 명시적으로 지정해 주기를 권고합니다.\n",
    "- how='inner' 옵션은 기본 옵션값이므로 생략할 수 있습니다."
   ]
  },
  {
   "cell_type": "code",
   "execution_count": null,
   "metadata": {
    "id": "j5DGezR_GTc6"
   },
   "outputs": [],
   "source": [
    "# 조인\n",
    "pop = pd.merge(pop01, pop02, on='year', how='inner')\n",
    "\n",
    "# 확인\n",
    "pop.head(10)"
   ]
  },
  {
   "cell_type": "markdown",
   "metadata": {
    "id": "esr7F4UiMD6I"
   },
   "source": [
    "### 4.7.3.outer 조인\n",
    "\n",
    "- how='outer' 옵션을 지정합니다."
   ]
  },
  {
   "cell_type": "code",
   "execution_count": null,
   "metadata": {
    "id": "Zlbcjbb8MD6L"
   },
   "outputs": [],
   "source": [
    "# 조인\n",
    "pop = pd.merge(pop01, pop02, on='year',  how='outer')\n",
    "\n",
    "# 확인\n",
    "pop.head(10)"
   ]
  },
  {
   "cell_type": "markdown",
   "metadata": {
    "id": "mrbULpSQoc7S"
   },
   "source": [
    "<img src='https://raw.githubusercontent.com/jangrae/img/master/practice_30.png' width=120 align=\"left\"/>"
   ]
  },
  {
   "cell_type": "markdown",
   "metadata": {
    "id": "-Q-QUmOHoc7S"
   },
   "source": [
    "[문1] 다음 요구사항에 맞게 순서대로 구문을 작성하고 확인하세요.\n",
    "\n",
    "- 1-1) pandas 라이브러리를 pd 별칭을 주어 불러오세요.\n",
    "- 1-2) 다음 경로의 파일들을 불러와 **pop01, pop02, pop03** 데이터프레임을 만드세요.\n",
    "    - 단, read_csv() 함수 사용시  index_col='year' 옵션을 지정하세요.\n",
    "    - 파일 경로: 'https://raw.githubusercontent.com/Jangrae/csv/master/seoul_pop_h01.csv'    \n",
    "    - 파일 경로: 'https://raw.githubusercontent.com/Jangrae/csv/master/seoul_pop_h02.csv'\n",
    "    - 파일 경로: 'https://raw.githubusercontent.com/Jangrae/csv/master/seoul_pop_h03.csv'\n",
    "- 1-3) 세 개의 데이터프레임을 outer 방식으로 연결해 **pop** 데이터프레임을 만드세요.\n",
    "- 1-4) pop 데이터프레임 인덱스를 초기화 하세요. 단 기존 인덱스 값을 버리지 마세요."
   ]
  },
  {
   "cell_type": "code",
   "execution_count": null,
   "metadata": {
    "id": "GYRlfaUSoc7S"
   },
   "outputs": [],
   "source": [
    "# 1-1) 라이브러리 불러오기\n",
    "\n",
    "\n",
    "# 1-2) 데이터 읽어오기\n",
    "# pop01\n",
    "\n",
    "\n",
    "\n",
    "# pop02\n",
    "\n",
    "\n",
    "\n",
    "# pop03\n",
    "\n",
    "\n",
    "\n",
    "# 1-3) 데이터프레임 연결\n",
    "\n",
    "\n",
    "# 1-4) 인덱스 초기화\n"
   ]
  },
  {
   "cell_type": "markdown",
   "metadata": {
    "id": "EWP9TGkEoc7S"
   },
   "source": [
    "[문2] pop 데이터프레임 상위 10개 행을 확인하세요."
   ]
  },
  {
   "cell_type": "code",
   "execution_count": null,
   "metadata": {
    "id": "VRCo_ATeoc7S"
   },
   "outputs": [],
   "source": [
    "# 상위 10개 확인\n"
   ]
  },
  {
   "cell_type": "markdown",
   "metadata": {
    "id": "lkEBQNhC75Nj"
   },
   "source": [
    "[문3] 결측치가 어느 정도 존재하는 지 확인하세요."
   ]
  },
  {
   "cell_type": "code",
   "execution_count": null,
   "metadata": {
    "id": "Agb9g-487zld"
   },
   "outputs": [],
   "source": [
    "# 결측치 확인\n"
   ]
  },
  {
   "cell_type": "markdown",
   "metadata": {
    "id": "G2d9WL1sjDA4"
   },
   "source": [
    "[문4] 모든 결측치는 뒤에 오는 값으로 채우세요."
   ]
  },
  {
   "cell_type": "code",
   "execution_count": null,
   "metadata": {
    "id": "yQ7NKRPcjDA8",
    "scrolled": true
   },
   "outputs": [],
   "source": [
    "# 결측치 채우기\n"
   ]
  },
  {
   "cell_type": "markdown",
   "metadata": {
    "id": "axszLBfc-HoH"
   },
   "source": [
    "[문5] 결측치가 남아 있는지 확인하세요."
   ]
  },
  {
   "cell_type": "code",
   "execution_count": null,
   "metadata": {
    "id": "RWlMOEde-HoQ"
   },
   "outputs": [],
   "source": [
    "# 결측치 확인\n"
   ]
  },
  {
   "cell_type": "markdown",
   "metadata": {
    "id": "C_HPBRxHA56R"
   },
   "source": [
    "[문6] 다음 요구사항에 맞게 순서대로 구문을 작성하고 확인하세요.\n",
    "\n",
    "- 6-1) pandas 라이브러리를 pd 별칭을 주어 불러오세요.\n",
    "- 6-2) 다음 경로의 파일들을 불러와 **pop01, pop02, pop03** 데이터프레임을 만드세요.\n",
    "    - 파일 경로: 'https://raw.githubusercontent.com/Jangrae/csv/master/seoul_pop_h01.csv'    \n",
    "    - 파일 경로: 'https://raw.githubusercontent.com/Jangrae/csv/master/seoul_pop_h02.csv'\n",
    "    - 파일 경로: 'https://raw.githubusercontent.com/Jangrae/csv/master/seoul_pop_h03.csv'\n",
    "- 6-3) 세 개의 데이터프레임을 inner 방식으로 **조인(merge)**해 **pop** 데이터프레임을 만드세요."
   ]
  },
  {
   "cell_type": "code",
   "execution_count": null,
   "metadata": {
    "id": "914EtI97A56Y"
   },
   "outputs": [],
   "source": [
    "# 6-1) 라이브러리 불러오기\n",
    "\n",
    "\n",
    "# 6-2) 데이터 읽어오기\n",
    "# pop01\n",
    "\n",
    "\n",
    "\n",
    "# pop02\n",
    "\n",
    "\n",
    "\n",
    "# pop03\n",
    "\n",
    "\n",
    "\n",
    "# 6-3) 데이터프레임 조인\n",
    "\n"
   ]
  },
  {
   "cell_type": "markdown",
   "metadata": {
    "id": "V0-wQmv0vNr4"
   },
   "source": [
    "[문7] pop 데이터프레임 상위 10개 행을 확인하세요."
   ]
  },
  {
   "cell_type": "code",
   "execution_count": null,
   "metadata": {
    "id": "pBM99bMivNr6"
   },
   "outputs": [],
   "source": [
    "# 상위 10개 확인\n"
   ]
  },
  {
   "cell_type": "markdown",
   "metadata": {
    "id": "QfgvRcTvEIfQ"
   },
   "source": [
    "[문8] 다음 요구사항에 맞게 순서대로 구문을 작성하고 확인하세요.\n",
    "\n",
    "- 8-1) 다음 공식에 따라 pop 데이터프레임에 k_total, f_total, male, female, total 열을 추가하세요.\n",
    "    - k_total = k_male + k_female\n",
    "    - f_total = f_male + f_female\n",
    "    - male = k_male + f_male\n",
    "    - female = k_female + f_female\n",
    "    - total = k_total + f_total\n",
    "- 8-2) year, total, male, female 열만 추출해 pop_sum 데이터프레임을 선언하세요.\n",
    "- 8-3) pop_sum 데이터프레임 상위 10개 행을 조회하세요."
   ]
  },
  {
   "cell_type": "code",
   "execution_count": null,
   "metadata": {
    "id": "_2UJfoL4Deyq"
   },
   "outputs": [],
   "source": [
    "# 8-1) 열 추가\n",
    "\n",
    "\n",
    "\n",
    "\n",
    "\n",
    "\n",
    "# 8-2) 대표열 선택\n",
    "\n",
    "\n",
    "# 8-3) 확인\n"
   ]
  },
  {
   "cell_type": "markdown",
   "metadata": {
    "id": "ndBXaJbWoc7T"
   },
   "source": [
    "<img src='https://raw.githubusercontent.com/jangrae/img/master/practice_30e.png' width=45 align=\"left\"/>"
   ]
  }
 ],
 "metadata": {
  "colab": {
   "provenance": []
  },
  "kernelspec": {
   "display_name": "Python 3 (ipykernel)",
   "language": "python",
   "name": "python3"
  },
  "language_info": {
   "codemirror_mode": {
    "name": "ipython",
    "version": 3
   },
   "file_extension": ".py",
   "mimetype": "text/x-python",
   "name": "python",
   "nbconvert_exporter": "python",
   "pygments_lexer": "ipython3",
   "version": "3.13.5"
  }
 },
 "nbformat": 4,
 "nbformat_minor": 4
}
