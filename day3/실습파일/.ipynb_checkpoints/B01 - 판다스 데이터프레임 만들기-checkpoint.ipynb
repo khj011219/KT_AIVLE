{
 "cells": [
  {
   "cell_type": "markdown",
   "metadata": {
    "id": "BFhIXgdYoYGp"
   },
   "source": [
    "<center><img src='https://raw.githubusercontent.com/Jangrae/img/master/title.png' width=500/></center>"
   ]
  },
  {
   "cell_type": "markdown",
   "metadata": {
    "id": "eYB1ZQpI7_sC"
   },
   "source": [
    "# 1.데이터프레임 만들기"
   ]
  },
  {
   "cell_type": "markdown",
   "metadata": {
    "id": "qbRryf889VCF"
   },
   "source": [
    "## 1.1.데이터프레임 이해"
   ]
  },
  {
   "cell_type": "markdown",
   "metadata": {
    "id": "gu7wwR069iwY"
   },
   "source": [
    "### 1.1.1.데이터프레임이란\n",
    "\n",
    "\n",
    "- Pandas 사용 목적이 데이터프레임을 사용하기 위한 목적으로 봐도 됩니다.\n",
    "- 데이터를 처리, 조회, 분석하는 가장 효율적인 방법이 데이터프레임을 사용하는 것입니다.\n",
    "- 일반적으로 접하게 되는 **테이블** 형태, **엑셀** 형태로 생각하시면 됩니다.\n",
    "- 직접 만들 수 있으나 보통은 **csv 파일**, **엑셀 파일** 또는 DB에서 읽어옵니다.\n",
    "- 다음은 자동차 연비에 대한 데이터 셋입니다.\n",
    "- 이 데이터를 리스트나 딕셔너리 또는 배열 형태로는 저장할 수 없습니다.\n",
    "- 데이터프레임 형태로 저장해 처리(변경또는 분석 등) 해야 합니다."
   ]
  },
  {
   "cell_type": "markdown",
   "metadata": {
    "id": "VNBn3rh_7_sH"
   },
   "source": [
    "<img src='https://raw.githubusercontent.com/Jangrae/img/master/dataframe_sample.png' width=800 align=\"left\"/>"
   ]
  },
  {
   "cell_type": "markdown",
   "metadata": {
    "id": "9l6NOVnS9rZW"
   },
   "source": [
    "### 1.1.2.데이터프레임 형태\n",
    "\n",
    "- 데이터프레임은 인덱스(=행 이름)와 열 이름이 있고 없고에 따라 다른 형태를 갖습니다.\n",
    "- 인덱스란 행을 특정지어 조회할 때, 열 이름은 열을 특정지어 조회할 때 사용하는 정보입니다."
   ]
  },
  {
   "cell_type": "markdown",
   "metadata": {
    "id": "zYkod1OZ-KDD"
   },
   "source": [
    "<img src='https://raw.githubusercontent.com/Jangrae/img/master/dataframe05.png' width=450 align=\"left\"/>"
   ]
  },
  {
   "cell_type": "markdown",
   "metadata": {
    "id": "o3tnJLJn_E0R"
   },
   "source": [
    "**1) 인덱스와 열 이름이 없는 형태**\n",
    "\n",
    "- 우선 인덱스와 열 이름이 없는 데이터프레임 형태입니다.\n",
    "- 열 이름이 없는 데이터프레임은 실무에서는 자주 볼 수 없을 것입니다."
   ]
  },
  {
   "cell_type": "markdown",
   "metadata": {
    "id": "y0YXQ9HX-pQe"
   },
   "source": [
    "<img src='https://raw.githubusercontent.com/Jangrae/img/master/dataframe01.png' width=380 align=\"left\"/>"
   ]
  },
  {
   "cell_type": "markdown",
   "metadata": {
    "id": "IeTHxeOH_Lmy"
   },
   "source": [
    "**2) 열 이름을 지정한 형태**\n",
    "\n",
    "- 열 이름만 지정한 데이터프레임 형태입니다.\n",
    "- 특별히 인덱스를 지정할 필요가 없는 경우가 많으므로 자주 보게 되는 형태입니다."
   ]
  },
  {
   "cell_type": "markdown",
   "metadata": {
    "id": "mgNuAxJT-wGE"
   },
   "source": [
    "<img src='https://raw.githubusercontent.com/Jangrae/img/master/dataframe02.png' width=380 align=\"left\"/>"
   ]
  },
  {
   "cell_type": "markdown",
   "metadata": {
    "id": "hOCC_U1w_Qnc"
   },
   "source": [
    "**3) 인덱스와 열 이름을 지정한 형태**\n",
    "\n",
    "- 인덱스와 열 이름 모두를 지정한 데이터프레임 형태입니다.\n",
    "- 주식 시세와 같은 날짜가 인덱스로 지정되는 경우가 많습니다."
   ]
  },
  {
   "cell_type": "markdown",
   "metadata": {
    "id": "uq7TmduU-x5i"
   },
   "source": [
    "<img src='https://raw.githubusercontent.com/Jangrae/img/master/dataframe03.png' width=350 align=\"left\"/>"
   ]
  },
  {
   "cell_type": "markdown",
   "metadata": {
    "id": "ETVUejBgIJNL"
   },
   "source": [
    "## 1.2.데이터프레임 직접 만들기\n",
    "\n",
    "- **pd.DataFrame()** 함수를 사용해 데이터프레임을 직접 만들 수 있습니다.\n",
    "- 대부분 리스트, 딕셔너리, Numpy 배열로부터 데이터프레임을 만듭니다.\n",
    "- 데이터프레임을 만들기 위해서는 다음 세 가지를 위한 데이터가 필요합니다.\n",
    "    - 데이터\n",
    "    - 열 이름\n",
    "    - 인덱스 이름\n",
    "- 열 이름을 지정하지 않으면 **열 번호**에 기반한 정수(0, 1, 2...)가 열 이름이 됩니다.\n",
    "- 인덱스 이름을 지정하지 않으면 **행 번호**에 기반한 정수(0, 1, 2...)가 인덱스 이름이 됩니다.\n",
    "- 머신러닝 모델의 성능 정보 등을 데이터프레임 형태로 분석해야 할 경우가 있으니 잘 알아야 합니다."
   ]
  },
  {
   "cell_type": "markdown",
   "metadata": {
    "id": "U9WxY1vaGooz"
   },
   "source": [
    "### 1.2.1.라이브러리 불러오기\n",
    "\n",
    "- 데이터프레임을 사용하기 위해서 pandas 라이브러리를 **pd** 별칭을 주어 불러옵니다.\n",
    "- pd 대신 다른 별칭을 써도 되지만, 이미 일반적으로 사용하는 pd를 별칭으로 사용합니다."
   ]
  },
  {
   "cell_type": "code",
   "execution_count": 8,
   "metadata": {
    "id": "iyOaNXcnOW6J"
   },
   "outputs": [],
   "source": [
    "# 라이브러리 불러오기\n",
    "import pandas as pd"
   ]
  },
  {
   "cell_type": "markdown",
   "metadata": {
    "id": "r04u5zL5IJNM"
   },
   "source": [
    "### 1.2.2.리스트로  만들기\n",
    "\n",
    "- 인덱스를 지정하지 않으면 행 번호가 인덱스, 열 번호가 열 이름이 됩니다."
   ]
  },
  {
   "cell_type": "code",
   "execution_count": 9,
   "metadata": {
    "id": "5dF7MDMy789A"
   },
   "outputs": [],
   "source": [
    "# 1차원 리스트 만들기\n",
    "stock = [94500, 92100, 92200, 92300]\n",
    "\n",
    "# 데이터프레임 만들기\n",
    "df = pd.DataFrame(stock)"
   ]
  },
  {
   "cell_type": "code",
   "execution_count": 10,
   "metadata": {},
   "outputs": [
    {
     "data": {
      "text/html": [
       "<div>\n",
       "<style scoped>\n",
       "    .dataframe tbody tr th:only-of-type {\n",
       "        vertical-align: middle;\n",
       "    }\n",
       "\n",
       "    .dataframe tbody tr th {\n",
       "        vertical-align: top;\n",
       "    }\n",
       "\n",
       "    .dataframe thead th {\n",
       "        text-align: right;\n",
       "    }\n",
       "</style>\n",
       "<table border=\"1\" class=\"dataframe\">\n",
       "  <thead>\n",
       "    <tr style=\"text-align: right;\">\n",
       "      <th></th>\n",
       "      <th>0</th>\n",
       "    </tr>\n",
       "  </thead>\n",
       "  <tbody>\n",
       "    <tr>\n",
       "      <th>0</th>\n",
       "      <td>94500</td>\n",
       "    </tr>\n",
       "    <tr>\n",
       "      <th>1</th>\n",
       "      <td>92100</td>\n",
       "    </tr>\n",
       "    <tr>\n",
       "      <th>2</th>\n",
       "      <td>92200</td>\n",
       "    </tr>\n",
       "    <tr>\n",
       "      <th>3</th>\n",
       "      <td>92300</td>\n",
       "    </tr>\n",
       "  </tbody>\n",
       "</table>\n",
       "</div>"
      ],
      "text/plain": [
       "       0\n",
       "0  94500\n",
       "1  92100\n",
       "2  92200\n",
       "3  92300"
      ]
     },
     "execution_count": 10,
     "metadata": {},
     "output_type": "execute_result"
    }
   ],
   "source": [
    "df"
   ]
  },
  {
   "cell_type": "code",
   "execution_count": 12,
   "metadata": {
    "id": "Bp8Njd58oDUB"
   },
   "outputs": [
    {
     "data": {
      "text/html": [
       "<div>\n",
       "<style scoped>\n",
       "    .dataframe tbody tr th:only-of-type {\n",
       "        vertical-align: middle;\n",
       "    }\n",
       "\n",
       "    .dataframe tbody tr th {\n",
       "        vertical-align: top;\n",
       "    }\n",
       "\n",
       "    .dataframe thead th {\n",
       "        text-align: right;\n",
       "    }\n",
       "</style>\n",
       "<table border=\"1\" class=\"dataframe\">\n",
       "  <thead>\n",
       "    <tr style=\"text-align: right;\">\n",
       "      <th></th>\n",
       "      <th>0</th>\n",
       "      <th>1</th>\n",
       "      <th>2</th>\n",
       "      <th>3</th>\n",
       "    </tr>\n",
       "  </thead>\n",
       "  <tbody>\n",
       "    <tr>\n",
       "      <th>0</th>\n",
       "      <td>94500</td>\n",
       "      <td>92100</td>\n",
       "      <td>92200</td>\n",
       "      <td>92300</td>\n",
       "    </tr>\n",
       "    <tr>\n",
       "      <th>1</th>\n",
       "      <td>96500</td>\n",
       "      <td>93200</td>\n",
       "      <td>95900</td>\n",
       "      <td>94300</td>\n",
       "    </tr>\n",
       "    <tr>\n",
       "      <th>2</th>\n",
       "      <td>93400</td>\n",
       "      <td>91900</td>\n",
       "      <td>93400</td>\n",
       "      <td>92100</td>\n",
       "    </tr>\n",
       "    <tr>\n",
       "      <th>3</th>\n",
       "      <td>94200</td>\n",
       "      <td>92100</td>\n",
       "      <td>94100</td>\n",
       "      <td>92400</td>\n",
       "    </tr>\n",
       "    <tr>\n",
       "      <th>4</th>\n",
       "      <td>94500</td>\n",
       "      <td>92500</td>\n",
       "      <td>94300</td>\n",
       "      <td>92600</td>\n",
       "    </tr>\n",
       "  </tbody>\n",
       "</table>\n",
       "</div>"
      ],
      "text/plain": [
       "       0      1      2      3\n",
       "0  94500  92100  92200  92300\n",
       "1  96500  93200  95900  94300\n",
       "2  93400  91900  93400  92100\n",
       "3  94200  92100  94100  92400\n",
       "4  94500  92500  94300  92600"
      ]
     },
     "execution_count": 12,
     "metadata": {},
     "output_type": "execute_result"
    }
   ],
   "source": [
    "# 2차원 리스트 만들기\n",
    "stock = [[94500, 92100, 92200, 92300],\n",
    "         [96500, 93200, 95900, 94300],\n",
    "         [93400, 91900, 93400, 92100],\n",
    "         [94200, 92100, 94100, 92400],\n",
    "         [94500, 92500, 94300, 92600]]\n",
    "\n",
    "# 데이터프레임 만들기\n",
    "df = pd.DataFrame(stock)\n",
    "\n",
    "# 확인\n",
    "df.head()"
   ]
  },
  {
   "cell_type": "code",
   "execution_count": 13,
   "metadata": {},
   "outputs": [
    {
     "data": {
      "text/plain": [
       "<Axes: >"
      ]
     },
     "execution_count": 13,
     "metadata": {},
     "output_type": "execute_result"
    },
    {
     "data": {
      "image/png": "[encoded data removed]",
      "text/plain": [
       "<Figure size 640x480 with 1 Axes>"
      ]
     },
     "metadata": {},
     "output_type": "display_data"
    }
   ],
   "source": [
    "df.plot()"
   ]
  },
  {
   "cell_type": "markdown",
   "metadata": {
    "id": "yvPx1jl2IJNT"
   },
   "source": [
    "- 필요하면 인덱스와 열 이름을 별도로 지정할 수 있습니다."
   ]
  },
  {
   "cell_type": "code",
   "execution_count": 19,
   "metadata": {
    "id": "_C8hqRoUAMUe"
   },
   "outputs": [
    {
     "data": {
      "text/html": [
       "<div>\n",
       "<style scoped>\n",
       "    .dataframe tbody tr th:only-of-type {\n",
       "        vertical-align: middle;\n",
       "    }\n",
       "\n",
       "    .dataframe tbody tr th {\n",
       "        vertical-align: top;\n",
       "    }\n",
       "\n",
       "    .dataframe thead th {\n",
       "        text-align: right;\n",
       "    }\n",
       "</style>\n",
       "<table border=\"1\" class=\"dataframe\">\n",
       "  <thead>\n",
       "    <tr style=\"text-align: right;\">\n",
       "      <th></th>\n",
       "      <th>High</th>\n",
       "      <th>Low</th>\n",
       "      <th>Open</th>\n",
       "      <th>Close</th>\n",
       "    </tr>\n",
       "  </thead>\n",
       "  <tbody>\n",
       "    <tr>\n",
       "      <th>2019-02-15</th>\n",
       "      <td>94500</td>\n",
       "      <td>92100</td>\n",
       "      <td>92200</td>\n",
       "      <td>92300</td>\n",
       "    </tr>\n",
       "    <tr>\n",
       "      <th>2019-02-16</th>\n",
       "      <td>96500</td>\n",
       "      <td>93200</td>\n",
       "      <td>95900</td>\n",
       "      <td>94300</td>\n",
       "    </tr>\n",
       "    <tr>\n",
       "      <th>2019-02-17</th>\n",
       "      <td>93400</td>\n",
       "      <td>91900</td>\n",
       "      <td>93400</td>\n",
       "      <td>92100</td>\n",
       "    </tr>\n",
       "    <tr>\n",
       "      <th>2019-02-18</th>\n",
       "      <td>94200</td>\n",
       "      <td>92100</td>\n",
       "      <td>94100</td>\n",
       "      <td>92400</td>\n",
       "    </tr>\n",
       "    <tr>\n",
       "      <th>2019-02-19</th>\n",
       "      <td>94500</td>\n",
       "      <td>92500</td>\n",
       "      <td>94300</td>\n",
       "      <td>92600</td>\n",
       "    </tr>\n",
       "  </tbody>\n",
       "</table>\n",
       "</div>"
      ],
      "text/plain": [
       "             High    Low   Open  Close\n",
       "2019-02-15  94500  92100  92200  92300\n",
       "2019-02-16  96500  93200  95900  94300\n",
       "2019-02-17  93400  91900  93400  92100\n",
       "2019-02-18  94200  92100  94100  92400\n",
       "2019-02-19  94500  92500  94300  92600"
      ]
     },
     "execution_count": 19,
     "metadata": {},
     "output_type": "execute_result"
    }
   ],
   "source": [
    "# 리스트 만들기\n",
    "stock = [[94500, 92100, 92200, 92300],\n",
    "         [96500, 93200, 95900, 94300],\n",
    "         [93400, 91900, 93400, 92100],\n",
    "         [94200, 92100, 94100, 92400],\n",
    "         [94500, 92500, 94300, 92600]]\n",
    "dates = ['2019-02-15', '2019-02-16', '2019-02-17', '2019-02-18', '2019-02-19']\n",
    "names = ['High', 'Low', 'Open', 'Close']\n",
    "\n",
    "# 데이터프레임 만들기\n",
    "df = pd.DataFrame(stock, index=dates, columns=names)\n",
    "\n",
    "# 확인\n",
    "df.head()"
   ]
  },
  {
   "cell_type": "code",
   "execution_count": 21,
   "metadata": {},
   "outputs": [
    {
     "data": {
      "text/html": [
       "<div>\n",
       "<style scoped>\n",
       "    .dataframe tbody tr th:only-of-type {\n",
       "        vertical-align: middle;\n",
       "    }\n",
       "\n",
       "    .dataframe tbody tr th {\n",
       "        vertical-align: top;\n",
       "    }\n",
       "\n",
       "    .dataframe thead th {\n",
       "        text-align: right;\n",
       "    }\n",
       "</style>\n",
       "<table border=\"1\" class=\"dataframe\">\n",
       "  <thead>\n",
       "    <tr style=\"text-align: right;\">\n",
       "      <th></th>\n",
       "      <th>High</th>\n",
       "      <th>Low</th>\n",
       "      <th>Open</th>\n",
       "      <th>Close</th>\n",
       "    </tr>\n",
       "  </thead>\n",
       "  <tbody>\n",
       "    <tr>\n",
       "      <th>2019-02-18</th>\n",
       "      <td>94200</td>\n",
       "      <td>92100</td>\n",
       "      <td>94100</td>\n",
       "      <td>92400</td>\n",
       "    </tr>\n",
       "    <tr>\n",
       "      <th>2019-02-19</th>\n",
       "      <td>94500</td>\n",
       "      <td>92500</td>\n",
       "      <td>94300</td>\n",
       "      <td>92600</td>\n",
       "    </tr>\n",
       "  </tbody>\n",
       "</table>\n",
       "</div>"
      ],
      "text/plain": [
       "             High    Low   Open  Close\n",
       "2019-02-18  94200  92100  94100  92400\n",
       "2019-02-19  94500  92500  94300  92600"
      ]
     },
     "execution_count": 21,
     "metadata": {},
     "output_type": "execute_result"
    }
   ],
   "source": [
    "df.tail(2)"
   ]
  },
  {
   "cell_type": "markdown",
   "metadata": {
    "id": "OAikNLPcIJNm"
   },
   "source": [
    "### 1.2.3.딕셔너리로 만들기\n",
    "\n",
    "- 딕셔너리로 데이터프레임을 만들면 딕셔너리의 **키**가 **열 이름**이 됩니다.\n",
    "- 인덱스를 지정하지 않으면 행 번호가 인덱스가 됩니다."
   ]
  },
  {
   "cell_type": "code",
   "execution_count": 15,
   "metadata": {
    "id": "6LkPm72OYnVU"
   },
   "outputs": [
    {
     "data": {
      "text/plain": [
       "{'Name': ['Gildong', 'Sarang', 'Jiemae', 'Yeoin'],\n",
       " 'Level': ['Gold', 'Bronze', 'Silver', 'Gold'],\n",
       " 'Score': [56000, 23000, 44000, 52000]}"
      ]
     },
     "execution_count": 15,
     "metadata": {},
     "output_type": "execute_result"
    }
   ],
   "source": [
    "# 딕셔너리 만들기\n",
    "cust = {'Name': ['Gildong', 'Sarang', 'Jiemae', 'Yeoin'],\n",
    "        'Level': ['Gold', 'Bronze', 'Silver', 'Gold'],\n",
    "        'Score': [56000, 23000, 44000, 52000]}\n",
    "\n",
    "# 확인\n",
    "cust"
   ]
  },
  {
   "cell_type": "code",
   "execution_count": 16,
   "metadata": {
    "id": "zxpku5yMOW6u",
    "scrolled": true
   },
   "outputs": [
    {
     "data": {
      "text/html": [
       "<div>\n",
       "<style scoped>\n",
       "    .dataframe tbody tr th:only-of-type {\n",
       "        vertical-align: middle;\n",
       "    }\n",
       "\n",
       "    .dataframe tbody tr th {\n",
       "        vertical-align: top;\n",
       "    }\n",
       "\n",
       "    .dataframe thead th {\n",
       "        text-align: right;\n",
       "    }\n",
       "</style>\n",
       "<table border=\"1\" class=\"dataframe\">\n",
       "  <thead>\n",
       "    <tr style=\"text-align: right;\">\n",
       "      <th></th>\n",
       "      <th>Name</th>\n",
       "      <th>Level</th>\n",
       "      <th>Score</th>\n",
       "    </tr>\n",
       "  </thead>\n",
       "  <tbody>\n",
       "    <tr>\n",
       "      <th>0</th>\n",
       "      <td>Gildong</td>\n",
       "      <td>Gold</td>\n",
       "      <td>56000</td>\n",
       "    </tr>\n",
       "    <tr>\n",
       "      <th>1</th>\n",
       "      <td>Sarang</td>\n",
       "      <td>Bronze</td>\n",
       "      <td>23000</td>\n",
       "    </tr>\n",
       "    <tr>\n",
       "      <th>2</th>\n",
       "      <td>Jiemae</td>\n",
       "      <td>Silver</td>\n",
       "      <td>44000</td>\n",
       "    </tr>\n",
       "    <tr>\n",
       "      <th>3</th>\n",
       "      <td>Yeoin</td>\n",
       "      <td>Gold</td>\n",
       "      <td>52000</td>\n",
       "    </tr>\n",
       "  </tbody>\n",
       "</table>\n",
       "</div>"
      ],
      "text/plain": [
       "      Name   Level  Score\n",
       "0  Gildong    Gold  56000\n",
       "1   Sarang  Bronze  23000\n",
       "2   Jiemae  Silver  44000\n",
       "3    Yeoin    Gold  52000"
      ]
     },
     "execution_count": 16,
     "metadata": {},
     "output_type": "execute_result"
    }
   ],
   "source": [
    "# 데이터프레임 만들기\n",
    "df = pd.DataFrame(cust)\n",
    "\n",
    "# 확인\n",
    "df.head()"
   ]
  },
  {
   "cell_type": "markdown",
   "metadata": {
    "id": "cQv7wUpVIJNu"
   },
   "source": [
    "- 필요하면 인덱스를 별도로 지정할 수 있습니다."
   ]
  },
  {
   "cell_type": "code",
   "execution_count": 17,
   "metadata": {
    "id": "tVcRYGYbIJNu",
    "scrolled": true
   },
   "outputs": [
    {
     "data": {
      "text/html": [
       "<div>\n",
       "<style scoped>\n",
       "    .dataframe tbody tr th:only-of-type {\n",
       "        vertical-align: middle;\n",
       "    }\n",
       "\n",
       "    .dataframe tbody tr th {\n",
       "        vertical-align: top;\n",
       "    }\n",
       "\n",
       "    .dataframe thead th {\n",
       "        text-align: right;\n",
       "    }\n",
       "</style>\n",
       "<table border=\"1\" class=\"dataframe\">\n",
       "  <thead>\n",
       "    <tr style=\"text-align: right;\">\n",
       "      <th></th>\n",
       "      <th>Name</th>\n",
       "      <th>Level</th>\n",
       "      <th>Score</th>\n",
       "    </tr>\n",
       "  </thead>\n",
       "  <tbody>\n",
       "    <tr>\n",
       "      <th>C0001</th>\n",
       "      <td>Gildong</td>\n",
       "      <td>Gold</td>\n",
       "      <td>56000</td>\n",
       "    </tr>\n",
       "    <tr>\n",
       "      <th>C0002</th>\n",
       "      <td>Sarang</td>\n",
       "      <td>Bronze</td>\n",
       "      <td>23000</td>\n",
       "    </tr>\n",
       "    <tr>\n",
       "      <th>C0003</th>\n",
       "      <td>Jiemae</td>\n",
       "      <td>Silver</td>\n",
       "      <td>44000</td>\n",
       "    </tr>\n",
       "    <tr>\n",
       "      <th>C0004</th>\n",
       "      <td>Yeoin</td>\n",
       "      <td>Gold</td>\n",
       "      <td>52000</td>\n",
       "    </tr>\n",
       "  </tbody>\n",
       "</table>\n",
       "</div>"
      ],
      "text/plain": [
       "          Name   Level  Score\n",
       "C0001  Gildong    Gold  56000\n",
       "C0002   Sarang  Bronze  23000\n",
       "C0003   Jiemae  Silver  44000\n",
       "C0004    Yeoin    Gold  52000"
      ]
     },
     "execution_count": 17,
     "metadata": {},
     "output_type": "execute_result"
    }
   ],
   "source": [
    "# 딕셔너리 만들기\n",
    "cust = {'Name': ['Gildong', 'Sarang', 'Jiemae', 'Yeoin'],\n",
    "        'Level': ['Gold', 'Bronze', 'Silver', 'Gold'],\n",
    "        'Score': [56000, 23000, 44000, 52000]}\n",
    "\n",
    "# 데이터프레임 만들기(인덱스 지정함)\n",
    "df = pd.DataFrame(cust, index=['C0001', 'C0002', 'C0003', 'C0004'])\n",
    "\n",
    "# 확인\n",
    "df.head()"
   ]
  },
  {
   "cell_type": "markdown",
   "metadata": {
    "id": "mHrKYYWip4Es"
   },
   "source": [
    "<img src='https://raw.githubusercontent.com/jangrae/img/master/practice_20.png' width=120 align=\"left\"/>"
   ]
  },
  {
   "cell_type": "markdown",
   "metadata": {
    "id": "zOc0Cz-C89nI"
   },
   "source": [
    "[문1] 아래 주어진 리스트들을 사용해 score 데이터프레임을 만들고 확인하세요."
   ]
  },
  {
   "cell_type": "code",
   "execution_count": 22,
   "metadata": {
    "id": "dwA8ygir89nL"
   },
   "outputs": [
    {
     "data": {
      "text/html": [
       "<div>\n",
       "<style scoped>\n",
       "    .dataframe tbody tr th:only-of-type {\n",
       "        vertical-align: middle;\n",
       "    }\n",
       "\n",
       "    .dataframe tbody tr th {\n",
       "        vertical-align: top;\n",
       "    }\n",
       "\n",
       "    .dataframe thead th {\n",
       "        text-align: right;\n",
       "    }\n",
       "</style>\n",
       "<table border=\"1\" class=\"dataframe\">\n",
       "  <thead>\n",
       "    <tr style=\"text-align: right;\">\n",
       "      <th></th>\n",
       "      <th>Korean</th>\n",
       "      <th>English</th>\n",
       "      <th>Math</th>\n",
       "      <th>Science</th>\n",
       "      <th>History</th>\n",
       "    </tr>\n",
       "  </thead>\n",
       "  <tbody>\n",
       "    <tr>\n",
       "      <th>Gildong</th>\n",
       "      <td>80</td>\n",
       "      <td>75</td>\n",
       "      <td>100</td>\n",
       "      <td>90</td>\n",
       "      <td>80</td>\n",
       "    </tr>\n",
       "    <tr>\n",
       "      <th>Sarang</th>\n",
       "      <td>85</td>\n",
       "      <td>70</td>\n",
       "      <td>80</td>\n",
       "      <td>95</td>\n",
       "      <td>90</td>\n",
       "    </tr>\n",
       "    <tr>\n",
       "      <th>Jiemae</th>\n",
       "      <td>75</td>\n",
       "      <td>80</td>\n",
       "      <td>85</td>\n",
       "      <td>90</td>\n",
       "      <td>90</td>\n",
       "    </tr>\n",
       "    <tr>\n",
       "      <th>Yeoin</th>\n",
       "      <td>85</td>\n",
       "      <td>65</td>\n",
       "      <td>85</td>\n",
       "      <td>75</td>\n",
       "      <td>70</td>\n",
       "    </tr>\n",
       "    <tr>\n",
       "      <th>Woodong</th>\n",
       "      <td>70</td>\n",
       "      <td>85</td>\n",
       "      <td>90</td>\n",
       "      <td>85</td>\n",
       "      <td>95</td>\n",
       "    </tr>\n",
       "  </tbody>\n",
       "</table>\n",
       "</div>"
      ],
      "text/plain": [
       "         Korean  English  Math  Science  History\n",
       "Gildong      80       75   100       90       80\n",
       "Sarang       85       70    80       95       90\n",
       "Jiemae       75       80    85       90       90\n",
       "Yeoin        85       65    85       75       70\n",
       "Woodong      70       85    90       85       95"
      ]
     },
     "execution_count": 22,
     "metadata": {},
     "output_type": "execute_result"
    }
   ],
   "source": [
    "# 리스트 만들기\n",
    "list_score = [[80, 75, 100, 90, 80],\n",
    "              [85, 70,  80, 95, 90],\n",
    "              [75, 80,  85, 90, 90],\n",
    "              [85, 65,  85, 75, 70],\n",
    "              [70, 85,  90, 85, 95]]\n",
    "\n",
    "# 인덱스\n",
    "list_index = ['Gildong', 'Sarang', 'Jiemae', 'Yeoin', 'Woodong']\n",
    "\n",
    "# 열이름\n",
    "list_col = ['Korean', 'English', 'Math', 'Science', 'History']\n",
    "\n",
    "# 데이터프레임 만들기\n",
    "score = pd.DataFrame(list_score, list_index, list_col)\n",
    "\n",
    "\n",
    "# 확인\n",
    "score.head()"
   ]
  },
  {
   "cell_type": "markdown",
   "metadata": {
    "id": "VTlu-bdSfMYw"
   },
   "source": [
    "<img src='https://raw.githubusercontent.com/jangrae/img/master/practice_20e.png' width=45 align=\"left\"/>"
   ]
  },
  {
   "cell_type": "markdown",
   "metadata": {
    "id": "zGDF1AkjIJOX"
   },
   "source": [
    "## 1.3.CSV파일 읽어오기\n",
    "\n",
    "- 분석용 데이터는 대부분 파일에서 읽어 가져오니 잘 익혀야 할 기능입니다.\n",
    "- **read_csv()** 함수를 사용해서 CSV 파일에서 데이터를 읽어옵니다."
   ]
  },
  {
   "cell_type": "markdown",
   "metadata": {
    "id": "bB26vSfGLJwX"
   },
   "source": [
    "**[주요옵션]**\n",
    "- sep: 구분자 지정(기본값 = 콤마)\n",
    "- header: 헤더가 될 행 번호 지정(기본값 = 0)\n",
    "- index_col: 인덱스 열 지정(기본값 = False)\n",
    "- names: 열 이름으로 사용할 문자열 리스트\n",
    "- skiprows: 처음 몇 줄을 무시할 것인지 지정, 리스트로 지정 가능\n",
    "- encoding: 인코딩 방식을 지정\n",
    "\n",
    "**[참고]**\n",
    "\n",
    "한글이 포함된 파일을 읽을 때 다음과 같은 encoding 오류가 발생하면 encoding='CP949'로 지정\n",
    "\n",
    "UnicodeDecodeError: 'utf-8' codec can't decode byte 0xb1 in position 0: invalid start byte"
   ]
  },
  {
   "cell_type": "markdown",
   "metadata": {
    "id": "tBiPJrpmJ7Ys"
   },
   "source": [
    "**[pop_simple 데이터 셋 정보]**\n",
    "\n",
    "- year: 연도\n",
    "- household: 가구 수\n",
    "- k_male: 한국인 남자\n",
    "- k_female: 한국인 여자\n",
    "- f_male: 외국인 남자\n",
    "- f_female: 외국인 여자"
   ]
  },
  {
   "cell_type": "code",
   "execution_count": 52,
   "metadata": {
    "id": "DIY8NYXGIJOZ",
    "scrolled": true
   },
   "outputs": [
    {
     "data": {
      "text/html": [
       "<div>\n",
       "<style scoped>\n",
       "    .dataframe tbody tr th:only-of-type {\n",
       "        vertical-align: middle;\n",
       "    }\n",
       "\n",
       "    .dataframe tbody tr th {\n",
       "        vertical-align: top;\n",
       "    }\n",
       "\n",
       "    .dataframe thead th {\n",
       "        text-align: right;\n",
       "    }\n",
       "</style>\n",
       "<table border=\"1\" class=\"dataframe\">\n",
       "  <thead>\n",
       "    <tr style=\"text-align: right;\">\n",
       "      <th></th>\n",
       "      <th>year</th>\n",
       "      <th>household</th>\n",
       "      <th>k_male</th>\n",
       "      <th>k_female</th>\n",
       "      <th>f_male</th>\n",
       "      <th>f_female</th>\n",
       "    </tr>\n",
       "  </thead>\n",
       "  <tbody>\n",
       "    <tr>\n",
       "      <th>0</th>\n",
       "      <td>1981</td>\n",
       "      <td>1915</td>\n",
       "      <td>4160</td>\n",
       "      <td>4191</td>\n",
       "      <td>NaN</td>\n",
       "      <td>NaN</td>\n",
       "    </tr>\n",
       "    <tr>\n",
       "      <th>1</th>\n",
       "      <td>1982</td>\n",
       "      <td>2001</td>\n",
       "      <td>4160</td>\n",
       "      <td>4191</td>\n",
       "      <td>NaN</td>\n",
       "      <td>NaN</td>\n",
       "    </tr>\n",
       "    <tr>\n",
       "      <th>2</th>\n",
       "      <td>1983</td>\n",
       "      <td>2116</td>\n",
       "      <td>4160</td>\n",
       "      <td>4191</td>\n",
       "      <td>NaN</td>\n",
       "      <td>NaN</td>\n",
       "    </tr>\n",
       "    <tr>\n",
       "      <th>3</th>\n",
       "      <td>1984</td>\n",
       "      <td>2246</td>\n",
       "      <td>4160</td>\n",
       "      <td>4191</td>\n",
       "      <td>NaN</td>\n",
       "      <td>NaN</td>\n",
       "    </tr>\n",
       "    <tr>\n",
       "      <th>4</th>\n",
       "      <td>1985</td>\n",
       "      <td>2338</td>\n",
       "      <td>4788</td>\n",
       "      <td>4838</td>\n",
       "      <td>7.0</td>\n",
       "      <td>6.0</td>\n",
       "    </tr>\n",
       "  </tbody>\n",
       "</table>\n",
       "</div>"
      ],
      "text/plain": [
       "   year  household  k_male  k_female  f_male  f_female\n",
       "0  1981       1915    4160      4191     NaN       NaN\n",
       "1  1982       2001    4160      4191     NaN       NaN\n",
       "2  1983       2116    4160      4191     NaN       NaN\n",
       "3  1984       2246    4160      4191     NaN       NaN\n",
       "4  1985       2338    4788      4838     7.0       6.0"
      ]
     },
     "execution_count": 52,
     "metadata": {},
     "output_type": "execute_result"
    }
   ],
   "source": [
    "# 데이터 읽어오기\n",
    "path = 'https://raw.githubusercontent.com/Jangrae/csv/master/pop_simple.csv'\n",
    "pop = pd.read_csv(path)\n",
    "\n",
    "# 상위 10행만 확인\n",
    "pop.head()"
   ]
  },
  {
   "cell_type": "markdown",
   "metadata": {
    "id": "xSWBmU_Yeu5A"
   },
   "source": [
    "<img src='https://raw.githubusercontent.com/jangrae/img/master/practice_20.png' width=120 align=\"left\"/>"
   ]
  },
  {
   "cell_type": "markdown",
   "metadata": {
    "id": "5eXsOBxDqcoP"
   },
   "source": [
    "[문1] 아래 주어진 경로의 파일에서 데이터를 읽어와 데이터프레임 temp를 만들어 보세요.\n",
    "\n",
    "- 파일 경로: 'https://raw.githubusercontent.com/Jangrae/csv/master/weather_simple.csv'"
   ]
  },
  {
   "cell_type": "markdown",
   "metadata": {
    "id": "155flcV-LNEC"
   },
   "source": [
    "**[weather_simple 데이터 셋 정보]**\n",
    "\n",
    "- month: 년월\n",
    "- temp: 평균 기온\n",
    "- max_temp: 평균 최고 기온\n",
    "- ext_max_temp: 극점 최고 기온\n",
    "- min_temp: 평균 최저 기온\n",
    "- ext_min_temp: 극점 최저 기온"
   ]
  },
  {
   "cell_type": "code",
   "execution_count": 43,
   "metadata": {
    "id": "Oa9sLGQ8IJOb",
    "scrolled": true
   },
   "outputs": [
    {
     "name": "stdout",
     "output_type": "stream",
     "text": [
      "<class 'pandas.core.frame.DataFrame'>\n",
      "RangeIndex: 240 entries, 0 to 239\n",
      "Data columns (total 6 columns):\n",
      " #   Column        Non-Null Count  Dtype  \n",
      "---  ------        --------------  -----  \n",
      " 0   month         240 non-null    object \n",
      " 1   temp          240 non-null    float64\n",
      " 2   max_temp      240 non-null    float64\n",
      " 3   ext_max_temp  240 non-null    float64\n",
      " 4   min_temp      240 non-null    float64\n",
      " 5   ext_min_temp  240 non-null    float64\n",
      "dtypes: float64(5), object(1)\n",
      "memory usage: 11.4+ KB\n"
     ]
    }
   ],
   "source": [
    "# 데이터 읽어오기\n",
    "temp = pd.read_csv('https://raw.githubusercontent.com/Jangrae/csv/master/weather_simple.csv')\n",
    "\n",
    "\n",
    "# 상위 5개 확인A\n",
    "temp.info()"
   ]
  },
  {
   "cell_type": "markdown",
   "metadata": {},
   "source": [
    "## 참고: 로컬파일 다루기"
   ]
  },
  {
   "cell_type": "code",
   "execution_count": 45,
   "metadata": {
    "jp-MarkdownHeadingCollapsed": true
   },
   "outputs": [],
   "source": [
    "#로컬 파일로 저장\n",
    "temp.to_csv('temp.csv', index = False)"
   ]
  },
  {
   "cell_type": "code",
   "execution_count": 47,
   "metadata": {},
   "outputs": [
    {
     "data": {
      "text/html": [
       "<div>\n",
       "<style scoped>\n",
       "    .dataframe tbody tr th:only-of-type {\n",
       "        vertical-align: middle;\n",
       "    }\n",
       "\n",
       "    .dataframe tbody tr th {\n",
       "        vertical-align: top;\n",
       "    }\n",
       "\n",
       "    .dataframe thead th {\n",
       "        text-align: right;\n",
       "    }\n",
       "</style>\n",
       "<table border=\"1\" class=\"dataframe\">\n",
       "  <thead>\n",
       "    <tr style=\"text-align: right;\">\n",
       "      <th></th>\n",
       "      <th>month</th>\n",
       "      <th>temp</th>\n",
       "      <th>max_temp</th>\n",
       "      <th>ext_max_temp</th>\n",
       "      <th>min_temp</th>\n",
       "      <th>ext_min_temp</th>\n",
       "    </tr>\n",
       "  </thead>\n",
       "  <tbody>\n",
       "    <tr>\n",
       "      <th>0</th>\n",
       "      <td>2005-01</td>\n",
       "      <td>-2.5</td>\n",
       "      <td>1.5</td>\n",
       "      <td>7.3</td>\n",
       "      <td>-6.2</td>\n",
       "      <td>-11.0</td>\n",
       "    </tr>\n",
       "    <tr>\n",
       "      <th>1</th>\n",
       "      <td>2005-02</td>\n",
       "      <td>-1.9</td>\n",
       "      <td>2.2</td>\n",
       "      <td>10.5</td>\n",
       "      <td>-5.5</td>\n",
       "      <td>-13.1</td>\n",
       "    </tr>\n",
       "    <tr>\n",
       "      <th>2</th>\n",
       "      <td>2005-03</td>\n",
       "      <td>4.1</td>\n",
       "      <td>8.8</td>\n",
       "      <td>17.6</td>\n",
       "      <td>0.2</td>\n",
       "      <td>-6.5</td>\n",
       "    </tr>\n",
       "    <tr>\n",
       "      <th>3</th>\n",
       "      <td>2005-04</td>\n",
       "      <td>13.2</td>\n",
       "      <td>18.1</td>\n",
       "      <td>29.8</td>\n",
       "      <td>8.9</td>\n",
       "      <td>4.1</td>\n",
       "    </tr>\n",
       "    <tr>\n",
       "      <th>4</th>\n",
       "      <td>2005-05</td>\n",
       "      <td>17.7</td>\n",
       "      <td>22.9</td>\n",
       "      <td>30.2</td>\n",
       "      <td>13.0</td>\n",
       "      <td>6.3</td>\n",
       "    </tr>\n",
       "    <tr>\n",
       "      <th>...</th>\n",
       "      <td>...</td>\n",
       "      <td>...</td>\n",
       "      <td>...</td>\n",
       "      <td>...</td>\n",
       "      <td>...</td>\n",
       "      <td>...</td>\n",
       "    </tr>\n",
       "    <tr>\n",
       "      <th>235</th>\n",
       "      <td>2024-08</td>\n",
       "      <td>29.3</td>\n",
       "      <td>33.3</td>\n",
       "      <td>36.4</td>\n",
       "      <td>26.3</td>\n",
       "      <td>22.6</td>\n",
       "    </tr>\n",
       "    <tr>\n",
       "      <th>236</th>\n",
       "      <td>2024-09</td>\n",
       "      <td>25.5</td>\n",
       "      <td>29.8</td>\n",
       "      <td>34.6</td>\n",
       "      <td>22.0</td>\n",
       "      <td>15.6</td>\n",
       "    </tr>\n",
       "    <tr>\n",
       "      <th>237</th>\n",
       "      <td>2024-10</td>\n",
       "      <td>16.7</td>\n",
       "      <td>21.4</td>\n",
       "      <td>25.7</td>\n",
       "      <td>12.7</td>\n",
       "      <td>7.1</td>\n",
       "    </tr>\n",
       "    <tr>\n",
       "      <th>238</th>\n",
       "      <td>2024-11</td>\n",
       "      <td>9.7</td>\n",
       "      <td>14.9</td>\n",
       "      <td>25.1</td>\n",
       "      <td>5.5</td>\n",
       "      <td>-3.4</td>\n",
       "    </tr>\n",
       "    <tr>\n",
       "      <th>239</th>\n",
       "      <td>2024-12</td>\n",
       "      <td>0.8</td>\n",
       "      <td>5.3</td>\n",
       "      <td>13.0</td>\n",
       "      <td>-2.9</td>\n",
       "      <td>-7.7</td>\n",
       "    </tr>\n",
       "  </tbody>\n",
       "</table>\n",
       "<p>240 rows × 6 columns</p>\n",
       "</div>"
      ],
      "text/plain": [
       "       month  temp  max_temp  ext_max_temp  min_temp  ext_min_temp\n",
       "0    2005-01  -2.5       1.5           7.3      -6.2         -11.0\n",
       "1    2005-02  -1.9       2.2          10.5      -5.5         -13.1\n",
       "2    2005-03   4.1       8.8          17.6       0.2          -6.5\n",
       "3    2005-04  13.2      18.1          29.8       8.9           4.1\n",
       "4    2005-05  17.7      22.9          30.2      13.0           6.3\n",
       "..       ...   ...       ...           ...       ...           ...\n",
       "235  2024-08  29.3      33.3          36.4      26.3          22.6\n",
       "236  2024-09  25.5      29.8          34.6      22.0          15.6\n",
       "237  2024-10  16.7      21.4          25.7      12.7           7.1\n",
       "238  2024-11   9.7      14.9          25.1       5.5          -3.4\n",
       "239  2024-12   0.8       5.3          13.0      -2.9          -7.7\n",
       "\n",
       "[240 rows x 6 columns]"
      ]
     },
     "execution_count": 47,
     "metadata": {},
     "output_type": "execute_result"
    }
   ],
   "source": [
    "#로컬 파일 읽어오기\n",
    "temp_new = pd.read_csv('temp.csv')\n",
    "temp_new"
   ]
  },
  {
   "cell_type": "markdown",
   "metadata": {
    "id": "kj19tADTbX_1"
   },
   "source": [
    "<img src='https://raw.githubusercontent.com/jangrae/img/master/practice_20e.png' width=45 align=\"left\"/>"
   ]
  },
  {
   "cell_type": "markdown",
   "metadata": {
    "id": "taC_061cIJOx"
   },
   "source": [
    "## 1.4.인덱스 다시 설정\n",
    "\n",
    "- 일반 열을 인덱스 열로 설정하거나, 행 순서에 기반한 정수값 인덱스로 초기화 할 수 있습니다."
   ]
  },
  {
   "cell_type": "markdown",
   "metadata": {
    "id": "AzYgUY1VOswT"
   },
   "source": [
    "<img src='https://raw.githubusercontent.com/jangrae/img/master/set_reset_index.png' width=700 align=\"left\"/>"
   ]
  },
  {
   "cell_type": "markdown",
   "metadata": {
    "id": "atOZO4zakLOc"
   },
   "source": [
    "**1) 일반 열을 인덱스로 지정**\n",
    "\n",
    "- 파일을 불러올 때 **index_col** 옵션을 사용해 인덱스가 될 열을 선택할 수 있습니다.\n",
    "- 파일을 불러온 후에 **set_index()** 메서드를 사용해 인덱스가 될 열을 설정할 수 있습니다."
   ]
  },
  {
   "cell_type": "code",
   "execution_count": 58,
   "metadata": {},
   "outputs": [
    {
     "data": {
      "text/html": [
       "<div>\n",
       "<style scoped>\n",
       "    .dataframe tbody tr th:only-of-type {\n",
       "        vertical-align: middle;\n",
       "    }\n",
       "\n",
       "    .dataframe tbody tr th {\n",
       "        vertical-align: top;\n",
       "    }\n",
       "\n",
       "    .dataframe thead th {\n",
       "        text-align: right;\n",
       "    }\n",
       "</style>\n",
       "<table border=\"1\" class=\"dataframe\">\n",
       "  <thead>\n",
       "    <tr style=\"text-align: right;\">\n",
       "      <th></th>\n",
       "      <th>household</th>\n",
       "      <th>k_male</th>\n",
       "      <th>k_female</th>\n",
       "      <th>f_male</th>\n",
       "      <th>f_female</th>\n",
       "    </tr>\n",
       "    <tr>\n",
       "      <th>year</th>\n",
       "      <th></th>\n",
       "      <th></th>\n",
       "      <th></th>\n",
       "      <th></th>\n",
       "      <th></th>\n",
       "    </tr>\n",
       "  </thead>\n",
       "  <tbody>\n",
       "    <tr>\n",
       "      <th>1981</th>\n",
       "      <td>1915</td>\n",
       "      <td>4160</td>\n",
       "      <td>4191</td>\n",
       "      <td>NaN</td>\n",
       "      <td>NaN</td>\n",
       "    </tr>\n",
       "    <tr>\n",
       "      <th>1982</th>\n",
       "      <td>2001</td>\n",
       "      <td>4160</td>\n",
       "      <td>4191</td>\n",
       "      <td>NaN</td>\n",
       "      <td>NaN</td>\n",
       "    </tr>\n",
       "    <tr>\n",
       "      <th>1983</th>\n",
       "      <td>2116</td>\n",
       "      <td>4160</td>\n",
       "      <td>4191</td>\n",
       "      <td>NaN</td>\n",
       "      <td>NaN</td>\n",
       "    </tr>\n",
       "    <tr>\n",
       "      <th>1984</th>\n",
       "      <td>2246</td>\n",
       "      <td>4160</td>\n",
       "      <td>4191</td>\n",
       "      <td>NaN</td>\n",
       "      <td>NaN</td>\n",
       "    </tr>\n",
       "    <tr>\n",
       "      <th>1985</th>\n",
       "      <td>2338</td>\n",
       "      <td>4788</td>\n",
       "      <td>4838</td>\n",
       "      <td>7.0</td>\n",
       "      <td>6.0</td>\n",
       "    </tr>\n",
       "  </tbody>\n",
       "</table>\n",
       "</div>"
      ],
      "text/plain": [
       "      household  k_male  k_female  f_male  f_female\n",
       "year                                               \n",
       "1981       1915    4160      4191     NaN       NaN\n",
       "1982       2001    4160      4191     NaN       NaN\n",
       "1983       2116    4160      4191     NaN       NaN\n",
       "1984       2246    4160      4191     NaN       NaN\n",
       "1985       2338    4788      4838     7.0       6.0"
      ]
     },
     "execution_count": 58,
     "metadata": {},
     "output_type": "execute_result"
    }
   ],
   "source": [
    "pop.head()"
   ]
  },
  {
   "cell_type": "code",
   "execution_count": 53,
   "metadata": {
    "id": "lZPICPMAmvxD"
   },
   "outputs": [
    {
     "data": {
      "text/html": [
       "<div>\n",
       "<style scoped>\n",
       "    .dataframe tbody tr th:only-of-type {\n",
       "        vertical-align: middle;\n",
       "    }\n",
       "\n",
       "    .dataframe tbody tr th {\n",
       "        vertical-align: top;\n",
       "    }\n",
       "\n",
       "    .dataframe thead th {\n",
       "        text-align: right;\n",
       "    }\n",
       "</style>\n",
       "<table border=\"1\" class=\"dataframe\">\n",
       "  <thead>\n",
       "    <tr style=\"text-align: right;\">\n",
       "      <th></th>\n",
       "      <th>household</th>\n",
       "      <th>k_male</th>\n",
       "      <th>k_female</th>\n",
       "      <th>f_male</th>\n",
       "      <th>f_female</th>\n",
       "    </tr>\n",
       "    <tr>\n",
       "      <th>year</th>\n",
       "      <th></th>\n",
       "      <th></th>\n",
       "      <th></th>\n",
       "      <th></th>\n",
       "      <th></th>\n",
       "    </tr>\n",
       "  </thead>\n",
       "  <tbody>\n",
       "    <tr>\n",
       "      <th>1981</th>\n",
       "      <td>1915</td>\n",
       "      <td>4160</td>\n",
       "      <td>4191</td>\n",
       "      <td>NaN</td>\n",
       "      <td>NaN</td>\n",
       "    </tr>\n",
       "    <tr>\n",
       "      <th>1982</th>\n",
       "      <td>2001</td>\n",
       "      <td>4160</td>\n",
       "      <td>4191</td>\n",
       "      <td>NaN</td>\n",
       "      <td>NaN</td>\n",
       "    </tr>\n",
       "    <tr>\n",
       "      <th>1983</th>\n",
       "      <td>2116</td>\n",
       "      <td>4160</td>\n",
       "      <td>4191</td>\n",
       "      <td>NaN</td>\n",
       "      <td>NaN</td>\n",
       "    </tr>\n",
       "    <tr>\n",
       "      <th>1984</th>\n",
       "      <td>2246</td>\n",
       "      <td>4160</td>\n",
       "      <td>4191</td>\n",
       "      <td>NaN</td>\n",
       "      <td>NaN</td>\n",
       "    </tr>\n",
       "    <tr>\n",
       "      <th>1985</th>\n",
       "      <td>2338</td>\n",
       "      <td>4788</td>\n",
       "      <td>4838</td>\n",
       "      <td>7.0</td>\n",
       "      <td>6.0</td>\n",
       "    </tr>\n",
       "  </tbody>\n",
       "</table>\n",
       "</div>"
      ],
      "text/plain": [
       "      household  k_male  k_female  f_male  f_female\n",
       "year                                               \n",
       "1981       1915    4160      4191     NaN       NaN\n",
       "1982       2001    4160      4191     NaN       NaN\n",
       "1983       2116    4160      4191     NaN       NaN\n",
       "1984       2246    4160      4191     NaN       NaN\n",
       "1985       2338    4788      4838     7.0       6.0"
      ]
     },
     "execution_count": 53,
     "metadata": {},
     "output_type": "execute_result"
    }
   ],
   "source": [
    "# 기존 열 중 하나를 인덱스로 설정\n",
    "pop.set_index('year', inplace=True)\n",
    "\n",
    "# 확인\n",
    "pop.head()"
   ]
  },
  {
   "cell_type": "code",
   "execution_count": 57,
   "metadata": {
    "jp-MarkdownHeadingCollapsed": true
   },
   "outputs": [
    {
     "name": "stdout",
     "output_type": "stream",
     "text": [
      "household    4482.0\n",
      "k_male       4505.0\n",
      "k_female     4826.0\n",
      "f_male        115.0\n",
      "f_female      151.0\n",
      "Name: 2024, dtype: float64\n"
     ]
    }
   ],
   "source": [
    "print(pop.iloc[-1])"
   ]
  },
  {
   "cell_type": "markdown",
   "metadata": {
    "id": "2rdGVeQ-QK_e"
   },
   "source": [
    "**2) 인덱스 이름 삭제**\n",
    "\n",
    "- 인덱스 이름은 특별히 사용할 일이 없으므로 삭제합니다."
   ]
  },
  {
   "cell_type": "code",
   "execution_count": 36,
   "metadata": {
    "id": "_6a3Z_YtPwED"
   },
   "outputs": [
    {
     "data": {
      "text/html": [
       "<div>\n",
       "<style scoped>\n",
       "    .dataframe tbody tr th:only-of-type {\n",
       "        vertical-align: middle;\n",
       "    }\n",
       "\n",
       "    .dataframe tbody tr th {\n",
       "        vertical-align: top;\n",
       "    }\n",
       "\n",
       "    .dataframe thead th {\n",
       "        text-align: right;\n",
       "    }\n",
       "</style>\n",
       "<table border=\"1\" class=\"dataframe\">\n",
       "  <thead>\n",
       "    <tr style=\"text-align: right;\">\n",
       "      <th></th>\n",
       "      <th>year</th>\n",
       "      <th>year</th>\n",
       "      <th>household</th>\n",
       "      <th>k_male</th>\n",
       "      <th>k_female</th>\n",
       "      <th>f_male</th>\n",
       "      <th>f_female</th>\n",
       "    </tr>\n",
       "  </thead>\n",
       "  <tbody>\n",
       "    <tr>\n",
       "      <th>0</th>\n",
       "      <td>0</td>\n",
       "      <td>1981</td>\n",
       "      <td>1915</td>\n",
       "      <td>4160</td>\n",
       "      <td>4191</td>\n",
       "      <td>NaN</td>\n",
       "      <td>NaN</td>\n",
       "    </tr>\n",
       "    <tr>\n",
       "      <th>1</th>\n",
       "      <td>1</td>\n",
       "      <td>1982</td>\n",
       "      <td>2001</td>\n",
       "      <td>4160</td>\n",
       "      <td>4191</td>\n",
       "      <td>NaN</td>\n",
       "      <td>NaN</td>\n",
       "    </tr>\n",
       "    <tr>\n",
       "      <th>2</th>\n",
       "      <td>2</td>\n",
       "      <td>1983</td>\n",
       "      <td>2116</td>\n",
       "      <td>4160</td>\n",
       "      <td>4191</td>\n",
       "      <td>NaN</td>\n",
       "      <td>NaN</td>\n",
       "    </tr>\n",
       "    <tr>\n",
       "      <th>3</th>\n",
       "      <td>3</td>\n",
       "      <td>1984</td>\n",
       "      <td>2246</td>\n",
       "      <td>4160</td>\n",
       "      <td>4191</td>\n",
       "      <td>NaN</td>\n",
       "      <td>NaN</td>\n",
       "    </tr>\n",
       "    <tr>\n",
       "      <th>4</th>\n",
       "      <td>4</td>\n",
       "      <td>1985</td>\n",
       "      <td>2338</td>\n",
       "      <td>4788</td>\n",
       "      <td>4838</td>\n",
       "      <td>7.0</td>\n",
       "      <td>6.0</td>\n",
       "    </tr>\n",
       "  </tbody>\n",
       "</table>\n",
       "</div>"
      ],
      "text/plain": [
       "   year  year  household  k_male  k_female  f_male  f_female\n",
       "0     0  1981       1915    4160      4191     NaN       NaN\n",
       "1     1  1982       2001    4160      4191     NaN       NaN\n",
       "2     2  1983       2116    4160      4191     NaN       NaN\n",
       "3     3  1984       2246    4160      4191     NaN       NaN\n",
       "4     4  1985       2338    4788      4838     7.0       6.0"
      ]
     },
     "execution_count": 36,
     "metadata": {},
     "output_type": "execute_result"
    }
   ],
   "source": [
    "# 인덱스 이름 삭제\n",
    "pop.index.name = None\n",
    "\n",
    "# 확인\n",
    "pop.head()"
   ]
  },
  {
   "cell_type": "markdown",
   "metadata": {
    "id": "6YBSTyDhlGnS"
   },
   "source": [
    "**3) 인덱스 초기화**\n",
    "\n",
    "- **reset_index()** 메서드를 사용해 행 번호에 기반한 정수 값으로 인덱스를 초기화 할 수 있습니다.\n",
    "- **drop=True**를 설정하면 기존 인덱스 열을 일반 열로 가져오지 않고 버립니다.(기본값=False)"
   ]
  },
  {
   "cell_type": "markdown",
   "metadata": {
    "id": "WDZiwkKHOswT"
   },
   "source": [
    "<img src='https://raw.githubusercontent.com/jangrae/img/master/reset_index04.png' width=700 align=\"left\"/>"
   ]
  },
  {
   "cell_type": "code",
   "execution_count": 28,
   "metadata": {
    "id": "cmHauKBZnFNS"
   },
   "outputs": [
    {
     "data": {
      "text/html": [
       "<div>\n",
       "<style scoped>\n",
       "    .dataframe tbody tr th:only-of-type {\n",
       "        vertical-align: middle;\n",
       "    }\n",
       "\n",
       "    .dataframe tbody tr th {\n",
       "        vertical-align: top;\n",
       "    }\n",
       "\n",
       "    .dataframe thead th {\n",
       "        text-align: right;\n",
       "    }\n",
       "</style>\n",
       "<table border=\"1\" class=\"dataframe\">\n",
       "  <thead>\n",
       "    <tr style=\"text-align: right;\">\n",
       "      <th></th>\n",
       "      <th>index</th>\n",
       "      <th>year</th>\n",
       "      <th>household</th>\n",
       "      <th>k_male</th>\n",
       "      <th>k_female</th>\n",
       "      <th>f_male</th>\n",
       "      <th>f_female</th>\n",
       "    </tr>\n",
       "  </thead>\n",
       "  <tbody>\n",
       "    <tr>\n",
       "      <th>0</th>\n",
       "      <td>0</td>\n",
       "      <td>1981</td>\n",
       "      <td>1915</td>\n",
       "      <td>4160</td>\n",
       "      <td>4191</td>\n",
       "      <td>NaN</td>\n",
       "      <td>NaN</td>\n",
       "    </tr>\n",
       "    <tr>\n",
       "      <th>1</th>\n",
       "      <td>1</td>\n",
       "      <td>1982</td>\n",
       "      <td>2001</td>\n",
       "      <td>4160</td>\n",
       "      <td>4191</td>\n",
       "      <td>NaN</td>\n",
       "      <td>NaN</td>\n",
       "    </tr>\n",
       "    <tr>\n",
       "      <th>2</th>\n",
       "      <td>2</td>\n",
       "      <td>1983</td>\n",
       "      <td>2116</td>\n",
       "      <td>4160</td>\n",
       "      <td>4191</td>\n",
       "      <td>NaN</td>\n",
       "      <td>NaN</td>\n",
       "    </tr>\n",
       "    <tr>\n",
       "      <th>3</th>\n",
       "      <td>3</td>\n",
       "      <td>1984</td>\n",
       "      <td>2246</td>\n",
       "      <td>4160</td>\n",
       "      <td>4191</td>\n",
       "      <td>NaN</td>\n",
       "      <td>NaN</td>\n",
       "    </tr>\n",
       "    <tr>\n",
       "      <th>4</th>\n",
       "      <td>4</td>\n",
       "      <td>1985</td>\n",
       "      <td>2338</td>\n",
       "      <td>4788</td>\n",
       "      <td>4838</td>\n",
       "      <td>7.0</td>\n",
       "      <td>6.0</td>\n",
       "    </tr>\n",
       "  </tbody>\n",
       "</table>\n",
       "</div>"
      ],
      "text/plain": [
       "   index  year  household  k_male  k_female  f_male  f_female\n",
       "0      0  1981       1915    4160      4191     NaN       NaN\n",
       "1      1  1982       2001    4160      4191     NaN       NaN\n",
       "2      2  1983       2116    4160      4191     NaN       NaN\n",
       "3      3  1984       2246    4160      4191     NaN       NaN\n",
       "4      4  1985       2338    4788      4838     7.0       6.0"
      ]
     },
     "execution_count": 28,
     "metadata": {},
     "output_type": "execute_result"
    }
   ],
   "source": [
    "# 인덱스 초기화\n",
    "pop.reset_index(drop=False, inplace=True)\n",
    "\n",
    "# 확인\n",
    "pop.head()"
   ]
  },
  {
   "cell_type": "markdown",
   "metadata": {
    "id": "0HIv2VMIQnYb"
   },
   "source": [
    "- 기존 인덱스를 제거하지 않으면 'index' 라는 이름의 열이 되니 적절히 변경합니다."
   ]
  },
  {
   "cell_type": "code",
   "execution_count": 31,
   "metadata": {
    "id": "zfWeMsPvQSRw"
   },
   "outputs": [
    {
     "name": "stdout",
     "output_type": "stream",
     "text": [
      "   year  year  household  k_male  k_female  f_male  f_female\n",
      "0     0  1981       1915    4160      4191     NaN       NaN\n",
      "1     1  1982       2001    4160      4191     NaN       NaN\n",
      "2     2  1983       2116    4160      4191     NaN       NaN\n",
      "3     3  1984       2246    4160      4191     NaN       NaN\n",
      "4     4  1985       2338    4788      4838     7.0       6.0\n"
     ]
    }
   ],
   "source": [
    "# 열 이름 변경\n",
    "pop.rename(columns={'index': 'year'}, inplace=True)\n",
    "\n",
    "# 확인\n",
    "print(pop.head())"
   ]
  },
  {
   "cell_type": "markdown",
   "metadata": {
    "id": "yohTkqw2ex7e"
   },
   "source": [
    "<img src='https://raw.githubusercontent.com/jangrae/img/master/practice_30.png' width=120 align=\"left\"/>"
   ]
  },
  {
   "cell_type": "markdown",
   "metadata": {
    "id": "wDFbeEe2JAjJ"
   },
   "source": [
    "[문1] 아래 주어진 경로의 파일에서 데이터를 읽어와 데이터프레임 temp를 만들어 보세요.\n",
    "\n",
    "- 파일 경로: 'https://raw.githubusercontent.com/Jangrae/csv/master/weather_simple.csv'"
   ]
  },
  {
   "cell_type": "code",
   "execution_count": 32,
   "metadata": {
    "id": "kDa2DoeWJAjQ"
   },
   "outputs": [],
   "source": [
    "temp = pd.read_csv('https://raw.githubusercontent.com/Jangrae/csv/master/weather_simple.csv')\n"
   ]
  },
  {
   "cell_type": "markdown",
   "metadata": {
    "id": "NqG5hTOrqjpi"
   },
   "source": [
    "[문2] temp 데이터프레임 month 열을 인덱스로 지정하세요."
   ]
  },
  {
   "cell_type": "code",
   "execution_count": 34,
   "metadata": {
    "id": "D-X_tx_cYnfj"
   },
   "outputs": [
    {
     "data": {
      "text/html": [
       "<div>\n",
       "<style scoped>\n",
       "    .dataframe tbody tr th:only-of-type {\n",
       "        vertical-align: middle;\n",
       "    }\n",
       "\n",
       "    .dataframe tbody tr th {\n",
       "        vertical-align: top;\n",
       "    }\n",
       "\n",
       "    .dataframe thead th {\n",
       "        text-align: right;\n",
       "    }\n",
       "</style>\n",
       "<table border=\"1\" class=\"dataframe\">\n",
       "  <thead>\n",
       "    <tr style=\"text-align: right;\">\n",
       "      <th></th>\n",
       "      <th>temp</th>\n",
       "      <th>max_temp</th>\n",
       "      <th>ext_max_temp</th>\n",
       "      <th>min_temp</th>\n",
       "      <th>ext_min_temp</th>\n",
       "    </tr>\n",
       "    <tr>\n",
       "      <th>month</th>\n",
       "      <th></th>\n",
       "      <th></th>\n",
       "      <th></th>\n",
       "      <th></th>\n",
       "      <th></th>\n",
       "    </tr>\n",
       "  </thead>\n",
       "  <tbody>\n",
       "    <tr>\n",
       "      <th>2005-01</th>\n",
       "      <td>-2.5</td>\n",
       "      <td>1.5</td>\n",
       "      <td>7.3</td>\n",
       "      <td>-6.2</td>\n",
       "      <td>-11.0</td>\n",
       "    </tr>\n",
       "    <tr>\n",
       "      <th>2005-02</th>\n",
       "      <td>-1.9</td>\n",
       "      <td>2.2</td>\n",
       "      <td>10.5</td>\n",
       "      <td>-5.5</td>\n",
       "      <td>-13.1</td>\n",
       "    </tr>\n",
       "    <tr>\n",
       "      <th>2005-03</th>\n",
       "      <td>4.1</td>\n",
       "      <td>8.8</td>\n",
       "      <td>17.6</td>\n",
       "      <td>0.2</td>\n",
       "      <td>-6.5</td>\n",
       "    </tr>\n",
       "    <tr>\n",
       "      <th>2005-04</th>\n",
       "      <td>13.2</td>\n",
       "      <td>18.1</td>\n",
       "      <td>29.8</td>\n",
       "      <td>8.9</td>\n",
       "      <td>4.1</td>\n",
       "    </tr>\n",
       "    <tr>\n",
       "      <th>2005-05</th>\n",
       "      <td>17.7</td>\n",
       "      <td>22.9</td>\n",
       "      <td>30.2</td>\n",
       "      <td>13.0</td>\n",
       "      <td>6.3</td>\n",
       "    </tr>\n",
       "  </tbody>\n",
       "</table>\n",
       "</div>"
      ],
      "text/plain": [
       "         temp  max_temp  ext_max_temp  min_temp  ext_min_temp\n",
       "month                                                        \n",
       "2005-01  -2.5       1.5           7.3      -6.2         -11.0\n",
       "2005-02  -1.9       2.2          10.5      -5.5         -13.1\n",
       "2005-03   4.1       8.8          17.6       0.2          -6.5\n",
       "2005-04  13.2      18.1          29.8       8.9           4.1\n",
       "2005-05  17.7      22.9          30.2      13.0           6.3"
      ]
     },
     "execution_count": 34,
     "metadata": {},
     "output_type": "execute_result"
    }
   ],
   "source": [
    "temp.set_index('month', inplace = True)\n",
    "temp.head()"
   ]
  },
  {
   "cell_type": "markdown",
   "metadata": {
    "id": "iGprah6y6ak5"
   },
   "source": [
    "[문3] 인덱스 이름을 삭제하세요."
   ]
  },
  {
   "cell_type": "code",
   "execution_count": 37,
   "metadata": {
    "id": "RnPMufha44kk"
   },
   "outputs": [
    {
     "data": {
      "text/html": [
       "<div>\n",
       "<style scoped>\n",
       "    .dataframe tbody tr th:only-of-type {\n",
       "        vertical-align: middle;\n",
       "    }\n",
       "\n",
       "    .dataframe tbody tr th {\n",
       "        vertical-align: top;\n",
       "    }\n",
       "\n",
       "    .dataframe thead th {\n",
       "        text-align: right;\n",
       "    }\n",
       "</style>\n",
       "<table border=\"1\" class=\"dataframe\">\n",
       "  <thead>\n",
       "    <tr style=\"text-align: right;\">\n",
       "      <th></th>\n",
       "      <th>temp</th>\n",
       "      <th>max_temp</th>\n",
       "      <th>ext_max_temp</th>\n",
       "      <th>min_temp</th>\n",
       "      <th>ext_min_temp</th>\n",
       "    </tr>\n",
       "  </thead>\n",
       "  <tbody>\n",
       "    <tr>\n",
       "      <th>2005-01</th>\n",
       "      <td>-2.5</td>\n",
       "      <td>1.5</td>\n",
       "      <td>7.3</td>\n",
       "      <td>-6.2</td>\n",
       "      <td>-11.0</td>\n",
       "    </tr>\n",
       "    <tr>\n",
       "      <th>2005-02</th>\n",
       "      <td>-1.9</td>\n",
       "      <td>2.2</td>\n",
       "      <td>10.5</td>\n",
       "      <td>-5.5</td>\n",
       "      <td>-13.1</td>\n",
       "    </tr>\n",
       "    <tr>\n",
       "      <th>2005-03</th>\n",
       "      <td>4.1</td>\n",
       "      <td>8.8</td>\n",
       "      <td>17.6</td>\n",
       "      <td>0.2</td>\n",
       "      <td>-6.5</td>\n",
       "    </tr>\n",
       "    <tr>\n",
       "      <th>2005-04</th>\n",
       "      <td>13.2</td>\n",
       "      <td>18.1</td>\n",
       "      <td>29.8</td>\n",
       "      <td>8.9</td>\n",
       "      <td>4.1</td>\n",
       "    </tr>\n",
       "    <tr>\n",
       "      <th>2005-05</th>\n",
       "      <td>17.7</td>\n",
       "      <td>22.9</td>\n",
       "      <td>30.2</td>\n",
       "      <td>13.0</td>\n",
       "      <td>6.3</td>\n",
       "    </tr>\n",
       "  </tbody>\n",
       "</table>\n",
       "</div>"
      ],
      "text/plain": [
       "         temp  max_temp  ext_max_temp  min_temp  ext_min_temp\n",
       "2005-01  -2.5       1.5           7.3      -6.2         -11.0\n",
       "2005-02  -1.9       2.2          10.5      -5.5         -13.1\n",
       "2005-03   4.1       8.8          17.6       0.2          -6.5\n",
       "2005-04  13.2      18.1          29.8       8.9           4.1\n",
       "2005-05  17.7      22.9          30.2      13.0           6.3"
      ]
     },
     "execution_count": 37,
     "metadata": {},
     "output_type": "execute_result"
    }
   ],
   "source": [
    "temp.index.name = None\n",
    "temp.head()\n"
   ]
  },
  {
   "cell_type": "markdown",
   "metadata": {
    "id": "utbp1T7NA5Ub"
   },
   "source": [
    "[문4] 기존 인덱스를 유지하고 인덱스를 초기화 하세요."
   ]
  },
  {
   "cell_type": "code",
   "execution_count": 38,
   "metadata": {
    "id": "QdC8wQLEYr2w"
   },
   "outputs": [
    {
     "data": {
      "text/html": [
       "<div>\n",
       "<style scoped>\n",
       "    .dataframe tbody tr th:only-of-type {\n",
       "        vertical-align: middle;\n",
       "    }\n",
       "\n",
       "    .dataframe tbody tr th {\n",
       "        vertical-align: top;\n",
       "    }\n",
       "\n",
       "    .dataframe thead th {\n",
       "        text-align: right;\n",
       "    }\n",
       "</style>\n",
       "<table border=\"1\" class=\"dataframe\">\n",
       "  <thead>\n",
       "    <tr style=\"text-align: right;\">\n",
       "      <th></th>\n",
       "      <th>index</th>\n",
       "      <th>temp</th>\n",
       "      <th>max_temp</th>\n",
       "      <th>ext_max_temp</th>\n",
       "      <th>min_temp</th>\n",
       "      <th>ext_min_temp</th>\n",
       "    </tr>\n",
       "  </thead>\n",
       "  <tbody>\n",
       "    <tr>\n",
       "      <th>0</th>\n",
       "      <td>2005-01</td>\n",
       "      <td>-2.5</td>\n",
       "      <td>1.5</td>\n",
       "      <td>7.3</td>\n",
       "      <td>-6.2</td>\n",
       "      <td>-11.0</td>\n",
       "    </tr>\n",
       "    <tr>\n",
       "      <th>1</th>\n",
       "      <td>2005-02</td>\n",
       "      <td>-1.9</td>\n",
       "      <td>2.2</td>\n",
       "      <td>10.5</td>\n",
       "      <td>-5.5</td>\n",
       "      <td>-13.1</td>\n",
       "    </tr>\n",
       "    <tr>\n",
       "      <th>2</th>\n",
       "      <td>2005-03</td>\n",
       "      <td>4.1</td>\n",
       "      <td>8.8</td>\n",
       "      <td>17.6</td>\n",
       "      <td>0.2</td>\n",
       "      <td>-6.5</td>\n",
       "    </tr>\n",
       "    <tr>\n",
       "      <th>3</th>\n",
       "      <td>2005-04</td>\n",
       "      <td>13.2</td>\n",
       "      <td>18.1</td>\n",
       "      <td>29.8</td>\n",
       "      <td>8.9</td>\n",
       "      <td>4.1</td>\n",
       "    </tr>\n",
       "    <tr>\n",
       "      <th>4</th>\n",
       "      <td>2005-05</td>\n",
       "      <td>17.7</td>\n",
       "      <td>22.9</td>\n",
       "      <td>30.2</td>\n",
       "      <td>13.0</td>\n",
       "      <td>6.3</td>\n",
       "    </tr>\n",
       "  </tbody>\n",
       "</table>\n",
       "</div>"
      ],
      "text/plain": [
       "     index  temp  max_temp  ext_max_temp  min_temp  ext_min_temp\n",
       "0  2005-01  -2.5       1.5           7.3      -6.2         -11.0\n",
       "1  2005-02  -1.9       2.2          10.5      -5.5         -13.1\n",
       "2  2005-03   4.1       8.8          17.6       0.2          -6.5\n",
       "3  2005-04  13.2      18.1          29.8       8.9           4.1\n",
       "4  2005-05  17.7      22.9          30.2      13.0           6.3"
      ]
     },
     "execution_count": 38,
     "metadata": {},
     "output_type": "execute_result"
    }
   ],
   "source": [
    "temp.reset_index(drop=False, inplace=True)\n",
    "temp.head()"
   ]
  },
  {
   "cell_type": "markdown",
   "metadata": {
    "id": "F6Qpc3tJBAnl"
   },
   "source": [
    "[문5] 기존 인덱스 이름을 month로 변경하세요."
   ]
  },
  {
   "cell_type": "code",
   "execution_count": 39,
   "metadata": {
    "id": "8ymSLbqjOW8K"
   },
   "outputs": [
    {
     "data": {
      "text/html": [
       "<div>\n",
       "<style scoped>\n",
       "    .dataframe tbody tr th:only-of-type {\n",
       "        vertical-align: middle;\n",
       "    }\n",
       "\n",
       "    .dataframe tbody tr th {\n",
       "        vertical-align: top;\n",
       "    }\n",
       "\n",
       "    .dataframe thead th {\n",
       "        text-align: right;\n",
       "    }\n",
       "</style>\n",
       "<table border=\"1\" class=\"dataframe\">\n",
       "  <thead>\n",
       "    <tr style=\"text-align: right;\">\n",
       "      <th></th>\n",
       "      <th>month</th>\n",
       "      <th>temp</th>\n",
       "      <th>max_temp</th>\n",
       "      <th>ext_max_temp</th>\n",
       "      <th>min_temp</th>\n",
       "      <th>ext_min_temp</th>\n",
       "    </tr>\n",
       "  </thead>\n",
       "  <tbody>\n",
       "    <tr>\n",
       "      <th>0</th>\n",
       "      <td>2005-01</td>\n",
       "      <td>-2.5</td>\n",
       "      <td>1.5</td>\n",
       "      <td>7.3</td>\n",
       "      <td>-6.2</td>\n",
       "      <td>-11.0</td>\n",
       "    </tr>\n",
       "    <tr>\n",
       "      <th>1</th>\n",
       "      <td>2005-02</td>\n",
       "      <td>-1.9</td>\n",
       "      <td>2.2</td>\n",
       "      <td>10.5</td>\n",
       "      <td>-5.5</td>\n",
       "      <td>-13.1</td>\n",
       "    </tr>\n",
       "    <tr>\n",
       "      <th>2</th>\n",
       "      <td>2005-03</td>\n",
       "      <td>4.1</td>\n",
       "      <td>8.8</td>\n",
       "      <td>17.6</td>\n",
       "      <td>0.2</td>\n",
       "      <td>-6.5</td>\n",
       "    </tr>\n",
       "    <tr>\n",
       "      <th>3</th>\n",
       "      <td>2005-04</td>\n",
       "      <td>13.2</td>\n",
       "      <td>18.1</td>\n",
       "      <td>29.8</td>\n",
       "      <td>8.9</td>\n",
       "      <td>4.1</td>\n",
       "    </tr>\n",
       "    <tr>\n",
       "      <th>4</th>\n",
       "      <td>2005-05</td>\n",
       "      <td>17.7</td>\n",
       "      <td>22.9</td>\n",
       "      <td>30.2</td>\n",
       "      <td>13.0</td>\n",
       "      <td>6.3</td>\n",
       "    </tr>\n",
       "  </tbody>\n",
       "</table>\n",
       "</div>"
      ],
      "text/plain": [
       "     month  temp  max_temp  ext_max_temp  min_temp  ext_min_temp\n",
       "0  2005-01  -2.5       1.5           7.3      -6.2         -11.0\n",
       "1  2005-02  -1.9       2.2          10.5      -5.5         -13.1\n",
       "2  2005-03   4.1       8.8          17.6       0.2          -6.5\n",
       "3  2005-04  13.2      18.1          29.8       8.9           4.1\n",
       "4  2005-05  17.7      22.9          30.2      13.0           6.3"
      ]
     },
     "execution_count": 39,
     "metadata": {},
     "output_type": "execute_result"
    }
   ],
   "source": [
    "temp.rename(columns={'index': 'month'}, inplace=True)\n",
    "temp.head()"
   ]
  },
  {
   "cell_type": "markdown",
   "metadata": {
    "id": "v_NBPXmSbX_4"
   },
   "source": [
    "<img src='https://raw.githubusercontent.com/jangrae/img/master/practice_30e.png' width=45 align=\"left\"/>"
   ]
  }
 ],
 "metadata": {
  "colab": {
   "provenance": []
  },
  "kernelspec": {
   "display_name": "Python 3 (ipykernel)",
   "language": "python",
   "name": "python3"
  },
  "language_info": {
   "codemirror_mode": {
    "name": "ipython",
    "version": 3
   },
   "file_extension": ".py",
   "mimetype": "text/x-python",
   "name": "python",
   "nbconvert_exporter": "python",
   "pygments_lexer": "ipython3",
   "version": "3.13.5"
  }
 },
 "nbformat": 4,
 "nbformat_minor": 4
}
