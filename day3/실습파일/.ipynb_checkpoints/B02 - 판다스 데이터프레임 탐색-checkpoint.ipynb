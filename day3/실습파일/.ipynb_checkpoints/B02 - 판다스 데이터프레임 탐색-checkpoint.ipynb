{
 "cells": [
  {
   "cell_type": "markdown",
   "metadata": {
    "id": "BFhIXgdYoYGp"
   },
   "source": [
    "<center><img src='https://raw.githubusercontent.com/Jangrae/img/master/title.png' width=500/></center>"
   ]
  },
  {
   "cell_type": "markdown",
   "metadata": {
    "id": "-sdzPN0Uwxi2"
   },
   "source": [
    "# 2.데이터프레임 탐색\n",
    "\n",
    "- 데이터프레임 탐색은 **데이터프레임**의 **키**와 **몸무게**를 재는 것이라 할 수 있습니다.\n",
    "- 파일에서 불러온 데이터의 크기, 내용, 분포, 누락된 값 등을 확인할 수 있어야 합니다.\n",
    "- 확인된 내용을 통해 데이터 전처리 필요 여부를 결정합니다.\n",
    "- 데이터를 알아야 데이터를 분석할 수 있습니다."
   ]
  },
  {
   "cell_type": "code",
   "execution_count": 1,
   "metadata": {
    "id": "siCMN2lzSelq"
   },
   "outputs": [],
   "source": [
    "# 라이브러리 불러오기\n",
    "import pandas as pd"
   ]
  },
  {
   "cell_type": "code",
   "execution_count": 2,
   "metadata": {
    "id": "i-hbJbQnH_tC"
   },
   "outputs": [],
   "source": [
    "# 데이터 읽어오기\n",
    "path = 'https://raw.githubusercontent.com/Jangrae/csv/master/tips.csv'\n",
    "tip = pd.read_csv(path)"
   ]
  },
  {
   "cell_type": "markdown",
   "metadata": {
    "id": "tBiPJrpmJ7Ys"
   },
   "source": [
    "**[tips 데이터 셋 정보]**\n",
    "\n",
    "- total_bill: 금액\n",
    "- tip: 팁\n",
    "- sex: 성별(Male, Female)\n",
    "- smoker: 흡연 여부(Yes. No)\n",
    "- day: 요일(Thur, Fri, Sat, Sun)\n",
    "- time: 시간(Dinner, Lunch)\n",
    "- size: 고객 수"
   ]
  },
  {
   "cell_type": "markdown",
   "metadata": {
    "id": "pYIMdO6BeBaH"
   },
   "source": [
    "**[참고] 우선 익숙해져야 할 것들**\n",
    "\n",
    "- head(): 상위 데이터 확인\n",
    "- tail(): 하위 데이터 확인\n",
    "- shape: 데이터프레임 크기\n",
    "- index: 인덱스 정보 확인\n",
    "- values: 값 정보 확인\n",
    "- columns: 열 정보 확인\n",
    "- dtypes: 열 자료형 확인\n",
    "- info(): 열에 대한 상세한 정보 확인\n",
    "- describe(): 기술통계정보 확인"
   ]
  },
  {
   "cell_type": "markdown",
   "metadata": {
    "id": "zU1mxpG70LmG"
   },
   "source": [
    "<img src='https://raw.githubusercontent.com/jangrae/img/master/eda.png' width=700 align=\"left\"/>"
   ]
  },
  {
   "cell_type": "markdown",
   "metadata": {
    "id": "ut-2PJEa3ES4"
   },
   "source": [
    "## 2.1.앞, 뒤 일부 데이터, 크기 확인\n",
    "\n",
    "- **head(*n*), tail(*n*)** 메서드를 사용해 앞 뒤 데이터를 확인합니다.\n",
    "- 개수를 지정하지 않으면 기본적으로 5개 행이 조회됩니다."
   ]
  },
  {
   "cell_type": "markdown",
   "metadata": {
    "id": "xifu7T7TsCYu"
   },
   "source": [
    "**1) 상위 데이터 확인**"
   ]
  },
  {
   "cell_type": "code",
   "execution_count": 3,
   "metadata": {
    "id": "TVoWootyIJPU",
    "scrolled": true
   },
   "outputs": [
    {
     "data": {
      "text/html": [
       "<div>\n",
       "<style scoped>\n",
       "    .dataframe tbody tr th:only-of-type {\n",
       "        vertical-align: middle;\n",
       "    }\n",
       "\n",
       "    .dataframe tbody tr th {\n",
       "        vertical-align: top;\n",
       "    }\n",
       "\n",
       "    .dataframe thead th {\n",
       "        text-align: right;\n",
       "    }\n",
       "</style>\n",
       "<table border=\"1\" class=\"dataframe\">\n",
       "  <thead>\n",
       "    <tr style=\"text-align: right;\">\n",
       "      <th></th>\n",
       "      <th>total_bill</th>\n",
       "      <th>tip</th>\n",
       "      <th>sex</th>\n",
       "      <th>smoker</th>\n",
       "      <th>day</th>\n",
       "      <th>time</th>\n",
       "      <th>size</th>\n",
       "    </tr>\n",
       "  </thead>\n",
       "  <tbody>\n",
       "    <tr>\n",
       "      <th>0</th>\n",
       "      <td>16.99</td>\n",
       "      <td>1.01</td>\n",
       "      <td>Female</td>\n",
       "      <td>No</td>\n",
       "      <td>Sun</td>\n",
       "      <td>Dinner</td>\n",
       "      <td>2</td>\n",
       "    </tr>\n",
       "    <tr>\n",
       "      <th>1</th>\n",
       "      <td>10.34</td>\n",
       "      <td>1.66</td>\n",
       "      <td>Male</td>\n",
       "      <td>No</td>\n",
       "      <td>Sun</td>\n",
       "      <td>Dinner</td>\n",
       "      <td>3</td>\n",
       "    </tr>\n",
       "    <tr>\n",
       "      <th>2</th>\n",
       "      <td>21.01</td>\n",
       "      <td>3.50</td>\n",
       "      <td>Male</td>\n",
       "      <td>No</td>\n",
       "      <td>Sun</td>\n",
       "      <td>Dinner</td>\n",
       "      <td>3</td>\n",
       "    </tr>\n",
       "    <tr>\n",
       "      <th>3</th>\n",
       "      <td>23.68</td>\n",
       "      <td>3.31</td>\n",
       "      <td>Male</td>\n",
       "      <td>No</td>\n",
       "      <td>Sun</td>\n",
       "      <td>Dinner</td>\n",
       "      <td>2</td>\n",
       "    </tr>\n",
       "    <tr>\n",
       "      <th>4</th>\n",
       "      <td>24.59</td>\n",
       "      <td>3.61</td>\n",
       "      <td>Female</td>\n",
       "      <td>No</td>\n",
       "      <td>Sun</td>\n",
       "      <td>Dinner</td>\n",
       "      <td>4</td>\n",
       "    </tr>\n",
       "    <tr>\n",
       "      <th>5</th>\n",
       "      <td>25.29</td>\n",
       "      <td>4.71</td>\n",
       "      <td>Male</td>\n",
       "      <td>No</td>\n",
       "      <td>Sun</td>\n",
       "      <td>Dinner</td>\n",
       "      <td>4</td>\n",
       "    </tr>\n",
       "    <tr>\n",
       "      <th>6</th>\n",
       "      <td>8.77</td>\n",
       "      <td>2.00</td>\n",
       "      <td>Male</td>\n",
       "      <td>No</td>\n",
       "      <td>Sun</td>\n",
       "      <td>Dinner</td>\n",
       "      <td>2</td>\n",
       "    </tr>\n",
       "    <tr>\n",
       "      <th>7</th>\n",
       "      <td>26.88</td>\n",
       "      <td>3.12</td>\n",
       "      <td>Male</td>\n",
       "      <td>No</td>\n",
       "      <td>Sun</td>\n",
       "      <td>Dinner</td>\n",
       "      <td>4</td>\n",
       "    </tr>\n",
       "    <tr>\n",
       "      <th>8</th>\n",
       "      <td>15.04</td>\n",
       "      <td>1.96</td>\n",
       "      <td>Male</td>\n",
       "      <td>No</td>\n",
       "      <td>Sun</td>\n",
       "      <td>Dinner</td>\n",
       "      <td>2</td>\n",
       "    </tr>\n",
       "    <tr>\n",
       "      <th>9</th>\n",
       "      <td>14.78</td>\n",
       "      <td>3.23</td>\n",
       "      <td>Male</td>\n",
       "      <td>No</td>\n",
       "      <td>Sun</td>\n",
       "      <td>Dinner</td>\n",
       "      <td>2</td>\n",
       "    </tr>\n",
       "  </tbody>\n",
       "</table>\n",
       "</div>"
      ],
      "text/plain": [
       "   total_bill   tip     sex smoker  day    time  size\n",
       "0       16.99  1.01  Female     No  Sun  Dinner     2\n",
       "1       10.34  1.66    Male     No  Sun  Dinner     3\n",
       "2       21.01  3.50    Male     No  Sun  Dinner     3\n",
       "3       23.68  3.31    Male     No  Sun  Dinner     2\n",
       "4       24.59  3.61  Female     No  Sun  Dinner     4\n",
       "5       25.29  4.71    Male     No  Sun  Dinner     4\n",
       "6        8.77  2.00    Male     No  Sun  Dinner     2\n",
       "7       26.88  3.12    Male     No  Sun  Dinner     4\n",
       "8       15.04  1.96    Male     No  Sun  Dinner     2\n",
       "9       14.78  3.23    Male     No  Sun  Dinner     2"
      ]
     },
     "execution_count": 3,
     "metadata": {},
     "output_type": "execute_result"
    }
   ],
   "source": [
    "# 상위 10개 행 데이터\n",
    "tip.head(10)"
   ]
  },
  {
   "cell_type": "markdown",
   "metadata": {
    "id": "-vHvSJQhsFht"
   },
   "source": [
    "**2) 하위 데이터 확인**"
   ]
  },
  {
   "cell_type": "code",
   "execution_count": 4,
   "metadata": {
    "id": "-Qr9hq-SsV70"
   },
   "outputs": [
    {
     "data": {
      "text/html": [
       "<div>\n",
       "<style scoped>\n",
       "    .dataframe tbody tr th:only-of-type {\n",
       "        vertical-align: middle;\n",
       "    }\n",
       "\n",
       "    .dataframe tbody tr th {\n",
       "        vertical-align: top;\n",
       "    }\n",
       "\n",
       "    .dataframe thead th {\n",
       "        text-align: right;\n",
       "    }\n",
       "</style>\n",
       "<table border=\"1\" class=\"dataframe\">\n",
       "  <thead>\n",
       "    <tr style=\"text-align: right;\">\n",
       "      <th></th>\n",
       "      <th>total_bill</th>\n",
       "      <th>tip</th>\n",
       "      <th>sex</th>\n",
       "      <th>smoker</th>\n",
       "      <th>day</th>\n",
       "      <th>time</th>\n",
       "      <th>size</th>\n",
       "    </tr>\n",
       "  </thead>\n",
       "  <tbody>\n",
       "    <tr>\n",
       "      <th>241</th>\n",
       "      <td>22.67</td>\n",
       "      <td>2.00</td>\n",
       "      <td>Male</td>\n",
       "      <td>Yes</td>\n",
       "      <td>Sat</td>\n",
       "      <td>Dinner</td>\n",
       "      <td>2</td>\n",
       "    </tr>\n",
       "    <tr>\n",
       "      <th>242</th>\n",
       "      <td>17.82</td>\n",
       "      <td>1.75</td>\n",
       "      <td>Male</td>\n",
       "      <td>No</td>\n",
       "      <td>Sat</td>\n",
       "      <td>Dinner</td>\n",
       "      <td>2</td>\n",
       "    </tr>\n",
       "    <tr>\n",
       "      <th>243</th>\n",
       "      <td>18.78</td>\n",
       "      <td>3.00</td>\n",
       "      <td>Female</td>\n",
       "      <td>No</td>\n",
       "      <td>Thur</td>\n",
       "      <td>Dinner</td>\n",
       "      <td>2</td>\n",
       "    </tr>\n",
       "  </tbody>\n",
       "</table>\n",
       "</div>"
      ],
      "text/plain": [
       "     total_bill   tip     sex smoker   day    time  size\n",
       "241       22.67  2.00    Male    Yes   Sat  Dinner     2\n",
       "242       17.82  1.75    Male     No   Sat  Dinner     2\n",
       "243       18.78  3.00  Female     No  Thur  Dinner     2"
      ]
     },
     "execution_count": 4,
     "metadata": {},
     "output_type": "execute_result"
    }
   ],
   "source": [
    "# 하위 3개 행 데이터\n",
    "tip.tail(3)"
   ]
  },
  {
   "cell_type": "markdown",
   "metadata": {
    "id": "6lBnFI3xsJRR"
   },
   "source": [
    "**3) 크기 확인**\n",
    "\n",
    "- **(rows, cols)** 값을 갖는 **튜플** 형태로 확인이 가능합니다.\n",
    "- 데이터를 분석할 때 처리할 **데이터 양을 확인**하는 목적으로 많이 사용 합니다."
   ]
  },
  {
   "cell_type": "code",
   "execution_count": 5,
   "metadata": {
    "id": "EYh2NhMSYnVh"
   },
   "outputs": [
    {
     "data": {
      "text/plain": [
       "(244, 7)"
      ]
     },
     "execution_count": 5,
     "metadata": {},
     "output_type": "execute_result"
    }
   ],
   "source": [
    "# 행 수와 열 수 확인\n",
    "tip.shape"
   ]
  },
  {
   "cell_type": "markdown",
   "metadata": {
    "id": "Lf1-5iz_wxkT"
   },
   "source": [
    "## 2.2.열, 행 정보 보기"
   ]
  },
  {
   "cell_type": "markdown",
   "metadata": {
    "id": "DKmBgIFtIJPa"
   },
   "source": [
    "**1) 인덱스 확인**"
   ]
  },
  {
   "cell_type": "code",
   "execution_count": 6,
   "metadata": {
    "id": "iGMPPsVZmO_J"
   },
   "outputs": [
    {
     "data": {
      "text/plain": [
       "RangeIndex(start=0, stop=244, step=1)"
      ]
     },
     "execution_count": 6,
     "metadata": {},
     "output_type": "execute_result"
    }
   ],
   "source": [
    "# 인덱스 확인\n",
    "tip.index"
   ]
  },
  {
   "cell_type": "markdown",
   "metadata": {
    "id": "2yAu6hjGmqX5"
   },
   "source": [
    "**2) 값 확인**\n",
    "\n",
    "- values 속성 조회 결과는 Array 입니다."
   ]
  },
  {
   "cell_type": "code",
   "execution_count": 7,
   "metadata": {
    "id": "DK_uz55rmRRM"
   },
   "outputs": [
    {
     "data": {
      "text/plain": [
       "array([[16.99, 1.01, 'Female', ..., 'Sun', 'Dinner', 2],\n",
       "       [10.34, 1.66, 'Male', ..., 'Sun', 'Dinner', 3],\n",
       "       [21.01, 3.5, 'Male', ..., 'Sun', 'Dinner', 3],\n",
       "       ...,\n",
       "       [22.67, 2.0, 'Male', ..., 'Sat', 'Dinner', 2],\n",
       "       [17.82, 1.75, 'Male', ..., 'Sat', 'Dinner', 2],\n",
       "       [18.78, 3.0, 'Female', ..., 'Thur', 'Dinner', 2]], dtype=object)"
      ]
     },
     "execution_count": 7,
     "metadata": {},
     "output_type": "execute_result"
    }
   ],
   "source": [
    "# 값 확인\n",
    "tip.values"
   ]
  },
  {
   "cell_type": "markdown",
   "metadata": {
    "id": "moM8H3EnmtsP"
   },
   "source": [
    "**3) 열 확인**"
   ]
  },
  {
   "cell_type": "code",
   "execution_count": 8,
   "metadata": {
    "id": "YZp-NPIQYnVl"
   },
   "outputs": [
    {
     "data": {
      "text/plain": [
       "Index(['total_bill', 'tip', 'sex', 'smoker', 'day', 'time', 'size'], dtype='object')"
      ]
     },
     "execution_count": 8,
     "metadata": {},
     "output_type": "execute_result"
    }
   ],
   "source": [
    "# 열 확인\n",
    "tip.columns"
   ]
  },
  {
   "cell_type": "markdown",
   "metadata": {
    "id": "03NTnomXIJPc"
   },
   "source": [
    "**4) 자료형 확인**\n",
    "- int64: 정수형 데이터(int)\n",
    "- float64: 실수형 데이터(float)\n",
    "- object: 문자열 데이터(string)"
   ]
  },
  {
   "cell_type": "code",
   "execution_count": 9,
   "metadata": {
    "id": "mJbpIbz2YnVn",
    "scrolled": true
   },
   "outputs": [
    {
     "data": {
      "text/plain": [
       "total_bill    float64\n",
       "tip           float64\n",
       "sex            object\n",
       "smoker         object\n",
       "day            object\n",
       "time           object\n",
       "size            int64\n",
       "dtype: object"
      ]
     },
     "execution_count": 9,
     "metadata": {},
     "output_type": "execute_result"
    }
   ],
   "source": [
    "# 열 자료형 확인\n",
    "tip.dtypes"
   ]
  },
  {
   "cell_type": "code",
   "execution_count": 10,
   "metadata": {
    "id": "zXmD-NqbURwP",
    "scrolled": true
   },
   "outputs": [
    {
     "name": "stdout",
     "output_type": "stream",
     "text": [
      "<class 'pandas.core.frame.DataFrame'>\n",
      "RangeIndex: 244 entries, 0 to 243\n",
      "Data columns (total 7 columns):\n",
      " #   Column      Non-Null Count  Dtype  \n",
      "---  ------      --------------  -----  \n",
      " 0   total_bill  244 non-null    float64\n",
      " 1   tip         244 non-null    float64\n",
      " 2   sex         244 non-null    object \n",
      " 3   smoker      244 non-null    object \n",
      " 4   day         244 non-null    object \n",
      " 5   time        244 non-null    object \n",
      " 6   size        244 non-null    int64  \n",
      "dtypes: float64(2), int64(1), object(4)\n",
      "memory usage: 13.5+ KB\n"
     ]
    }
   ],
   "source": [
    "# 열 자료형, 값 개수 확인\n",
    "tip.info()"
   ]
  },
  {
   "cell_type": "markdown",
   "metadata": {
    "id": "ZdTxUS47IJPe"
   },
   "source": [
    "**5) 기술 통계 확인**\n",
    "\n",
    "- 기술 통계(Descriptive Statistics)는 데이터의 정리, 요약, 해석, 표현 등을 통해 데이터가 갖는 특성을 나타내는 정보입니다.\n",
    "- describe() 메서드는 데이터에 대한 많은 정보를 제공하는 매우 중요한 메서드입니다.\n",
    "- 개수(count), 평균(mean), 표준편차(std), 최솟값(min), 사분위값(25%, 50%, 75%), 최댓값(max)을 표시합니다."
   ]
  },
  {
   "cell_type": "code",
   "execution_count": 11,
   "metadata": {
    "id": "8Z8rhBNBYnVw",
    "scrolled": true
   },
   "outputs": [
    {
     "data": {
      "text/html": [
       "<div>\n",
       "<style scoped>\n",
       "    .dataframe tbody tr th:only-of-type {\n",
       "        vertical-align: middle;\n",
       "    }\n",
       "\n",
       "    .dataframe tbody tr th {\n",
       "        vertical-align: top;\n",
       "    }\n",
       "\n",
       "    .dataframe thead th {\n",
       "        text-align: right;\n",
       "    }\n",
       "</style>\n",
       "<table border=\"1\" class=\"dataframe\">\n",
       "  <thead>\n",
       "    <tr style=\"text-align: right;\">\n",
       "      <th></th>\n",
       "      <th>total_bill</th>\n",
       "      <th>tip</th>\n",
       "      <th>size</th>\n",
       "    </tr>\n",
       "  </thead>\n",
       "  <tbody>\n",
       "    <tr>\n",
       "      <th>count</th>\n",
       "      <td>244.000000</td>\n",
       "      <td>244.000000</td>\n",
       "      <td>244.000000</td>\n",
       "    </tr>\n",
       "    <tr>\n",
       "      <th>mean</th>\n",
       "      <td>19.785943</td>\n",
       "      <td>2.998279</td>\n",
       "      <td>2.569672</td>\n",
       "    </tr>\n",
       "    <tr>\n",
       "      <th>std</th>\n",
       "      <td>8.902412</td>\n",
       "      <td>1.383638</td>\n",
       "      <td>0.951100</td>\n",
       "    </tr>\n",
       "    <tr>\n",
       "      <th>min</th>\n",
       "      <td>3.070000</td>\n",
       "      <td>1.000000</td>\n",
       "      <td>1.000000</td>\n",
       "    </tr>\n",
       "    <tr>\n",
       "      <th>25%</th>\n",
       "      <td>13.347500</td>\n",
       "      <td>2.000000</td>\n",
       "      <td>2.000000</td>\n",
       "    </tr>\n",
       "    <tr>\n",
       "      <th>50%</th>\n",
       "      <td>17.795000</td>\n",
       "      <td>2.900000</td>\n",
       "      <td>2.000000</td>\n",
       "    </tr>\n",
       "    <tr>\n",
       "      <th>75%</th>\n",
       "      <td>24.127500</td>\n",
       "      <td>3.562500</td>\n",
       "      <td>3.000000</td>\n",
       "    </tr>\n",
       "    <tr>\n",
       "      <th>max</th>\n",
       "      <td>50.810000</td>\n",
       "      <td>10.000000</td>\n",
       "      <td>6.000000</td>\n",
       "    </tr>\n",
       "  </tbody>\n",
       "</table>\n",
       "</div>"
      ],
      "text/plain": [
       "       total_bill         tip        size\n",
       "count  244.000000  244.000000  244.000000\n",
       "mean    19.785943    2.998279    2.569672\n",
       "std      8.902412    1.383638    0.951100\n",
       "min      3.070000    1.000000    1.000000\n",
       "25%     13.347500    2.000000    2.000000\n",
       "50%     17.795000    2.900000    2.000000\n",
       "75%     24.127500    3.562500    3.000000\n",
       "max     50.810000   10.000000    6.000000"
      ]
     },
     "execution_count": 11,
     "metadata": {},
     "output_type": "execute_result"
    }
   ],
   "source": [
    "# 기술 통계\n",
    "tip.describe()"
   ]
  },
  {
   "cell_type": "markdown",
   "metadata": {
    "id": "aKbf5zyz9Kuc"
   },
   "source": [
    "- 일부 열에 대해서만 기술 통계를 확인할 수 있습니다."
   ]
  },
  {
   "cell_type": "code",
   "execution_count": null,
   "metadata": {
    "id": "KP6zEKvC9Jxu"
   },
   "outputs": [],
   "source": [
    "# 기술 통계\n",
    "tip[['total_bill', 'tip']].describe()"
   ]
  },
  {
   "cell_type": "markdown",
   "metadata": {
    "id": "NN1etqMV6qZx"
   },
   "source": [
    "**[참고] 사분위에 대한 이해**"
   ]
  },
  {
   "cell_type": "markdown",
   "metadata": {
    "id": "0HGWIiwZ6qZy"
   },
   "source": [
    "<img src='https://raw.githubusercontent.com/jangrae/img/master/quartile2.png' width=700 align=\"left\"/>"
   ]
  },
  {
   "cell_type": "markdown",
   "metadata": {
    "id": "yohTkqw2ex7e"
   },
   "source": [
    "<img src='https://raw.githubusercontent.com/jangrae/img/master/practice_20.png' width=120 align=\"left\"/>"
   ]
  },
  {
   "cell_type": "markdown",
   "metadata": {
    "id": "U8teAX0t6qZy"
   },
   "source": [
    "[문1] 25%, 50%, 75% 값을 확인하세요."
   ]
  },
  {
   "cell_type": "markdown",
   "metadata": {
    "id": "2aQ0WzGm6qZy"
   },
   "source": [
    "<img src='https://raw.githubusercontent.com/jangrae/img/master/quartile_a.png' width=700 align=\"left\"/>"
   ]
  },
  {
   "cell_type": "markdown",
   "metadata": {
    "id": "IOb6vqTbdtPC"
   },
   "source": [
    "[문2] 다음 경로의 파일을 읽어와 temp 데이터프레임을 선언하세요.\n",
    "\n",
    "- 파일 경로: 'https://raw.githubusercontent.com/Jangrae/csv/master/weather.csv'"
   ]
  },
  {
   "cell_type": "code",
   "execution_count": 12,
   "metadata": {
    "id": "UmooiWmRdQUj"
   },
   "outputs": [],
   "source": [
    "# 데이터 읽어오기\n",
    "temp = pd.read_csv('https://raw.githubusercontent.com/Jangrae/csv/master/weather.csv')\n"
   ]
  },
  {
   "cell_type": "markdown",
   "metadata": {
    "id": "fdi1AhcMEqAn"
   },
   "source": [
    "[문3] temp 데이터프레임 관련 정보를 확인하세요."
   ]
  },
  {
   "cell_type": "code",
   "execution_count": 13,
   "metadata": {
    "id": "2XqDG9RwtaXz"
   },
   "outputs": [
    {
     "data": {
      "text/html": [
       "<div>\n",
       "<style scoped>\n",
       "    .dataframe tbody tr th:only-of-type {\n",
       "        vertical-align: middle;\n",
       "    }\n",
       "\n",
       "    .dataframe tbody tr th {\n",
       "        vertical-align: top;\n",
       "    }\n",
       "\n",
       "    .dataframe thead th {\n",
       "        text-align: right;\n",
       "    }\n",
       "</style>\n",
       "<table border=\"1\" class=\"dataframe\">\n",
       "  <thead>\n",
       "    <tr style=\"text-align: right;\">\n",
       "      <th></th>\n",
       "      <th>연도</th>\n",
       "      <th>년월</th>\n",
       "      <th>기온</th>\n",
       "      <th>최고기온</th>\n",
       "      <th>극점최고기온</th>\n",
       "      <th>최저기온</th>\n",
       "      <th>극점최저기온</th>\n",
       "      <th>강수량</th>\n",
       "      <th>상대습도</th>\n",
       "      <th>풍속</th>\n",
       "      <th>최대풍속</th>\n",
       "      <th>최대순간풍속</th>\n",
       "    </tr>\n",
       "  </thead>\n",
       "  <tbody>\n",
       "    <tr>\n",
       "      <th>0</th>\n",
       "      <td>2000</td>\n",
       "      <td>2000. 01</td>\n",
       "      <td>-2.1</td>\n",
       "      <td>1.7</td>\n",
       "      <td>9.9</td>\n",
       "      <td>-5.7</td>\n",
       "      <td>-12.1</td>\n",
       "      <td>42.8</td>\n",
       "      <td>64.0</td>\n",
       "      <td>2.6</td>\n",
       "      <td>7.6</td>\n",
       "      <td>12.3</td>\n",
       "    </tr>\n",
       "    <tr>\n",
       "      <th>1</th>\n",
       "      <td>2000</td>\n",
       "      <td>2000. 02</td>\n",
       "      <td>-1.7</td>\n",
       "      <td>2.6</td>\n",
       "      <td>7.5</td>\n",
       "      <td>-5.8</td>\n",
       "      <td>-11.6</td>\n",
       "      <td>2.1</td>\n",
       "      <td>56.0</td>\n",
       "      <td>2.7</td>\n",
       "      <td>10.6</td>\n",
       "      <td>19.1</td>\n",
       "    </tr>\n",
       "    <tr>\n",
       "      <th>2</th>\n",
       "      <td>2000</td>\n",
       "      <td>2000. 03</td>\n",
       "      <td>6.3</td>\n",
       "      <td>11.4</td>\n",
       "      <td>18.9</td>\n",
       "      <td>1.7</td>\n",
       "      <td>-4.8</td>\n",
       "      <td>3.1</td>\n",
       "      <td>55.0</td>\n",
       "      <td>3.0</td>\n",
       "      <td>12.2</td>\n",
       "      <td>19.9</td>\n",
       "    </tr>\n",
       "    <tr>\n",
       "      <th>3</th>\n",
       "      <td>2000</td>\n",
       "      <td>2000. 04</td>\n",
       "      <td>11.9</td>\n",
       "      <td>16.9</td>\n",
       "      <td>23.5</td>\n",
       "      <td>7.3</td>\n",
       "      <td>1.8</td>\n",
       "      <td>30.7</td>\n",
       "      <td>56.0</td>\n",
       "      <td>2.9</td>\n",
       "      <td>9.5</td>\n",
       "      <td>18.8</td>\n",
       "    </tr>\n",
       "    <tr>\n",
       "      <th>4</th>\n",
       "      <td>2000</td>\n",
       "      <td>2000. 05</td>\n",
       "      <td>17.5</td>\n",
       "      <td>22.7</td>\n",
       "      <td>30.5</td>\n",
       "      <td>12.9</td>\n",
       "      <td>7.9</td>\n",
       "      <td>75.2</td>\n",
       "      <td>66.0</td>\n",
       "      <td>2.3</td>\n",
       "      <td>8.3</td>\n",
       "      <td>13.6</td>\n",
       "    </tr>\n",
       "  </tbody>\n",
       "</table>\n",
       "</div>"
      ],
      "text/plain": [
       "     연도        년월    기온  최고기온  극점최고기온  최저기온  극점최저기온   강수량  상대습도   풍속  최대풍속  \\\n",
       "0  2000  2000. 01  -2.1   1.7     9.9  -5.7   -12.1  42.8  64.0  2.6   7.6   \n",
       "1  2000  2000. 02  -1.7   2.6     7.5  -5.8   -11.6   2.1  56.0  2.7  10.6   \n",
       "2  2000  2000. 03   6.3  11.4    18.9   1.7    -4.8   3.1  55.0  3.0  12.2   \n",
       "3  2000  2000. 04  11.9  16.9    23.5   7.3     1.8  30.7  56.0  2.9   9.5   \n",
       "4  2000  2000. 05  17.5  22.7    30.5  12.9     7.9  75.2  66.0  2.3   8.3   \n",
       "\n",
       "   최대순간풍속  \n",
       "0    12.3  \n",
       "1    19.1  \n",
       "2    19.9  \n",
       "3    18.8  \n",
       "4    13.6  "
      ]
     },
     "execution_count": 13,
     "metadata": {},
     "output_type": "execute_result"
    }
   ],
   "source": [
    "# 상위 데이터 확인\n",
    "temp.head()"
   ]
  },
  {
   "cell_type": "code",
   "execution_count": 16,
   "metadata": {
    "id": "juWI1txLdtPE"
   },
   "outputs": [
    {
     "data": {
      "text/plain": [
       "(300, 12)"
      ]
     },
     "execution_count": 16,
     "metadata": {},
     "output_type": "execute_result"
    }
   ],
   "source": [
    "# 크기 확인\n",
    "temp.shape"
   ]
  },
  {
   "cell_type": "code",
   "execution_count": 17,
   "metadata": {
    "id": "6X9fadORdtPJ"
   },
   "outputs": [
    {
     "data": {
      "text/plain": [
       "RangeIndex(start=0, stop=300, step=1)"
      ]
     },
     "execution_count": 17,
     "metadata": {},
     "output_type": "execute_result"
    }
   ],
   "source": [
    "# 인덱스 확인\n",
    "temp.index"
   ]
  },
  {
   "cell_type": "code",
   "execution_count": 18,
   "metadata": {
    "id": "orwZpYENdtPN"
   },
   "outputs": [
    {
     "data": {
      "text/plain": [
       "Index(['연도', '년월', '기온', '최고기온', '극점최고기온', '최저기온', '극점최저기온', '강수량', '상대습도',\n",
       "       '풍속', '최대풍속', '최대순간풍속'],\n",
       "      dtype='object')"
      ]
     },
     "execution_count": 18,
     "metadata": {},
     "output_type": "execute_result"
    }
   ],
   "source": [
    "# 열 확인\n",
    "temp.columns"
   ]
  },
  {
   "cell_type": "code",
   "execution_count": 19,
   "metadata": {
    "id": "P1q5Hn6FdtPQ"
   },
   "outputs": [
    {
     "name": "stdout",
     "output_type": "stream",
     "text": [
      "<class 'pandas.core.frame.DataFrame'>\n",
      "RangeIndex: 300 entries, 0 to 299\n",
      "Data columns (total 12 columns):\n",
      " #   Column  Non-Null Count  Dtype  \n",
      "---  ------  --------------  -----  \n",
      " 0   연도      300 non-null    int64  \n",
      " 1   년월      300 non-null    object \n",
      " 2   기온      300 non-null    float64\n",
      " 3   최고기온    300 non-null    float64\n",
      " 4   극점최고기온  300 non-null    float64\n",
      " 5   최저기온    300 non-null    float64\n",
      " 6   극점최저기온  300 non-null    float64\n",
      " 7   강수량     300 non-null    object \n",
      " 8   상대습도    300 non-null    float64\n",
      " 9   풍속      300 non-null    float64\n",
      " 10  최대풍속    300 non-null    float64\n",
      " 11  최대순간풍속  300 non-null    float64\n",
      "dtypes: float64(9), int64(1), object(2)\n",
      "memory usage: 28.3+ KB\n"
     ]
    }
   ],
   "source": [
    "# 열 자료형, 값 개수 확인\n",
    "temp.info()"
   ]
  },
  {
   "cell_type": "code",
   "execution_count": 22,
   "metadata": {
    "id": "s7zaSvW4dtPT"
   },
   "outputs": [
    {
     "data": {
      "text/html": [
       "<div>\n",
       "<style scoped>\n",
       "    .dataframe tbody tr th:only-of-type {\n",
       "        vertical-align: middle;\n",
       "    }\n",
       "\n",
       "    .dataframe tbody tr th {\n",
       "        vertical-align: top;\n",
       "    }\n",
       "\n",
       "    .dataframe thead th {\n",
       "        text-align: right;\n",
       "    }\n",
       "</style>\n",
       "<table border=\"1\" class=\"dataframe\">\n",
       "  <thead>\n",
       "    <tr style=\"text-align: right;\">\n",
       "      <th></th>\n",
       "      <th>연도</th>\n",
       "      <th>기온</th>\n",
       "      <th>최고기온</th>\n",
       "      <th>극점최고기온</th>\n",
       "      <th>최저기온</th>\n",
       "      <th>극점최저기온</th>\n",
       "      <th>상대습도</th>\n",
       "      <th>풍속</th>\n",
       "      <th>최대풍속</th>\n",
       "      <th>최대순간풍속</th>\n",
       "    </tr>\n",
       "  </thead>\n",
       "  <tbody>\n",
       "    <tr>\n",
       "      <th>count</th>\n",
       "      <td>300.000000</td>\n",
       "      <td>300.000000</td>\n",
       "      <td>300.000000</td>\n",
       "      <td>300.000000</td>\n",
       "      <td>300.000000</td>\n",
       "      <td>300.000000</td>\n",
       "      <td>300.000000</td>\n",
       "      <td>300.000000</td>\n",
       "      <td>300.000000</td>\n",
       "      <td>300.000000</td>\n",
       "    </tr>\n",
       "    <tr>\n",
       "      <th>mean</th>\n",
       "      <td>2012.000000</td>\n",
       "      <td>13.056667</td>\n",
       "      <td>17.628333</td>\n",
       "      <td>24.289667</td>\n",
       "      <td>9.157333</td>\n",
       "      <td>3.014333</td>\n",
       "      <td>61.703000</td>\n",
       "      <td>2.337667</td>\n",
       "      <td>8.146333</td>\n",
       "      <td>15.018667</td>\n",
       "    </tr>\n",
       "    <tr>\n",
       "      <th>std</th>\n",
       "      <td>7.223151</td>\n",
       "      <td>10.007151</td>\n",
       "      <td>10.038649</td>\n",
       "      <td>8.889428</td>\n",
       "      <td>10.122189</td>\n",
       "      <td>11.622379</td>\n",
       "      <td>8.522731</td>\n",
       "      <td>0.404508</td>\n",
       "      <td>1.539107</td>\n",
       "      <td>2.987418</td>\n",
       "    </tr>\n",
       "    <tr>\n",
       "      <th>min</th>\n",
       "      <td>2000.000000</td>\n",
       "      <td>-7.200000</td>\n",
       "      <td>-3.400000</td>\n",
       "      <td>0.300000</td>\n",
       "      <td>-10.500000</td>\n",
       "      <td>-18.600000</td>\n",
       "      <td>43.200000</td>\n",
       "      <td>1.000000</td>\n",
       "      <td>4.200000</td>\n",
       "      <td>7.300000</td>\n",
       "    </tr>\n",
       "    <tr>\n",
       "      <th>25%</th>\n",
       "      <td>2006.000000</td>\n",
       "      <td>3.950000</td>\n",
       "      <td>8.175000</td>\n",
       "      <td>16.625000</td>\n",
       "      <td>0.175000</td>\n",
       "      <td>-7.325000</td>\n",
       "      <td>55.000000</td>\n",
       "      <td>2.100000</td>\n",
       "      <td>7.100000</td>\n",
       "      <td>12.800000</td>\n",
       "    </tr>\n",
       "    <tr>\n",
       "      <th>50%</th>\n",
       "      <td>2012.000000</td>\n",
       "      <td>14.150000</td>\n",
       "      <td>19.450000</td>\n",
       "      <td>26.450000</td>\n",
       "      <td>9.550000</td>\n",
       "      <td>3.100000</td>\n",
       "      <td>60.000000</td>\n",
       "      <td>2.300000</td>\n",
       "      <td>8.000000</td>\n",
       "      <td>14.800000</td>\n",
       "    </tr>\n",
       "    <tr>\n",
       "      <th>75%</th>\n",
       "      <td>2018.000000</td>\n",
       "      <td>22.425000</td>\n",
       "      <td>27.125000</td>\n",
       "      <td>31.925000</td>\n",
       "      <td>18.600000</td>\n",
       "      <td>14.225000</td>\n",
       "      <td>68.000000</td>\n",
       "      <td>2.600000</td>\n",
       "      <td>8.925000</td>\n",
       "      <td>16.700000</td>\n",
       "    </tr>\n",
       "    <tr>\n",
       "      <th>max</th>\n",
       "      <td>2024.000000</td>\n",
       "      <td>29.300000</td>\n",
       "      <td>33.300000</td>\n",
       "      <td>39.600000</td>\n",
       "      <td>26.300000</td>\n",
       "      <td>22.600000</td>\n",
       "      <td>85.000000</td>\n",
       "      <td>3.500000</td>\n",
       "      <td>14.000000</td>\n",
       "      <td>28.300000</td>\n",
       "    </tr>\n",
       "  </tbody>\n",
       "</table>\n",
       "</div>"
      ],
      "text/plain": [
       "                연도          기온        최고기온      극점최고기온        최저기온  \\\n",
       "count   300.000000  300.000000  300.000000  300.000000  300.000000   \n",
       "mean   2012.000000   13.056667   17.628333   24.289667    9.157333   \n",
       "std       7.223151   10.007151   10.038649    8.889428   10.122189   \n",
       "min    2000.000000   -7.200000   -3.400000    0.300000  -10.500000   \n",
       "25%    2006.000000    3.950000    8.175000   16.625000    0.175000   \n",
       "50%    2012.000000   14.150000   19.450000   26.450000    9.550000   \n",
       "75%    2018.000000   22.425000   27.125000   31.925000   18.600000   \n",
       "max    2024.000000   29.300000   33.300000   39.600000   26.300000   \n",
       "\n",
       "           극점최저기온        상대습도          풍속        최대풍속      최대순간풍속  \n",
       "count  300.000000  300.000000  300.000000  300.000000  300.000000  \n",
       "mean     3.014333   61.703000    2.337667    8.146333   15.018667  \n",
       "std     11.622379    8.522731    0.404508    1.539107    2.987418  \n",
       "min    -18.600000   43.200000    1.000000    4.200000    7.300000  \n",
       "25%     -7.325000   55.000000    2.100000    7.100000   12.800000  \n",
       "50%      3.100000   60.000000    2.300000    8.000000   14.800000  \n",
       "75%     14.225000   68.000000    2.600000    8.925000   16.700000  \n",
       "max     22.600000   85.000000    3.500000   14.000000   28.300000  "
      ]
     },
     "execution_count": 22,
     "metadata": {},
     "output_type": "execute_result"
    }
   ],
   "source": [
    "# 기술 통계 확인\n",
    "temp.describe()"
   ]
  },
  {
   "cell_type": "markdown",
   "metadata": {
    "id": "VTlu-bdSfMYw"
   },
   "source": [
    "<img src='https://raw.githubusercontent.com/jangrae/img/master/practice_20e.png' width=45 align=\"left\"/>"
   ]
  },
  {
   "cell_type": "markdown",
   "metadata": {
    "id": "7d32vCo6wxk0"
   },
   "source": [
    "## 2.3.정렬해서 보기\n",
    "\n",
    "- 인덱스를 기준으로 정렬하는 방법과 특정 열을 기준으로 정렬하는 방법이 있습니다.\n",
    "- **sort_values()** 메서드로 **특정 열**을 기준으로 정렬합니다.\n",
    "- **ascending** 옵션을 설정해 오름차순, 내림차순을 설정할 수 있습니다.\n",
    "    - ascending=True: 오름차순 정렬(기본값)\n",
    "    - ascending=False: 내림차순 정렬"
   ]
  },
  {
   "cell_type": "code",
   "execution_count": 25,
   "metadata": {},
   "outputs": [
    {
     "data": {
      "text/html": [
       "<div>\n",
       "<style scoped>\n",
       "    .dataframe tbody tr th:only-of-type {\n",
       "        vertical-align: middle;\n",
       "    }\n",
       "\n",
       "    .dataframe tbody tr th {\n",
       "        vertical-align: top;\n",
       "    }\n",
       "\n",
       "    .dataframe thead th {\n",
       "        text-align: right;\n",
       "    }\n",
       "</style>\n",
       "<table border=\"1\" class=\"dataframe\">\n",
       "  <thead>\n",
       "    <tr style=\"text-align: right;\">\n",
       "      <th></th>\n",
       "      <th>total_bill</th>\n",
       "      <th>tip</th>\n",
       "      <th>sex</th>\n",
       "      <th>smoker</th>\n",
       "      <th>day</th>\n",
       "      <th>time</th>\n",
       "      <th>size</th>\n",
       "    </tr>\n",
       "  </thead>\n",
       "  <tbody>\n",
       "    <tr>\n",
       "      <th>0</th>\n",
       "      <td>16.99</td>\n",
       "      <td>1.01</td>\n",
       "      <td>Female</td>\n",
       "      <td>No</td>\n",
       "      <td>Sun</td>\n",
       "      <td>Dinner</td>\n",
       "      <td>2</td>\n",
       "    </tr>\n",
       "    <tr>\n",
       "      <th>1</th>\n",
       "      <td>10.34</td>\n",
       "      <td>1.66</td>\n",
       "      <td>Male</td>\n",
       "      <td>No</td>\n",
       "      <td>Sun</td>\n",
       "      <td>Dinner</td>\n",
       "      <td>3</td>\n",
       "    </tr>\n",
       "    <tr>\n",
       "      <th>2</th>\n",
       "      <td>21.01</td>\n",
       "      <td>3.50</td>\n",
       "      <td>Male</td>\n",
       "      <td>No</td>\n",
       "      <td>Sun</td>\n",
       "      <td>Dinner</td>\n",
       "      <td>3</td>\n",
       "    </tr>\n",
       "    <tr>\n",
       "      <th>3</th>\n",
       "      <td>23.68</td>\n",
       "      <td>3.31</td>\n",
       "      <td>Male</td>\n",
       "      <td>No</td>\n",
       "      <td>Sun</td>\n",
       "      <td>Dinner</td>\n",
       "      <td>2</td>\n",
       "    </tr>\n",
       "    <tr>\n",
       "      <th>4</th>\n",
       "      <td>24.59</td>\n",
       "      <td>3.61</td>\n",
       "      <td>Female</td>\n",
       "      <td>No</td>\n",
       "      <td>Sun</td>\n",
       "      <td>Dinner</td>\n",
       "      <td>4</td>\n",
       "    </tr>\n",
       "  </tbody>\n",
       "</table>\n",
       "</div>"
      ],
      "text/plain": [
       "   total_bill   tip     sex smoker  day    time  size\n",
       "0       16.99  1.01  Female     No  Sun  Dinner     2\n",
       "1       10.34  1.66    Male     No  Sun  Dinner     3\n",
       "2       21.01  3.50    Male     No  Sun  Dinner     3\n",
       "3       23.68  3.31    Male     No  Sun  Dinner     2\n",
       "4       24.59  3.61  Female     No  Sun  Dinner     4"
      ]
     },
     "execution_count": 25,
     "metadata": {},
     "output_type": "execute_result"
    }
   ],
   "source": [
    "tip.head()"
   ]
  },
  {
   "cell_type": "code",
   "execution_count": 26,
   "metadata": {
    "id": "b54Sod9nYnV2"
   },
   "outputs": [
    {
     "data": {
      "text/html": [
       "<div>\n",
       "<style scoped>\n",
       "    .dataframe tbody tr th:only-of-type {\n",
       "        vertical-align: middle;\n",
       "    }\n",
       "\n",
       "    .dataframe tbody tr th {\n",
       "        vertical-align: top;\n",
       "    }\n",
       "\n",
       "    .dataframe thead th {\n",
       "        text-align: right;\n",
       "    }\n",
       "</style>\n",
       "<table border=\"1\" class=\"dataframe\">\n",
       "  <thead>\n",
       "    <tr style=\"text-align: right;\">\n",
       "      <th></th>\n",
       "      <th>total_bill</th>\n",
       "      <th>tip</th>\n",
       "      <th>sex</th>\n",
       "      <th>smoker</th>\n",
       "      <th>day</th>\n",
       "      <th>time</th>\n",
       "      <th>size</th>\n",
       "    </tr>\n",
       "  </thead>\n",
       "  <tbody>\n",
       "    <tr>\n",
       "      <th>67</th>\n",
       "      <td>3.07</td>\n",
       "      <td>1.00</td>\n",
       "      <td>Female</td>\n",
       "      <td>Yes</td>\n",
       "      <td>Sat</td>\n",
       "      <td>Dinner</td>\n",
       "      <td>1</td>\n",
       "    </tr>\n",
       "    <tr>\n",
       "      <th>92</th>\n",
       "      <td>5.75</td>\n",
       "      <td>1.00</td>\n",
       "      <td>Female</td>\n",
       "      <td>Yes</td>\n",
       "      <td>Fri</td>\n",
       "      <td>Dinner</td>\n",
       "      <td>2</td>\n",
       "    </tr>\n",
       "    <tr>\n",
       "      <th>111</th>\n",
       "      <td>7.25</td>\n",
       "      <td>1.00</td>\n",
       "      <td>Female</td>\n",
       "      <td>No</td>\n",
       "      <td>Sat</td>\n",
       "      <td>Dinner</td>\n",
       "      <td>1</td>\n",
       "    </tr>\n",
       "    <tr>\n",
       "      <th>172</th>\n",
       "      <td>7.25</td>\n",
       "      <td>5.15</td>\n",
       "      <td>Male</td>\n",
       "      <td>Yes</td>\n",
       "      <td>Sun</td>\n",
       "      <td>Dinner</td>\n",
       "      <td>2</td>\n",
       "    </tr>\n",
       "    <tr>\n",
       "      <th>149</th>\n",
       "      <td>7.51</td>\n",
       "      <td>2.00</td>\n",
       "      <td>Male</td>\n",
       "      <td>No</td>\n",
       "      <td>Thur</td>\n",
       "      <td>Lunch</td>\n",
       "      <td>2</td>\n",
       "    </tr>\n",
       "    <tr>\n",
       "      <th>...</th>\n",
       "      <td>...</td>\n",
       "      <td>...</td>\n",
       "      <td>...</td>\n",
       "      <td>...</td>\n",
       "      <td>...</td>\n",
       "      <td>...</td>\n",
       "      <td>...</td>\n",
       "    </tr>\n",
       "    <tr>\n",
       "      <th>182</th>\n",
       "      <td>45.35</td>\n",
       "      <td>3.50</td>\n",
       "      <td>Male</td>\n",
       "      <td>Yes</td>\n",
       "      <td>Sun</td>\n",
       "      <td>Dinner</td>\n",
       "      <td>3</td>\n",
       "    </tr>\n",
       "    <tr>\n",
       "      <th>156</th>\n",
       "      <td>48.17</td>\n",
       "      <td>5.00</td>\n",
       "      <td>Male</td>\n",
       "      <td>No</td>\n",
       "      <td>Sun</td>\n",
       "      <td>Dinner</td>\n",
       "      <td>6</td>\n",
       "    </tr>\n",
       "    <tr>\n",
       "      <th>59</th>\n",
       "      <td>48.27</td>\n",
       "      <td>6.73</td>\n",
       "      <td>Male</td>\n",
       "      <td>No</td>\n",
       "      <td>Sat</td>\n",
       "      <td>Dinner</td>\n",
       "      <td>4</td>\n",
       "    </tr>\n",
       "    <tr>\n",
       "      <th>212</th>\n",
       "      <td>48.33</td>\n",
       "      <td>9.00</td>\n",
       "      <td>Male</td>\n",
       "      <td>No</td>\n",
       "      <td>Sat</td>\n",
       "      <td>Dinner</td>\n",
       "      <td>4</td>\n",
       "    </tr>\n",
       "    <tr>\n",
       "      <th>170</th>\n",
       "      <td>50.81</td>\n",
       "      <td>10.00</td>\n",
       "      <td>Male</td>\n",
       "      <td>Yes</td>\n",
       "      <td>Sat</td>\n",
       "      <td>Dinner</td>\n",
       "      <td>3</td>\n",
       "    </tr>\n",
       "  </tbody>\n",
       "</table>\n",
       "<p>244 rows × 7 columns</p>\n",
       "</div>"
      ],
      "text/plain": [
       "     total_bill    tip     sex smoker   day    time  size\n",
       "67         3.07   1.00  Female    Yes   Sat  Dinner     1\n",
       "92         5.75   1.00  Female    Yes   Fri  Dinner     2\n",
       "111        7.25   1.00  Female     No   Sat  Dinner     1\n",
       "172        7.25   5.15    Male    Yes   Sun  Dinner     2\n",
       "149        7.51   2.00    Male     No  Thur   Lunch     2\n",
       "..          ...    ...     ...    ...   ...     ...   ...\n",
       "182       45.35   3.50    Male    Yes   Sun  Dinner     3\n",
       "156       48.17   5.00    Male     No   Sun  Dinner     6\n",
       "59        48.27   6.73    Male     No   Sat  Dinner     4\n",
       "212       48.33   9.00    Male     No   Sat  Dinner     4\n",
       "170       50.81  10.00    Male    Yes   Sat  Dinner     3\n",
       "\n",
       "[244 rows x 7 columns]"
      ]
     },
     "execution_count": 26,
     "metadata": {},
     "output_type": "execute_result"
    }
   ],
   "source": [
    "# 단일 열 정렬\n",
    "tip.sort_values(by='total_bill', ascending=True)"
   ]
  },
  {
   "cell_type": "code",
   "execution_count": 27,
   "metadata": {
    "id": "YSsGC3B8IJPv"
   },
   "outputs": [
    {
     "data": {
      "text/html": [
       "<div>\n",
       "<style scoped>\n",
       "    .dataframe tbody tr th:only-of-type {\n",
       "        vertical-align: middle;\n",
       "    }\n",
       "\n",
       "    .dataframe tbody tr th {\n",
       "        vertical-align: top;\n",
       "    }\n",
       "\n",
       "    .dataframe thead th {\n",
       "        text-align: right;\n",
       "    }\n",
       "</style>\n",
       "<table border=\"1\" class=\"dataframe\">\n",
       "  <thead>\n",
       "    <tr style=\"text-align: right;\">\n",
       "      <th></th>\n",
       "      <th>total_bill</th>\n",
       "      <th>tip</th>\n",
       "      <th>sex</th>\n",
       "      <th>smoker</th>\n",
       "      <th>day</th>\n",
       "      <th>time</th>\n",
       "      <th>size</th>\n",
       "    </tr>\n",
       "  </thead>\n",
       "  <tbody>\n",
       "    <tr>\n",
       "      <th>67</th>\n",
       "      <td>3.07</td>\n",
       "      <td>1.00</td>\n",
       "      <td>Female</td>\n",
       "      <td>Yes</td>\n",
       "      <td>Sat</td>\n",
       "      <td>Dinner</td>\n",
       "      <td>1</td>\n",
       "    </tr>\n",
       "    <tr>\n",
       "      <th>92</th>\n",
       "      <td>5.75</td>\n",
       "      <td>1.00</td>\n",
       "      <td>Female</td>\n",
       "      <td>Yes</td>\n",
       "      <td>Fri</td>\n",
       "      <td>Dinner</td>\n",
       "      <td>2</td>\n",
       "    </tr>\n",
       "    <tr>\n",
       "      <th>172</th>\n",
       "      <td>7.25</td>\n",
       "      <td>5.15</td>\n",
       "      <td>Male</td>\n",
       "      <td>Yes</td>\n",
       "      <td>Sun</td>\n",
       "      <td>Dinner</td>\n",
       "      <td>2</td>\n",
       "    </tr>\n",
       "    <tr>\n",
       "      <th>111</th>\n",
       "      <td>7.25</td>\n",
       "      <td>1.00</td>\n",
       "      <td>Female</td>\n",
       "      <td>No</td>\n",
       "      <td>Sat</td>\n",
       "      <td>Dinner</td>\n",
       "      <td>1</td>\n",
       "    </tr>\n",
       "    <tr>\n",
       "      <th>149</th>\n",
       "      <td>7.51</td>\n",
       "      <td>2.00</td>\n",
       "      <td>Male</td>\n",
       "      <td>No</td>\n",
       "      <td>Thur</td>\n",
       "      <td>Lunch</td>\n",
       "      <td>2</td>\n",
       "    </tr>\n",
       "    <tr>\n",
       "      <th>...</th>\n",
       "      <td>...</td>\n",
       "      <td>...</td>\n",
       "      <td>...</td>\n",
       "      <td>...</td>\n",
       "      <td>...</td>\n",
       "      <td>...</td>\n",
       "      <td>...</td>\n",
       "    </tr>\n",
       "    <tr>\n",
       "      <th>182</th>\n",
       "      <td>45.35</td>\n",
       "      <td>3.50</td>\n",
       "      <td>Male</td>\n",
       "      <td>Yes</td>\n",
       "      <td>Sun</td>\n",
       "      <td>Dinner</td>\n",
       "      <td>3</td>\n",
       "    </tr>\n",
       "    <tr>\n",
       "      <th>156</th>\n",
       "      <td>48.17</td>\n",
       "      <td>5.00</td>\n",
       "      <td>Male</td>\n",
       "      <td>No</td>\n",
       "      <td>Sun</td>\n",
       "      <td>Dinner</td>\n",
       "      <td>6</td>\n",
       "    </tr>\n",
       "    <tr>\n",
       "      <th>59</th>\n",
       "      <td>48.27</td>\n",
       "      <td>6.73</td>\n",
       "      <td>Male</td>\n",
       "      <td>No</td>\n",
       "      <td>Sat</td>\n",
       "      <td>Dinner</td>\n",
       "      <td>4</td>\n",
       "    </tr>\n",
       "    <tr>\n",
       "      <th>212</th>\n",
       "      <td>48.33</td>\n",
       "      <td>9.00</td>\n",
       "      <td>Male</td>\n",
       "      <td>No</td>\n",
       "      <td>Sat</td>\n",
       "      <td>Dinner</td>\n",
       "      <td>4</td>\n",
       "    </tr>\n",
       "    <tr>\n",
       "      <th>170</th>\n",
       "      <td>50.81</td>\n",
       "      <td>10.00</td>\n",
       "      <td>Male</td>\n",
       "      <td>Yes</td>\n",
       "      <td>Sat</td>\n",
       "      <td>Dinner</td>\n",
       "      <td>3</td>\n",
       "    </tr>\n",
       "  </tbody>\n",
       "</table>\n",
       "<p>244 rows × 7 columns</p>\n",
       "</div>"
      ],
      "text/plain": [
       "     total_bill    tip     sex smoker   day    time  size\n",
       "67         3.07   1.00  Female    Yes   Sat  Dinner     1\n",
       "92         5.75   1.00  Female    Yes   Fri  Dinner     2\n",
       "172        7.25   5.15    Male    Yes   Sun  Dinner     2\n",
       "111        7.25   1.00  Female     No   Sat  Dinner     1\n",
       "149        7.51   2.00    Male     No  Thur   Lunch     2\n",
       "..          ...    ...     ...    ...   ...     ...   ...\n",
       "182       45.35   3.50    Male    Yes   Sun  Dinner     3\n",
       "156       48.17   5.00    Male     No   Sun  Dinner     6\n",
       "59        48.27   6.73    Male     No   Sat  Dinner     4\n",
       "212       48.33   9.00    Male     No   Sat  Dinner     4\n",
       "170       50.81  10.00    Male    Yes   Sat  Dinner     3\n",
       "\n",
       "[244 rows x 7 columns]"
      ]
     },
     "execution_count": 27,
     "metadata": {},
     "output_type": "execute_result"
    }
   ],
   "source": [
    "# 복합 열 정렬\n",
    "tip.sort_values(by=['total_bill', 'tip'], ascending=[True, False])"
   ]
  },
  {
   "cell_type": "markdown",
   "metadata": {
    "id": "AcKYTLpFBImt"
   },
   "source": [
    "<img src='https://raw.githubusercontent.com/jangrae/img/master/practice_20.png' width=120 align=\"left\"/>"
   ]
  },
  {
   "cell_type": "markdown",
   "metadata": {
    "id": "MpHVdpI9FN0Z"
   },
   "source": [
    "[문1] 다음 경로의 파일을 읽어와 weather 데이터프레임을 선언하세요.\n",
    "\n",
    "- 파일 경로: 'https://raw.githubusercontent.com/Jangrae/csv/master/weather.csv'"
   ]
  },
  {
   "cell_type": "code",
   "execution_count": 29,
   "metadata": {
    "id": "zLjhVF9uFN0f"
   },
   "outputs": [
    {
     "data": {
      "text/html": [
       "<div>\n",
       "<style scoped>\n",
       "    .dataframe tbody tr th:only-of-type {\n",
       "        vertical-align: middle;\n",
       "    }\n",
       "\n",
       "    .dataframe tbody tr th {\n",
       "        vertical-align: top;\n",
       "    }\n",
       "\n",
       "    .dataframe thead th {\n",
       "        text-align: right;\n",
       "    }\n",
       "</style>\n",
       "<table border=\"1\" class=\"dataframe\">\n",
       "  <thead>\n",
       "    <tr style=\"text-align: right;\">\n",
       "      <th></th>\n",
       "      <th>연도</th>\n",
       "      <th>년월</th>\n",
       "      <th>기온</th>\n",
       "      <th>최고기온</th>\n",
       "      <th>극점최고기온</th>\n",
       "      <th>최저기온</th>\n",
       "      <th>극점최저기온</th>\n",
       "      <th>강수량</th>\n",
       "      <th>상대습도</th>\n",
       "      <th>풍속</th>\n",
       "      <th>최대풍속</th>\n",
       "      <th>최대순간풍속</th>\n",
       "    </tr>\n",
       "  </thead>\n",
       "  <tbody>\n",
       "    <tr>\n",
       "      <th>0</th>\n",
       "      <td>2000</td>\n",
       "      <td>2000. 01</td>\n",
       "      <td>-2.1</td>\n",
       "      <td>1.7</td>\n",
       "      <td>9.9</td>\n",
       "      <td>-5.7</td>\n",
       "      <td>-12.1</td>\n",
       "      <td>42.8</td>\n",
       "      <td>64.0</td>\n",
       "      <td>2.6</td>\n",
       "      <td>7.6</td>\n",
       "      <td>12.3</td>\n",
       "    </tr>\n",
       "    <tr>\n",
       "      <th>1</th>\n",
       "      <td>2000</td>\n",
       "      <td>2000. 02</td>\n",
       "      <td>-1.7</td>\n",
       "      <td>2.6</td>\n",
       "      <td>7.5</td>\n",
       "      <td>-5.8</td>\n",
       "      <td>-11.6</td>\n",
       "      <td>2.1</td>\n",
       "      <td>56.0</td>\n",
       "      <td>2.7</td>\n",
       "      <td>10.6</td>\n",
       "      <td>19.1</td>\n",
       "    </tr>\n",
       "    <tr>\n",
       "      <th>2</th>\n",
       "      <td>2000</td>\n",
       "      <td>2000. 03</td>\n",
       "      <td>6.3</td>\n",
       "      <td>11.4</td>\n",
       "      <td>18.9</td>\n",
       "      <td>1.7</td>\n",
       "      <td>-4.8</td>\n",
       "      <td>3.1</td>\n",
       "      <td>55.0</td>\n",
       "      <td>3.0</td>\n",
       "      <td>12.2</td>\n",
       "      <td>19.9</td>\n",
       "    </tr>\n",
       "    <tr>\n",
       "      <th>3</th>\n",
       "      <td>2000</td>\n",
       "      <td>2000. 04</td>\n",
       "      <td>11.9</td>\n",
       "      <td>16.9</td>\n",
       "      <td>23.5</td>\n",
       "      <td>7.3</td>\n",
       "      <td>1.8</td>\n",
       "      <td>30.7</td>\n",
       "      <td>56.0</td>\n",
       "      <td>2.9</td>\n",
       "      <td>9.5</td>\n",
       "      <td>18.8</td>\n",
       "    </tr>\n",
       "    <tr>\n",
       "      <th>4</th>\n",
       "      <td>2000</td>\n",
       "      <td>2000. 05</td>\n",
       "      <td>17.5</td>\n",
       "      <td>22.7</td>\n",
       "      <td>30.5</td>\n",
       "      <td>12.9</td>\n",
       "      <td>7.9</td>\n",
       "      <td>75.2</td>\n",
       "      <td>66.0</td>\n",
       "      <td>2.3</td>\n",
       "      <td>8.3</td>\n",
       "      <td>13.6</td>\n",
       "    </tr>\n",
       "  </tbody>\n",
       "</table>\n",
       "</div>"
      ],
      "text/plain": [
       "     연도        년월    기온  최고기온  극점최고기온  최저기온  극점최저기온   강수량  상대습도   풍속  최대풍속  \\\n",
       "0  2000  2000. 01  -2.1   1.7     9.9  -5.7   -12.1  42.8  64.0  2.6   7.6   \n",
       "1  2000  2000. 02  -1.7   2.6     7.5  -5.8   -11.6   2.1  56.0  2.7  10.6   \n",
       "2  2000  2000. 03   6.3  11.4    18.9   1.7    -4.8   3.1  55.0  3.0  12.2   \n",
       "3  2000  2000. 04  11.9  16.9    23.5   7.3     1.8  30.7  56.0  2.9   9.5   \n",
       "4  2000  2000. 05  17.5  22.7    30.5  12.9     7.9  75.2  66.0  2.3   8.3   \n",
       "\n",
       "   최대순간풍속  \n",
       "0    12.3  \n",
       "1    19.1  \n",
       "2    19.9  \n",
       "3    18.8  \n",
       "4    13.6  "
      ]
     },
     "execution_count": 29,
     "metadata": {},
     "output_type": "execute_result"
    }
   ],
   "source": [
    "# 데이터 읽어오기\n",
    "weather = pd.read_csv('https://raw.githubusercontent.com/Jangrae/csv/master/weather.csv')\n",
    "\n",
    "\n",
    "# 확인\n",
    "weather.head()"
   ]
  },
  {
   "cell_type": "markdown",
   "metadata": {
    "id": "tCp5TKDdEj_J"
   },
   "source": [
    "[문2] 기온 열을 기준으로 내림차순 정렬해서 조회하세요."
   ]
  },
  {
   "cell_type": "code",
   "execution_count": 30,
   "metadata": {
    "id": "HUQb2W5DEj_K"
   },
   "outputs": [
    {
     "data": {
      "text/html": [
       "<div>\n",
       "<style scoped>\n",
       "    .dataframe tbody tr th:only-of-type {\n",
       "        vertical-align: middle;\n",
       "    }\n",
       "\n",
       "    .dataframe tbody tr th {\n",
       "        vertical-align: top;\n",
       "    }\n",
       "\n",
       "    .dataframe thead th {\n",
       "        text-align: right;\n",
       "    }\n",
       "</style>\n",
       "<table border=\"1\" class=\"dataframe\">\n",
       "  <thead>\n",
       "    <tr style=\"text-align: right;\">\n",
       "      <th></th>\n",
       "      <th>연도</th>\n",
       "      <th>년월</th>\n",
       "      <th>기온</th>\n",
       "      <th>최고기온</th>\n",
       "      <th>극점최고기온</th>\n",
       "      <th>최저기온</th>\n",
       "      <th>극점최저기온</th>\n",
       "      <th>강수량</th>\n",
       "      <th>상대습도</th>\n",
       "      <th>풍속</th>\n",
       "      <th>최대풍속</th>\n",
       "      <th>최대순간풍속</th>\n",
       "    </tr>\n",
       "  </thead>\n",
       "  <tbody>\n",
       "    <tr>\n",
       "      <th>295</th>\n",
       "      <td>2024</td>\n",
       "      <td>2024. 08</td>\n",
       "      <td>29.3</td>\n",
       "      <td>33.3</td>\n",
       "      <td>36.4</td>\n",
       "      <td>26.3</td>\n",
       "      <td>22.6</td>\n",
       "      <td>72.8</td>\n",
       "      <td>73.0</td>\n",
       "      <td>2.1</td>\n",
       "      <td>8.2</td>\n",
       "      <td>13.9</td>\n",
       "    </tr>\n",
       "    <tr>\n",
       "      <th>223</th>\n",
       "      <td>2018</td>\n",
       "      <td>2018. 08</td>\n",
       "      <td>28.8</td>\n",
       "      <td>33.3</td>\n",
       "      <td>39.6</td>\n",
       "      <td>25.2</td>\n",
       "      <td>20.2</td>\n",
       "      <td>202.6</td>\n",
       "      <td>65.0</td>\n",
       "      <td>1.7</td>\n",
       "      <td>7.1</td>\n",
       "      <td>17.8</td>\n",
       "    </tr>\n",
       "    <tr>\n",
       "      <th>258</th>\n",
       "      <td>2021</td>\n",
       "      <td>2021. 07</td>\n",
       "      <td>28.1</td>\n",
       "      <td>32.2</td>\n",
       "      <td>36.5</td>\n",
       "      <td>24.6</td>\n",
       "      <td>19.6</td>\n",
       "      <td>168.3</td>\n",
       "      <td>71.0</td>\n",
       "      <td>2.0</td>\n",
       "      <td>7.4</td>\n",
       "      <td>16.5</td>\n",
       "    </tr>\n",
       "    <tr>\n",
       "      <th>199</th>\n",
       "      <td>2016</td>\n",
       "      <td>2016. 08</td>\n",
       "      <td>28.0</td>\n",
       "      <td>32.6</td>\n",
       "      <td>36.6</td>\n",
       "      <td>24.5</td>\n",
       "      <td>16.1</td>\n",
       "      <td>67.1</td>\n",
       "      <td>64.0</td>\n",
       "      <td>2.1</td>\n",
       "      <td>7.3</td>\n",
       "      <td>13.6</td>\n",
       "    </tr>\n",
       "    <tr>\n",
       "      <th>222</th>\n",
       "      <td>2018</td>\n",
       "      <td>2018. 07</td>\n",
       "      <td>27.8</td>\n",
       "      <td>32.1</td>\n",
       "      <td>38.3</td>\n",
       "      <td>24.2</td>\n",
       "      <td>17.7</td>\n",
       "      <td>185.6</td>\n",
       "      <td>68.0</td>\n",
       "      <td>1.5</td>\n",
       "      <td>4.2</td>\n",
       "      <td>8.4</td>\n",
       "    </tr>\n",
       "    <tr>\n",
       "      <th>...</th>\n",
       "      <td>...</td>\n",
       "      <td>...</td>\n",
       "      <td>...</td>\n",
       "      <td>...</td>\n",
       "      <td>...</td>\n",
       "      <td>...</td>\n",
       "      <td>...</td>\n",
       "      <td>...</td>\n",
       "      <td>...</td>\n",
       "      <td>...</td>\n",
       "      <td>...</td>\n",
       "      <td>...</td>\n",
       "    </tr>\n",
       "    <tr>\n",
       "      <th>216</th>\n",
       "      <td>2018</td>\n",
       "      <td>2018. 01</td>\n",
       "      <td>-4.0</td>\n",
       "      <td>0.1</td>\n",
       "      <td>8.7</td>\n",
       "      <td>-7.3</td>\n",
       "      <td>-17.8</td>\n",
       "      <td>8.5</td>\n",
       "      <td>48.0</td>\n",
       "      <td>1.9</td>\n",
       "      <td>7.2</td>\n",
       "      <td>12.2</td>\n",
       "    </tr>\n",
       "    <tr>\n",
       "      <th>155</th>\n",
       "      <td>2012</td>\n",
       "      <td>2012. 12</td>\n",
       "      <td>-4.1</td>\n",
       "      <td>-0.5</td>\n",
       "      <td>8.3</td>\n",
       "      <td>-7.4</td>\n",
       "      <td>-14.5</td>\n",
       "      <td>41.4</td>\n",
       "      <td>57.0</td>\n",
       "      <td>2.7</td>\n",
       "      <td>8.8</td>\n",
       "      <td>14.3</td>\n",
       "    </tr>\n",
       "    <tr>\n",
       "      <th>12</th>\n",
       "      <td>2001</td>\n",
       "      <td>2001. 01</td>\n",
       "      <td>-4.2</td>\n",
       "      <td>-0.8</td>\n",
       "      <td>6.8</td>\n",
       "      <td>-7.8</td>\n",
       "      <td>-18.6</td>\n",
       "      <td>39.4</td>\n",
       "      <td>62.6</td>\n",
       "      <td>2.2</td>\n",
       "      <td>6.6</td>\n",
       "      <td>13.5</td>\n",
       "    </tr>\n",
       "    <tr>\n",
       "      <th>120</th>\n",
       "      <td>2010</td>\n",
       "      <td>2010. 01</td>\n",
       "      <td>-4.5</td>\n",
       "      <td>-0.7</td>\n",
       "      <td>8.4</td>\n",
       "      <td>-8.1</td>\n",
       "      <td>-15.3</td>\n",
       "      <td>29.3</td>\n",
       "      <td>65.0</td>\n",
       "      <td>2.3</td>\n",
       "      <td>6.9</td>\n",
       "      <td>11.5</td>\n",
       "    </tr>\n",
       "    <tr>\n",
       "      <th>132</th>\n",
       "      <td>2011</td>\n",
       "      <td>2011. 01</td>\n",
       "      <td>-7.2</td>\n",
       "      <td>-3.4</td>\n",
       "      <td>0.3</td>\n",
       "      <td>-10.5</td>\n",
       "      <td>-17.8</td>\n",
       "      <td>8.9</td>\n",
       "      <td>54.0</td>\n",
       "      <td>2.8</td>\n",
       "      <td>8.0</td>\n",
       "      <td>14.4</td>\n",
       "    </tr>\n",
       "  </tbody>\n",
       "</table>\n",
       "<p>300 rows × 12 columns</p>\n",
       "</div>"
      ],
      "text/plain": [
       "       연도        년월    기온  최고기온  극점최고기온  최저기온  극점최저기온    강수량  상대습도   풍속  최대풍속  \\\n",
       "295  2024  2024. 08  29.3  33.3    36.4  26.3    22.6   72.8  73.0  2.1   8.2   \n",
       "223  2018  2018. 08  28.8  33.3    39.6  25.2    20.2  202.6  65.0  1.7   7.1   \n",
       "258  2021  2021. 07  28.1  32.2    36.5  24.6    19.6  168.3  71.0  2.0   7.4   \n",
       "199  2016  2016. 08  28.0  32.6    36.6  24.5    16.1   67.1  64.0  2.1   7.3   \n",
       "222  2018  2018. 07  27.8  32.1    38.3  24.2    17.7  185.6  68.0  1.5   4.2   \n",
       "..    ...       ...   ...   ...     ...   ...     ...    ...   ...  ...   ...   \n",
       "216  2018  2018. 01  -4.0   0.1     8.7  -7.3   -17.8    8.5  48.0  1.9   7.2   \n",
       "155  2012  2012. 12  -4.1  -0.5     8.3  -7.4   -14.5   41.4  57.0  2.7   8.8   \n",
       "12   2001  2001. 01  -4.2  -0.8     6.8  -7.8   -18.6   39.4  62.6  2.2   6.6   \n",
       "120  2010  2010. 01  -4.5  -0.7     8.4  -8.1   -15.3   29.3  65.0  2.3   6.9   \n",
       "132  2011  2011. 01  -7.2  -3.4     0.3 -10.5   -17.8    8.9  54.0  2.8   8.0   \n",
       "\n",
       "     최대순간풍속  \n",
       "295    13.9  \n",
       "223    17.8  \n",
       "258    16.5  \n",
       "199    13.6  \n",
       "222     8.4  \n",
       "..      ...  \n",
       "216    12.2  \n",
       "155    14.3  \n",
       "12     13.5  \n",
       "120    11.5  \n",
       "132    14.4  \n",
       "\n",
       "[300 rows x 12 columns]"
      ]
     },
     "execution_count": 30,
     "metadata": {},
     "output_type": "execute_result"
    }
   ],
   "source": [
    "# 내림차순 정렬\n",
    "weather.sort_values(by='기온', ascending=False)"
   ]
  },
  {
   "cell_type": "markdown",
   "metadata": {
    "id": "KLWHHG-k9vvV"
   },
   "source": [
    "[문3] 최저기온 열을 기준으로 오름차순 정렬해서 조회하세요."
   ]
  },
  {
   "cell_type": "code",
   "execution_count": 32,
   "metadata": {
    "id": "wAPdqAeLEj_Q"
   },
   "outputs": [
    {
     "data": {
      "text/html": [
       "<div>\n",
       "<style scoped>\n",
       "    .dataframe tbody tr th:only-of-type {\n",
       "        vertical-align: middle;\n",
       "    }\n",
       "\n",
       "    .dataframe tbody tr th {\n",
       "        vertical-align: top;\n",
       "    }\n",
       "\n",
       "    .dataframe thead th {\n",
       "        text-align: right;\n",
       "    }\n",
       "</style>\n",
       "<table border=\"1\" class=\"dataframe\">\n",
       "  <thead>\n",
       "    <tr style=\"text-align: right;\">\n",
       "      <th></th>\n",
       "      <th>연도</th>\n",
       "      <th>년월</th>\n",
       "      <th>기온</th>\n",
       "      <th>최고기온</th>\n",
       "      <th>극점최고기온</th>\n",
       "      <th>최저기온</th>\n",
       "      <th>극점최저기온</th>\n",
       "      <th>강수량</th>\n",
       "      <th>상대습도</th>\n",
       "      <th>풍속</th>\n",
       "      <th>최대풍속</th>\n",
       "      <th>최대순간풍속</th>\n",
       "    </tr>\n",
       "  </thead>\n",
       "  <tbody>\n",
       "    <tr>\n",
       "      <th>132</th>\n",
       "      <td>2011</td>\n",
       "      <td>2011. 01</td>\n",
       "      <td>-7.2</td>\n",
       "      <td>-3.4</td>\n",
       "      <td>0.3</td>\n",
       "      <td>-10.5</td>\n",
       "      <td>-17.8</td>\n",
       "      <td>8.9</td>\n",
       "      <td>54.0</td>\n",
       "      <td>2.8</td>\n",
       "      <td>8.0</td>\n",
       "      <td>14.4</td>\n",
       "    </tr>\n",
       "    <tr>\n",
       "      <th>120</th>\n",
       "      <td>2010</td>\n",
       "      <td>2010. 01</td>\n",
       "      <td>-4.5</td>\n",
       "      <td>-0.7</td>\n",
       "      <td>8.4</td>\n",
       "      <td>-8.1</td>\n",
       "      <td>-15.3</td>\n",
       "      <td>29.3</td>\n",
       "      <td>65.0</td>\n",
       "      <td>2.3</td>\n",
       "      <td>6.9</td>\n",
       "      <td>11.5</td>\n",
       "    </tr>\n",
       "    <tr>\n",
       "      <th>12</th>\n",
       "      <td>2001</td>\n",
       "      <td>2001. 01</td>\n",
       "      <td>-4.2</td>\n",
       "      <td>-0.8</td>\n",
       "      <td>6.8</td>\n",
       "      <td>-7.8</td>\n",
       "      <td>-18.6</td>\n",
       "      <td>39.4</td>\n",
       "      <td>62.6</td>\n",
       "      <td>2.2</td>\n",
       "      <td>6.6</td>\n",
       "      <td>13.5</td>\n",
       "    </tr>\n",
       "    <tr>\n",
       "      <th>155</th>\n",
       "      <td>2012</td>\n",
       "      <td>2012. 12</td>\n",
       "      <td>-4.1</td>\n",
       "      <td>-0.5</td>\n",
       "      <td>8.3</td>\n",
       "      <td>-7.4</td>\n",
       "      <td>-14.5</td>\n",
       "      <td>41.4</td>\n",
       "      <td>57.0</td>\n",
       "      <td>2.7</td>\n",
       "      <td>8.8</td>\n",
       "      <td>14.3</td>\n",
       "    </tr>\n",
       "    <tr>\n",
       "      <th>71</th>\n",
       "      <td>2005</td>\n",
       "      <td>2005. 12</td>\n",
       "      <td>-3.9</td>\n",
       "      <td>-0.1</td>\n",
       "      <td>11.1</td>\n",
       "      <td>-7.4</td>\n",
       "      <td>-14.0</td>\n",
       "      <td>10.3</td>\n",
       "      <td>51.0</td>\n",
       "      <td>2.5</td>\n",
       "      <td>7.6</td>\n",
       "      <td>15.8</td>\n",
       "    </tr>\n",
       "    <tr>\n",
       "      <th>...</th>\n",
       "      <td>...</td>\n",
       "      <td>...</td>\n",
       "      <td>...</td>\n",
       "      <td>...</td>\n",
       "      <td>...</td>\n",
       "      <td>...</td>\n",
       "      <td>...</td>\n",
       "      <td>...</td>\n",
       "      <td>...</td>\n",
       "      <td>...</td>\n",
       "      <td>...</td>\n",
       "      <td>...</td>\n",
       "    </tr>\n",
       "    <tr>\n",
       "      <th>199</th>\n",
       "      <td>2016</td>\n",
       "      <td>2016. 08</td>\n",
       "      <td>28.0</td>\n",
       "      <td>32.6</td>\n",
       "      <td>36.6</td>\n",
       "      <td>24.5</td>\n",
       "      <td>16.1</td>\n",
       "      <td>67.1</td>\n",
       "      <td>64.0</td>\n",
       "      <td>2.1</td>\n",
       "      <td>7.3</td>\n",
       "      <td>13.6</td>\n",
       "    </tr>\n",
       "    <tr>\n",
       "      <th>258</th>\n",
       "      <td>2021</td>\n",
       "      <td>2021. 07</td>\n",
       "      <td>28.1</td>\n",
       "      <td>32.2</td>\n",
       "      <td>36.5</td>\n",
       "      <td>24.6</td>\n",
       "      <td>19.6</td>\n",
       "      <td>168.3</td>\n",
       "      <td>71.0</td>\n",
       "      <td>2.0</td>\n",
       "      <td>7.4</td>\n",
       "      <td>16.5</td>\n",
       "    </tr>\n",
       "    <tr>\n",
       "      <th>163</th>\n",
       "      <td>2013</td>\n",
       "      <td>2013. 08</td>\n",
       "      <td>27.7</td>\n",
       "      <td>31.1</td>\n",
       "      <td>33.9</td>\n",
       "      <td>24.8</td>\n",
       "      <td>21.1</td>\n",
       "      <td>148.6</td>\n",
       "      <td>69.3</td>\n",
       "      <td>2.8</td>\n",
       "      <td>9.9</td>\n",
       "      <td>15.6</td>\n",
       "    </tr>\n",
       "    <tr>\n",
       "      <th>223</th>\n",
       "      <td>2018</td>\n",
       "      <td>2018. 08</td>\n",
       "      <td>28.8</td>\n",
       "      <td>33.3</td>\n",
       "      <td>39.6</td>\n",
       "      <td>25.2</td>\n",
       "      <td>20.2</td>\n",
       "      <td>202.6</td>\n",
       "      <td>65.0</td>\n",
       "      <td>1.7</td>\n",
       "      <td>7.1</td>\n",
       "      <td>17.8</td>\n",
       "    </tr>\n",
       "    <tr>\n",
       "      <th>295</th>\n",
       "      <td>2024</td>\n",
       "      <td>2024. 08</td>\n",
       "      <td>29.3</td>\n",
       "      <td>33.3</td>\n",
       "      <td>36.4</td>\n",
       "      <td>26.3</td>\n",
       "      <td>22.6</td>\n",
       "      <td>72.8</td>\n",
       "      <td>73.0</td>\n",
       "      <td>2.1</td>\n",
       "      <td>8.2</td>\n",
       "      <td>13.9</td>\n",
       "    </tr>\n",
       "  </tbody>\n",
       "</table>\n",
       "<p>300 rows × 12 columns</p>\n",
       "</div>"
      ],
      "text/plain": [
       "       연도        년월    기온  최고기온  극점최고기온  최저기온  극점최저기온    강수량  상대습도   풍속  최대풍속  \\\n",
       "132  2011  2011. 01  -7.2  -3.4     0.3 -10.5   -17.8    8.9  54.0  2.8   8.0   \n",
       "120  2010  2010. 01  -4.5  -0.7     8.4  -8.1   -15.3   29.3  65.0  2.3   6.9   \n",
       "12   2001  2001. 01  -4.2  -0.8     6.8  -7.8   -18.6   39.4  62.6  2.2   6.6   \n",
       "155  2012  2012. 12  -4.1  -0.5     8.3  -7.4   -14.5   41.4  57.0  2.7   8.8   \n",
       "71   2005  2005. 12  -3.9  -0.1    11.1  -7.4   -14.0   10.3  51.0  2.5   7.6   \n",
       "..    ...       ...   ...   ...     ...   ...     ...    ...   ...  ...   ...   \n",
       "199  2016  2016. 08  28.0  32.6    36.6  24.5    16.1   67.1  64.0  2.1   7.3   \n",
       "258  2021  2021. 07  28.1  32.2    36.5  24.6    19.6  168.3  71.0  2.0   7.4   \n",
       "163  2013  2013. 08  27.7  31.1    33.9  24.8    21.1  148.6  69.3  2.8   9.9   \n",
       "223  2018  2018. 08  28.8  33.3    39.6  25.2    20.2  202.6  65.0  1.7   7.1   \n",
       "295  2024  2024. 08  29.3  33.3    36.4  26.3    22.6   72.8  73.0  2.1   8.2   \n",
       "\n",
       "     최대순간풍속  \n",
       "132    14.4  \n",
       "120    11.5  \n",
       "12     13.5  \n",
       "155    14.3  \n",
       "71     15.8  \n",
       "..      ...  \n",
       "199    13.6  \n",
       "258    16.5  \n",
       "163    15.6  \n",
       "223    17.8  \n",
       "295    13.9  \n",
       "\n",
       "[300 rows x 12 columns]"
      ]
     },
     "execution_count": 32,
     "metadata": {},
     "output_type": "execute_result"
    }
   ],
   "source": [
    "# 오름차순 정렬\n",
    "weather.sort_values(by='최저기온')"
   ]
  },
  {
   "cell_type": "markdown",
   "metadata": {
    "id": "f-eJyDjygRQD"
   },
   "source": [
    "[문4] 최저기온 열을 기준으로 오름차순 정렬해서 상위 10개 행만 조회하세요."
   ]
  },
  {
   "cell_type": "code",
   "execution_count": 33,
   "metadata": {
    "id": "07bXPrSNgRQE"
   },
   "outputs": [
    {
     "data": {
      "text/html": [
       "<div>\n",
       "<style scoped>\n",
       "    .dataframe tbody tr th:only-of-type {\n",
       "        vertical-align: middle;\n",
       "    }\n",
       "\n",
       "    .dataframe tbody tr th {\n",
       "        vertical-align: top;\n",
       "    }\n",
       "\n",
       "    .dataframe thead th {\n",
       "        text-align: right;\n",
       "    }\n",
       "</style>\n",
       "<table border=\"1\" class=\"dataframe\">\n",
       "  <thead>\n",
       "    <tr style=\"text-align: right;\">\n",
       "      <th></th>\n",
       "      <th>연도</th>\n",
       "      <th>년월</th>\n",
       "      <th>기온</th>\n",
       "      <th>최고기온</th>\n",
       "      <th>극점최고기온</th>\n",
       "      <th>최저기온</th>\n",
       "      <th>극점최저기온</th>\n",
       "      <th>강수량</th>\n",
       "      <th>상대습도</th>\n",
       "      <th>풍속</th>\n",
       "      <th>최대풍속</th>\n",
       "      <th>최대순간풍속</th>\n",
       "    </tr>\n",
       "  </thead>\n",
       "  <tbody>\n",
       "    <tr>\n",
       "      <th>132</th>\n",
       "      <td>2011</td>\n",
       "      <td>2011. 01</td>\n",
       "      <td>-7.2</td>\n",
       "      <td>-3.4</td>\n",
       "      <td>0.3</td>\n",
       "      <td>-10.5</td>\n",
       "      <td>-17.8</td>\n",
       "      <td>8.9</td>\n",
       "      <td>54.0</td>\n",
       "      <td>2.8</td>\n",
       "      <td>8.0</td>\n",
       "      <td>14.4</td>\n",
       "    </tr>\n",
       "    <tr>\n",
       "      <th>120</th>\n",
       "      <td>2010</td>\n",
       "      <td>2010. 01</td>\n",
       "      <td>-4.5</td>\n",
       "      <td>-0.7</td>\n",
       "      <td>8.4</td>\n",
       "      <td>-8.1</td>\n",
       "      <td>-15.3</td>\n",
       "      <td>29.3</td>\n",
       "      <td>65.0</td>\n",
       "      <td>2.3</td>\n",
       "      <td>6.9</td>\n",
       "      <td>11.5</td>\n",
       "    </tr>\n",
       "    <tr>\n",
       "      <th>12</th>\n",
       "      <td>2001</td>\n",
       "      <td>2001. 01</td>\n",
       "      <td>-4.2</td>\n",
       "      <td>-0.8</td>\n",
       "      <td>6.8</td>\n",
       "      <td>-7.8</td>\n",
       "      <td>-18.6</td>\n",
       "      <td>39.4</td>\n",
       "      <td>62.6</td>\n",
       "      <td>2.2</td>\n",
       "      <td>6.6</td>\n",
       "      <td>13.5</td>\n",
       "    </tr>\n",
       "    <tr>\n",
       "      <th>155</th>\n",
       "      <td>2012</td>\n",
       "      <td>2012. 12</td>\n",
       "      <td>-4.1</td>\n",
       "      <td>-0.5</td>\n",
       "      <td>8.3</td>\n",
       "      <td>-7.4</td>\n",
       "      <td>-14.5</td>\n",
       "      <td>41.4</td>\n",
       "      <td>57.0</td>\n",
       "      <td>2.7</td>\n",
       "      <td>8.8</td>\n",
       "      <td>14.3</td>\n",
       "    </tr>\n",
       "    <tr>\n",
       "      <th>71</th>\n",
       "      <td>2005</td>\n",
       "      <td>2005. 12</td>\n",
       "      <td>-3.9</td>\n",
       "      <td>-0.1</td>\n",
       "      <td>11.1</td>\n",
       "      <td>-7.4</td>\n",
       "      <td>-14.0</td>\n",
       "      <td>10.3</td>\n",
       "      <td>51.0</td>\n",
       "      <td>2.5</td>\n",
       "      <td>7.6</td>\n",
       "      <td>15.8</td>\n",
       "    </tr>\n",
       "    <tr>\n",
       "      <th>216</th>\n",
       "      <td>2018</td>\n",
       "      <td>2018. 01</td>\n",
       "      <td>-4.0</td>\n",
       "      <td>0.1</td>\n",
       "      <td>8.7</td>\n",
       "      <td>-7.3</td>\n",
       "      <td>-17.8</td>\n",
       "      <td>8.5</td>\n",
       "      <td>48.0</td>\n",
       "      <td>1.9</td>\n",
       "      <td>7.2</td>\n",
       "      <td>12.2</td>\n",
       "    </tr>\n",
       "    <tr>\n",
       "      <th>252</th>\n",
       "      <td>2021</td>\n",
       "      <td>2021. 01</td>\n",
       "      <td>-2.4</td>\n",
       "      <td>2.2</td>\n",
       "      <td>13.9</td>\n",
       "      <td>-6.8</td>\n",
       "      <td>-18.6</td>\n",
       "      <td>18.9</td>\n",
       "      <td>58.0</td>\n",
       "      <td>2.5</td>\n",
       "      <td>8.7</td>\n",
       "      <td>17.5</td>\n",
       "    </tr>\n",
       "    <tr>\n",
       "      <th>192</th>\n",
       "      <td>2016</td>\n",
       "      <td>2016. 01</td>\n",
       "      <td>-3.2</td>\n",
       "      <td>1.1</td>\n",
       "      <td>9.5</td>\n",
       "      <td>-6.8</td>\n",
       "      <td>-18.0</td>\n",
       "      <td>1.0</td>\n",
       "      <td>53.0</td>\n",
       "      <td>2.5</td>\n",
       "      <td>9.0</td>\n",
       "      <td>15.1</td>\n",
       "    </tr>\n",
       "    <tr>\n",
       "      <th>179</th>\n",
       "      <td>2014</td>\n",
       "      <td>2014. 12</td>\n",
       "      <td>-2.9</td>\n",
       "      <td>1.5</td>\n",
       "      <td>7.9</td>\n",
       "      <td>-6.7</td>\n",
       "      <td>-13.2</td>\n",
       "      <td>17.9</td>\n",
       "      <td>56.0</td>\n",
       "      <td>2.8</td>\n",
       "      <td>11.1</td>\n",
       "      <td>19.3</td>\n",
       "    </tr>\n",
       "    <tr>\n",
       "      <th>156</th>\n",
       "      <td>2013</td>\n",
       "      <td>2013. 01</td>\n",
       "      <td>-3.4</td>\n",
       "      <td>0.3</td>\n",
       "      <td>11.5</td>\n",
       "      <td>-6.6</td>\n",
       "      <td>-16.4</td>\n",
       "      <td>22.1</td>\n",
       "      <td>57.1</td>\n",
       "      <td>2.7</td>\n",
       "      <td>8.2</td>\n",
       "      <td>13.5</td>\n",
       "    </tr>\n",
       "  </tbody>\n",
       "</table>\n",
       "</div>"
      ],
      "text/plain": [
       "       연도        년월   기온  최고기온  극점최고기온  최저기온  극점최저기온   강수량  상대습도   풍속  최대풍속  \\\n",
       "132  2011  2011. 01 -7.2  -3.4     0.3 -10.5   -17.8   8.9  54.0  2.8   8.0   \n",
       "120  2010  2010. 01 -4.5  -0.7     8.4  -8.1   -15.3  29.3  65.0  2.3   6.9   \n",
       "12   2001  2001. 01 -4.2  -0.8     6.8  -7.8   -18.6  39.4  62.6  2.2   6.6   \n",
       "155  2012  2012. 12 -4.1  -0.5     8.3  -7.4   -14.5  41.4  57.0  2.7   8.8   \n",
       "71   2005  2005. 12 -3.9  -0.1    11.1  -7.4   -14.0  10.3  51.0  2.5   7.6   \n",
       "216  2018  2018. 01 -4.0   0.1     8.7  -7.3   -17.8   8.5  48.0  1.9   7.2   \n",
       "252  2021  2021. 01 -2.4   2.2    13.9  -6.8   -18.6  18.9  58.0  2.5   8.7   \n",
       "192  2016  2016. 01 -3.2   1.1     9.5  -6.8   -18.0   1.0  53.0  2.5   9.0   \n",
       "179  2014  2014. 12 -2.9   1.5     7.9  -6.7   -13.2  17.9  56.0  2.8  11.1   \n",
       "156  2013  2013. 01 -3.4   0.3    11.5  -6.6   -16.4  22.1  57.1  2.7   8.2   \n",
       "\n",
       "     최대순간풍속  \n",
       "132    14.4  \n",
       "120    11.5  \n",
       "12     13.5  \n",
       "155    14.3  \n",
       "71     15.8  \n",
       "216    12.2  \n",
       "252    17.5  \n",
       "192    15.1  \n",
       "179    19.3  \n",
       "156    13.5  "
      ]
     },
     "execution_count": 33,
     "metadata": {},
     "output_type": "execute_result"
    }
   ],
   "source": [
    "# 오름차순 정렬\n",
    "weather.sort_values(by='최저기온').head(10)"
   ]
  },
  {
   "cell_type": "markdown",
   "metadata": {
    "id": "8obu9vsHBImt"
   },
   "source": [
    "<img src='https://raw.githubusercontent.com/jangrae/img/master/practice_20e.png' width=45 align=\"left\"/>"
   ]
  },
  {
   "cell_type": "markdown",
   "metadata": {
    "id": "po7MS1EwXovc"
   },
   "source": [
    "## 2.4.기본 집계\n",
    "\n",
    "- 데이터를 좀더 이해하기 위해 고윳값, 합, 평균, 최댓값, 최솟값 등을 확인합니다."
   ]
  },
  {
   "cell_type": "markdown",
   "metadata": {
    "id": "DZwznq_YPFcP"
   },
   "source": [
    "### 2.4.1.고윳값 확인\n",
    "\n",
    "- 범주형 열(열이 가진 값이 일정한 값인 경우, 성별, 등급 등)인지 확인할 때 사용합니다."
   ]
  },
  {
   "cell_type": "markdown",
   "metadata": {
    "id": "ZyrGVDBw0iwp"
   },
   "source": [
    "**1) 고윳값 확인**\n",
    "\n",
    "- unique() 메서드로 고윳값을 확인하며, 결괏값은 배열 형태가 됩니다."
   ]
  },
  {
   "cell_type": "code",
   "execution_count": 34,
   "metadata": {
    "id": "A0c6CMhbEpSX"
   },
   "outputs": [
    {
     "data": {
      "text/plain": [
       "array(['Sun', 'Sat', 'Thur', 'Fri'], dtype=object)"
      ]
     },
     "execution_count": 34,
     "metadata": {},
     "output_type": "execute_result"
    }
   ],
   "source": [
    "# day 열 고윳값 확인\n",
    "tip['day'].unique()"
   ]
  },
  {
   "cell_type": "markdown",
   "metadata": {
    "id": "EYT80NSO0H0v"
   },
   "source": [
    "**2) 고윳값과 개수 확인**\n",
    "\n",
    "- value_counts() 메서드로 고윳값과 그 개수를 확인하며, 결괏값은 시리즈 형태가 됩니다.\n",
    "- dropna 옵션을 생략하거나 dropna=True로 지정하면 NaN 값은 대상에서 제외합니다."
   ]
  },
  {
   "cell_type": "code",
   "execution_count": 38,
   "metadata": {
    "id": "-Q-y5ii8OnRp"
   },
   "outputs": [
    {
     "data": {
      "text/plain": [
       "day\n",
       "Sat     87\n",
       "Sun     76\n",
       "Thur    62\n",
       "Fri     19\n",
       "Name: count, dtype: int64"
      ]
     },
     "execution_count": 38,
     "metadata": {},
     "output_type": "execute_result"
    }
   ],
   "source": [
    "# day 열 고윳값 개수 확인\n",
    "tip['day'].value_counts()"
   ]
  },
  {
   "cell_type": "code",
   "execution_count": 41,
   "metadata": {},
   "outputs": [
    {
     "data": {
      "text/plain": [
       "day\n",
       "Sat     0.356557\n",
       "Sun     0.311475\n",
       "Thur    0.254098\n",
       "Fri     0.077869\n",
       "Name: count, dtype: float64"
      ]
     },
     "execution_count": 41,
     "metadata": {},
     "output_type": "execute_result"
    }
   ],
   "source": [
    "# day 열 고윳값 비율 확인\n",
    "tip['day'].value_counts() / len(tip)"
   ]
  },
  {
   "cell_type": "code",
   "execution_count": 42,
   "metadata": {},
   "outputs": [
    {
     "data": {
      "text/plain": [
       "day\n",
       "Sat     0.356557\n",
       "Sun     0.311475\n",
       "Thur    0.254098\n",
       "Fri     0.077869\n",
       "Name: proportion, dtype: float64"
      ]
     },
     "execution_count": 42,
     "metadata": {},
     "output_type": "execute_result"
    }
   ],
   "source": [
    "tip['day'].value_counts(normalize=True)"
   ]
  },
  {
   "cell_type": "code",
   "execution_count": 43,
   "metadata": {
    "id": "r14W1fvuPQHx"
   },
   "outputs": [
    {
     "data": {
      "text/plain": [
       "smoker\n",
       "No     151\n",
       "Yes     93\n",
       "Name: count, dtype: int64"
      ]
     },
     "execution_count": 43,
     "metadata": {},
     "output_type": "execute_result"
    }
   ],
   "source": [
    "# smoker 열 고윳값 개수 확인\n",
    "tip['smoker'].value_counts(normalize=False)"
   ]
  },
  {
   "cell_type": "code",
   "execution_count": 45,
   "metadata": {
    "id": "3HukGAP_99Cb"
   },
   "outputs": [
    {
     "data": {
      "text/plain": [
       "smoker\n",
       "No     0.62\n",
       "Yes    0.38\n",
       "Name: proportion, dtype: float64"
      ]
     },
     "execution_count": 45,
     "metadata": {},
     "output_type": "execute_result"
    }
   ],
   "source": [
    "tip['smoker'].value_counts(normalize=True).round(2)"
   ]
  },
  {
   "cell_type": "markdown",
   "metadata": {
    "id": "7T0TyKesveFc"
   },
   "source": [
    "### 2.4.2.최빈값 확인\n",
    "\n",
    "- 최빈값은 가장 많이 관측되는 수, 즉 주어진 값 중에서 가장 자주 나오는 값입니다.\n",
    "- 예를 들어, {1, 3, 6, 6, 6, 7, 7, 12, 12, 17}의 최빈값은 6입니다.\n",
    "- 최빈값은 산술 평균과 달리 유일한 값이 아닐 수도 있습니다.\n",
    "- mode() 메서드로 최빈값을 확인할 수 있습니다.\n",
    "- 최빈값이 여렷인 경우 행으로 구분되어 표시됩니다."
   ]
  },
  {
   "cell_type": "code",
   "execution_count": 51,
   "metadata": {
    "id": "JDpCinG_vR8M"
   },
   "outputs": [
    {
     "data": {
      "text/plain": [
       "0    Sat\n",
       "Name: day, dtype: object"
      ]
     },
     "execution_count": 51,
     "metadata": {},
     "output_type": "execute_result"
    }
   ],
   "source": [
    "# day 열 최빈값 확인\n",
    "tip['day'].mode()"
   ]
  },
  {
   "cell_type": "code",
   "execution_count": 52,
   "metadata": {
    "id": "47uRqaqrvOSE"
   },
   "outputs": [
    {
     "data": {
      "text/plain": [
       "0    No\n",
       "Name: smoker, dtype: object"
      ]
     },
     "execution_count": 52,
     "metadata": {},
     "output_type": "execute_result"
    }
   ],
   "source": [
    "# smoker 열 최빈값 확인\n",
    "tip['smoker'].mode()"
   ]
  },
  {
   "cell_type": "code",
   "execution_count": 53,
   "metadata": {},
   "outputs": [
    {
     "data": {
      "text/html": [
       "<div>\n",
       "<style scoped>\n",
       "    .dataframe tbody tr th:only-of-type {\n",
       "        vertical-align: middle;\n",
       "    }\n",
       "\n",
       "    .dataframe tbody tr th {\n",
       "        vertical-align: top;\n",
       "    }\n",
       "\n",
       "    .dataframe thead th {\n",
       "        text-align: right;\n",
       "    }\n",
       "</style>\n",
       "<table border=\"1\" class=\"dataframe\">\n",
       "  <thead>\n",
       "    <tr style=\"text-align: right;\">\n",
       "      <th></th>\n",
       "      <th>total_bill</th>\n",
       "      <th>tip</th>\n",
       "      <th>sex</th>\n",
       "      <th>smoker</th>\n",
       "      <th>day</th>\n",
       "      <th>time</th>\n",
       "      <th>size</th>\n",
       "    </tr>\n",
       "  </thead>\n",
       "  <tbody>\n",
       "    <tr>\n",
       "      <th>0</th>\n",
       "      <td>13.42</td>\n",
       "      <td>2.0</td>\n",
       "      <td>Male</td>\n",
       "      <td>No</td>\n",
       "      <td>Sat</td>\n",
       "      <td>Dinner</td>\n",
       "      <td>2</td>\n",
       "    </tr>\n",
       "  </tbody>\n",
       "</table>\n",
       "</div>"
      ],
      "text/plain": [
       "   total_bill  tip   sex smoker  day    time  size\n",
       "0       13.42  2.0  Male     No  Sat  Dinner     2"
      ]
     },
     "execution_count": 53,
     "metadata": {},
     "output_type": "execute_result"
    }
   ],
   "source": [
    "tip.mode()"
   ]
  },
  {
   "cell_type": "markdown",
   "metadata": {
    "id": "imj3o34pP5J3"
   },
   "source": [
    "### 2.4.3.기본 집계 메서드 사용\n",
    "\n",
    "- 데이터를 1차 집계 한 후 분석을 진행하는 경우가 많으므로 필히 알아두어야 할 내용입니다.\n",
    "- 이후에 배우는 Groupby 기능에서 같이 사용됩니다.\n",
    "- 우선 간단한 데이터프레임을 만들어 전체 집계를 해봅니디."
   ]
  },
  {
   "cell_type": "code",
   "execution_count": 54,
   "metadata": {
    "id": "69iLl3VUjg6a"
   },
   "outputs": [
    {
     "data": {
      "text/html": [
       "<div>\n",
       "<style scoped>\n",
       "    .dataframe tbody tr th:only-of-type {\n",
       "        vertical-align: middle;\n",
       "    }\n",
       "\n",
       "    .dataframe tbody tr th {\n",
       "        vertical-align: top;\n",
       "    }\n",
       "\n",
       "    .dataframe thead th {\n",
       "        text-align: right;\n",
       "    }\n",
       "</style>\n",
       "<table border=\"1\" class=\"dataframe\">\n",
       "  <thead>\n",
       "    <tr style=\"text-align: right;\">\n",
       "      <th></th>\n",
       "      <th>High</th>\n",
       "      <th>Low</th>\n",
       "      <th>Open</th>\n",
       "      <th>Close</th>\n",
       "    </tr>\n",
       "  </thead>\n",
       "  <tbody>\n",
       "    <tr>\n",
       "      <th>2019-02-15</th>\n",
       "      <td>94500</td>\n",
       "      <td>92100</td>\n",
       "      <td>92200</td>\n",
       "      <td>92300</td>\n",
       "    </tr>\n",
       "    <tr>\n",
       "      <th>2019-02-16</th>\n",
       "      <td>96500</td>\n",
       "      <td>93200</td>\n",
       "      <td>95900</td>\n",
       "      <td>94300</td>\n",
       "    </tr>\n",
       "    <tr>\n",
       "      <th>2019-02-17</th>\n",
       "      <td>93400</td>\n",
       "      <td>91900</td>\n",
       "      <td>93400</td>\n",
       "      <td>92100</td>\n",
       "    </tr>\n",
       "    <tr>\n",
       "      <th>2019-02-18</th>\n",
       "      <td>94200</td>\n",
       "      <td>92100</td>\n",
       "      <td>94100</td>\n",
       "      <td>92400</td>\n",
       "    </tr>\n",
       "    <tr>\n",
       "      <th>2019-02-19</th>\n",
       "      <td>94500</td>\n",
       "      <td>92500</td>\n",
       "      <td>94300</td>\n",
       "      <td>92600</td>\n",
       "    </tr>\n",
       "  </tbody>\n",
       "</table>\n",
       "</div>"
      ],
      "text/plain": [
       "             High    Low   Open  Close\n",
       "2019-02-15  94500  92100  92200  92300\n",
       "2019-02-16  96500  93200  95900  94300\n",
       "2019-02-17  93400  91900  93400  92100\n",
       "2019-02-18  94200  92100  94100  92400\n",
       "2019-02-19  94500  92500  94300  92600"
      ]
     },
     "execution_count": 54,
     "metadata": {},
     "output_type": "execute_result"
    }
   ],
   "source": [
    "# 리스트 만들기\n",
    "stock = [[94500, 92100, 92200, 92300],\n",
    "         [96500, 93200, 95900, 94300],\n",
    "         [93400, 91900, 93400, 92100],\n",
    "         [94200, 92100, 94100, 92400],\n",
    "         [94500, 92500, 94300, 92600]]\n",
    "dates = ['2019-02-15', '2019-02-16', '2019-02-17', '2019-02-18', '2019-02-19']\n",
    "names = ['High', 'Low', 'Open', 'Close']\n",
    "\n",
    "# 데이터프레임 만들기\n",
    "df = pd.DataFrame(stock, index=dates, columns=names)\n",
    "\n",
    "# 확인\n",
    "df.head()"
   ]
  },
  {
   "cell_type": "markdown",
   "metadata": {
    "id": "1RSLKUSVzXR8"
   },
   "source": [
    "<img src='https://raw.githubusercontent.com/jangrae/img/master/aggrigation.png' width=500 align=\"left\"/>"
   ]
  },
  {
   "cell_type": "markdown",
   "metadata": {
    "id": "p3F-HnhLkgUW"
   },
   "source": [
    "- df.sum()은 df.sum(axis=0) 과 같으며 전체 열 기준으로 합을 집계합니다\n",
    "- 전체 행 기준으로 집계를 하려면 df.sum(axis=1) 형태로 axis=1을 지정합니다."
   ]
  },
  {
   "cell_type": "code",
   "execution_count": 55,
   "metadata": {
    "id": "a9rl1nGFjywb"
   },
   "outputs": [
    {
     "data": {
      "text/plain": [
       "High     473100\n",
       "Low      461800\n",
       "Open     469900\n",
       "Close    463700\n",
       "dtype: int64"
      ]
     },
     "execution_count": 55,
     "metadata": {},
     "output_type": "execute_result"
    }
   ],
   "source": [
    "# 전체 열 기준 합\n",
    "df.sum()"
   ]
  },
  {
   "cell_type": "code",
   "execution_count": 56,
   "metadata": {
    "id": "hW_3WL9kj1FY"
   },
   "outputs": [
    {
     "data": {
      "text/plain": [
       "2019-02-15    371100\n",
       "2019-02-16    379900\n",
       "2019-02-17    370800\n",
       "2019-02-18    372800\n",
       "2019-02-19    373900\n",
       "dtype: int64"
      ]
     },
     "execution_count": 56,
     "metadata": {},
     "output_type": "execute_result"
    }
   ],
   "source": [
    "# 전체 행 기준 합\n",
    "df.sum(axis=1)"
   ]
  },
  {
   "cell_type": "markdown",
   "metadata": {
    "id": "2yaciwGVleMi"
   },
   "source": [
    "- tip 데이터프레임에 대한 집계를 수행해 봅니다."
   ]
  },
  {
   "cell_type": "code",
   "execution_count": 57,
   "metadata": {
    "id": "VrhS8Ntzn5dl"
   },
   "outputs": [
    {
     "data": {
      "text/html": [
       "<div>\n",
       "<style scoped>\n",
       "    .dataframe tbody tr th:only-of-type {\n",
       "        vertical-align: middle;\n",
       "    }\n",
       "\n",
       "    .dataframe tbody tr th {\n",
       "        vertical-align: top;\n",
       "    }\n",
       "\n",
       "    .dataframe thead th {\n",
       "        text-align: right;\n",
       "    }\n",
       "</style>\n",
       "<table border=\"1\" class=\"dataframe\">\n",
       "  <thead>\n",
       "    <tr style=\"text-align: right;\">\n",
       "      <th></th>\n",
       "      <th>total_bill</th>\n",
       "      <th>tip</th>\n",
       "      <th>sex</th>\n",
       "      <th>smoker</th>\n",
       "      <th>day</th>\n",
       "      <th>time</th>\n",
       "      <th>size</th>\n",
       "    </tr>\n",
       "  </thead>\n",
       "  <tbody>\n",
       "    <tr>\n",
       "      <th>0</th>\n",
       "      <td>16.99</td>\n",
       "      <td>1.01</td>\n",
       "      <td>Female</td>\n",
       "      <td>No</td>\n",
       "      <td>Sun</td>\n",
       "      <td>Dinner</td>\n",
       "      <td>2</td>\n",
       "    </tr>\n",
       "    <tr>\n",
       "      <th>1</th>\n",
       "      <td>10.34</td>\n",
       "      <td>1.66</td>\n",
       "      <td>Male</td>\n",
       "      <td>No</td>\n",
       "      <td>Sun</td>\n",
       "      <td>Dinner</td>\n",
       "      <td>3</td>\n",
       "    </tr>\n",
       "    <tr>\n",
       "      <th>2</th>\n",
       "      <td>21.01</td>\n",
       "      <td>3.50</td>\n",
       "      <td>Male</td>\n",
       "      <td>No</td>\n",
       "      <td>Sun</td>\n",
       "      <td>Dinner</td>\n",
       "      <td>3</td>\n",
       "    </tr>\n",
       "    <tr>\n",
       "      <th>3</th>\n",
       "      <td>23.68</td>\n",
       "      <td>3.31</td>\n",
       "      <td>Male</td>\n",
       "      <td>No</td>\n",
       "      <td>Sun</td>\n",
       "      <td>Dinner</td>\n",
       "      <td>2</td>\n",
       "    </tr>\n",
       "    <tr>\n",
       "      <th>4</th>\n",
       "      <td>24.59</td>\n",
       "      <td>3.61</td>\n",
       "      <td>Female</td>\n",
       "      <td>No</td>\n",
       "      <td>Sun</td>\n",
       "      <td>Dinner</td>\n",
       "      <td>4</td>\n",
       "    </tr>\n",
       "  </tbody>\n",
       "</table>\n",
       "</div>"
      ],
      "text/plain": [
       "   total_bill   tip     sex smoker  day    time  size\n",
       "0       16.99  1.01  Female     No  Sun  Dinner     2\n",
       "1       10.34  1.66    Male     No  Sun  Dinner     3\n",
       "2       21.01  3.50    Male     No  Sun  Dinner     3\n",
       "3       23.68  3.31    Male     No  Sun  Dinner     2\n",
       "4       24.59  3.61  Female     No  Sun  Dinner     4"
      ]
     },
     "execution_count": 57,
     "metadata": {},
     "output_type": "execute_result"
    }
   ],
   "source": [
    "# tip 데이터프레임 확인\n",
    "tip.head()"
   ]
  },
  {
   "cell_type": "code",
   "execution_count": 60,
   "metadata": {
    "id": "yx6fF3MsnnqC"
   },
   "outputs": [
    {
     "data": {
      "text/plain": [
       "total_bill    4827.77\n",
       "tip            731.58\n",
       "size           627.00\n",
       "dtype: float64"
      ]
     },
     "execution_count": 60,
     "metadata": {},
     "output_type": "execute_result"
    }
   ],
   "source": [
    "# 전체 열 기준 합\n",
    "tip.sum(numeric_only = True)"
   ]
  },
  {
   "cell_type": "code",
   "execution_count": 61,
   "metadata": {
    "id": "gCTaAoghOtFd"
   },
   "outputs": [
    {
     "data": {
      "text/plain": [
       "np.float64(4827.77)"
      ]
     },
     "execution_count": 61,
     "metadata": {},
     "output_type": "execute_result"
    }
   ],
   "source": [
    "# total_bill 열 합계 조회\n",
    "tip['total_bill'].sum()"
   ]
  },
  {
   "cell_type": "code",
   "execution_count": 62,
   "metadata": {
    "id": "uSatNX0BBNpe"
   },
   "outputs": [
    {
     "data": {
      "text/plain": [
       "10.0"
      ]
     },
     "execution_count": 62,
     "metadata": {},
     "output_type": "execute_result"
    }
   ],
   "source": [
    "# tip 열 최댓값 조회\n",
    "tip['tip'].max()"
   ]
  },
  {
   "cell_type": "code",
   "execution_count": 63,
   "metadata": {
    "id": "EN1swYgLBDTI"
   },
   "outputs": [
    {
     "data": {
      "text/plain": [
       "total_bill    19.785943\n",
       "tip            2.998279\n",
       "dtype: float64"
      ]
     },
     "execution_count": 63,
     "metadata": {},
     "output_type": "execute_result"
    }
   ],
   "source": [
    "# total_bill, tip 열 평균값 확인\n",
    "tip[['total_bill', 'tip']].mean()"
   ]
  },
  {
   "cell_type": "code",
   "execution_count": 64,
   "metadata": {
    "id": "7PQLVC7MIOSY"
   },
   "outputs": [
    {
     "data": {
      "text/plain": [
       "total_bill    17.795\n",
       "tip            2.900\n",
       "dtype: float64"
      ]
     },
     "execution_count": 64,
     "metadata": {},
     "output_type": "execute_result"
    }
   ],
   "source": [
    "# total_bill, tip 열 중앙값 확인\n",
    "tip[['total_bill', 'tip']].median()"
   ]
  },
  {
   "cell_type": "markdown",
   "metadata": {
    "id": "xMk_Pr0nBImu"
   },
   "source": [
    "<img src='https://raw.githubusercontent.com/jangrae/img/master/practice_20.png' width=120 align=\"left\"/>"
   ]
  },
  {
   "cell_type": "markdown",
   "metadata": {
    "id": "bjj1TKoHFmiJ"
   },
   "source": [
    "[문1] 다음 경로의 파일을 읽어와 weather 데이터프레임을 선언하세요.\n",
    "\n",
    "- 파일 경로: 'https://raw.githubusercontent.com/Jangrae/csv/master/weather.csv'"
   ]
  },
  {
   "cell_type": "code",
   "execution_count": 65,
   "metadata": {
    "id": "doRkZOJqFmiK"
   },
   "outputs": [
    {
     "data": {
      "text/html": [
       "<div>\n",
       "<style scoped>\n",
       "    .dataframe tbody tr th:only-of-type {\n",
       "        vertical-align: middle;\n",
       "    }\n",
       "\n",
       "    .dataframe tbody tr th {\n",
       "        vertical-align: top;\n",
       "    }\n",
       "\n",
       "    .dataframe thead th {\n",
       "        text-align: right;\n",
       "    }\n",
       "</style>\n",
       "<table border=\"1\" class=\"dataframe\">\n",
       "  <thead>\n",
       "    <tr style=\"text-align: right;\">\n",
       "      <th></th>\n",
       "      <th>연도</th>\n",
       "      <th>년월</th>\n",
       "      <th>기온</th>\n",
       "      <th>최고기온</th>\n",
       "      <th>극점최고기온</th>\n",
       "      <th>최저기온</th>\n",
       "      <th>극점최저기온</th>\n",
       "      <th>강수량</th>\n",
       "      <th>상대습도</th>\n",
       "      <th>풍속</th>\n",
       "      <th>최대풍속</th>\n",
       "      <th>최대순간풍속</th>\n",
       "    </tr>\n",
       "  </thead>\n",
       "  <tbody>\n",
       "    <tr>\n",
       "      <th>0</th>\n",
       "      <td>2000</td>\n",
       "      <td>2000. 01</td>\n",
       "      <td>-2.1</td>\n",
       "      <td>1.7</td>\n",
       "      <td>9.9</td>\n",
       "      <td>-5.7</td>\n",
       "      <td>-12.1</td>\n",
       "      <td>42.8</td>\n",
       "      <td>64.0</td>\n",
       "      <td>2.6</td>\n",
       "      <td>7.6</td>\n",
       "      <td>12.3</td>\n",
       "    </tr>\n",
       "    <tr>\n",
       "      <th>1</th>\n",
       "      <td>2000</td>\n",
       "      <td>2000. 02</td>\n",
       "      <td>-1.7</td>\n",
       "      <td>2.6</td>\n",
       "      <td>7.5</td>\n",
       "      <td>-5.8</td>\n",
       "      <td>-11.6</td>\n",
       "      <td>2.1</td>\n",
       "      <td>56.0</td>\n",
       "      <td>2.7</td>\n",
       "      <td>10.6</td>\n",
       "      <td>19.1</td>\n",
       "    </tr>\n",
       "    <tr>\n",
       "      <th>2</th>\n",
       "      <td>2000</td>\n",
       "      <td>2000. 03</td>\n",
       "      <td>6.3</td>\n",
       "      <td>11.4</td>\n",
       "      <td>18.9</td>\n",
       "      <td>1.7</td>\n",
       "      <td>-4.8</td>\n",
       "      <td>3.1</td>\n",
       "      <td>55.0</td>\n",
       "      <td>3.0</td>\n",
       "      <td>12.2</td>\n",
       "      <td>19.9</td>\n",
       "    </tr>\n",
       "    <tr>\n",
       "      <th>3</th>\n",
       "      <td>2000</td>\n",
       "      <td>2000. 04</td>\n",
       "      <td>11.9</td>\n",
       "      <td>16.9</td>\n",
       "      <td>23.5</td>\n",
       "      <td>7.3</td>\n",
       "      <td>1.8</td>\n",
       "      <td>30.7</td>\n",
       "      <td>56.0</td>\n",
       "      <td>2.9</td>\n",
       "      <td>9.5</td>\n",
       "      <td>18.8</td>\n",
       "    </tr>\n",
       "    <tr>\n",
       "      <th>4</th>\n",
       "      <td>2000</td>\n",
       "      <td>2000. 05</td>\n",
       "      <td>17.5</td>\n",
       "      <td>22.7</td>\n",
       "      <td>30.5</td>\n",
       "      <td>12.9</td>\n",
       "      <td>7.9</td>\n",
       "      <td>75.2</td>\n",
       "      <td>66.0</td>\n",
       "      <td>2.3</td>\n",
       "      <td>8.3</td>\n",
       "      <td>13.6</td>\n",
       "    </tr>\n",
       "  </tbody>\n",
       "</table>\n",
       "</div>"
      ],
      "text/plain": [
       "     연도        년월    기온  최고기온  극점최고기온  최저기온  극점최저기온   강수량  상대습도   풍속  최대풍속  \\\n",
       "0  2000  2000. 01  -2.1   1.7     9.9  -5.7   -12.1  42.8  64.0  2.6   7.6   \n",
       "1  2000  2000. 02  -1.7   2.6     7.5  -5.8   -11.6   2.1  56.0  2.7  10.6   \n",
       "2  2000  2000. 03   6.3  11.4    18.9   1.7    -4.8   3.1  55.0  3.0  12.2   \n",
       "3  2000  2000. 04  11.9  16.9    23.5   7.3     1.8  30.7  56.0  2.9   9.5   \n",
       "4  2000  2000. 05  17.5  22.7    30.5  12.9     7.9  75.2  66.0  2.3   8.3   \n",
       "\n",
       "   최대순간풍속  \n",
       "0    12.3  \n",
       "1    19.1  \n",
       "2    19.9  \n",
       "3    18.8  \n",
       "4    13.6  "
      ]
     },
     "execution_count": 65,
     "metadata": {},
     "output_type": "execute_result"
    }
   ],
   "source": [
    "# 데이터 읽어오기\n",
    "weather = pd.read_csv('https://raw.githubusercontent.com/Jangrae/csv/master/weather.csv')\n",
    "\n",
    "\n",
    "# 확인\n",
    "weather.head()"
   ]
  },
  {
   "cell_type": "markdown",
   "metadata": {
    "id": "2hWEwIAJGkYv"
   },
   "source": [
    "[문2] 최고기온 최댓값을 확인하세요."
   ]
  },
  {
   "cell_type": "code",
   "execution_count": 70,
   "metadata": {
    "id": "sHmY3X1YGkYv"
   },
   "outputs": [
    {
     "data": {
      "text/plain": [
       "33.3"
      ]
     },
     "execution_count": 70,
     "metadata": {},
     "output_type": "execute_result"
    }
   ],
   "source": [
    "# 최고기온 열 최댓값\n",
    "weather['최고기온'].max()"
   ]
  },
  {
   "cell_type": "markdown",
   "metadata": {
    "id": "4IA83NgPG4-o"
   },
   "source": [
    "[문3] 최저기온, 극점최저기온 최솟값을 확인하세요."
   ]
  },
  {
   "cell_type": "code",
   "execution_count": 67,
   "metadata": {
    "id": "WZW4L_k3G4-p"
   },
   "outputs": [
    {
     "data": {
      "text/plain": [
       "최저기온     -10.5\n",
       "극점최저기온   -18.6\n",
       "dtype: float64"
      ]
     },
     "execution_count": 67,
     "metadata": {},
     "output_type": "execute_result"
    }
   ],
   "source": [
    "# 최저기온, 극점최저기온 열 최솟값\n",
    "weather[['최저기온', '극점최저기온']].min()"
   ]
  },
  {
   "cell_type": "markdown",
   "metadata": {
    "id": "h5_dtpU5eSL6"
   },
   "source": [
    "<img src='https://raw.githubusercontent.com/jangrae/img/master/practice_20e.png' width=45 align=\"left\"/>"
   ]
  },
  {
   "cell_type": "markdown",
   "metadata": {
    "id": "_lyqXb8jBImv"
   },
   "source": [
    "<img src='https://raw.githubusercontent.com/jangrae/img/master/practice_30.png' width=120 align=\"left\"/>"
   ]
  },
  {
   "cell_type": "markdown",
   "metadata": {
    "id": "I4H5-G0XG80r"
   },
   "source": [
    "[문1] pandas 라이브러리를 pd 별칭을 주어 불러오세요."
   ]
  },
  {
   "cell_type": "code",
   "execution_count": 71,
   "metadata": {
    "id": "ewDJEDDIwxlJ"
   },
   "outputs": [],
   "source": [
    "# 라이브러리 불러오기\n",
    "import pandas as pd"
   ]
  },
  {
   "cell_type": "markdown",
   "metadata": {
    "id": "N2T9zxdat2YB"
   },
   "source": [
    "[문2] 다음 경로의 파일을 읽어 admission 데이터프레임을 만드세요.\n",
    "\n",
    "- 파일 경로: 'https://raw.githubusercontent.com/Jangrae/csv/master/admission.csv'\n",
    "- 대소문자를 구분하니 주의하세요."
   ]
  },
  {
   "cell_type": "markdown",
   "metadata": {
    "id": "hSv6cxH3BImv"
   },
   "source": [
    "**데이터 셋 정보**\n",
    "\n",
    "- GRE - GRE(Graduate Record Examination) 점수, 대학원 입학을 위한 표준화 시험 점수\n",
    "- TOEFL - TOEFL(Test of English as a Foreign Language) 점수, 영어 능력 시험 점수\n",
    "- RANK - 학부 출신 대학의 순위(1-4 등급, 1이 가장 높음)\n",
    "- SOP\t- Statement of Purpose 점수(0-5), 자기소개서의 평가 점수\n",
    "- LOR\t- Letter of Recommendation 점수(0-5), 추천서의 평가 점수\n",
    "- GPA\t- 학부 성적 평균(Grade Point Average, 0-10 척도)\n",
    "- RESEARCH - 연구 경험 여부(1: 있음, 0: 없음)\n",
    "- ADMIT - 대학원 입학 여부(1: 합격, 0: 불합격)"
   ]
  },
  {
   "cell_type": "code",
   "execution_count": 72,
   "metadata": {
    "id": "Hp-hMK2At-av",
    "scrolled": true
   },
   "outputs": [],
   "source": [
    "# 파일 읽어오기\n",
    "admission = pd.read_csv('https://raw.githubusercontent.com/Jangrae/csv/master/admission.csv')\n"
   ]
  },
  {
   "cell_type": "markdown",
   "metadata": {
    "id": "JNui_NWguIXi"
   },
   "source": [
    "[문3] 상위 10개 행을 확인하세요."
   ]
  },
  {
   "cell_type": "code",
   "execution_count": 73,
   "metadata": {
    "id": "vqKG_IH6uTaJ"
   },
   "outputs": [
    {
     "data": {
      "text/html": [
       "<div>\n",
       "<style scoped>\n",
       "    .dataframe tbody tr th:only-of-type {\n",
       "        vertical-align: middle;\n",
       "    }\n",
       "\n",
       "    .dataframe tbody tr th {\n",
       "        vertical-align: top;\n",
       "    }\n",
       "\n",
       "    .dataframe thead th {\n",
       "        text-align: right;\n",
       "    }\n",
       "</style>\n",
       "<table border=\"1\" class=\"dataframe\">\n",
       "  <thead>\n",
       "    <tr style=\"text-align: right;\">\n",
       "      <th></th>\n",
       "      <th>GRE</th>\n",
       "      <th>TOEFL</th>\n",
       "      <th>RANK</th>\n",
       "      <th>SOP</th>\n",
       "      <th>LOR</th>\n",
       "      <th>GPA</th>\n",
       "      <th>RESEARCH</th>\n",
       "      <th>ADMIT</th>\n",
       "    </tr>\n",
       "  </thead>\n",
       "  <tbody>\n",
       "    <tr>\n",
       "      <th>0</th>\n",
       "      <td>337</td>\n",
       "      <td>118</td>\n",
       "      <td>4</td>\n",
       "      <td>4.5</td>\n",
       "      <td>4.5</td>\n",
       "      <td>9.65</td>\n",
       "      <td>1</td>\n",
       "      <td>1</td>\n",
       "    </tr>\n",
       "    <tr>\n",
       "      <th>1</th>\n",
       "      <td>324</td>\n",
       "      <td>107</td>\n",
       "      <td>4</td>\n",
       "      <td>4.0</td>\n",
       "      <td>4.5</td>\n",
       "      <td>8.87</td>\n",
       "      <td>1</td>\n",
       "      <td>1</td>\n",
       "    </tr>\n",
       "    <tr>\n",
       "      <th>2</th>\n",
       "      <td>316</td>\n",
       "      <td>104</td>\n",
       "      <td>3</td>\n",
       "      <td>3.0</td>\n",
       "      <td>3.5</td>\n",
       "      <td>8.00</td>\n",
       "      <td>1</td>\n",
       "      <td>0</td>\n",
       "    </tr>\n",
       "    <tr>\n",
       "      <th>3</th>\n",
       "      <td>322</td>\n",
       "      <td>110</td>\n",
       "      <td>3</td>\n",
       "      <td>3.5</td>\n",
       "      <td>2.5</td>\n",
       "      <td>8.67</td>\n",
       "      <td>1</td>\n",
       "      <td>1</td>\n",
       "    </tr>\n",
       "    <tr>\n",
       "      <th>4</th>\n",
       "      <td>314</td>\n",
       "      <td>103</td>\n",
       "      <td>2</td>\n",
       "      <td>2.0</td>\n",
       "      <td>3.0</td>\n",
       "      <td>8.21</td>\n",
       "      <td>0</td>\n",
       "      <td>0</td>\n",
       "    </tr>\n",
       "    <tr>\n",
       "      <th>5</th>\n",
       "      <td>330</td>\n",
       "      <td>115</td>\n",
       "      <td>5</td>\n",
       "      <td>4.5</td>\n",
       "      <td>3.0</td>\n",
       "      <td>9.34</td>\n",
       "      <td>1</td>\n",
       "      <td>1</td>\n",
       "    </tr>\n",
       "    <tr>\n",
       "      <th>6</th>\n",
       "      <td>321</td>\n",
       "      <td>109</td>\n",
       "      <td>3</td>\n",
       "      <td>3.0</td>\n",
       "      <td>4.0</td>\n",
       "      <td>8.20</td>\n",
       "      <td>1</td>\n",
       "      <td>1</td>\n",
       "    </tr>\n",
       "    <tr>\n",
       "      <th>7</th>\n",
       "      <td>308</td>\n",
       "      <td>101</td>\n",
       "      <td>2</td>\n",
       "      <td>3.0</td>\n",
       "      <td>4.0</td>\n",
       "      <td>7.90</td>\n",
       "      <td>0</td>\n",
       "      <td>0</td>\n",
       "    </tr>\n",
       "    <tr>\n",
       "      <th>8</th>\n",
       "      <td>302</td>\n",
       "      <td>102</td>\n",
       "      <td>1</td>\n",
       "      <td>2.0</td>\n",
       "      <td>1.5</td>\n",
       "      <td>8.00</td>\n",
       "      <td>0</td>\n",
       "      <td>0</td>\n",
       "    </tr>\n",
       "    <tr>\n",
       "      <th>9</th>\n",
       "      <td>323</td>\n",
       "      <td>108</td>\n",
       "      <td>3</td>\n",
       "      <td>3.5</td>\n",
       "      <td>3.0</td>\n",
       "      <td>8.60</td>\n",
       "      <td>0</td>\n",
       "      <td>0</td>\n",
       "    </tr>\n",
       "  </tbody>\n",
       "</table>\n",
       "</div>"
      ],
      "text/plain": [
       "   GRE  TOEFL  RANK  SOP  LOR   GPA  RESEARCH  ADMIT\n",
       "0  337    118     4  4.5  4.5  9.65         1      1\n",
       "1  324    107     4  4.0  4.5  8.87         1      1\n",
       "2  316    104     3  3.0  3.5  8.00         1      0\n",
       "3  322    110     3  3.5  2.5  8.67         1      1\n",
       "4  314    103     2  2.0  3.0  8.21         0      0\n",
       "5  330    115     5  4.5  3.0  9.34         1      1\n",
       "6  321    109     3  3.0  4.0  8.20         1      1\n",
       "7  308    101     2  3.0  4.0  7.90         0      0\n",
       "8  302    102     1  2.0  1.5  8.00         0      0\n",
       "9  323    108     3  3.5  3.0  8.60         0      0"
      ]
     },
     "execution_count": 73,
     "metadata": {},
     "output_type": "execute_result"
    }
   ],
   "source": [
    "# 상위 10개 행 확인\n",
    "admission.head(10)"
   ]
  },
  {
   "cell_type": "markdown",
   "metadata": {
    "id": "DXY8duJwt8el"
   },
   "source": [
    "[문4] 행과 열의 개수를 확인하세요."
   ]
  },
  {
   "cell_type": "code",
   "execution_count": 75,
   "metadata": {
    "id": "iGvE_yATt_4k"
   },
   "outputs": [
    {
     "data": {
      "text/plain": [
       "(500, 8)"
      ]
     },
     "execution_count": 75,
     "metadata": {},
     "output_type": "execute_result"
    }
   ],
   "source": [
    "# 크기 확인\n",
    "admission.shape"
   ]
  },
  {
   "cell_type": "markdown",
   "metadata": {
    "id": "OART9eJOlmwP"
   },
   "source": [
    "[문5] 각 열의 값 개수와 데이터 형식등을 한 번에 확인하세요."
   ]
  },
  {
   "cell_type": "code",
   "execution_count": 76,
   "metadata": {
    "id": "cq37zbUplmwQ"
   },
   "outputs": [
    {
     "name": "stdout",
     "output_type": "stream",
     "text": [
      "<class 'pandas.core.frame.DataFrame'>\n",
      "RangeIndex: 500 entries, 0 to 499\n",
      "Data columns (total 8 columns):\n",
      " #   Column    Non-Null Count  Dtype  \n",
      "---  ------    --------------  -----  \n",
      " 0   GRE       500 non-null    int64  \n",
      " 1   TOEFL     500 non-null    int64  \n",
      " 2   RANK      500 non-null    int64  \n",
      " 3   SOP       500 non-null    float64\n",
      " 4   LOR       500 non-null    float64\n",
      " 5   GPA       500 non-null    float64\n",
      " 6   RESEARCH  500 non-null    int64  \n",
      " 7   ADMIT     500 non-null    int64  \n",
      "dtypes: float64(3), int64(5)\n",
      "memory usage: 31.4 KB\n"
     ]
    }
   ],
   "source": [
    "# 열 정보 확인\n",
    "admission.info()"
   ]
  },
  {
   "cell_type": "markdown",
   "metadata": {
    "id": "GaTc90ue8BgG"
   },
   "source": [
    "[문6] 기술통계정보를 확인하세요."
   ]
  },
  {
   "cell_type": "code",
   "execution_count": 77,
   "metadata": {
    "id": "NUT4N-LL8BgH"
   },
   "outputs": [
    {
     "data": {
      "text/html": [
       "<div>\n",
       "<style scoped>\n",
       "    .dataframe tbody tr th:only-of-type {\n",
       "        vertical-align: middle;\n",
       "    }\n",
       "\n",
       "    .dataframe tbody tr th {\n",
       "        vertical-align: top;\n",
       "    }\n",
       "\n",
       "    .dataframe thead th {\n",
       "        text-align: right;\n",
       "    }\n",
       "</style>\n",
       "<table border=\"1\" class=\"dataframe\">\n",
       "  <thead>\n",
       "    <tr style=\"text-align: right;\">\n",
       "      <th></th>\n",
       "      <th>GRE</th>\n",
       "      <th>TOEFL</th>\n",
       "      <th>RANK</th>\n",
       "      <th>SOP</th>\n",
       "      <th>LOR</th>\n",
       "      <th>GPA</th>\n",
       "      <th>RESEARCH</th>\n",
       "      <th>ADMIT</th>\n",
       "    </tr>\n",
       "  </thead>\n",
       "  <tbody>\n",
       "    <tr>\n",
       "      <th>count</th>\n",
       "      <td>500.000000</td>\n",
       "      <td>500.000000</td>\n",
       "      <td>500.000000</td>\n",
       "      <td>500.000000</td>\n",
       "      <td>500.00000</td>\n",
       "      <td>500.000000</td>\n",
       "      <td>500.000000</td>\n",
       "      <td>500.000000</td>\n",
       "    </tr>\n",
       "    <tr>\n",
       "      <th>mean</th>\n",
       "      <td>316.472000</td>\n",
       "      <td>107.192000</td>\n",
       "      <td>3.114000</td>\n",
       "      <td>3.374000</td>\n",
       "      <td>3.48400</td>\n",
       "      <td>8.576440</td>\n",
       "      <td>0.560000</td>\n",
       "      <td>0.436000</td>\n",
       "    </tr>\n",
       "    <tr>\n",
       "      <th>std</th>\n",
       "      <td>11.295148</td>\n",
       "      <td>6.081868</td>\n",
       "      <td>1.143512</td>\n",
       "      <td>0.991004</td>\n",
       "      <td>0.92545</td>\n",
       "      <td>0.604813</td>\n",
       "      <td>0.496884</td>\n",
       "      <td>0.496384</td>\n",
       "    </tr>\n",
       "    <tr>\n",
       "      <th>min</th>\n",
       "      <td>290.000000</td>\n",
       "      <td>92.000000</td>\n",
       "      <td>1.000000</td>\n",
       "      <td>1.000000</td>\n",
       "      <td>1.00000</td>\n",
       "      <td>6.800000</td>\n",
       "      <td>0.000000</td>\n",
       "      <td>0.000000</td>\n",
       "    </tr>\n",
       "    <tr>\n",
       "      <th>25%</th>\n",
       "      <td>308.000000</td>\n",
       "      <td>103.000000</td>\n",
       "      <td>2.000000</td>\n",
       "      <td>2.500000</td>\n",
       "      <td>3.00000</td>\n",
       "      <td>8.127500</td>\n",
       "      <td>0.000000</td>\n",
       "      <td>0.000000</td>\n",
       "    </tr>\n",
       "    <tr>\n",
       "      <th>50%</th>\n",
       "      <td>317.000000</td>\n",
       "      <td>107.000000</td>\n",
       "      <td>3.000000</td>\n",
       "      <td>3.500000</td>\n",
       "      <td>3.50000</td>\n",
       "      <td>8.560000</td>\n",
       "      <td>1.000000</td>\n",
       "      <td>0.000000</td>\n",
       "    </tr>\n",
       "    <tr>\n",
       "      <th>75%</th>\n",
       "      <td>325.000000</td>\n",
       "      <td>112.000000</td>\n",
       "      <td>4.000000</td>\n",
       "      <td>4.000000</td>\n",
       "      <td>4.00000</td>\n",
       "      <td>9.040000</td>\n",
       "      <td>1.000000</td>\n",
       "      <td>1.000000</td>\n",
       "    </tr>\n",
       "    <tr>\n",
       "      <th>max</th>\n",
       "      <td>340.000000</td>\n",
       "      <td>120.000000</td>\n",
       "      <td>5.000000</td>\n",
       "      <td>5.000000</td>\n",
       "      <td>5.00000</td>\n",
       "      <td>9.920000</td>\n",
       "      <td>1.000000</td>\n",
       "      <td>1.000000</td>\n",
       "    </tr>\n",
       "  </tbody>\n",
       "</table>\n",
       "</div>"
      ],
      "text/plain": [
       "              GRE       TOEFL        RANK         SOP        LOR         GPA  \\\n",
       "count  500.000000  500.000000  500.000000  500.000000  500.00000  500.000000   \n",
       "mean   316.472000  107.192000    3.114000    3.374000    3.48400    8.576440   \n",
       "std     11.295148    6.081868    1.143512    0.991004    0.92545    0.604813   \n",
       "min    290.000000   92.000000    1.000000    1.000000    1.00000    6.800000   \n",
       "25%    308.000000  103.000000    2.000000    2.500000    3.00000    8.127500   \n",
       "50%    317.000000  107.000000    3.000000    3.500000    3.50000    8.560000   \n",
       "75%    325.000000  112.000000    4.000000    4.000000    4.00000    9.040000   \n",
       "max    340.000000  120.000000    5.000000    5.000000    5.00000    9.920000   \n",
       "\n",
       "         RESEARCH       ADMIT  \n",
       "count  500.000000  500.000000  \n",
       "mean     0.560000    0.436000  \n",
       "std      0.496884    0.496384  \n",
       "min      0.000000    0.000000  \n",
       "25%      0.000000    0.000000  \n",
       "50%      1.000000    0.000000  \n",
       "75%      1.000000    1.000000  \n",
       "max      1.000000    1.000000  "
      ]
     },
     "execution_count": 77,
     "metadata": {},
     "output_type": "execute_result"
    }
   ],
   "source": [
    "# 기술통계정보 확인\n",
    "admission.describe()"
   ]
  },
  {
   "cell_type": "markdown",
   "metadata": {
    "id": "AQVPiJpOtveM"
   },
   "source": [
    "[문7] 범주형 값을 갖는 RANK 열의 고윳값과 그들의 개수를 확인하세요."
   ]
  },
  {
   "cell_type": "code",
   "execution_count": 79,
   "metadata": {
    "id": "73t26PkptojJ"
   },
   "outputs": [
    {
     "data": {
      "text/plain": [
       "RANK\n",
       "3    162\n",
       "2    126\n",
       "4    105\n",
       "5     73\n",
       "1     34\n",
       "Name: count, dtype: int64"
      ]
     },
     "execution_count": 79,
     "metadata": {},
     "output_type": "execute_result"
    }
   ],
   "source": [
    "# 고윳값 개수 확인\n",
    "admission['RANK'].value_counts()"
   ]
  },
  {
   "cell_type": "markdown",
   "metadata": {
    "id": "Nw3-JAD2u-Mz"
   },
   "source": [
    "[문8] GRE, GPA 열의 평균값을 한 번에 확인하세요."
   ]
  },
  {
   "cell_type": "code",
   "execution_count": 81,
   "metadata": {
    "id": "Ibcy3Ei2u-M4"
   },
   "outputs": [
    {
     "data": {
      "text/plain": [
       "GRE    316.47200\n",
       "GPA      8.57644\n",
       "dtype: float64"
      ]
     },
     "execution_count": 81,
     "metadata": {},
     "output_type": "execute_result"
    }
   ],
   "source": [
    "# GRE, GPA 열 평균값\n",
    "admission[['GRE', 'GPA']].mean()"
   ]
  },
  {
   "cell_type": "markdown",
   "metadata": {
    "id": "BH-MvRj_uPm1"
   },
   "source": [
    "[문9] GRE 열을 기준으로 오름차순으로 정렬해 확인하세요."
   ]
  },
  {
   "cell_type": "code",
   "execution_count": 83,
   "metadata": {
    "id": "lIpC0Cf0uQww"
   },
   "outputs": [
    {
     "data": {
      "text/html": [
       "<div>\n",
       "<style scoped>\n",
       "    .dataframe tbody tr th:only-of-type {\n",
       "        vertical-align: middle;\n",
       "    }\n",
       "\n",
       "    .dataframe tbody tr th {\n",
       "        vertical-align: top;\n",
       "    }\n",
       "\n",
       "    .dataframe thead th {\n",
       "        text-align: right;\n",
       "    }\n",
       "</style>\n",
       "<table border=\"1\" class=\"dataframe\">\n",
       "  <thead>\n",
       "    <tr style=\"text-align: right;\">\n",
       "      <th></th>\n",
       "      <th>GRE</th>\n",
       "      <th>TOEFL</th>\n",
       "      <th>RANK</th>\n",
       "      <th>SOP</th>\n",
       "      <th>LOR</th>\n",
       "      <th>GPA</th>\n",
       "      <th>RESEARCH</th>\n",
       "      <th>ADMIT</th>\n",
       "    </tr>\n",
       "  </thead>\n",
       "  <tbody>\n",
       "    <tr>\n",
       "      <th>377</th>\n",
       "      <td>290</td>\n",
       "      <td>100</td>\n",
       "      <td>1</td>\n",
       "      <td>1.5</td>\n",
       "      <td>2.0</td>\n",
       "      <td>7.56</td>\n",
       "      <td>0</td>\n",
       "      <td>0</td>\n",
       "    </tr>\n",
       "    <tr>\n",
       "      <th>117</th>\n",
       "      <td>290</td>\n",
       "      <td>104</td>\n",
       "      <td>4</td>\n",
       "      <td>2.0</td>\n",
       "      <td>2.5</td>\n",
       "      <td>7.46</td>\n",
       "      <td>0</td>\n",
       "      <td>0</td>\n",
       "    </tr>\n",
       "    <tr>\n",
       "      <th>168</th>\n",
       "      <td>293</td>\n",
       "      <td>97</td>\n",
       "      <td>2</td>\n",
       "      <td>2.0</td>\n",
       "      <td>4.0</td>\n",
       "      <td>7.80</td>\n",
       "      <td>1</td>\n",
       "      <td>0</td>\n",
       "    </tr>\n",
       "    <tr>\n",
       "      <th>79</th>\n",
       "      <td>294</td>\n",
       "      <td>93</td>\n",
       "      <td>1</td>\n",
       "      <td>1.5</td>\n",
       "      <td>2.0</td>\n",
       "      <td>7.36</td>\n",
       "      <td>0</td>\n",
       "      <td>0</td>\n",
       "    </tr>\n",
       "    <tr>\n",
       "      <th>272</th>\n",
       "      <td>294</td>\n",
       "      <td>95</td>\n",
       "      <td>1</td>\n",
       "      <td>1.5</td>\n",
       "      <td>1.5</td>\n",
       "      <td>7.64</td>\n",
       "      <td>0</td>\n",
       "      <td>0</td>\n",
       "    </tr>\n",
       "    <tr>\n",
       "      <th>...</th>\n",
       "      <td>...</td>\n",
       "      <td>...</td>\n",
       "      <td>...</td>\n",
       "      <td>...</td>\n",
       "      <td>...</td>\n",
       "      <td>...</td>\n",
       "      <td>...</td>\n",
       "      <td>...</td>\n",
       "    </tr>\n",
       "    <tr>\n",
       "      <th>202</th>\n",
       "      <td>340</td>\n",
       "      <td>120</td>\n",
       "      <td>5</td>\n",
       "      <td>4.5</td>\n",
       "      <td>4.5</td>\n",
       "      <td>9.91</td>\n",
       "      <td>1</td>\n",
       "      <td>1</td>\n",
       "    </tr>\n",
       "    <tr>\n",
       "      <th>143</th>\n",
       "      <td>340</td>\n",
       "      <td>120</td>\n",
       "      <td>4</td>\n",
       "      <td>4.5</td>\n",
       "      <td>4.0</td>\n",
       "      <td>9.92</td>\n",
       "      <td>1</td>\n",
       "      <td>1</td>\n",
       "    </tr>\n",
       "    <tr>\n",
       "      <th>384</th>\n",
       "      <td>340</td>\n",
       "      <td>113</td>\n",
       "      <td>4</td>\n",
       "      <td>5.0</td>\n",
       "      <td>5.0</td>\n",
       "      <td>9.74</td>\n",
       "      <td>1</td>\n",
       "      <td>1</td>\n",
       "    </tr>\n",
       "    <tr>\n",
       "      <th>33</th>\n",
       "      <td>340</td>\n",
       "      <td>114</td>\n",
       "      <td>5</td>\n",
       "      <td>4.0</td>\n",
       "      <td>4.0</td>\n",
       "      <td>9.60</td>\n",
       "      <td>1</td>\n",
       "      <td>1</td>\n",
       "    </tr>\n",
       "    <tr>\n",
       "      <th>25</th>\n",
       "      <td>340</td>\n",
       "      <td>120</td>\n",
       "      <td>5</td>\n",
       "      <td>4.5</td>\n",
       "      <td>4.5</td>\n",
       "      <td>9.60</td>\n",
       "      <td>1</td>\n",
       "      <td>1</td>\n",
       "    </tr>\n",
       "  </tbody>\n",
       "</table>\n",
       "<p>500 rows × 8 columns</p>\n",
       "</div>"
      ],
      "text/plain": [
       "     GRE  TOEFL  RANK  SOP  LOR   GPA  RESEARCH  ADMIT\n",
       "377  290    100     1  1.5  2.0  7.56         0      0\n",
       "117  290    104     4  2.0  2.5  7.46         0      0\n",
       "168  293     97     2  2.0  4.0  7.80         1      0\n",
       "79   294     93     1  1.5  2.0  7.36         0      0\n",
       "272  294     95     1  1.5  1.5  7.64         0      0\n",
       "..   ...    ...   ...  ...  ...   ...       ...    ...\n",
       "202  340    120     5  4.5  4.5  9.91         1      1\n",
       "143  340    120     4  4.5  4.0  9.92         1      1\n",
       "384  340    113     4  5.0  5.0  9.74         1      1\n",
       "33   340    114     5  4.0  4.0  9.60         1      1\n",
       "25   340    120     5  4.5  4.5  9.60         1      1\n",
       "\n",
       "[500 rows x 8 columns]"
      ]
     },
     "execution_count": 83,
     "metadata": {},
     "output_type": "execute_result"
    }
   ],
   "source": [
    "# GRE 열 기준 오름차순 정렬\n",
    "admission.sort_values(by='GRE')"
   ]
  },
  {
   "cell_type": "markdown",
   "metadata": {
    "id": "TSKu_Xf-uVk8"
   },
   "source": [
    "[문10] 다음 요구사항에 따라 구문을 순서대로 작성하고 확인하세요.\n",
    "\n",
    "- RANK 열을 기준으로 오름차순, RANK 열 값이 같으면 GPA 열을 기준으로 내림차순으로 정렬해 tmp 테이터프레임으로 선언하세요.\n",
    "- tmp 데이터프레임 인덱스 초기화 하세요.(단, 기존 인덱스 제거)\n",
    "- tmp 데이터프레임을 확인하세요."
   ]
  },
  {
   "cell_type": "code",
   "execution_count": 87,
   "metadata": {
    "id": "NoTSv4SVFJWS",
    "scrolled": true
   },
   "outputs": [
    {
     "data": {
      "text/html": [
       "<div>\n",
       "<style scoped>\n",
       "    .dataframe tbody tr th:only-of-type {\n",
       "        vertical-align: middle;\n",
       "    }\n",
       "\n",
       "    .dataframe tbody tr th {\n",
       "        vertical-align: top;\n",
       "    }\n",
       "\n",
       "    .dataframe thead th {\n",
       "        text-align: right;\n",
       "    }\n",
       "</style>\n",
       "<table border=\"1\" class=\"dataframe\">\n",
       "  <thead>\n",
       "    <tr style=\"text-align: right;\">\n",
       "      <th></th>\n",
       "      <th>GRE</th>\n",
       "      <th>TOEFL</th>\n",
       "      <th>RANK</th>\n",
       "      <th>SOP</th>\n",
       "      <th>LOR</th>\n",
       "      <th>GPA</th>\n",
       "      <th>RESEARCH</th>\n",
       "      <th>ADMIT</th>\n",
       "    </tr>\n",
       "  </thead>\n",
       "  <tbody>\n",
       "    <tr>\n",
       "      <th>0</th>\n",
       "      <td>318</td>\n",
       "      <td>109</td>\n",
       "      <td>1</td>\n",
       "      <td>3.5</td>\n",
       "      <td>3.5</td>\n",
       "      <td>9.12</td>\n",
       "      <td>0</td>\n",
       "      <td>1</td>\n",
       "    </tr>\n",
       "    <tr>\n",
       "      <th>1</th>\n",
       "      <td>332</td>\n",
       "      <td>112</td>\n",
       "      <td>1</td>\n",
       "      <td>1.5</td>\n",
       "      <td>3.0</td>\n",
       "      <td>8.66</td>\n",
       "      <td>1</td>\n",
       "      <td>1</td>\n",
       "    </tr>\n",
       "    <tr>\n",
       "      <th>2</th>\n",
       "      <td>318</td>\n",
       "      <td>110</td>\n",
       "      <td>1</td>\n",
       "      <td>2.5</td>\n",
       "      <td>3.5</td>\n",
       "      <td>8.54</td>\n",
       "      <td>1</td>\n",
       "      <td>0</td>\n",
       "    </tr>\n",
       "    <tr>\n",
       "      <th>3</th>\n",
       "      <td>312</td>\n",
       "      <td>100</td>\n",
       "      <td>1</td>\n",
       "      <td>3.0</td>\n",
       "      <td>3.0</td>\n",
       "      <td>8.53</td>\n",
       "      <td>1</td>\n",
       "      <td>0</td>\n",
       "    </tr>\n",
       "    <tr>\n",
       "      <th>4</th>\n",
       "      <td>311</td>\n",
       "      <td>99</td>\n",
       "      <td>1</td>\n",
       "      <td>2.5</td>\n",
       "      <td>3.0</td>\n",
       "      <td>8.43</td>\n",
       "      <td>1</td>\n",
       "      <td>0</td>\n",
       "    </tr>\n",
       "    <tr>\n",
       "      <th>...</th>\n",
       "      <td>...</td>\n",
       "      <td>...</td>\n",
       "      <td>...</td>\n",
       "      <td>...</td>\n",
       "      <td>...</td>\n",
       "      <td>...</td>\n",
       "      <td>...</td>\n",
       "      <td>...</td>\n",
       "    </tr>\n",
       "    <tr>\n",
       "      <th>495</th>\n",
       "      <td>303</td>\n",
       "      <td>105</td>\n",
       "      <td>5</td>\n",
       "      <td>5.0</td>\n",
       "      <td>4.5</td>\n",
       "      <td>8.65</td>\n",
       "      <td>0</td>\n",
       "      <td>1</td>\n",
       "    </tr>\n",
       "    <tr>\n",
       "      <th>496</th>\n",
       "      <td>304</td>\n",
       "      <td>103</td>\n",
       "      <td>5</td>\n",
       "      <td>5.0</td>\n",
       "      <td>4.0</td>\n",
       "      <td>8.64</td>\n",
       "      <td>0</td>\n",
       "      <td>0</td>\n",
       "    </tr>\n",
       "    <tr>\n",
       "      <th>497</th>\n",
       "      <td>309</td>\n",
       "      <td>105</td>\n",
       "      <td>5</td>\n",
       "      <td>3.5</td>\n",
       "      <td>3.5</td>\n",
       "      <td>8.56</td>\n",
       "      <td>0</td>\n",
       "      <td>0</td>\n",
       "    </tr>\n",
       "    <tr>\n",
       "      <th>498</th>\n",
       "      <td>305</td>\n",
       "      <td>108</td>\n",
       "      <td>5</td>\n",
       "      <td>3.0</td>\n",
       "      <td>3.0</td>\n",
       "      <td>8.48</td>\n",
       "      <td>0</td>\n",
       "      <td>0</td>\n",
       "    </tr>\n",
       "    <tr>\n",
       "      <th>499</th>\n",
       "      <td>304</td>\n",
       "      <td>103</td>\n",
       "      <td>5</td>\n",
       "      <td>5.0</td>\n",
       "      <td>3.0</td>\n",
       "      <td>7.92</td>\n",
       "      <td>0</td>\n",
       "      <td>0</td>\n",
       "    </tr>\n",
       "  </tbody>\n",
       "</table>\n",
       "<p>500 rows × 8 columns</p>\n",
       "</div>"
      ],
      "text/plain": [
       "     GRE  TOEFL  RANK  SOP  LOR   GPA  RESEARCH  ADMIT\n",
       "0    318    109     1  3.5  3.5  9.12         0      1\n",
       "1    332    112     1  1.5  3.0  8.66         1      1\n",
       "2    318    110     1  2.5  3.5  8.54         1      0\n",
       "3    312    100     1  3.0  3.0  8.53         1      0\n",
       "4    311     99     1  2.5  3.0  8.43         1      0\n",
       "..   ...    ...   ...  ...  ...   ...       ...    ...\n",
       "495  303    105     5  5.0  4.5  8.65         0      1\n",
       "496  304    103     5  5.0  4.0  8.64         0      0\n",
       "497  309    105     5  3.5  3.5  8.56         0      0\n",
       "498  305    108     5  3.0  3.0  8.48         0      0\n",
       "499  304    103     5  5.0  3.0  7.92         0      0\n",
       "\n",
       "[500 rows x 8 columns]"
      ]
     },
     "execution_count": 87,
     "metadata": {},
     "output_type": "execute_result"
    }
   ],
   "source": [
    "# RANK + GPA 열 기준 오름차순, 내림차순 정렬\n",
    "tmp = admission.sort_values(by=['RANK', 'GPA'], ascending=[True, False])\n",
    "\n",
    "# 인덱스 초기화\n",
    "tmp.reset_index(drop=True, inplace=True)\n",
    "\n",
    "# 확인\n",
    "tmp"
   ]
  },
  {
   "cell_type": "markdown",
   "metadata": {
    "id": "V5bXRys3BImw"
   },
   "source": [
    "<img src='https://raw.githubusercontent.com/jangrae/img/master/practice_30e.png' width=45 align=\"left\"/>"
   ]
  }
 ],
 "metadata": {
  "colab": {
   "provenance": []
  },
  "kernelspec": {
   "display_name": "Python 3 (ipykernel)",
   "language": "python",
   "name": "python3"
  },
  "language_info": {
   "codemirror_mode": {
    "name": "ipython",
    "version": 3
   },
   "file_extension": ".py",
   "mimetype": "text/x-python",
   "name": "python",
   "nbconvert_exporter": "python",
   "pygments_lexer": "ipython3",
   "version": "3.13.5"
  }
 },
 "nbformat": 4,
 "nbformat_minor": 4
}
