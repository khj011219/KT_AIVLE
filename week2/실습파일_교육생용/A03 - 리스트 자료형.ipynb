{
 "cells": [
  {
   "cell_type": "markdown",
   "metadata": {
    "id": "b3TDAdnvnSbh"
   },
   "source": [
    "<center><img src='https://raw.githubusercontent.com/Jangrae/img/master/title.png' width=500/></center>"
   ]
  },
  {
   "cell_type": "markdown",
   "metadata": {
    "id": "VHcAusnqwv_K"
   },
   "source": [
    "# 3.리스트(List) 자료형\n",
    "\n",
    "- 리스트는 여러 값을 묶어서 갖는 컨테이너 자료형 중의 하나입니다.\n",
    "- **대괄호 [ ]** 안에 콤마로 구분해 값을 나열하며, 이 값을 **요소**라고 부릅니다.\n",
    "- 이 세상 온갖 데이터(숫자, 문자, 파일, 이미지 등등)가 리스트의 요소가 될 수 있습니다.\n",
    "- 당연히 리스트가 리스트의 요소가 될 수도 있습니다.\n",
    "- Python에서 가장 많이 사용되는 자료형이 리스트라고 생각해도 됩니다."
   ]
  },
  {
   "cell_type": "markdown",
   "metadata": {
    "id": "tqlzU37B4Cr9"
   },
   "source": [
    "## 3.1.일반 변수와 리스트 비교\n",
    "\n",
    "- 일반 변수와 리스트 특징을 비교하면 왜  리스트가 필요한 지 알 수 있습니다."
   ]
  },
  {
   "cell_type": "markdown",
   "metadata": {
    "id": "l3L6bDwMGnqO"
   },
   "source": [
    "**1) 일반 변수**\n",
    "\n",
    "- 일반 변수를 사용한다면 5명 학생 성적을 처리하기 위해 **5개 변수**가 필요합니다.\n",
    "- 50명 학생 성적을 처리한다면 **50개 변수**가 필요합니다."
   ]
  },
  {
   "cell_type": "code",
   "execution_count": null,
   "metadata": {
    "id": "69Ne6pGSFQpK"
   },
   "outputs": [],
   "source": [
    "# 개별 값을 갖는 기존 변수\n",
    "score1 = 85\n",
    "score2 = 90\n",
    "score3 = 80\n",
    "score4 = 75\n",
    "score5 = 95"
   ]
  },
  {
   "cell_type": "markdown",
   "metadata": {
    "id": "JeigrxSVG2w9"
   },
   "source": [
    "- 합을 구하려면 모든 변수를 다음과 같이 더해야 하니 정말 **번거롭습니다.**\n",
    "- 5개 정도 되니 참고 썼지, 만일 변수가 50개 라면...상상하기 싫습니다.\n",
    "- 5개 값 중에서 최댓값을 구하는 것은 어떻게 해야 할지 모르겠습니다."
   ]
  },
  {
   "cell_type": "code",
   "execution_count": null,
   "metadata": {
    "id": "Rok8QsLHA4mn"
   },
   "outputs": [],
   "source": [
    "# 변수들의 합\n",
    "score_sum = score1 + score2 + score3 + score4 + score5\n",
    "\n",
    "# 확인\n",
    "print(score_sum)"
   ]
  },
  {
   "cell_type": "markdown",
   "metadata": {
    "id": "8-sYQ8zBjYTi"
   },
   "source": [
    "**2) 리스트**\n",
    "\n",
    "- 리스트를 사용한다면 5명이든 50명이든 학생 성적을 **리스트 하나**로 처리할 수 있습니다."
   ]
  },
  {
   "cell_type": "code",
   "execution_count": null,
   "metadata": {
    "id": "y0qQdE-XQVlG"
   },
   "outputs": [],
   "source": [
    "# 리스트 만들기\n",
    "score = [85, 90, 80, 75, 95]\n",
    "\n",
    "# 확인\n",
    "print(score)"
   ]
  },
  {
   "cell_type": "markdown",
   "metadata": {
    "id": "QQl1K2fJG8FH"
   },
   "source": [
    "- sum() 함수로 합을 **쉽게** 구할 수 있습니다."
   ]
  },
  {
   "cell_type": "code",
   "execution_count": null,
   "metadata": {
    "id": "08HIOnMUP4qN"
   },
   "outputs": [],
   "source": [
    "# 리스트 요소의 합\n",
    "score_sum = sum(score)\n",
    "\n",
    "# 확인\n",
    "print(score_sum)"
   ]
  },
  {
   "cell_type": "markdown",
   "metadata": {
    "id": "oTfiIL_XHCbJ"
   },
   "source": [
    "- max() 함수로 최댓값을 **쉽게** 구할 수 있습니다."
   ]
  },
  {
   "cell_type": "code",
   "execution_count": null,
   "metadata": {
    "id": "PkaEdMzDCXR3"
   },
   "outputs": [],
   "source": [
    "# 리스트 요소 중 가장 큰 값\n",
    "score_max = max(score)\n",
    "\n",
    "# 확인\n",
    "print(score_max)"
   ]
  },
  {
   "cell_type": "markdown",
   "metadata": {
    "id": "EKI7qiBtjWSP"
   },
   "source": [
    "## 3.2.리스트 만들기\n",
    "\n",
    "- 값을 대괄호 안에 나열만 하면 되니 리스트 만들기는 쉽습니다."
   ]
  },
  {
   "cell_type": "markdown",
   "metadata": {
    "id": "EmNRUb_X8LYr"
   },
   "source": [
    "### 3.2.1.다양한 형태의 리스트"
   ]
  },
  {
   "cell_type": "markdown",
   "metadata": {
    "id": "bTBoZYrs7fCY"
   },
   "source": [
    "**1) 비어있는 리스트 만들기**\n",
    "\n",
    "- 이후 요소를 받기 위해 비어있는 리스트를 만드는 경우가 있습니다.\n",
    "- list() 함수는 다른 자료형을 리스트로 변환하는 함수입니다."
   ]
  },
  {
   "cell_type": "code",
   "execution_count": null,
   "metadata": {
    "id": "V7L3uB_fPX3o"
   },
   "outputs": [],
   "source": [
    "# 빈 리스트 만들기\n",
    "score1 = []\n",
    "score2 = list()\n",
    "\n",
    "# 확인\n",
    "print(score1)\n",
    "print(score2)"
   ]
  },
  {
   "cell_type": "markdown",
   "metadata": {
    "id": "VPN0uG3VPgZx"
   },
   "source": [
    "**2) 같은 자료형을 요소로 갖는 리스트**\n",
    "\n",
    "- 같은 자료형의 데이터를 요소로 갖는 리스트가 가장 일반적인 리스트 유형입니다.\n",
    "- 문자열에 포함된 문자 개수를 확인했던 len() 함수로 리스트 요소 개수를 확인할 수 있습니다."
   ]
  },
  {
   "cell_type": "code",
   "execution_count": null,
   "metadata": {
    "id": "dT2EGSLIPgZ0"
   },
   "outputs": [],
   "source": [
    "# 리스트 만들기\n",
    "score = [85, 95, 90, 75]\n",
    "\n",
    "# 확인\n",
    "print(score)\n",
    "print(len(score))"
   ]
  },
  {
   "cell_type": "markdown",
   "metadata": {
    "id": "3nzvAydjx7UP"
   },
   "source": [
    "**3) 여러 자료형을 요소로 갖는 리스트**\n",
    "\n",
    "- 여러 자료형의 값을 요소로 갖는 리스트를 만들 수 있습니다."
   ]
  },
  {
   "cell_type": "code",
   "execution_count": null,
   "metadata": {
    "id": "lm_UxmjSFQpN"
   },
   "outputs": [],
   "source": [
    "# 리스트 만들기\n",
    "member = ['홍길동', 85, '한사랑', 95, '일지매', 90,'박여인', 75]\n",
    "\n",
    "# 확인\n",
    "print(member)\n",
    "print(len(member))"
   ]
  },
  {
   "cell_type": "markdown",
   "metadata": {
    "id": "W4jrvSVk4AzQ"
   },
   "source": [
    "**4) 리스트를 요소로 갖는 리스트**\n",
    "\n",
    "- 리스트를 요소로 갖는 리스트(List of List)를 만들 수 있습니다.\n",
    "- 아래 리스트와 같은 형태를 2차원 리스트라고 부릅니다.\n",
    "- len() 함수로 확인한 요소의 개수는 9가 아니고 3입니다.\n",
    "- 요소 3개씩을 갖는 리스트 3개가 score 리스트의 요소입니다."
   ]
  },
  {
   "cell_type": "code",
   "execution_count": null,
   "metadata": {
    "id": "VVFeuF8MvM98"
   },
   "outputs": [],
   "source": [
    "# 리스트를 요소로 갖는 리스트 만들기\n",
    "score = [[80, 90, 75],\n",
    "         [85, 70, 99],\n",
    "         [90, 75, 80]]\n",
    "\n",
    "# 확인\n",
    "print(score)\n",
    "print(len(score))"
   ]
  },
  {
   "cell_type": "markdown",
   "metadata": {
    "id": "S6ycuNmOPopd"
   },
   "source": [
    "### 3.2.2.range() 함수로 리스트 만들기\n",
    "\n",
    "- 다음과 같이 일련의 요소를 직접 나열하는 것은 정말 번거롭습니다.\n",
    "- 혹시 입력하다가 빼먹은 숫자가 없는지 불안하기까지 합니다."
   ]
  },
  {
   "cell_type": "code",
   "execution_count": null,
   "metadata": {
    "id": "HzigMLJPBF-k"
   },
   "outputs": [],
   "source": [
    "# 리스트 만들기\n",
    "nums = [1, 2, 3, 4, 5, 6, 7, 8, 9, 10, 11, 12, 13, 14, 16, 17, 18, 19, 20]\n",
    "\n",
    "# 확인\n",
    "print(nums)"
   ]
  },
  {
   "cell_type": "markdown",
   "metadata": {
    "id": "MtdgpIKgBGkj"
   },
   "source": [
    "\n",
    "- **연속된 정수**로 리스트를 만들 때는 **range()** 함수를 사용하면 편리합니다.\n",
    "- range() 함수로 리스트를 만드는 것이 아니라 이 함수로 얻은 값을 리스트로 변환합니다.\n",
    "- range() 함수는 튜플, 집합, 딕셔너리 등을 만들 때도 사용됩니다."
   ]
  },
  {
   "cell_type": "markdown",
   "metadata": {
    "id": "JwxLhp4tAyUs"
   },
   "source": [
    "**1) 기본 사용법**\n",
    "\n",
    "- **range(*n*)**: 0 부터 n-1 까지의 정수 범위가 됩니다."
   ]
  },
  {
   "cell_type": "code",
   "execution_count": null,
   "metadata": {
    "id": "YgZ0cR0X8LY0"
   },
   "outputs": [],
   "source": [
    "# 0 ~ 9 정수를 요소로 갖는 리스트\n",
    "nums = list(range(10))\n",
    "\n",
    "# 확인\n",
    "print(nums)"
   ]
  },
  {
   "cell_type": "markdown",
   "metadata": {
    "id": "gfzXdiXFM2V1"
   },
   "source": [
    "\n",
    "- **range(*m*, *n*)**: m 부터 n-1 까지의 정수 범위가 됩니다."
   ]
  },
  {
   "cell_type": "code",
   "execution_count": null,
   "metadata": {
    "id": "Uem_FllPPnN9"
   },
   "outputs": [],
   "source": [
    "# 위 결과와 동일\n",
    "nums = list(range(0, 10))\n",
    "\n",
    "# 확인\n",
    "print(nums)"
   ]
  },
  {
   "cell_type": "code",
   "execution_count": null,
   "metadata": {
    "id": "Cu_7n2T1hEVX"
   },
   "outputs": [],
   "source": [
    "# -5 ~ 5 사이 정수를 요소로 갖는 리스트\n",
    "nums = list(range(-5, 6))\n",
    "\n",
    "# 확인\n",
    "print(nums)"
   ]
  },
  {
   "cell_type": "markdown",
   "metadata": {
    "id": "nEZr0dyC4uUC"
   },
   "source": [
    "**2) 증가값 지정**\n",
    "\n",
    "- **range(*m, n, x*)**: m 부터 n-1 까지 x 만큼씩 증가하는 정수가 됩니다.\n",
    "- x를 음수로 설정하면 점점 작아지는 일련의 정수를 얻을 수 있습니다."
   ]
  },
  {
   "cell_type": "code",
   "execution_count": null,
   "metadata": {
    "id": "PZOI8JTc4tvi"
   },
   "outputs": [],
   "source": [
    "# 0 ~ 9 사이, 2씩 증가하는 정수를 요소로 갖는 리스트\n",
    "nums = list(range(0, 10, 2))\n",
    "\n",
    "# 확인\n",
    "print(nums)"
   ]
  },
  {
   "cell_type": "code",
   "execution_count": null,
   "metadata": {
    "id": "x9st1_HYM2XU"
   },
   "outputs": [],
   "source": [
    "# 0 ~ 9 사이, 3씩 증가하는 정수를 요소로 갖는 리스트\n",
    "nums = list(range(0, 10, 3))\n",
    "\n",
    "# 확인\n",
    "print(nums)"
   ]
  },
  {
   "cell_type": "code",
   "execution_count": null,
   "metadata": {
    "id": "OJvmrNjrMxiJ"
   },
   "outputs": [],
   "source": [
    "# 9 ~ 0 사이, 1씩 감소하는 정수를 요소로 갖는 리스트\n",
    "nums = list(range(9, -1, -1))\n",
    "\n",
    "# 확인\n",
    "print(nums)"
   ]
  },
  {
   "cell_type": "markdown",
   "metadata": {
    "id": "CW4CsRNy8LY3"
   },
   "source": [
    "### [참고] 문자열로 리스트 만들기\n",
    "\n",
    "- 자주 사용될 기능은 아니지만 문자열의 특징으로 알고 있으면 좋을 것입니다."
   ]
  },
  {
   "cell_type": "code",
   "execution_count": null,
   "metadata": {
    "id": "6qrjNkSz8LY3"
   },
   "outputs": [],
   "source": [
    "# 단순 문자열\n",
    "var_str = ('PYTHON')\n",
    "\n",
    "# 확인\n",
    "print(var_str)"
   ]
  },
  {
   "cell_type": "code",
   "execution_count": null,
   "metadata": {
    "id": "Kgiv604vNK57"
   },
   "outputs": [],
   "source": [
    "# 문자열 하나를 요소로 갖는 리스트\n",
    "list_str = ['PYTHON']\n",
    "\n",
    "# 확인\n",
    "print(list_str)"
   ]
  },
  {
   "cell_type": "code",
   "execution_count": null,
   "metadata": {
    "id": "fNBOQcdNNMb0"
   },
   "outputs": [],
   "source": [
    "# 개별 문자를 요소로 갖는 리스트 #1\n",
    "list_str = list('PYTHON')\n",
    "\n",
    "# 확인\n",
    "print(list_str)"
   ]
  },
  {
   "cell_type": "code",
   "execution_count": null,
   "metadata": {
    "id": "A2SW5goaNPru"
   },
   "outputs": [],
   "source": [
    "# 개별 문자를 요소로 갖는 리스트 #2\n",
    "list_str = list('123456789')\n",
    "\n",
    "# 확인\n",
    "print(list_str)"
   ]
  },
  {
   "cell_type": "markdown",
   "metadata": {
    "id": "8yJZo2gyQGsl"
   },
   "source": [
    "## 3.3.리스트 인덱싱(Indexing)\n",
    "\n",
    "- 특정 요소, 즉 리스트 안에서 특정 값을 찾을 때 사용하는 데이터를 **인덱스**라고합니다.\n",
    "- 이러한 인덱스로 특정 요소를 찾는 과정을 **인덱싱**이라고 합니다.\n",
    "- **대괄호**, 즉 **[ ]** 안에 인덱스를 지정합니다.\n",
    "- **0부터 시작**하는 **순방향 인덱스**를 사용해 원하는 위치의 요소를 확인합니다.\n",
    "- 0부터 시작함이 매우 낯설지만 자주 사용해 익숙해져야 합니다.\n",
    "- **역방향 인덱스**는 **-1**부터 시작됩니다.\n",
    "\n",
    "<img src='https://raw.githubusercontent.com/jangrae/img/master/list_indexing.png' width=540 align = \"left\"/>"
   ]
  },
  {
   "cell_type": "code",
   "execution_count": null,
   "metadata": {
    "id": "8HlzJIPSFQpO",
    "scrolled": true
   },
   "outputs": [],
   "source": [
    "# 리스트 만들기\n",
    "member = ['홍길동', 85, '한사랑', 95, '일지매', 90, '박여인', 75]\n",
    "\n",
    "# 인덱싱\n",
    "print(member[0])\n",
    "print(member[3])\n",
    "print(member[-1])\n",
    "print(member[-7])"
   ]
  },
  {
   "cell_type": "markdown",
   "metadata": {
    "id": "IQ287ldPOamE"
   },
   "source": [
    "- 리스트를 요소로 갖는 리스트에 대한 인덱싱은 다음과 같습니다."
   ]
  },
  {
   "cell_type": "code",
   "execution_count": null,
   "metadata": {
    "id": "68b-MBUWwMHT"
   },
   "outputs": [],
   "source": [
    "# 리스트를 요소로 갖는 리스트\n",
    "score = [80, [90, 100, 85], 85, 90]\n",
    "\n",
    "# 인덱싱\n",
    "print(score[0])\n",
    "print(score[1])\n",
    "print(score[-1])\n",
    "print(score[-3])\n",
    "print(score[1][2])"
   ]
  },
  {
   "cell_type": "markdown",
   "metadata": {
    "id": "l-mJjYG9FQpP"
   },
   "source": [
    "## 3.4.리스트 슬라이싱(Slicing)\n",
    "\n",
    "- 인덱스를 사용해 특정 **범위**의 요소를 찾는 과정을 **슬라이싱**이라고 합니다.\n",
    "- 대괄호안에 [m:n] 형태로 범위를 지정하여 요소를 확인합니다.\n",
    "- 인덱스 m 부터 n-1 까지, 즉 **인덱스 n의 요소는 결과에 포함되지 않습니다.**\n",
    "\n",
    "<img src='https://raw.githubusercontent.com/jangrae/img/master/list_indexing.png' width=540 align = \"left\"/>"
   ]
  },
  {
   "cell_type": "code",
   "execution_count": null,
   "metadata": {
    "id": "SxCJ0jmQFQpS"
   },
   "outputs": [],
   "source": [
    "# 리스트 만들기\n",
    "member = ['홍길동', 85, '한사랑', 95, '일지매', 90,' 박여인', 75]\n",
    "\n",
    "# 슬라이싱\n",
    "print(member[2:6])\n",
    "print(member[6:])\n",
    "print(member[:4])\n",
    "print(member[:])\n",
    "print(member[0:-2])"
   ]
  },
  {
   "cell_type": "markdown",
   "metadata": {
    "id": "C3j8e6B2OxLT"
   },
   "source": [
    "- 리스트를 요소로 갖는 리스트에 대한 슬라이싱은 다음과 같습니다."
   ]
  },
  {
   "cell_type": "code",
   "execution_count": null,
   "metadata": {
    "id": "HYND_XGSPICe"
   },
   "outputs": [],
   "source": [
    "# 리스트를 요소로 갖는 리스트\n",
    "score = [80, [90, 100, 85], 85, 90]\n",
    "\n",
    "# 슬라이싱\n",
    "score[1][1:3]"
   ]
  },
  {
   "cell_type": "markdown",
   "metadata": {
    "id": "h1CvxTMgHWil"
   },
   "source": [
    "<img src='https://raw.githubusercontent.com/jangrae/img/master/practice_20.png' width=120 align=\"left\"/>"
   ]
  },
  {
   "cell_type": "markdown",
   "metadata": {
    "id": "Ebbpf7hhQSGO"
   },
   "source": [
    "[문1] 다음 셀의 코드를 수정해서 원하는 내용이 제대로 출력되게 하세요."
   ]
  },
  {
   "cell_type": "code",
   "execution_count": null,
   "metadata": {
    "id": "g-mLNR9RQSGb"
   },
   "outputs": [],
   "source": [
    "# 1 ~ 10 정수를 갖는 리스트\n",
    "a = list(range(1, 10))\n",
    "\n",
    "# 확인\n",
    "print(a)"
   ]
  },
  {
   "cell_type": "code",
   "execution_count": null,
   "metadata": {
    "id": "QUtl8Fp8FHkq"
   },
   "outputs": [],
   "source": [
    "# 2 ~ 10 짝수를 갖는 리스트\n",
    "b = list(range(1, 10, 2))\n",
    "\n",
    "# 확인\n",
    "print(b)"
   ]
  },
  {
   "cell_type": "code",
   "execution_count": null,
   "metadata": {
    "id": "J6h6vZJvFI_h"
   },
   "outputs": [],
   "source": [
    "# 리스트 a에서 5 ~ 8 정수만 가져와 리스트 c 만들기\n",
    "c = a[5:8]\n",
    "\n",
    "# 확인\n",
    "print(c)"
   ]
  },
  {
   "cell_type": "markdown",
   "metadata": {
    "id": "VTlu-bdSfMYw"
   },
   "source": [
    "<img src='https://raw.githubusercontent.com/jangrae/img/master/practice_20e.png' width=45 align=\"left\"/>"
   ]
  },
  {
   "cell_type": "markdown",
   "metadata": {
    "id": "yMmFHYlBxNP8"
   },
   "source": [
    "## 3.5.리스트 연산\n",
    "\n",
    "- 리스트 연산은 문자열 연산과 같은 결과를 보여줍니다.\n",
    "- **더하기**는 **결합**을, **곱하기**는 **반복**을 의미합니다.\n",
    "- 빼기와 나누기 연산은 불가능합니다."
   ]
  },
  {
   "cell_type": "markdown",
   "metadata": {
    "id": "-4n58nNAn_1y"
   },
   "source": [
    "**1) 리스트 더하기**\n",
    "\n",
    "- 리스트를 더하면 두 리스트가 연결되는 결과를 보입니다."
   ]
  },
  {
   "cell_type": "code",
   "execution_count": null,
   "metadata": {
    "id": "E-FBnP9ZxPL7"
   },
   "outputs": [],
   "source": [
    "# 리스트 만들기\n",
    "score1 = [90, 80, 95, 70]\n",
    "score2 = [70, 75, 90, 100]\n",
    "\n",
    "# 두 리스트 더하기\n",
    "score3 = score1 + score2\n",
    "\n",
    "# 확인\n",
    "print(score3)"
   ]
  },
  {
   "cell_type": "markdown",
   "metadata": {
    "id": "4NYb66waQWlk"
   },
   "source": [
    "- 다음과 같이 복합 대입 연산자를 사용해 리스트를 연결할 수 있습니다."
   ]
  },
  {
   "cell_type": "code",
   "execution_count": null,
   "metadata": {
    "id": "ejcesqmYxlxI",
    "scrolled": true
   },
   "outputs": [],
   "source": [
    "# 빈 리스트 만들기\n",
    "score = []\n",
    "\n",
    "# 리스트 연결\n",
    "score += [90, 80, 95, 70]\n",
    "score += [70, 75, 90, 100]\n",
    "\n",
    "# 확인\n",
    "print(score)"
   ]
  },
  {
   "cell_type": "markdown",
   "metadata": {
    "id": "Mg2ZeHMPoCWZ"
   },
   "source": [
    "**2) 리스트 반복**\n",
    "\n",
    "- 리스트에 양의 정수를 곱하면 그 수 만큼 요소가 반복됩니다."
   ]
  },
  {
   "cell_type": "code",
   "execution_count": null,
   "metadata": {
    "id": "0uYMqFwExntS"
   },
   "outputs": [],
   "source": [
    "# 리스트 만들기\n",
    "score1 = [90, 80, 95, 70]\n",
    "\n",
    "# 리스트 요소를 곱한 수 만큼 반복하기\n",
    "score2 = score1 * 2\n",
    "score3 = score1 * 3\n",
    "\n",
    "# 확인\n",
    "print(score1)\n",
    "print(score2)\n",
    "print(score3)"
   ]
  },
  {
   "cell_type": "markdown",
   "metadata": {
    "id": "0qvqP1VjQyZy"
   },
   "source": [
    "- 정수 0을 곱하면 리스트 요소가 모두 제거되어 빈 리스트가 됩니다."
   ]
  },
  {
   "cell_type": "code",
   "execution_count": null,
   "metadata": {
    "id": "rvr1wRfO-39D"
   },
   "outputs": [],
   "source": [
    "# 리스트 만들기\n",
    "score1 = [90, 80, 95, 70]\n",
    "\n",
    "# 리스트에 0 곱하기\n",
    "score0 = score1 * 0\n",
    "\n",
    "# 확인\n",
    "print(score1)\n",
    "print(score0)"
   ]
  },
  {
   "cell_type": "markdown",
   "metadata": {
    "id": "-SX8cWGyow54"
   },
   "source": [
    "<img src='https://raw.githubusercontent.com/jangrae/img/master/practice_20.png' width=120 align=\"left\"/>"
   ]
  },
  {
   "cell_type": "markdown",
   "metadata": {
    "id": "-IljGu8d37Gm"
   },
   "source": [
    "[문1] 다음 셀에서 만든 세 리스트를 합해 새로운 리스트 a_all을 만드세요."
   ]
  },
  {
   "cell_type": "code",
   "execution_count": null,
   "metadata": {
    "id": "7Cj5_sWJ128u"
   },
   "outputs": [],
   "source": [
    "# 두 리스트 만들기\n",
    "a1 = list(range(1, 5))\n",
    "a2 = list(range(5, 10))\n",
    "a3 = list(range(10, 15))\n",
    "\n",
    "# 확인\n",
    "print(a1)\n",
    "print(a2)\n",
    "print(a3)\n",
    "\n",
    "# 리스트 합치기\n",
    "\n",
    "\n",
    "# 확인\n"
   ]
  },
  {
   "cell_type": "markdown",
   "metadata": {
    "id": "3pLK9c8Iow54"
   },
   "source": [
    "<img src='https://raw.githubusercontent.com/jangrae/img/master/practice_20e.png' width=45 align=\"left\"/>"
   ]
  },
  {
   "cell_type": "markdown",
   "metadata": {
    "id": "TzkT7GQvx8rx"
   },
   "source": [
    "## 3.6.요소 변경, 추가, 삭제\n",
    "\n",
    "- 인덱싱 또는 슬라이싱 결과에 대해 요소를 변경하거나 삭제할 수 있습니다.\n",
    "- **append()**, **insert()** 메서드를 사용해 요소를 추가할 수 있습니다."
   ]
  },
  {
   "cell_type": "markdown",
   "metadata": {
    "id": "zLj_-ikEG9tK"
   },
   "source": [
    "### 3.6.1.변경"
   ]
  },
  {
   "cell_type": "markdown",
   "metadata": {
    "id": "YjXrqI_5oUxc"
   },
   "source": [
    "**1) 범위 내 변경**\n",
    "\n",
    "- 기존 요소의 값이 변경됩니다."
   ]
  },
  {
   "cell_type": "code",
   "execution_count": null,
   "metadata": {
    "id": "V1c5gES5FQpU",
    "scrolled": true
   },
   "outputs": [],
   "source": [
    "# range() 함수로 리스트 만들기\n",
    "nums = list(range(10))\n",
    "\n",
    "# 확인\n",
    "print(nums)"
   ]
  },
  {
   "cell_type": "code",
   "execution_count": null,
   "metadata": {
    "id": "wH6a50jAORfr"
   },
   "outputs": [],
   "source": [
    "# 특정 요소 값 변경\n",
    "nums[1] = 10\n",
    "\n",
    "# 확인\n",
    "print(nums)"
   ]
  },
  {
   "cell_type": "code",
   "execution_count": null,
   "metadata": {
    "id": "3g2rHio18t7g"
   },
   "outputs": [],
   "source": [
    "# 범위내 요소 값 변경\n",
    "nums[2:4] = [20, 30]\n",
    "\n",
    "# 확인\n",
    "print(nums)"
   ]
  },
  {
   "cell_type": "code",
   "execution_count": null,
   "metadata": {
    "id": "vWM0ETU88rmd"
   },
   "outputs": [],
   "source": [
    "# 범위내 요소 값 변경\n",
    "nums[4:7] = [40, 50]\n",
    "\n",
    "# 확인\n",
    "print(nums)"
   ]
  },
  {
   "cell_type": "markdown",
   "metadata": {
    "id": "Nk98n7gdoZVp"
   },
   "source": [
    "**2) 범위 밖 변경**\n",
    "\n",
    "- 범위를 벗어나는 요소 값을 변경하면 요소가 추가됩니다.\n",
    "- 범위가 꼭 연결되지 않아도 됩니다."
   ]
  },
  {
   "cell_type": "code",
   "execution_count": null,
   "metadata": {
    "id": "6Ijhgtxd_dTa"
   },
   "outputs": [],
   "source": [
    "# 범위를 벗어나는 요소 값 변경\n",
    "nums[6:] = [70, 80, 90, 100]\n",
    "\n",
    "# 확인\n",
    "print(nums)"
   ]
  },
  {
   "cell_type": "code",
   "execution_count": null,
   "metadata": {
    "id": "JbatDmJLATTA"
   },
   "outputs": [],
   "source": [
    "# 범위를 완전히 벗어나는 요소 값 변경\n",
    "nums[600:] = [110, 120]\n",
    "\n",
    "# 확인\n",
    "print(nums)"
   ]
  },
  {
   "cell_type": "markdown",
   "metadata": {
    "id": "LJgR2XP3HBMy"
   },
   "source": [
    "### 3.6.2.추가"
   ]
  },
  {
   "cell_type": "markdown",
   "metadata": {
    "id": "Jf6yHua8Qtg1"
   },
   "source": [
    "**1) 뒤에 요소 하나 추가**\n",
    "\n",
    "- **append()** 메서드를 사용해서 맨 뒤에 요소 **하나**를 추가할 수 있습니다."
   ]
  },
  {
   "cell_type": "code",
   "execution_count": null,
   "metadata": {
    "id": "uhEgr1o4HC_I"
   },
   "outputs": [],
   "source": [
    "# 0 ~ 4 정수를 갖는 리스트 만들기\n",
    "nums = list(range(5))\n",
    "\n",
    "# 확인\n",
    "print(nums)"
   ]
  },
  {
   "cell_type": "code",
   "execution_count": null,
   "metadata": {
    "id": "S17m2Dwe82J4"
   },
   "outputs": [],
   "source": [
    "# 맨 뒤에 요소 하나 추가\n",
    "nums.append(5)\n",
    "\n",
    "# 맨 뒤에 요소 하나 더 추가\n",
    "nums.append(6)\n",
    "\n",
    "# 확인\n",
    "print(nums)"
   ]
  },
  {
   "cell_type": "code",
   "execution_count": null,
   "metadata": {
    "id": "-qEtaAu9Bu0R"
   },
   "outputs": [],
   "source": [
    "# 맨 뒤에 리스트 하나를 요소로 추가\n",
    "nums.append([7, 8])\n",
    "\n",
    "# 확인\n",
    "print(nums)"
   ]
  },
  {
   "cell_type": "markdown",
   "metadata": {
    "id": "f4Qt8o4Q8LZN"
   },
   "source": [
    "**2) 중간에 요소 추가**\n",
    "\n",
    "- **insert()** 메서드를 사용하면 원하는 위치에 요소를 추가할 수 있습니다."
   ]
  },
  {
   "cell_type": "code",
   "execution_count": null,
   "metadata": {
    "id": "tLKEhHbO8LZN"
   },
   "outputs": [],
   "source": [
    "# 리스트 만들기\n",
    "nums = [10, 20, 40, 50]\n",
    "\n",
    "# 확인\n",
    "print(nums)"
   ]
  },
  {
   "cell_type": "code",
   "execution_count": null,
   "metadata": {
    "id": "f_B7vZG_88pN"
   },
   "outputs": [],
   "source": [
    "# 특정 위치에 요소 추가\n",
    "nums.insert(3, 30)\n",
    "\n",
    "# 확인\n",
    "print(nums)"
   ]
  },
  {
   "cell_type": "markdown",
   "metadata": {
    "id": "zAfXKWDf8LZS"
   },
   "source": [
    "**3) 뒤에 리스트 붙이기 #1**\n",
    "\n",
    "- 리스트에 리스트를 더하면 리스트가 연결됩니다."
   ]
  },
  {
   "cell_type": "code",
   "execution_count": null,
   "metadata": {
    "id": "vtm95_7Y8LZS"
   },
   "outputs": [],
   "source": [
    "# 리스트 만들기\n",
    "nums = list(range(5))\n",
    "\n",
    "# 확인\n",
    "print(nums)"
   ]
  },
  {
   "cell_type": "code",
   "execution_count": null,
   "metadata": {
    "id": "f5w6-Y9u9AUj"
   },
   "outputs": [],
   "source": [
    "# 리스트 더하기\n",
    "nums = nums + [5, 6, 7, 8, 9]\n",
    "\n",
    "# 확인\n",
    "print(nums)"
   ]
  },
  {
   "cell_type": "markdown",
   "metadata": {
    "id": "vNf6-_GyIggb"
   },
   "source": [
    "**4) 뒤에 리스트 붙이기 #2**\n",
    "\n",
    "- **extend()** 메서드 사용해 리스트 뒤에 리스트를 붙일 수 있습니다."
   ]
  },
  {
   "cell_type": "code",
   "execution_count": null,
   "metadata": {
    "id": "QUq7AfPa8LZT"
   },
   "outputs": [],
   "source": [
    "# 리스트 만들기\n",
    "nums = list(range(5))\n",
    "\n",
    "# 확인\n",
    "print(nums)"
   ]
  },
  {
   "cell_type": "code",
   "execution_count": null,
   "metadata": {
    "id": "3U6dADF59E2Z"
   },
   "outputs": [],
   "source": [
    "# extend 메서드를 사용해서 다른 리스트 연결\n",
    "nums.extend([5, 6, 7, 8, 9])\n",
    "\n",
    "# 확인\n",
    "print(nums)"
   ]
  },
  {
   "cell_type": "markdown",
   "metadata": {
    "id": "AvIr03DvHDW6"
   },
   "source": [
    "### 3.6.3.삭제"
   ]
  },
  {
   "cell_type": "code",
   "execution_count": null,
   "metadata": {
    "id": "VC-QhlA6NmW3"
   },
   "outputs": [],
   "source": [
    "# 리스트 만들기\n",
    "nums = list(range(10, 100, 10))\n",
    "\n",
    "# 확인\n",
    "print(nums)"
   ]
  },
  {
   "cell_type": "markdown",
   "metadata": {
    "id": "UFIhiTf_I0LW"
   },
   "source": [
    "**1) 특정 요소 삭제**\n",
    "\n",
    "- **del** 다음에 인덱싱 구문을 추가해 해당 요소를 삭제합니다."
   ]
  },
  {
   "cell_type": "code",
   "execution_count": null,
   "metadata": {
    "id": "opg83ZyRIzYu"
   },
   "outputs": [],
   "source": [
    "# del문으로 특정 요소 삭제\n",
    "#      [10, 20, 30, 40, 50, 60, 70, 80, 90]\n",
    "# 인덱스 0   1   2   3   4   5   6   7   8\n",
    "\n",
    "del nums[7]\n",
    "\n",
    "# 확인\n",
    "print(nums)"
   ]
  },
  {
   "cell_type": "markdown",
   "metadata": {
    "id": "2bj4mZRuI7hD"
   },
   "source": [
    "**2) 범위 삭제**\n",
    "\n",
    "- **del** 다음에 슬라이싱 구문을 추가해 해당 범위 요소를 삭제합니다."
   ]
  },
  {
   "cell_type": "code",
   "execution_count": null,
   "metadata": {
    "id": "rbL1W9L_I6i2"
   },
   "outputs": [],
   "source": [
    "# 범위 지정하여 여러 요소 삭제\n",
    "#      [10, 20, 30, 40, 50, 60, 70, 90]\n",
    "# 인덱스 0   1   2   3   4   5   6   7\n",
    "\n",
    "del nums[4:]\n",
    "\n",
    "# 확인\n",
    "print(nums)"
   ]
  },
  {
   "cell_type": "markdown",
   "metadata": {
    "id": "-nvXRROTJFIo"
   },
   "source": [
    "**3) 전체 삭제**\n",
    "\n",
    "- [ ]를 대입하거나 **clear()** 메서드로 초기화합니다."
   ]
  },
  {
   "cell_type": "code",
   "execution_count": null,
   "metadata": {
    "id": "CG_grn26JEu7"
   },
   "outputs": [],
   "source": [
    "# 모든 요소 삭제\n",
    "nums = []\n",
    "\n",
    "# 또는\n",
    "#nums.clear()\n",
    "\n",
    "# 확인\n",
    "print(nums)"
   ]
  },
  {
   "cell_type": "markdown",
   "metadata": {
    "id": "y0tgxG1dow56"
   },
   "source": [
    "<img src='https://raw.githubusercontent.com/jangrae/img/master/practice_20.png' width=120 align=\"left\"/>"
   ]
  },
  {
   "cell_type": "markdown",
   "metadata": {
    "id": "87zx1LJVRcxZ"
   },
   "source": [
    "[문1] **len()** 함수를 사용하여 score에 들어있는 요소의 개수를 구하세요."
   ]
  },
  {
   "cell_type": "code",
   "execution_count": null,
   "metadata": {
    "id": "gZ8vClU2Rcxb"
   },
   "outputs": [],
   "source": [
    "# 리스트 만들기\n",
    "score = [75, 46, 93, -82, -77, 130, 100, 75, -10]\n",
    "\n",
    "# 요소 개수 확인\n"
   ]
  },
  {
   "cell_type": "markdown",
   "metadata": {
    "id": "bbTG7L0BRcxf"
   },
   "source": [
    "[문2] 75와 -77을 인덱싱해서 출력하세요."
   ]
  },
  {
   "cell_type": "code",
   "execution_count": null,
   "metadata": {
    "id": "Jp9fP6ejRcxf"
   },
   "outputs": [],
   "source": [
    "# 인덱싱\n",
    "\n"
   ]
  },
  {
   "cell_type": "markdown",
   "metadata": {
    "id": "cdHVc0WBRcxi"
   },
   "source": [
    "[문3] **append()** 메서드를 이용하여 마지막에 숫자 80을 추가하세요."
   ]
  },
  {
   "cell_type": "code",
   "execution_count": null,
   "metadata": {
    "id": "aQ0ZwqcjRcxj"
   },
   "outputs": [],
   "source": [
    "# 요소 추가\n",
    "\n",
    "\n",
    "# 확인\n"
   ]
  },
  {
   "cell_type": "markdown",
   "metadata": {
    "id": "733E-uNuRcxm"
   },
   "source": [
    "[문4] 처음부터 3번째까지(75, 46, 93)의 요소를 슬라이싱 하세요."
   ]
  },
  {
   "cell_type": "code",
   "execution_count": null,
   "metadata": {
    "id": "yUIsl_ZhRcxn"
   },
   "outputs": [],
   "source": [
    "# 슬라이싱\n"
   ]
  },
  {
   "cell_type": "markdown",
   "metadata": {
    "id": "vyoYYRQDRcxq"
   },
   "source": [
    "[문5] 끝에서 5번째 요소 값(130)을 30으로 변경하세요."
   ]
  },
  {
   "cell_type": "code",
   "execution_count": null,
   "metadata": {
    "id": "e7OH757gRcxr"
   },
   "outputs": [],
   "source": [
    "# 요소 변경\n",
    "\n",
    "\n",
    "# 확인\n"
   ]
  },
  {
   "cell_type": "markdown",
   "metadata": {
    "id": "gVegAtRkRcxx"
   },
   "source": [
    "[문6] 두 번째 요소 값(46)을 삭제하세요."
   ]
  },
  {
   "cell_type": "code",
   "execution_count": null,
   "metadata": {
    "id": "3dlcR4y2Rcxx"
   },
   "outputs": [],
   "source": [
    "# 요소 삭제\n",
    "\n",
    "\n",
    "# 확인\n"
   ]
  },
  {
   "cell_type": "markdown",
   "metadata": {
    "id": "v8lR2qDrow57"
   },
   "source": [
    "<img src='https://raw.githubusercontent.com/jangrae/img/master/practice_20e.png' width=45 align=\"left\"/>"
   ]
  },
  {
   "cell_type": "markdown",
   "metadata": {
    "id": "wHO7aOBhfQlq"
   },
   "source": [
    "## 3.7.리스트 관련 메서드\n",
    "\n",
    "- 앞에서 다룬 메서드 외에도 다음 메서드들은 알아두면 편리하게 쓰일 때가 있습니다.\n",
    "- 문자열 관련 메서드에 의한 변경은 변수에 바로 반영되지 않습니다.\n",
    "- 하지만 리스트 관련 메서드에 의한 변경은 변수에 바로 반영이 됩니다."
   ]
  },
  {
   "cell_type": "code",
   "execution_count": null,
   "metadata": {
    "id": "62-zcWnqbQPr"
   },
   "outputs": [],
   "source": [
    "# 변수 선언\n",
    "a = 'I have a Dream.'\n",
    "b = ['A', 'B', 'C', 'D']\n",
    "\n",
    "# 메서드 사용\n",
    "a.upper()\n",
    "b.reverse()\n",
    "\n",
    "# 확인\n",
    "print(a)\n",
    "print(b)"
   ]
  },
  {
   "cell_type": "markdown",
   "metadata": {
    "id": "XNULZh1MX_2u"
   },
   "source": [
    "**1) count(), index() 메서드: 요소 개수와 위치 조회**"
   ]
  },
  {
   "cell_type": "code",
   "execution_count": null,
   "metadata": {
    "id": "0JBaN3Ui4pYC"
   },
   "outputs": [],
   "source": [
    "# 리스트 만들기\n",
    "score = [90, 80, 95, 70, 100, 65, 70, 100]\n",
    "\n",
    "# 확인\n",
    "print(score)"
   ]
  },
  {
   "cell_type": "code",
   "execution_count": null,
   "metadata": {
    "id": "w4seSVNv-xoR"
   },
   "outputs": [],
   "source": [
    "# 100점이 몇 개인지 확인\n",
    "score.count(100)"
   ]
  },
  {
   "cell_type": "code",
   "execution_count": null,
   "metadata": {
    "id": "NRgUy1At-0i3"
   },
   "outputs": [],
   "source": [
    "# 100점이 처음 나타나는 위치\n",
    "print(score.index(100))"
   ]
  },
  {
   "cell_type": "markdown",
   "metadata": {
    "id": "p4kFpt0AYLV5"
   },
   "source": [
    "**2) reverse(), sort() 메서드: 요소 순서 변경**"
   ]
  },
  {
   "cell_type": "code",
   "execution_count": null,
   "metadata": {
    "id": "Aul7Tcc01LLf"
   },
   "outputs": [],
   "source": [
    "# 리스트 만들기\n",
    "member = ['홍길동', '일지매', '박여인', '한사랑', '강우동']\n",
    "\n",
    "# 확인\n",
    "print(member)"
   ]
  },
  {
   "cell_type": "code",
   "execution_count": null,
   "metadata": {
    "id": "YqJNZedK_B0t"
   },
   "outputs": [],
   "source": [
    "# 요소 뒤집기\n",
    "member.reverse()\n",
    "\n",
    "# 확인\n",
    "print(member)"
   ]
  },
  {
   "cell_type": "code",
   "execution_count": null,
   "metadata": {
    "id": "ah3i9cXI_A_Y"
   },
   "outputs": [],
   "source": [
    "# 리스트 안의 요소를 오름차순으로 정렬\n",
    "member.sort()\n",
    "\n",
    "# 확인\n",
    "print(member)"
   ]
  },
  {
   "cell_type": "code",
   "execution_count": null,
   "metadata": {
    "id": "zGcjchw6_AQY"
   },
   "outputs": [],
   "source": [
    "# 리스트 안의 요소를 내림차순으로 정렬\n",
    "member.sort(reverse=True)\n",
    "\n",
    "# 확인\n",
    "print(member)"
   ]
  },
  {
   "cell_type": "markdown",
   "metadata": {
    "id": "IR_iL5FUYVsz"
   },
   "source": [
    "**3) remove(), pop(), clear() 메서드: 요소 삭제**"
   ]
  },
  {
   "cell_type": "code",
   "execution_count": null,
   "metadata": {
    "id": "uNxypQSz3tya"
   },
   "outputs": [],
   "source": [
    "# 리스트 만들기\n",
    "member = ['홍길동', '일지매', '박여인', '한사랑', '박여인', '강우동']\n",
    "\n",
    "# 확인\n",
    "print(member)"
   ]
  },
  {
   "cell_type": "code",
   "execution_count": null,
   "metadata": {
    "id": "ivJ4f7De_TuS"
   },
   "outputs": [],
   "source": [
    "# 첫 번째 '박여인' 삭제\n",
    "member.remove('박여인')\n",
    "\n",
    "# 확인\n",
    "print(member)"
   ]
  },
  {
   "cell_type": "code",
   "execution_count": null,
   "metadata": {
    "id": "S3FA5xcv_TAi"
   },
   "outputs": [],
   "source": [
    "# 3번째 요소 삭제\n",
    "del_member = member.pop(2)\n",
    "\n",
    "# 확인\n",
    "print(del_member)\n",
    "print(member)"
   ]
  },
  {
   "cell_type": "code",
   "execution_count": null,
   "metadata": {
    "id": "1AGDAbaG_SC1"
   },
   "outputs": [],
   "source": [
    "# 모든 요소 삭제\n",
    "member.clear()\n",
    "\n",
    "# 확인\n",
    "print(member)"
   ]
  },
  {
   "cell_type": "markdown",
   "metadata": {
    "id": "WxL_SWMDow5-"
   },
   "source": [
    "<img src='https://raw.githubusercontent.com/jangrae/img/master/practice_20.png' width=120 align=\"left\"/>"
   ]
  },
  {
   "cell_type": "markdown",
   "metadata": {
    "id": "fJVOJxdpJSPG"
   },
   "source": [
    "[문1] 아래 코드를 실행하기 전에 결과를 예측해 보고, 실행 후에 결과와 비교해 보세요."
   ]
  },
  {
   "cell_type": "code",
   "execution_count": null,
   "metadata": {
    "id": "U_zW4veIHao9"
   },
   "outputs": [],
   "source": [
    "# 리스트 만들기\n",
    "del_member = []\n",
    "member = ['홍길동', '일지매', '박여인', '한사랑', '박여인', '강우동']\n",
    "\n",
    "# 요소 삭제\n",
    "del_member.append(member.pop(0))\n",
    "del_member.append(member.pop(0))\n",
    "del_member.append(member.pop(0))\n",
    "\n",
    "# 확인\n",
    "print(del_member)\n",
    "print(member)"
   ]
  },
  {
   "cell_type": "markdown",
   "metadata": {
    "id": "JgdjJp9now5-"
   },
   "source": [
    "<img src='https://raw.githubusercontent.com/jangrae/img/master/practice_20e.png' width=45 align=\"left\"/>"
   ]
  },
  {
   "cell_type": "markdown",
   "metadata": {
    "id": "q1FqbGUAnSZp"
   },
   "source": [
    "<img src='https://raw.githubusercontent.com/jangrae/img/master/practice_30.png' width=120 align=\"left\"/>"
   ]
  },
  {
   "cell_type": "markdown",
   "metadata": {
    "id": "fFMeIxCnC_fL"
   },
   "source": [
    "[문1] 1, 3, 5, 7, 9를 요소로 갖는 리스트 a와 1, 'a', 3, 'b'를 요소로 갖는 리스트 b를 선언하고 확인하세요."
   ]
  },
  {
   "cell_type": "code",
   "execution_count": null,
   "metadata": {
    "id": "47158015"
   },
   "outputs": [],
   "source": [
    "\n"
   ]
  },
  {
   "cell_type": "markdown",
   "metadata": {
    "id": "Mc1z9yJFDReh"
   },
   "source": [
    "[문2] 1, 2, 3, 4, 5를 요소로 갖는 리스트 a를 선언하고, 첫 번째 요소와 마지막 요소를 확인하세요."
   ]
  },
  {
   "cell_type": "code",
   "execution_count": null,
   "metadata": {
    "id": "66a0e92f"
   },
   "outputs": [],
   "source": [
    "\n"
   ]
  },
  {
   "cell_type": "markdown",
   "metadata": {
    "id": "Edf2Hk6gDTPa"
   },
   "source": [
    "[문3] 23, 3, 16, 45, 11을 요소로 갖는 리스트 a를 선언하고 다음을 확인하세요.\n",
    "\n",
    "- 앞에서부터 첫 번째 요소와 네 번째 요소를 하나의 print() 함수로 확인\n",
    "- 뒤에서부터 첫 번째 요소와 세 번째 요소를 하나의 print() 함수로 확인"
   ]
  },
  {
   "cell_type": "code",
   "execution_count": null,
   "metadata": {
    "id": "5314564e"
   },
   "outputs": [],
   "source": [
    "\n"
   ]
  },
  {
   "cell_type": "markdown",
   "metadata": {
    "id": "V5OQVcVDDXIc"
   },
   "source": [
    "[문4] 23, 3, 16, 45, 11을 요소로 갖는 리스트 a를 선언하고, 첫 번째 요소부터 세 번째 요소까지 확인하세요.\n"
   ]
  },
  {
   "cell_type": "code",
   "execution_count": null,
   "metadata": {
    "id": "90ab75d3"
   },
   "outputs": [],
   "source": [
    "\n"
   ]
  },
  {
   "cell_type": "markdown",
   "metadata": {
    "id": "iDjXzN-dEXyM"
   },
   "source": [
    "[문5] 23, 3, 16, 45, 11을 요소로 갖는 리스트 a를 선언하고 두 번째 요소를 삭제하세요.\n",
    "- 힌트: del 리스트[삭제 대상 인덱스]"
   ]
  },
  {
   "cell_type": "code",
   "execution_count": null,
   "metadata": {
    "id": "90ba61fa"
   },
   "outputs": [],
   "source": [
    "\n"
   ]
  },
  {
   "cell_type": "markdown",
   "metadata": {
    "id": "mRSakjfgFT4l"
   },
   "source": [
    "[문6] 리스트에서는 평균을 구하는 함수가 제공되지 않습니다.\n",
    "\n",
    "- 리스트 num = [10, 21, 34, 47, 53] 일 때, num의 평균을 계산하여 출력하세요."
   ]
  },
  {
   "cell_type": "code",
   "execution_count": null,
   "metadata": {
    "id": "00947959"
   },
   "outputs": [],
   "source": [
    "\n"
   ]
  },
  {
   "cell_type": "markdown",
   "metadata": {
    "id": "23X8SittFn6I"
   },
   "source": [
    "[문7] 10, 20, 30, 40, 50을 요소로 갖는 리스트 a를 선언하고, 맨 끝에 60을 요소로 추가하세요."
   ]
  },
  {
   "cell_type": "code",
   "execution_count": null,
   "metadata": {
    "id": "45f38846"
   },
   "outputs": [],
   "source": [
    "\n"
   ]
  },
  {
   "cell_type": "markdown",
   "metadata": {
    "id": "qjGi__UFGQp-"
   },
   "source": [
    "[문8] 리스트 a = [1, 4, 3, 2] 일 때 리스트의 요소들을 오름차순으로 정렬해서 출력하세요.\n",
    "\n",
    "- 힌트: 리스트 이름.sort()"
   ]
  },
  {
   "cell_type": "code",
   "execution_count": null,
   "metadata": {
    "id": "39c77831"
   },
   "outputs": [],
   "source": [
    "\n"
   ]
  },
  {
   "cell_type": "markdown",
   "metadata": {
    "id": "MC_e_FNgGVxZ"
   },
   "source": [
    "[문9] 리스트 b = ['c', 'a', 'b', 'd'] 일 때 리스트의 요소들을 내림차순으로 정렬해서 출력하세요.\n",
    "\n",
    "- 힌트: 리스트 이름.sort(reverse=True)"
   ]
  },
  {
   "cell_type": "code",
   "execution_count": null,
   "metadata": {
    "id": "888a76e3"
   },
   "outputs": [],
   "source": [
    "\n"
   ]
  },
  {
   "cell_type": "markdown",
   "metadata": {
    "id": "SxPl7FIoow6A"
   },
   "source": [
    "<img src='https://raw.githubusercontent.com/jangrae/img/master/practice_30e.png' width=45 align=\"left\"/>"
   ]
  }
 ],
 "metadata": {
  "colab": {
   "provenance": []
  },
  "kernelspec": {
   "display_name": "Python 3",
   "language": "python",
   "name": "python3"
  },
  "language_info": {
   "codemirror_mode": {
    "name": "ipython",
    "version": 3
   },
   "file_extension": ".py",
   "mimetype": "text/x-python",
   "name": "python",
   "nbconvert_exporter": "python",
   "pygments_lexer": "ipython3",
   "version": "3.12.7"
  }
 },
 "nbformat": 4,
 "nbformat_minor": 4
}
