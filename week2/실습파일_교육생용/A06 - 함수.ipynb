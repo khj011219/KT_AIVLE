{
 "cells": [
  {
   "cell_type": "markdown",
   "metadata": {
    "id": "b3TDAdnvnSbh"
   },
   "source": [
    "<center><img src='https://raw.githubusercontent.com/Jangrae/img/master/title.png' width=500/></center>"
   ]
  },
  {
   "cell_type": "markdown",
   "metadata": {
    "id": "9lVOgXy-vVa5"
   },
   "source": [
    "# 6.함수(Function)\n",
    "\n",
    "- 함수는 입력을 받아 무엇인가를 처리한 후 그 결과를 반환하는 것입니다.\n",
    "- 쌀(입력)을 밥솥(함수)에 넣으면 밥(출력)이 되는 형태와 같습니다.\n",
    "- 같은 입력(쌀)이라 해도 함수(밥솥)기능에 따라 다른 출력(밥)이 됩니다."
   ]
  },
  {
   "cell_type": "markdown",
   "metadata": {
    "id": "fl30Ti3DYuo2"
   },
   "source": [
    "<img src='https://raw.githubusercontent.com/jangrae/img/master/function.png' width=650 align=\"left\"/>"
   ]
  },
  {
   "cell_type": "markdown",
   "metadata": {
    "id": "Suxg0kO3ZZuW"
   },
   "source": [
    "- 프로그래밍에서 함수란 반복해 사용할 코드를 미리 정의해 두고 필요할 때 사용하는 모듈입니다.\n",
    "- 함수를 사용하면 같은 로직을 반복해 코딩할 필요가 없어집니다.\n",
    "- 함수는 **def** 문으로 만듭니다."
   ]
  },
  {
   "cell_type": "markdown",
   "metadata": {
    "id": "xD8bQr7KN3qb"
   },
   "source": [
    "## 6.1.매개변수\n",
    "\n",
    "- 우선 무작정 다음과 같이 함수를 만들어 봅니다."
   ]
  },
  {
   "cell_type": "code",
   "execution_count": null,
   "metadata": {
    "id": "i1jtbf1tNvy2"
   },
   "outputs": [],
   "source": [
    "# 함수 만들기\n",
    "def hello():\n",
    "    print('안녕하세요? 반갑습니다!')\n",
    "\n",
    "# 함수 사용하기\n",
    "hello()"
   ]
  },
  {
   "cell_type": "markdown",
   "metadata": {
    "id": "2GwwWw_Bw3aJ"
   },
   "source": [
    "**1) 매개변수**\n",
    "\n",
    "- 위 함수는 입력 없이 처리되는 함수입니다.\n",
    "- 이제 이름을 입력 받아 처리하는, 즉 매개변수를 갖는 함수를 만듭니다."
   ]
  },
  {
   "cell_type": "code",
   "execution_count": null,
   "metadata": {
    "id": "a0J-Z-xvwwBA"
   },
   "outputs": [],
   "source": [
    "# 함수 만들기\n",
    "def hello(name):\n",
    "    print(f'{name}님 안녕하세요? 반갑습니다!')\n",
    "\n",
    "# 함수 사용\n",
    "hello('홍길동')"
   ]
  },
  {
   "cell_type": "markdown",
   "metadata": {
    "id": "0HWXCdO7gjld"
   },
   "source": [
    "- 위와 같이 위치를 기준으로 매개변수에 전달되는 값을 **위치 인수(Positional Argument)**라고 합니다."
   ]
  },
  {
   "cell_type": "markdown",
   "metadata": {
    "id": "vYfKjINCxzcR"
   },
   "source": [
    "**2) 매개변수 기본값**\n",
    "\n",
    "- 위 함수는 매개변수가 없으면 오류가 발생합니다.\n",
    "- '매개변수 = 값' 형태로 기본값을 지정할 수 있습니다.\n",
    "- 이름을 전달하지 않으면 '여러분'이 기본값으로 사용되게 수정합니다."
   ]
  },
  {
   "cell_type": "code",
   "execution_count": null,
   "metadata": {
    "id": "RAVftLGzyLne"
   },
   "outputs": [],
   "source": [
    "# 함수 만들기\n",
    "def hello(name='여러분'):\n",
    "    print(f'{name}님 안녕하세요? 반갑습니다!')\n",
    "\n",
    "# 함수 사용\n",
    "hello('홍길동')\n",
    "hello()"
   ]
  },
  {
   "cell_type": "markdown",
   "metadata": {
    "id": "6ZdH1wqpgyNk"
   },
   "source": [
    "- 위와 같이 기본값으로 매개변수에 전달되는 인수를 **기본 인수(Default Argument)**라고 합니다."
   ]
  },
  {
   "cell_type": "markdown",
   "metadata": {
    "id": "CWCc9eR_1MJ7"
   },
   "source": [
    "<img src='https://raw.githubusercontent.com/jangrae/img/master/practice_20.png' width=120 align=\"left\"/>"
   ]
  },
  {
   "cell_type": "markdown",
   "metadata": {
    "id": "23c_zQMg1MKC"
   },
   "source": [
    "[문1] 위 함수에서 기본값이 사용된 경우 '여러분님 안녕하세요? 반갑습니다!'가 표시됩니다.\n",
    "\n",
    "- '여러분 안녕하세요? 반갑습니다!'가 표시되게 함수를 수정하세요."
   ]
  },
  {
   "cell_type": "code",
   "execution_count": null,
   "metadata": {
    "id": "nETufo5_1MKC"
   },
   "outputs": [],
   "source": [
    "# 함수 만들기\n",
    "\n",
    "\n",
    "\n",
    "# 함수 사용\n",
    "hello('홍길동')\n",
    "hello()"
   ]
  },
  {
   "cell_type": "markdown",
   "metadata": {
    "id": "VTlu-bdSfMYw"
   },
   "source": [
    "<img src='https://raw.githubusercontent.com/jangrae/img/master/practice_20e.png' width=45 align=\"left\"/>"
   ]
  },
  {
   "cell_type": "markdown",
   "metadata": {
    "id": "vY5MaNkIyoTe"
   },
   "source": [
    "**3) 매개변수 순서**\n",
    "\n",
    "- 매개변수 순서에 맞게 값을 넣으면 매개변수 이름을 생략할 수 있습니다.\n",
    "- '매개변수=값' 형태로 매개변수 이름을 지정하면 전달되는 순서를 바꿀 수 있습니다."
   ]
  },
  {
   "cell_type": "code",
   "execution_count": null,
   "metadata": {
    "id": "0FpZAvfTyuBF"
   },
   "outputs": [],
   "source": [
    "# 함수 만들기\n",
    "def hello(name, loud=1):\n",
    "    if loud == 1:\n",
    "        print(f'우~~와~~ {name}님 안녕하세요? 반갑습니다!!!')\n",
    "    else:\n",
    "        print(f'{name}님 안녕하세요? 반가워요.')\n",
    "\n",
    "# 함수 사용\n",
    "hello(name='홍길동', loud=1)   # 매개변수 이름 = 값 으로 지정\n",
    "hello(loud=0, name='홍길동')   # 매개변수 이름으로 지정하면 순서 변경 가능\n",
    "hello('홍길동', 0)             # 매개변수 순서에 맞게 값을 넣으면 매개변수 이름 생략 가능\n",
    "hello('홍길동')                # 함수 생성 시 loud = 1 로 선언했으므로, 안쓰면 기본값 1이 입력됨"
   ]
  },
  {
   "cell_type": "markdown",
   "metadata": {
    "id": "60ecJ4WHx9xz"
   },
   "source": [
    "**[참고] 가변 인수**\n",
    "\n",
    "- 임의 개수의 값이 매개변수에 전달되는 인수를 **가변 인수(Arbitrary Argument)** 라고 합니다.\n",
    "- 가변 인수는 대부분 함수 안에서 반복문을 사용해 처리합니다.\n",
    "- 우선, 임의 개수의 위치 인수를 가변 인수로 사용할 수 있습니다.\n",
    "- 함수 내에서 튜플 형태로 인식됩니다."
   ]
  },
  {
   "cell_type": "code",
   "execution_count": null,
   "metadata": {
    "id": "oRsbJBRQx9x0"
   },
   "outputs": [],
   "source": [
    "# 함수 만들기\n",
    "def hello(*args):\n",
    "    for who in args:\n",
    "        print(f'{who}님 안녕하세요? 반갑습니다!')\n",
    "\n",
    "# 함수 사용\n",
    "hello('홍길동', '일지매', '강우동')"
   ]
  },
  {
   "cell_type": "markdown",
   "metadata": {
    "id": "XuvberTIoBJO"
   },
   "source": [
    "<img src='https://raw.githubusercontent.com/jangrae/img/master/practice_20.png' width=120 align=\"left\"/>"
   ]
  },
  {
   "cell_type": "markdown",
   "metadata": {
    "id": "F1GV2OdU7r6q"
   },
   "source": [
    "[문1] 숫자를 여러 개 받아(*매개변수) 각각의 숫자를 제곱한 후 모두 더한 값을 출력하는 함수 sqrsum을 만드세요."
   ]
  },
  {
   "cell_type": "code",
   "execution_count": null,
   "metadata": {
    "id": "3_Y1eRUenwmU"
   },
   "outputs": [],
   "source": [
    "# 함수 만들기\n",
    "\n",
    "\n",
    "\n",
    "# 함수 사용\n",
    "sqrsum(1, 4, 3, 5)"
   ]
  },
  {
   "cell_type": "markdown",
   "metadata": {
    "id": "J2LZFK8eFng1"
   },
   "source": [
    "<img src='https://raw.githubusercontent.com/jangrae/img/master/practice_20e.png' width=45 align=\"left\"/>"
   ]
  },
  {
   "cell_type": "markdown",
   "metadata": {
    "id": "vZ-0guRRyw31"
   },
   "source": [
    "## 6.2.결괏값 반환\n",
    "\n",
    "- 함수 안에서 결괏값을 반환할 때는 return 문을 사용합니다."
   ]
  },
  {
   "cell_type": "code",
   "execution_count": null,
   "metadata": {
    "id": "X9nSZgjRyw31"
   },
   "outputs": [],
   "source": [
    "# 함수 만들기\n",
    "def calculate1(a, b):\n",
    "    summ = a + b\n",
    "    return summ\n",
    "\n",
    "# 함수 사용\n",
    "r1 = calculate1(10, 5)\n",
    "print(r1)"
   ]
  },
  {
   "cell_type": "markdown",
   "metadata": {
    "id": "b5UVUwdntA_r"
   },
   "source": [
    "- 반환되는 값이 없는 함수의 결괏값을 받아 출력하면 None이 출력됩니다."
   ]
  },
  {
   "cell_type": "code",
   "execution_count": null,
   "metadata": {
    "id": "1oYgR0a7tDbD"
   },
   "outputs": [],
   "source": [
    "# 함수 만들기\n",
    "def calculate1(a, b):\n",
    "    summ = a + b\n",
    "    print(summ)\n",
    "\n",
    "# 함수 사용\n",
    "r1 = calculate1(10, 5)\n",
    "print(r1)"
   ]
  },
  {
   "cell_type": "markdown",
   "metadata": {
    "id": "C3s5N2p0yw32"
   },
   "source": [
    "- 함수가 여러 개의 결괏값을 반환할 수도 있습니다."
   ]
  },
  {
   "cell_type": "code",
   "execution_count": null,
   "metadata": {
    "id": "Zvk8Lc8Oyw32"
   },
   "outputs": [],
   "source": [
    "# 함수 만들기\n",
    "def calculate2(a, b):\n",
    "    summ = a + b\n",
    "    mult = a * b\n",
    "    return summ, mult\n",
    "\n",
    "# 함수 사용\n",
    "r1, r2 = calculate2(10, 5)\n",
    "print(r1)\n",
    "print(r2)"
   ]
  },
  {
   "cell_type": "markdown",
   "metadata": {
    "id": "iCBK6juK8TF9"
   },
   "source": [
    "<img src='https://raw.githubusercontent.com/jangrae/img/master/practice_20.png' width=120 align=\"left\"/>"
   ]
  },
  {
   "cell_type": "markdown",
   "metadata": {
    "id": "pDPOWYZ48TF-"
   },
   "source": [
    "[문1] 두 숫자를 입력받아 몫과 나머지를 반환하는 divide2 함수를 만드세요."
   ]
  },
  {
   "cell_type": "code",
   "execution_count": null,
   "metadata": {
    "id": "PKMBqL7J8TF-"
   },
   "outputs": [],
   "source": [
    "# 함수 만들기\n",
    "\n",
    "\n",
    "\n",
    "\n",
    "# 함수 사용\n",
    "r1, r2 = divide2(10, 5)\n",
    "print(r1)\n",
    "print(r2)"
   ]
  },
  {
   "cell_type": "markdown",
   "metadata": {
    "id": "W-kQiF16Fng1"
   },
   "source": [
    "<img src='https://raw.githubusercontent.com/jangrae/img/master/practice_20e.png' width=45 align=\"left\"/>"
   ]
  },
  {
   "cell_type": "markdown",
   "metadata": {
    "id": "q1FqbGUAnSZp"
   },
   "source": [
    "<img src='https://raw.githubusercontent.com/jangrae/img/master/practice_30.png' width=120 align=\"left\"/>"
   ]
  },
  {
   "cell_type": "markdown",
   "metadata": {
    "id": "bt1RhktFQAJU"
   },
   "source": [
    "[문1] numbers() 함수를 만들어 보세요.\n",
    "\n",
    "- 출력할 숫자들을 받는 입력 매개변수 nums(숫자)는 입력 값의 수를 정하지 않고 들어오는 대로 받음\n",
    "- 입력받은 숫자들을 출력\n",
    "- nums에 값을 지정하여 함수의 결과를 확인하새요.\n",
    "- 힌트: 입력받을 매개변수의 수를 지정하지 않고 사용하려면 *nums\n",
    "\n",
    "\n",
    "\n",
    "        numbers(2, 4, 6, 8, 10)\n",
    "        ---------------------\n",
    "        (2, 4, 6, 8, 10)"
   ]
  },
  {
   "cell_type": "code",
   "execution_count": null,
   "metadata": {
    "id": "e291a8df"
   },
   "outputs": [],
   "source": [
    "\n"
   ]
  },
  {
   "cell_type": "markdown",
   "metadata": {
    "id": "07ahmEZaQVwP"
   },
   "source": [
    "[문2] average() 함수를 만들어 보세요.\n",
    "\n",
    "- 평균을 구할 수들을 받는 입력 매개변수 nums(숫자)는 입력 값의 수를 정하지 않고 들어오는 대로 받음\n",
    "- 입력받은 숫자들의 평균을 변수 avg에 저장하여 출력\n",
    "- nums에 값을 지정하여 함수의 결과를 확인하새요.\n",
    "\n",
    "\n",
    "\n",
    "        average(2, 4, 6, 8, 10)\n",
    "        ------------------------\n",
    "        6.0"
   ]
  },
  {
   "cell_type": "code",
   "execution_count": null,
   "metadata": {
    "id": "45dc4e27"
   },
   "outputs": [],
   "source": [
    "\n"
   ]
  },
  {
   "cell_type": "markdown",
   "metadata": {
    "id": "XfEBpAHmQrn8"
   },
   "source": [
    "[문3] calculate1() 함수를 만들어 보세요.\n",
    "\n",
    "- 입력 매개변수: 숫자1, 숫자2, 사칙연산 부호(+,-,*,/)\n",
    "- 숫자1과 숫자2 사이에 사칙연산자 부호에 해당하는 연산을 수행 후 결과를 print로 출력\n",
    "\n",
    "\n",
    "        calculate1(11, 2, '*')\n",
    "        ---------------\n",
    "        22"
   ]
  },
  {
   "cell_type": "code",
   "execution_count": null,
   "metadata": {
    "id": "131c774c"
   },
   "outputs": [],
   "source": [
    "\n"
   ]
  },
  {
   "cell_type": "markdown",
   "metadata": {
    "id": "N_u9HkQ_Rv3u"
   },
   "source": [
    "[문4] 위에서 만든 calcuate1() 함수의 결과를 변수 c로 저장해 보세요.  \n",
    "\n",
    "- 그런 다음 c를 출력해 보세요.\n",
    "- 결과가 담기나요?"
   ]
  },
  {
   "cell_type": "code",
   "execution_count": null,
   "metadata": {
    "id": "cpcHEjIJR-GU"
   },
   "outputs": [],
   "source": [
    "\n"
   ]
  },
  {
   "cell_type": "markdown",
   "metadata": {
    "id": "Tpb7ryuDSDAJ"
   },
   "source": [
    "[문5] 위에서 만든 calcuate1() 함수의 결과를 변수 c로 저장하기 위해서\n",
    "\n",
    "- 결과를 반환하도록 코드를 수정하세요.\n",
    "- 힌트: return\n",
    "- 이제 다시 결과를 c로 저장하고 출력하세요.\n",
    "- 결과가 담기나요?"
   ]
  },
  {
   "cell_type": "code",
   "execution_count": null,
   "metadata": {
    "id": "e5036b57",
    "scrolled": true
   },
   "outputs": [],
   "source": [
    "\n"
   ]
  },
  {
   "cell_type": "markdown",
   "metadata": {
    "id": "fE5tW_kUScog"
   },
   "source": [
    "[문6] calculate2() 함수를 만들어 보세요.\n",
    "\n",
    "- 숫자 두개를 받아서 몫과 나머지를 계산하고 두 결과를 반환\n",
    "- 함수 실행 후 결과를 r1, r2에 저장한 후 출력하세요.\n",
    "\n",
    "\n",
    "        r1, r2 = calculate2(11, 2)\n",
    "        print(r1, r2)\n",
    "        ---------------------------\n",
    "        5  1"
   ]
  },
  {
   "cell_type": "code",
   "execution_count": null,
   "metadata": {
    "id": "9aada59d"
   },
   "outputs": [],
   "source": [
    "\n"
   ]
  },
  {
   "cell_type": "markdown",
   "metadata": {
    "id": "pXAtxJsYTVaP"
   },
   "source": [
    "[문7] even() 함수를 만들어 보세요.\n",
    "\n",
    "- 입력 매개변수로 리스트를 입력받아, 입력받은 리스트 값들 중 짝수로만 구성된 새로운 리스트를 반환\n",
    "- 힌트: 함수 처리 코드 내 짝수를 저장할 빈 리스트 result 생성\n",
    "\n",
    "\n",
    "        even([2, 3, 6, 8, 11])\n",
    "        ------------------------\n",
    "        [2, 6, 8]"
   ]
  },
  {
   "cell_type": "code",
   "execution_count": null,
   "metadata": {
    "id": "JfYDWLs_Qv8h"
   },
   "outputs": [],
   "source": [
    "\n"
   ]
  },
  {
   "cell_type": "markdown",
   "metadata": {
    "id": "lXg65OsTFng2"
   },
   "source": [
    "<img src='https://raw.githubusercontent.com/jangrae/img/master/practice_30e.png' width=45 align=\"left\"/>"
   ]
  }
 ],
 "metadata": {
  "colab": {
   "provenance": []
  },
  "kernelspec": {
   "display_name": "Python 3",
   "language": "python",
   "name": "python3"
  },
  "language_info": {
   "codemirror_mode": {
    "name": "ipython",
    "version": 3
   },
   "file_extension": ".py",
   "mimetype": "text/x-python",
   "name": "python",
   "nbconvert_exporter": "python",
   "pygments_lexer": "ipython3",
   "version": "3.12.7"
  }
 },
 "nbformat": 4,
 "nbformat_minor": 4
}
