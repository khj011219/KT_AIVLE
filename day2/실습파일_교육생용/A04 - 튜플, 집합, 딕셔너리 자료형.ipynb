{
 "cells": [
  {
   "cell_type": "markdown",
   "metadata": {
    "id": "b3TDAdnvnSbh"
   },
   "source": [
    "<center><img src='https://raw.githubusercontent.com/Jangrae/img/master/title.png' width=500/></center>"
   ]
  },
  {
   "cell_type": "markdown",
   "metadata": {
    "id": "pbxEQNZMr9De"
   },
   "source": [
    "# 4.튜플, 집합, 딕셔너리 자료형\n",
    "\n",
    "- 문자열과 리스트 자료형 외에도 **튜플, 집합, 딕셔너리**라는 컨테이너 자료형이 있습니다.\n",
    "- 문자열과 리스트 보다는 많이 사용되지 않지만, 중요한 자료형이니 익혀두어야 합니다.\n",
    "- 특히 딕셔너리 자료형은 이후 과정에서 상당히 많이 사용되는 자료형입니다."
   ]
  },
  {
   "cell_type": "markdown",
   "metadata": {
    "id": "nNVd-AFTgAYW"
   },
   "source": [
    "## 4.1.튜플(Tuple)\n",
    "\n",
    "- 튜플은 **리스트와 정말 비슷한 자료형**입니다.\n",
    "- 튜플은 대괄호 [ ]가 아닌 **소괄호 ( )** 를 사용해서 표현합니다.\n",
    "- 튜플은 한 번 만들면 **요소의 값을 바꿀 수 없음** 이 리스트와 다릅니다.\n",
    "- 그 외는 리스트와 같은 특성을 가지므로 이해하기 쉬울 것입니다.\n",
    "- 단, **괄호를 생략할 수 있다**는 점은 리스트와 다릅니다.\n",
    "- 리스트에서는 대괄호를 생략할 수 없습니다."
   ]
  },
  {
   "cell_type": "markdown",
   "metadata": {
    "id": "nDXGytfxrFMA"
   },
   "source": [
    "### 4.1.1.다양한 튜플 만들기"
   ]
  },
  {
   "cell_type": "markdown",
   "metadata": {
    "id": "5yKu7ctt1xeB"
   },
   "source": [
    "**1) 빈 튜플 만들기**\n",
    "\n",
    "- 다음은 빈 튜플을 만드는 두 가지 방법입니다."
   ]
  },
  {
   "cell_type": "code",
   "execution_count": 1,
   "metadata": {
    "id": "fGY-rxc0f8Bn"
   },
   "outputs": [
    {
     "name": "stdout",
     "output_type": "stream",
     "text": [
      "()\n"
     ]
    }
   ],
   "source": [
    "# 빈 튜플 만들기 #1\n",
    "score = ()\n",
    "\n",
    "# 확인\n",
    "print(score)"
   ]
  },
  {
   "cell_type": "code",
   "execution_count": 2,
   "metadata": {
    "id": "-QA99rg8p3Ql"
   },
   "outputs": [
    {
     "name": "stdout",
     "output_type": "stream",
     "text": [
      "()\n"
     ]
    }
   ],
   "source": [
    "# 빈 튜플 만들기 #2\n",
    "score = tuple()\n",
    "\n",
    "# 확인\n",
    "print(score)"
   ]
  },
  {
   "cell_type": "markdown",
   "metadata": {
    "id": "sI-K8P2fptzE"
   },
   "source": [
    "**2) 요소가 하나인 튜플 만들기**\n",
    "\n",
    "- 요소가 하나인 튜플을 만들 때는 조심해야 합니다.\n",
    "- 다음은 요소가 하나인 튜플을 만드는 구문이 아닌 정수형 변수를 선언한 구문입니다."
   ]
  },
  {
   "cell_type": "code",
   "execution_count": 3,
   "metadata": {
    "id": "JWLcd8Lwg4Az"
   },
   "outputs": [
    {
     "name": "stdout",
     "output_type": "stream",
     "text": [
      "90\n",
      "<class 'int'>\n"
     ]
    }
   ],
   "source": [
    "# 튜플을 잘못 만든 예\n",
    "score = (90)\n",
    "\n",
    "# 확인\n",
    "print(score)\n",
    "print(type(score))"
   ]
  },
  {
   "cell_type": "markdown",
   "metadata": {
    "id": "tcPCXFw8qMy9"
   },
   "source": [
    "- 요소가 하나인 튜플은 다음과 같이 **콤마를 추가**해서 만들어야 합니다."
   ]
  },
  {
   "cell_type": "code",
   "execution_count": 4,
   "metadata": {
    "id": "nYBNu67ieZFj"
   },
   "outputs": [
    {
     "name": "stdout",
     "output_type": "stream",
     "text": [
      "(90,)\n",
      "<class 'tuple'>\n",
      "1\n"
     ]
    }
   ],
   "source": [
    "# 요소가 하나인 튜플 만들기\n",
    "score = (90,)\n",
    "\n",
    "# 확인\n",
    "print(score)\n",
    "print(type(score))\n",
    "print(len(score))"
   ]
  },
  {
   "cell_type": "markdown",
   "metadata": {
    "id": "6kzTxFGu1rQ7"
   },
   "source": [
    "**3) 다양한 형태의 튜플**"
   ]
  },
  {
   "cell_type": "code",
   "execution_count": 5,
   "metadata": {
    "id": "VXcKJfU_hRZ8"
   },
   "outputs": [
    {
     "name": "stdout",
     "output_type": "stream",
     "text": [
      "(90, 85, 70)\n",
      "(90, 85, 70)\n",
      "(90, 85, 70, ('A', 'B', 'D', 'F'))\n"
     ]
    }
   ],
   "source": [
    "# 여러 형태의 튜플 만들기\n",
    "score1 = (90, 85, 70)\n",
    "score2 = 90, 85, 70\n",
    "score3 = (90, 85, 70, ('A', 'B', 'D', 'F'))\n",
    "\n",
    "# 확인\n",
    "print(score1)\n",
    "print(score2)\n",
    "print(score3)"
   ]
  },
  {
   "cell_type": "code",
   "execution_count": 6,
   "metadata": {
    "id": "54KNCZIn8Lay",
    "scrolled": true
   },
   "outputs": [
    {
     "name": "stdout",
     "output_type": "stream",
     "text": [
      "(0, 1, 2, 3, 4)\n"
     ]
    }
   ],
   "source": [
    "# range() 함수를 사용해 만들기\n",
    "nums = tuple(range(5))\n",
    "\n",
    "# 확인\n",
    "print(nums)"
   ]
  },
  {
   "cell_type": "code",
   "execution_count": 7,
   "metadata": {
    "id": "cK5nyELgZESH"
   },
   "outputs": [
    {
     "name": "stdout",
     "output_type": "stream",
     "text": [
      "('P', 'Y', 'T', 'H', 'O', 'N')\n"
     ]
    }
   ],
   "source": [
    "# 문자열로 튜플 만들기\n",
    "chars = tuple('PYTHON')\n",
    "\n",
    "# 확인\n",
    "print(chars)"
   ]
  },
  {
   "cell_type": "markdown",
   "metadata": {
    "id": "EbNc2XYP7vT-"
   },
   "source": [
    "### [참고] 리스트 vs. 튜플\n",
    "\n",
    "- 리스트와 튜플의 차이는 사용하는 괄호가 다르며, 튜플은 요소를 변경할 수 없다고 했습니다.\n",
    "- 튜플이 요소를 변경할 수 없다는 것을 확인해 봅니다.\n",
    "- 우선 다음과 같이 리스트를 만들고 요소 하나를 변경합니다."
   ]
  },
  {
   "cell_type": "code",
   "execution_count": 8,
   "metadata": {
    "id": "EeTztWQMUlnm"
   },
   "outputs": [
    {
     "name": "stdout",
     "output_type": "stream",
     "text": [
      "[10, 2, 3, 4, 5]\n"
     ]
    }
   ],
   "source": [
    "# 리스트 만들기\n",
    "a = [1, 2, 3, 4, 5]\n",
    "\n",
    "# 요소 변경\n",
    "a[0]= 10\n",
    "\n",
    "# 확인\n",
    "print(a)"
   ]
  },
  {
   "cell_type": "markdown",
   "metadata": {
    "id": "O97XiwQXUlnm"
   },
   "source": [
    "- 다음과 같이 튜플을 만들고 요소 하나를 변경합니다.\n",
    "- 리스트와는 달리 요소를 변경할 수 없다는 오류가 발생합니다."
   ]
  },
  {
   "cell_type": "code",
   "execution_count": 9,
   "metadata": {
    "id": "uN-2juASUlnm",
    "scrolled": true
   },
   "outputs": [
    {
     "ename": "TypeError",
     "evalue": "'tuple' object does not support item assignment",
     "output_type": "error",
     "traceback": [
      "\u001b[1;31m---------------------------------------------------------------------------\u001b[0m",
      "\u001b[1;31mTypeError\u001b[0m                                 Traceback (most recent call last)",
      "Cell \u001b[1;32mIn[9], line 5\u001b[0m\n\u001b[0;32m      2\u001b[0m b \u001b[38;5;241m=\u001b[39m (\u001b[38;5;241m1\u001b[39m, \u001b[38;5;241m2\u001b[39m, \u001b[38;5;241m3\u001b[39m, \u001b[38;5;241m4\u001b[39m, \u001b[38;5;241m5\u001b[39m)\n\u001b[0;32m      4\u001b[0m \u001b[38;5;66;03m# 요소 변경\u001b[39;00m\n\u001b[1;32m----> 5\u001b[0m b[\u001b[38;5;241m0\u001b[39m] \u001b[38;5;241m=\u001b[39m \u001b[38;5;241m10\u001b[39m\n",
      "\u001b[1;31mTypeError\u001b[0m: 'tuple' object does not support item assignment"
     ]
    }
   ],
   "source": [
    "# 튜플 만들기\n",
    "b = (1, 2, 3, 4, 5)\n",
    "\n",
    "# 요소 변경\n",
    "b[0] = 10"
   ]
  },
  {
   "cell_type": "markdown",
   "metadata": {
    "id": "msXpShKOM2MS"
   },
   "source": [
    "## 4.2.집합(Set)\n",
    "\n",
    "- 집합은 **중괄호 { }** 를 사용해서 만듭니다.\n",
    "- **집합 연산**(교집합, 합집합, 차집합, 대칭 차집합)을 위한 자료형입니다.\n",
    "- 중복을 허용하지 않아 중복된 원소는 하나만 제외하고 모두 무시됩니다.\n",
    "- 원소의 **순서가 의미가 없으므로 인덱싱과 슬라이싱으로 값을 얻을 수 없습니다.**"
   ]
  },
  {
   "cell_type": "markdown",
   "metadata": {
    "id": "nBM4Mwrg8Lbt"
   },
   "source": [
    "### 4.2.1.집합 만들기"
   ]
  },
  {
   "cell_type": "markdown",
   "metadata": {
    "id": "oElGw1pJ9rb6"
   },
   "source": [
    "**1) 정수를 갖는 집합**"
   ]
  },
  {
   "cell_type": "code",
   "execution_count": 10,
   "metadata": {
    "id": "N8OQc7h7NumI"
   },
   "outputs": [
    {
     "name": "stdout",
     "output_type": "stream",
     "text": [
      "{0, 1, 2, 3, 4, 5, 6, 7, 8, 9}\n"
     ]
    }
   ],
   "source": [
    "# 정수를 갖는 집합\n",
    "nums = {0, 1, 2, 3, 4, 5, 6, 7, 8, 9}\n",
    "\n",
    "# 확인\n",
    "print(nums)"
   ]
  },
  {
   "cell_type": "markdown",
   "metadata": {
    "id": "SgJUXHIE9uYr"
   },
   "source": [
    "**2) 문자열을 갖는 집합**"
   ]
  },
  {
   "cell_type": "code",
   "execution_count": 11,
   "metadata": {
    "id": "D700KV_y9oKC"
   },
   "outputs": [
    {
     "name": "stdout",
     "output_type": "stream",
     "text": [
      "{'홍길동', '일지매', '한사랑', '박여인'}\n"
     ]
    }
   ],
   "source": [
    "# 문자열을 갖는 집합\n",
    "members = {'홍길동', '한사랑', '일지매', '박여인'}\n",
    "\n",
    "# 확인\n",
    "print(members)"
   ]
  },
  {
   "cell_type": "markdown",
   "metadata": {
    "id": "MOKmhWM79xvp"
   },
   "source": [
    "**3) 여러 자료형을 갖는 집합**"
   ]
  },
  {
   "cell_type": "code",
   "execution_count": 16,
   "metadata": {
    "id": "YBPQ5sQ19o4J"
   },
   "outputs": [
    {
     "name": "stdout",
     "output_type": "stream",
     "text": [
      "{'홍길동', (1, 2, 3), 100, '박여인'}\n"
     ]
    }
   ],
   "source": [
    "# 여러 자료형을 갖는 집합\n",
    "etc = {'홍길동', 100, (1, 2, 3), '박여인'}\n",
    "\n",
    "# 확인\n",
    "print(etc)"
   ]
  },
  {
   "cell_type": "markdown",
   "metadata": {
    "id": "G8umU5gsGJ0w"
   },
   "source": [
    "### 4.2.2.합집합, 교집합, 차집합\n",
    "\n",
    "- 집합 자료형을 사용하는 목적이 이것일 것입니다."
   ]
  },
  {
   "cell_type": "markdown",
   "metadata": {
    "id": "1w8zZqVsidwf"
   },
   "source": [
    "**1) 합집합**\n",
    "\n",
    "- 합집합은 **|** 또는 **union()** 메서드를 사용해 구합니다."
   ]
  },
  {
   "cell_type": "code",
   "execution_count": 17,
   "metadata": {
    "id": "-2QTf6UIwMwW"
   },
   "outputs": [
    {
     "name": "stdout",
     "output_type": "stream",
     "text": [
      "{'일지매', '홍길민', '한사랑', '홍길동', '강우동', '박여인'}\n"
     ]
    }
   ],
   "source": [
    "# 집합 만들기\n",
    "member_set1 = {'홍길동', '한사랑', '일지매', '박여인'}\n",
    "member_set2 = {'한사랑', '홍길민', '강우동'}\n",
    "\n",
    "# 합집합 구하기 #1\n",
    "member_set3 = member_set1 | member_set2\n",
    "\n",
    "# 확인\n",
    "print(member_set3)"
   ]
  },
  {
   "cell_type": "code",
   "execution_count": 18,
   "metadata": {
    "id": "6qC3gRAbwPN0"
   },
   "outputs": [
    {
     "name": "stdout",
     "output_type": "stream",
     "text": [
      "{'일지매', '홍길민', '한사랑', '홍길동', '강우동', '박여인'}\n"
     ]
    }
   ],
   "source": [
    "# 합집합 구하기 #2\n",
    "member_set3 = member_set1.union(member_set2)\n",
    "\n",
    "# 확인\n",
    "print(member_set3)"
   ]
  },
  {
   "cell_type": "markdown",
   "metadata": {
    "id": "D_T_IjBsibVS"
   },
   "source": [
    "**2) 교집합**\n",
    "\n",
    "- 교집합은 **&** 또는 **intersection()** 메서드를 사용해 구합니다."
   ]
  },
  {
   "cell_type": "code",
   "execution_count": 19,
   "metadata": {
    "id": "-wzQ3GWkvZ-a"
   },
   "outputs": [
    {
     "name": "stdout",
     "output_type": "stream",
     "text": [
      "{'한사랑'}\n"
     ]
    }
   ],
   "source": [
    "# 집합 만들기\n",
    "member_set1 = {'홍길동', '한사랑', '일지매', '박여인'}\n",
    "member_set2 = {'한사랑', '홍길민', '강우동'}\n",
    "\n",
    "# 교집합 구하기 #1\n",
    "member_set3 = member_set1 & member_set2\n",
    "\n",
    "# 확인\n",
    "print(member_set3)"
   ]
  },
  {
   "cell_type": "code",
   "execution_count": 20,
   "metadata": {
    "id": "hzzfisUsvzgx"
   },
   "outputs": [
    {
     "name": "stdout",
     "output_type": "stream",
     "text": [
      "{'한사랑'}\n"
     ]
    }
   ],
   "source": [
    "# 교집합 구하기 #2\n",
    "member_set3 = member_set1.intersection(member_set2)\n",
    "\n",
    "# 확인\n",
    "print(member_set3)"
   ]
  },
  {
   "cell_type": "markdown",
   "metadata": {
    "id": "rDXa8FaviZJK"
   },
   "source": [
    "**3) 차집합**\n",
    "\n",
    "- 차집합은 **-** 또는 **difference()** 메서드를 사용해 구합니다."
   ]
  },
  {
   "cell_type": "code",
   "execution_count": 21,
   "metadata": {
    "id": "v8-ydZbnwmbf"
   },
   "outputs": [
    {
     "name": "stdout",
     "output_type": "stream",
     "text": [
      "{'홍길동', '일지매', '박여인'}\n"
     ]
    }
   ],
   "source": [
    "# 집합 만들기\n",
    "member_set1 = {'홍길동', '한사랑', '일지매', '박여인'}\n",
    "member_set2 = {'한사랑', '홍길민', '강우동'}\n",
    "\n",
    "# 차집합 구하기 #1\n",
    "member_set3 = member_set1 - member_set2\n",
    "\n",
    "# 확인\n",
    "print(member_set3)"
   ]
  },
  {
   "cell_type": "code",
   "execution_count": 22,
   "metadata": {
    "id": "yqqOjzlcwpF5"
   },
   "outputs": [
    {
     "name": "stdout",
     "output_type": "stream",
     "text": [
      "{'홍길동', '일지매', '박여인'}\n"
     ]
    }
   ],
   "source": [
    "# 차집합 구하기 #2\n",
    "member_set3 = member_set1.difference(member_set2)\n",
    "\n",
    "# 확인\n",
    "print(member_set3)"
   ]
  },
  {
   "cell_type": "markdown",
   "metadata": {
    "id": "juahzTtJiU-1"
   },
   "source": [
    "**4) 대칭 차집합**\n",
    "\n",
    "- 대칭 차집합은 **^** 또는 **symmetric_difference()** 메서드를 사용해 구합니다."
   ]
  },
  {
   "cell_type": "code",
   "execution_count": 23,
   "metadata": {
    "id": "Dpov7V4PETqj"
   },
   "outputs": [
    {
     "name": "stdout",
     "output_type": "stream",
     "text": [
      "{'홍길동', '박여인', '강우동', '일지매', '홍길민'}\n"
     ]
    }
   ],
   "source": [
    "# 집합 만들기\n",
    "member_set1 = {'홍길동',  '한사랑', '일지매', '박여인'}\n",
    "member_set2 = {'한사랑', '홍길민', '강우동'}\n",
    "\n",
    "# 대칭 차집합 구하기 #1\n",
    "member_set3 = member_set1 ^ member_set2\n",
    "\n",
    "# 확인\n",
    "print(member_set3)"
   ]
  },
  {
   "cell_type": "code",
   "execution_count": 24,
   "metadata": {
    "id": "G9roahuPEacM"
   },
   "outputs": [
    {
     "name": "stdout",
     "output_type": "stream",
     "text": [
      "{'홍길동', '박여인', '강우동', '일지매', '홍길민'}\n"
     ]
    }
   ],
   "source": [
    "# 대칭 차집합 구하기 #2\n",
    "member_set3 = member_set1.symmetric_difference(member_set2)\n",
    "\n",
    "# 확인\n",
    "print(member_set3)"
   ]
  },
  {
   "cell_type": "markdown",
   "metadata": {
    "id": "SwxR75ou8Lbu"
   },
   "source": [
    "### [참고] 집합으로 자료형 변환\n",
    "\n",
    "- **set()** 함수를 사용해 다른 자료형을 집합으로 변환합니다.\n",
    "- 집합은 요소의 순서가 없으니 변환 후 요소 순서가 어떻게 될 지 알 수 없습니다."
   ]
  },
  {
   "cell_type": "markdown",
   "metadata": {
    "id": "roQTGV3Y-GDO"
   },
   "source": [
    "**1) 문자열 → 집합**\n",
    "\n",
    "- list(), tuple() 함수로 문자열을 리스트나 튜플로 변환할 수 있었습니다.\n",
    "- set() 함수로 개별 문자를 요소로 갖는 집합을 만들 수 있습니다.\n",
    "- 같은 요소를 갖지 않는 집합의 특징에 따라 **중복된 문자는 제거**됩니다."
   ]
  },
  {
   "cell_type": "code",
   "execution_count": 25,
   "metadata": {
    "id": "wfJ7a64Qt_MJ",
    "scrolled": true
   },
   "outputs": [
    {
     "name": "stdout",
     "output_type": "stream",
     "text": [
      "{'잘', '요', '지', '내'}\n"
     ]
    }
   ],
   "source": [
    "# 문자열로 집합 만들기\n",
    "hello = set('잘지내지요')\n",
    "\n",
    "# 확인\n",
    "print(hello)"
   ]
  },
  {
   "cell_type": "markdown",
   "metadata": {
    "id": "3gKzYiio-NuQ"
   },
   "source": [
    "**2) range() → 집합**\n",
    "\n",
    "- range() 함수로 리스트, 튜플, 집합등 다양한 자료형을 만들 수 있습니다."
   ]
  },
  {
   "cell_type": "code",
   "execution_count": 26,
   "metadata": {
    "id": "fZiiATtI97Np"
   },
   "outputs": [
    {
     "name": "stdout",
     "output_type": "stream",
     "text": [
      "{0, 1, 2, 3, 4, 5, 6, 7, 8, 9}\n"
     ]
    }
   ],
   "source": [
    "# range로 집합 만들기\n",
    "nums = set(range(0, 10))\n",
    "\n",
    "# 확인\n",
    "print(nums)"
   ]
  },
  {
   "cell_type": "markdown",
   "metadata": {
    "id": "-oiU61IQ-S_n"
   },
   "source": [
    "**3) 리스트 → 집합**\n",
    "\n",
    "- 리스트가 집합으로 변환되면 중복된 요소는 제거됩니다."
   ]
  },
  {
   "cell_type": "code",
   "execution_count": 27,
   "metadata": {
    "id": "SXcfUfR398At"
   },
   "outputs": [
    {
     "name": "stdout",
     "output_type": "stream",
     "text": [
      "{'홍길동', '일지매', '한사랑', '박여인'}\n"
     ]
    }
   ],
   "source": [
    "# 리스트 만들기\n",
    "member = ['홍길동', '한사랑', '홍길동', '일지매', '박여인']\n",
    "\n",
    "# 집합 만들기\n",
    "member1 = set(member)\n",
    "\n",
    "# 확인\n",
    "print(member1)"
   ]
  },
  {
   "cell_type": "markdown",
   "metadata": {
    "id": "7h8XasmD-WQH"
   },
   "source": [
    "**4) 튜플 → 집합**\n",
    "\n",
    "- 역시 중복된 요소는 제거됩니다."
   ]
  },
  {
   "cell_type": "code",
   "execution_count": 28,
   "metadata": {
    "id": "MeSvUDMn-Aoc"
   },
   "outputs": [
    {
     "name": "stdout",
     "output_type": "stream",
     "text": [
      "{'홍길동', '일지매', '한사랑', '박여인'}\n"
     ]
    }
   ],
   "source": [
    "# 튜플 만들기\n",
    "member = ('홍길동', '한사랑', '홍길동', '일지매', '박여인')\n",
    "\n",
    "# 집합 만들기\n",
    "member2 = set(member)\n",
    "\n",
    "# 확인\n",
    "print(member2)"
   ]
  },
  {
   "cell_type": "markdown",
   "metadata": {
    "id": "iq8wTBVhwv_6"
   },
   "source": [
    "## 4.3.딕셔너리(Dictionary)\n",
    "\n",
    "- 딕셔너리는 집합과 마찬가지로 **중괄호 { }** 를 사용해 선언합니다.\n",
    "- 하지만 {Key1: Value1, Key2: Value2, Key3: Value3}의 형태를 가지므로 집합과 구분됩니다.\n",
    "- 딕셔너리는 순서의 의미가 없으며, **키(Key)를 사용해 값(Value)을 확인합니다.**\n",
    "- 리스트와 더불어 많이 사용되는 자료형이니 필히 익숙해져야 합니다.\n",
    "\n",
    "<img src='https://raw.githubusercontent.com/jangrae/img/master/dictionary.png' width=600 align=\"left\"/>"
   ]
  },
  {
   "cell_type": "markdown",
   "metadata": {
    "id": "1h-ZWR0sN-NM"
   },
   "source": [
    "**[참고] 딕셔너리 요소 순서**\n",
    "\n",
    "~~~\n",
    "딕셔너리는 파이썬 3.6 이전 버전까지 정렬되지 않은 자료 구조로 간주되었습니다. 즉, 딕셔너리에 요소를 추가한 순서가\n",
    "유지되지 않아서, 조회할 때 요소들이 추가된 순서대로 나타나지 않을 수 있었습니다. 그러나 파이썬 3.6부터 딕셔너리가\n",
    "내부적으로 삽입 순서를 유지하기 시작했습니다. 이 부분이 공식적으로 문서화되지 않았지만, 대부분의 경우 순서가 유지\n",
    "되는 것을 경험할 수 있었습니다. 3.7 버전부터 요소 순서 유지 기능이 공식화되어, 딕셔너리가 삽입된 요소 순서를 유지\n",
    "한다고 보장합니다. 즉, 파이썬 3.7 이상에서는 딕셔너리에 요소를 추가하면, 그 순서대로 요소들이 내부적으로 정렬되어\n",
    "있으며, 딕셔너리를 조회할 때 그 순서대로 요소를 얻을 수 있습니다.\n",
    "~~~"
   ]
  },
  {
   "cell_type": "markdown",
   "metadata": {
    "id": "slSMi2mej0aI"
   },
   "source": [
    "### 4.3.1.딕셔너리 만들기"
   ]
  },
  {
   "cell_type": "markdown",
   "metadata": {
    "id": "B8qyYePF25RJ"
   },
   "source": [
    "**1) 일정한 정보를 갖는 딕셔너리**"
   ]
  },
  {
   "cell_type": "code",
   "execution_count": 29,
   "metadata": {
    "id": "qdtEJ0OmjuDu"
   },
   "outputs": [
    {
     "name": "stdout",
     "output_type": "stream",
     "text": [
      "{'love': '사랑', 'happy': '행복', 'dream': '꿈'}\n"
     ]
    }
   ],
   "source": [
    "# 영어:한글\n",
    "word = {'love': '사랑', 'happy': '행복', 'dream': '꿈'}\n",
    "\n",
    "# 확인\n",
    "print(word)"
   ]
  },
  {
   "cell_type": "code",
   "execution_count": 30,
   "metadata": {
    "id": "GCz70kajJRwo"
   },
   "outputs": [
    {
     "name": "stdout",
     "output_type": "stream",
     "text": [
      "{'홍길동': 100, '한여인': 90, '일지매': 90}\n"
     ]
    }
   ],
   "source": [
    "# 이름:점수\n",
    "score = {'홍길동': 100, '한여인': 90, '일지매': 90}\n",
    "\n",
    "# 확인\n",
    "print(score)"
   ]
  },
  {
   "cell_type": "markdown",
   "metadata": {
    "id": "8IlNvjtQbz9W"
   },
   "source": [
    "- 다음과 같이 요소를 아래로 나열하면 가독성이 좋아집니다."
   ]
  },
  {
   "cell_type": "code",
   "execution_count": 31,
   "metadata": {
    "id": "VZRnwCn-bwUv"
   },
   "outputs": [
    {
     "name": "stdout",
     "output_type": "stream",
     "text": [
      "{'홍길동': 100, '한여인': 90, '일지매': 90}\n"
     ]
    }
   ],
   "source": [
    "# 이름:점수\n",
    "score = {'홍길동': 100,\n",
    "         '한여인': 90,\n",
    "         '일지매': 90}\n",
    "\n",
    "# 확인\n",
    "print(score)"
   ]
  },
  {
   "cell_type": "markdown",
   "metadata": {
    "id": "4lQb9tkP29RO"
   },
   "source": [
    "**2) 다양한 정보를 갖는 딕셔너리**\n",
    "\n",
    "- 리스트나 튜플을 Value로 가질 수 있습니다."
   ]
  },
  {
   "cell_type": "code",
   "execution_count": 32,
   "metadata": {
    "id": "msZbFz7-28lv"
   },
   "outputs": [
    {
     "name": "stdout",
     "output_type": "stream",
     "text": [
      "{'이름': '홍길동', '나이': 20, '지역': '서울'}\n"
     ]
    }
   ],
   "source": [
    "# 다양한 정보를 갖는 딕셔너리\n",
    "member1 = {'이름':'홍길동',\n",
    "           '나이': 20,\n",
    "           '지역':'서울'}\n",
    "\n",
    "# 확인\n",
    "print(member1)"
   ]
  },
  {
   "cell_type": "code",
   "execution_count": 83,
   "metadata": {
    "id": "9SF4vIqbJYRf"
   },
   "outputs": [
    {
     "name": "stdout",
     "output_type": "stream",
     "text": [
      "{'이름': '홍길동', '취미': ['독서', '여행', '걷기']}\n",
      "독서\n"
     ]
    }
   ],
   "source": [
    "# Value가 리스트인 딕셔너리\n",
    "member2 = {'이름': '홍길동',\n",
    "           '취미': ['독서', '여행', '걷기']}\n",
    "\n",
    "# 확인\n",
    "print(member2)\n",
    "print(member2['취미'][0])"
   ]
  },
  {
   "cell_type": "markdown",
   "metadata": {
    "id": "GvUudb8B3Hv5"
   },
   "source": [
    "**3) 숫자가 Key인 경우**\n",
    "\n",
    "- 당연히 숫자도 Key가 될 수 있습니다."
   ]
  },
  {
   "cell_type": "code",
   "execution_count": 34,
   "metadata": {
    "id": "gH7mPSvx3Hdl"
   },
   "outputs": [
    {
     "name": "stdout",
     "output_type": "stream",
     "text": [
      "{1: 10, 2: 20, 3: 30}\n"
     ]
    }
   ],
   "source": [
    "# 숫자가 Key인 리스트\n",
    "nums = {1:10, 2:20, 3:30}\n",
    "\n",
    "# 확인\n",
    "print(nums)"
   ]
  },
  {
   "cell_type": "markdown",
   "metadata": {
    "id": "V-KvoMmufl9w"
   },
   "source": [
    "**4) 같은 Key 무시**\n",
    "\n",
    "- 만일 Key가 같은 요소가 있으면 하나만 남기고 나머지는 무시됩니다."
   ]
  },
  {
   "cell_type": "code",
   "execution_count": 36,
   "metadata": {
    "id": "AfGG0hINgADg"
   },
   "outputs": [
    {
     "name": "stdout",
     "output_type": "stream",
     "text": [
      "{'홍길동': 95, '한여인': 70, '한국인': 75, '일지매': 90}\n"
     ]
    }
   ],
   "source": [
    "# 딕셔너리 만들기\n",
    "score = {'홍길동': 100,\n",
    "         '한여인': 90,\n",
    "         '홍길동': 95,\n",
    "         '한여인': 70,\n",
    "         '한국인': 75,\n",
    "         '일지매': 90}\n",
    "\n",
    "# 확인\n",
    "print(score)"
   ]
  },
  {
   "cell_type": "markdown",
   "metadata": {
    "id": "2qbqa1G_oxPT"
   },
   "source": [
    "### 4.3.2.딕셔너리 조회\n",
    "\n",
    "- 딕셔너리는 요소 순서가 없으므로 인덱싱과 슬라이싱을 할 수 없습니다.\n",
    "- **Key를 사용해 Value를 찾는 방식으로 조회합니다.**"
   ]
  },
  {
   "cell_type": "code",
   "execution_count": 37,
   "metadata": {
    "id": "EPluiWMrFvP6"
   },
   "outputs": [],
   "source": [
    "# 딕셔너리 만들기\n",
    "member = {'이름': '홍길동',\n",
    "          '취미': ['독서', '여행', '걷기']}"
   ]
  },
  {
   "cell_type": "code",
   "execution_count": 38,
   "metadata": {
    "id": "XZX0WS-JN_1O"
   },
   "outputs": [
    {
     "name": "stdout",
     "output_type": "stream",
     "text": [
      "홍길동\n"
     ]
    }
   ],
   "source": [
    "# 이름 조회\n",
    "print(member['이름'])"
   ]
  },
  {
   "cell_type": "code",
   "execution_count": 39,
   "metadata": {
    "id": "a4geh6DIFvQA"
   },
   "outputs": [
    {
     "name": "stdout",
     "output_type": "stream",
     "text": [
      "['독서', '여행', '걷기']\n"
     ]
    }
   ],
   "source": [
    "# 취미 조회\n",
    "print(member['취미'])"
   ]
  },
  {
   "cell_type": "markdown",
   "metadata": {
    "id": "sLM79gotJSPB"
   },
   "source": [
    "<img src='https://raw.githubusercontent.com/jangrae/img/master/practice_20.png' width=120 align=\"left\"/>"
   ]
  },
  {
   "cell_type": "markdown",
   "metadata": {
    "id": "LvIQqziV5YUL"
   },
   "source": [
    "[문1] 다음 정보를 갖는 members 라는 딕셔너리를 만들고 조회해 보세요.\n",
    "\n",
    "- 이름: 홍길동, 한사랑, 일지매, 박여인\n",
    "- 나이: 23, 21, 26, 25\n",
    "- 지역: 서울, 부산, 인천, 대전\n",
    "- 언어: 자바, 파이썬, 파이썬, 닷넷\n"
   ]
  },
  {
   "cell_type": "code",
   "execution_count": 40,
   "metadata": {
    "id": "_3WUmsf6ThJ8"
   },
   "outputs": [
    {
     "name": "stdout",
     "output_type": "stream",
     "text": [
      "{'name': ['홍길동', '한사랑', '일지매', '박여인'], 'age': [23, 21, 26, 25], 'loc': ['서울', '부산', '인천', '대전'], 'lang': ['자바', '파이썬', '파이썬', '닷넷']}\n"
     ]
    }
   ],
   "source": [
    "# 딕셔너리 만들기\n",
    "members = {\n",
    "    'name': ['홍길동', '한사랑', '일지매', '박여인'],\n",
    "    'age': [23, 21, 26, 25],\n",
    "    'loc': ['서울', '부산', '인천', '대전'],\n",
    "    'lang': ['자바', '파이썬', '파이썬', '닷넷']\n",
    "}\n",
    "\n",
    "\n",
    "\n",
    "# 확인\n",
    "print(members)"
   ]
  },
  {
   "cell_type": "code",
   "execution_count": 42,
   "metadata": {
    "id": "k5qS7bvTWAyk"
   },
   "outputs": [
    {
     "name": "stdout",
     "output_type": "stream",
     "text": [
      "['홍길동', '한사랑', '일지매', '박여인']\n"
     ]
    }
   ],
   "source": [
    "# 이름 조회\n",
    "print(members['name'])"
   ]
  },
  {
   "cell_type": "code",
   "execution_count": 43,
   "metadata": {
    "id": "EEFPwrdSNu_4"
   },
   "outputs": [
    {
     "name": "stdout",
     "output_type": "stream",
     "text": [
      "[23, 21, 26, 25]\n"
     ]
    }
   ],
   "source": [
    "# 나이 조회\n",
    "print(members['age'])"
   ]
  },
  {
   "cell_type": "code",
   "execution_count": 44,
   "metadata": {
    "id": "lYgWuhh2Nw35"
   },
   "outputs": [
    {
     "name": "stdout",
     "output_type": "stream",
     "text": [
      "['서울', '부산', '인천', '대전']\n"
     ]
    }
   ],
   "source": [
    "# 지역 조회\n",
    "print(members['loc'])"
   ]
  },
  {
   "cell_type": "code",
   "execution_count": 45,
   "metadata": {
    "id": "1SOM1DfCNyoh"
   },
   "outputs": [
    {
     "name": "stdout",
     "output_type": "stream",
     "text": [
      "['자바', '파이썬', '파이썬', '닷넷']\n"
     ]
    }
   ],
   "source": [
    "# 언어 조회\n",
    "print(members['lang'])"
   ]
  },
  {
   "cell_type": "markdown",
   "metadata": {
    "id": "VTlu-bdSfMYw"
   },
   "source": [
    "<img src='https://raw.githubusercontent.com/jangrae/img/master/practice_20e.png' width=45 align=\"left\"/>"
   ]
  },
  {
   "cell_type": "markdown",
   "metadata": {
    "id": "_-2mJo9Vnluk"
   },
   "source": [
    "### 4.3.3.딕셔너리 변경, 추가, 삭제\n",
    "\n",
    "- 인덱스 대신 Key로 찾아 변경한다는 것 외에는 리스트와 같습니다."
   ]
  },
  {
   "cell_type": "markdown",
   "metadata": {
    "id": "5BJZE4AY8LbL"
   },
   "source": [
    "**1) 변경, 추가**"
   ]
  },
  {
   "cell_type": "code",
   "execution_count": 46,
   "metadata": {
    "id": "_6zJd-ELnr16"
   },
   "outputs": [
    {
     "name": "stdout",
     "output_type": "stream",
     "text": [
      "{'이름': '홍길동', '나이': 20}\n"
     ]
    }
   ],
   "source": [
    "# 딕셔너리 만들기\n",
    "member = {'이름': '홍길동',\n",
    "          '나이': 20}\n",
    "\n",
    "# 확인\n",
    "print(member)"
   ]
  },
  {
   "cell_type": "code",
   "execution_count": 47,
   "metadata": {
    "id": "1xzIuJp2wu80"
   },
   "outputs": [
    {
     "name": "stdout",
     "output_type": "stream",
     "text": [
      "{'이름': '홍길동', '나이': 30}\n"
     ]
    }
   ],
   "source": [
    "# 딕셔너리 요소 값 변경\n",
    "member['나이'] = 30\n",
    "\n",
    "# 확인\n",
    "print(member)"
   ]
  },
  {
   "cell_type": "markdown",
   "metadata": {
    "id": "46NS0seiw0Mj"
   },
   "source": [
    "\n",
    "- 없는 Key로 변경하면 Key:Value 형태로 추가됩니다."
   ]
  },
  {
   "cell_type": "code",
   "execution_count": 48,
   "metadata": {
    "id": "klhoX9lAwv03"
   },
   "outputs": [
    {
     "name": "stdout",
     "output_type": "stream",
     "text": [
      "{'이름': '홍길동', '나이': 30, '취미': ['독서', '여행']}\n"
     ]
    }
   ],
   "source": [
    "# 딕셔너리에 요소 추가\n",
    "member['취미'] = ['독서', '여행']\n",
    "\n",
    "# 확인\n",
    "print(member)"
   ]
  },
  {
   "cell_type": "markdown",
   "metadata": {
    "id": "sitF7cq38LbM"
   },
   "source": [
    "**2) 삭제**"
   ]
  },
  {
   "cell_type": "code",
   "execution_count": 49,
   "metadata": {
    "id": "pbPO40S4oheT"
   },
   "outputs": [
    {
     "name": "stdout",
     "output_type": "stream",
     "text": [
      "{'이름': '홍길동', '나이': 20, '지역': '서울', '성별': 'M', '등급': 'Gold'}\n"
     ]
    }
   ],
   "source": [
    "# 딕셔너리 만들기\n",
    "member = {'이름': '홍길동',\n",
    "          '나이': 20,\n",
    "          '지역':'서울',\n",
    "          '성별': 'M',\n",
    "          '등급': 'Gold'}\n",
    "\n",
    "# 확인\n",
    "print(member)"
   ]
  },
  {
   "cell_type": "markdown",
   "metadata": {
    "id": "kAy6J9P3iyBW"
   },
   "source": [
    "- **del** 문으로 Key를 지정해 해당 요소를 삭제합니다."
   ]
  },
  {
   "cell_type": "code",
   "execution_count": 50,
   "metadata": {
    "id": "DNJ2VQUJxdrU"
   },
   "outputs": [
    {
     "name": "stdout",
     "output_type": "stream",
     "text": [
      "{'이름': '홍길동', '지역': '서울', '성별': 'M', '등급': 'Gold'}\n"
     ]
    }
   ],
   "source": [
    "# 지정한 요소 삭제\n",
    "del member['나이']\n",
    "\n",
    "# 확인\n",
    "print(member)"
   ]
  },
  {
   "cell_type": "markdown",
   "metadata": {
    "id": "cGsN5AEhhoD1"
   },
   "source": [
    "- **pop()** 메서드를 사용하면 Key를 지정해 요소를 삭제할 수 있습니다.\n",
    "- 그리고 삭제된 요소의 Value를 반환받습니다."
   ]
  },
  {
   "cell_type": "code",
   "execution_count": 51,
   "metadata": {
    "id": "9OjtaebSnpKz"
   },
   "outputs": [
    {
     "name": "stdout",
     "output_type": "stream",
     "text": [
      "서울\n",
      "{'이름': '홍길동', '성별': 'M', '등급': 'Gold'}\n"
     ]
    }
   ],
   "source": [
    "# 지정한 요소 삭제\n",
    "del_member = member.pop('지역')\n",
    "\n",
    "# 확인\n",
    "print(del_member)\n",
    "print(member)"
   ]
  },
  {
   "cell_type": "markdown",
   "metadata": {
    "id": "ZGLtcj0ZiOfD"
   },
   "source": [
    "- **popitem()** 메서드로 Key 지정 없이 마지막 요소부터 삭제할 수 있습니다.\n",
    "- 그리고 삭제된 요소의 key와 Value를 튜플 형태로 반환받습니다."
   ]
  },
  {
   "cell_type": "code",
   "execution_count": 54,
   "metadata": {
    "id": "04SGmbKMoUJF"
   },
   "outputs": [
    {
     "name": "stdout",
     "output_type": "stream",
     "text": [
      "('등급', 'Gold')\n",
      "{'이름': '홍길동', '성별': 'M'}\n"
     ]
    }
   ],
   "source": [
    "# 임의 요소 삭제\n",
    "del_member = member.popitem()\n",
    "\n",
    "# 확인\n",
    "print(del_member)\n",
    "print(member)"
   ]
  },
  {
   "cell_type": "markdown",
   "metadata": {
    "id": "4s1bqYESi0vX"
   },
   "source": [
    "- 모든 요소 삭제는 **딕셔너리 = { }** 형태로 수행합니다."
   ]
  },
  {
   "cell_type": "code",
   "execution_count": null,
   "metadata": {
    "id": "WnP0lzCYJj2Q"
   },
   "outputs": [],
   "source": [
    "# 딕셔너리에서 모든 요소 삭제\n",
    "member= {}\n",
    "\n",
    "# 확인\n",
    "print(member)"
   ]
  },
  {
   "cell_type": "code",
   "execution_count": 53,
   "metadata": {},
   "outputs": [
    {
     "name": "stdout",
     "output_type": "stream",
     "text": [
      "처음 a, b: 10 20\n",
      "a id: 140731170272456\n",
      "b id: 140731170272776\n",
      "\n",
      "교환 후 a, b: 20 10\n",
      "a id: 140731170272776\n",
      "b id: 140731170272456\n"
     ]
    }
   ],
   "source": [
    "a, b = 10, 20\n",
    "\n",
    "print(\"처음 a, b:\", a, b)\n",
    "print(\"a id:\", id(a))\n",
    "print(\"b id:\", id(b))\n",
    "\n",
    "# 값 교환\n",
    "a, b = b, a\n",
    "\n",
    "print(\"\\n교환 후 a, b:\", a, b)\n",
    "print(\"a id:\", id(a))\n",
    "print(\"b id:\", id(b))\n"
   ]
  },
  {
   "cell_type": "markdown",
   "metadata": {
    "id": "Hy2LyjoPqNpp"
   },
   "source": [
    "### 4.3.4.딕셔너리 관련 메서드\n",
    "\n",
    "- 딕셔너리 관련 메서드를 살펴봅니다."
   ]
  },
  {
   "cell_type": "markdown",
   "metadata": {
    "id": "OJ_pM8PSqbY0"
   },
   "source": [
    "**1) Key 확인**\n",
    "\n",
    "- **keys()** 메서드를 사용해 Key 정보를 확인합니다.\n",
    "- 모든 Key를 요소로 갖는 dict_keys 개체를 반환합니다."
   ]
  },
  {
   "cell_type": "code",
   "execution_count": 55,
   "metadata": {
    "id": "Gr2yT3iBqRdB"
   },
   "outputs": [
    {
     "name": "stdout",
     "output_type": "stream",
     "text": [
      "{'이름': '홍길동', '취미': ['독서', '여행', '걷기']}\n"
     ]
    }
   ],
   "source": [
    "# 딕셔너리 만들기\n",
    "member = {'이름': '홍길동',\n",
    "          '취미': ['독서', '여행', '걷기']}\n",
    "\n",
    "# 확인\n",
    "print(member)"
   ]
  },
  {
   "cell_type": "code",
   "execution_count": 56,
   "metadata": {
    "id": "TgskSq0zyq_3"
   },
   "outputs": [
    {
     "name": "stdout",
     "output_type": "stream",
     "text": [
      "dict_keys(['이름', '취미'])\n"
     ]
    }
   ],
   "source": [
    "# Key 확인\n",
    "print(member.keys())"
   ]
  },
  {
   "cell_type": "code",
   "execution_count": 57,
   "metadata": {
    "id": "lRL7mDJWdBeM"
   },
   "outputs": [
    {
     "name": "stdout",
     "output_type": "stream",
     "text": [
      "['이름', '취미']\n"
     ]
    }
   ],
   "source": [
    "# Key만 뽑아 리스트 만들기\n",
    "member_keys = list(member.keys())\n",
    "\n",
    "# 확인\n",
    "print(member_keys)"
   ]
  },
  {
   "cell_type": "markdown",
   "metadata": {
    "id": "MJeKOA0bq8p5"
   },
   "source": [
    "**2) Value 확인**\n",
    "\n",
    "- **values()** 메서드를 사용해 Value 정보를 확인합니다.\n",
    "- 모든 Value를 요소로 갖는 dict_values 개체를 반환합니다."
   ]
  },
  {
   "cell_type": "code",
   "execution_count": 58,
   "metadata": {
    "id": "OVrXgc7NrMWj"
   },
   "outputs": [
    {
     "name": "stdout",
     "output_type": "stream",
     "text": [
      "dict_values(['홍길동', ['독서', '여행', '걷기']])\n"
     ]
    }
   ],
   "source": [
    "# Value 확인\n",
    "print(member.values())"
   ]
  },
  {
   "cell_type": "code",
   "execution_count": 59,
   "metadata": {
    "id": "1s1RaRYJd62r"
   },
   "outputs": [
    {
     "name": "stdout",
     "output_type": "stream",
     "text": [
      "['홍길동', ['독서', '여행', '걷기']]\n"
     ]
    }
   ],
   "source": [
    "# Value만 뽑아 리스트 만들기\n",
    "member_values = list(member.values())\n",
    "\n",
    "# 확인\n",
    "print(member_values)"
   ]
  },
  {
   "cell_type": "markdown",
   "metadata": {
    "id": "EHwjcqokrZ_v"
   },
   "source": [
    "**3) Key, Value 확인**\n",
    "- **items()** 메서드를 사용해 Key와 Value 정보를 확인합니다.\n",
    "- 모든 key와 value를 (key, value) 형태로 갖는 dict_items 개체를 반환합니다."
   ]
  },
  {
   "cell_type": "code",
   "execution_count": 60,
   "metadata": {
    "id": "INOJU7iproaq"
   },
   "outputs": [
    {
     "name": "stdout",
     "output_type": "stream",
     "text": [
      "dict_items([('이름', '홍길동'), ('취미', ['독서', '여행', '걷기'])])\n"
     ]
    }
   ],
   "source": [
    "# Key, Value 확인\n",
    "print(member.items())"
   ]
  },
  {
   "cell_type": "markdown",
   "metadata": {
    "id": "AmPbOimCrtwE"
   },
   "source": [
    "**4) 모든 요소 삭제**\n",
    "- **clear()** 메서드를 사용해 모든 요소를 삭제합니다."
   ]
  },
  {
   "cell_type": "code",
   "execution_count": 61,
   "metadata": {
    "id": "0XPMiJeIr24o"
   },
   "outputs": [
    {
     "name": "stdout",
     "output_type": "stream",
     "text": [
      "{}\n"
     ]
    }
   ],
   "source": [
    "# 모든 요소 삭제\n",
    "member.clear()\n",
    "\n",
    "# 확인\n",
    "print(member)"
   ]
  },
  {
   "cell_type": "markdown",
   "metadata": {
    "id": "3oBlIOi6-9kc"
   },
   "source": [
    "<img src='https://raw.githubusercontent.com/jangrae/img/master/practice_20.png' width=120 align=\"left\"/>"
   ]
  },
  {
   "cell_type": "markdown",
   "metadata": {
    "id": "fJVOJxdpJSPG"
   },
   "source": [
    "[문1] 다음 구문을 파악하고 실행해서 3개의 딕셔너리를 만드세요."
   ]
  },
  {
   "cell_type": "code",
   "execution_count": 62,
   "metadata": {
    "id": "rFeDJhXowwAa"
   },
   "outputs": [
    {
     "name": "stdout",
     "output_type": "stream",
     "text": [
      "{'no': 1, 'name': '홍길동', 'score': [92, 96, 98]}\n",
      "{'no': 2, 'name': '한사랑', 'score': [98, 64, 100]}\n",
      "{'no': 3, 'name': '일지매', 'score': [88, 84, 92]}\n"
     ]
    }
   ],
   "source": [
    "# 딕셔너리 만들기\n",
    "stu01 = {\n",
    "    'no': 1,\n",
    "    'name': '홍길동',\n",
    "    'score': [92, 96, 98]\n",
    "}\n",
    "stu02 = {\n",
    "    'no': 2,\n",
    "    'name': '한사랑',\n",
    "    'score': [98, 64, 100]\n",
    "}\n",
    "stu03 = {\n",
    "    'no': 3,\n",
    "    'name': '일지매',\n",
    "    'score': [88, 84, 92]\n",
    "}\n",
    "\n",
    "# 확인\n",
    "print(stu01)\n",
    "print(stu02)\n",
    "print(stu03)"
   ]
  },
  {
   "cell_type": "markdown",
   "metadata": {
    "id": "KMsplMPA0TH9"
   },
   "source": [
    "[문2] 각 학생들의 번호에 10씩 더하세요."
   ]
  },
  {
   "cell_type": "code",
   "execution_count": 66,
   "metadata": {
    "id": "UMGenZci0TH9"
   },
   "outputs": [
    {
     "name": "stdout",
     "output_type": "stream",
     "text": [
      "11\n",
      "12\n",
      "13\n"
     ]
    }
   ],
   "source": [
    "# 번호 + 10\n",
    "stu01['no'] = stu01['no'] + 10\n",
    "stu02['no'] += 10\n",
    "stu03['no'] += 10\n",
    "# 확인\n",
    "print(stu01['no'])\n",
    "print(stu02['no'])\n",
    "print(stu03['no'])"
   ]
  },
  {
   "cell_type": "markdown",
   "metadata": {
    "id": "3tbbGARd0TH-"
   },
   "source": [
    "[문3] 각 학생별로 점수 평균을 구하세요."
   ]
  },
  {
   "cell_type": "code",
   "execution_count": 69,
   "metadata": {
    "id": "XqH0Orkw0TH-"
   },
   "outputs": [
    {
     "name": "stdout",
     "output_type": "stream",
     "text": [
      "95.33333333333333\n",
      "87.33333333333333\n",
      "88.0\n"
     ]
    }
   ],
   "source": [
    "# 평균 구하기\n",
    "stu01_mean = sum(stu01['score']) / len(stu01['score'])\n",
    "stu02_mean = sum(stu02['score']) / len(stu02['score'])\n",
    "stu03_mean = sum(stu03['score']) / len(stu03['score'])\n",
    "\n",
    "# 확인\n",
    "print(stu01_mean)\n",
    "print(stu02_mean)\n",
    "print(stu03_mean)"
   ]
  },
  {
   "cell_type": "markdown",
   "metadata": {
    "id": "9ZSJAl1t0TH_"
   },
   "source": [
    "[문4] 아래 out을 이용하여 stu01, stu02, stu03의 번호, 이름, 평균점수를 출력하세요."
   ]
  },
  {
   "cell_type": "code",
   "execution_count": 73,
   "metadata": {
    "id": "iaArw4E5FQqf"
   },
   "outputs": [
    {
     "name": "stdout",
     "output_type": "stream",
     "text": [
      "번호: 11, 이름: 홍길동, 평균점수: 95.33333333333333\n",
      "번호: 12, 이름: 한사랑, 평균점수: 87.33333333333333\n",
      "번호: 13, 이름: 일지매, 평균점수: 88.0\n"
     ]
    }
   ],
   "source": [
    "# 출력 형태\n",
    "out = '번호: {}, 이름: {}, 평균점수: {}'\n",
    "\n",
    "# 출력\n",
    "print(out.format(stu01['no'], stu01['name'], stu01_mean))\n",
    "print(out.format(stu02['no'], stu02['name'], stu02_mean))\n",
    "print(out.format(stu03['no'], stu03['name'], stu03_mean))\n",
    "\n"
   ]
  },
  {
   "cell_type": "markdown",
   "metadata": {
    "id": "Ql3eG_QGQN5e"
   },
   "source": [
    "[문5] 평균점수는 소수점 이하 2자리만 보이게 수정해서 출력하세요."
   ]
  },
  {
   "cell_type": "code",
   "execution_count": 82,
   "metadata": {
    "id": "gJxnzsLvQGzO"
   },
   "outputs": [
    {
     "name": "stdout",
     "output_type": "stream",
     "text": [
      "번호: 11, 이름: 홍길동, 평균점수: 95.33\n",
      "번호: 12, 이름: 한사랑, 평균점수: 87.33\n",
      "번호: 13, 이름: 일지매, 평균점수: 88.0\n"
     ]
    }
   ],
   "source": [
    "# 출력 형태\n",
    "#out = '번호: {}, 이름: {}, 평균점수: {:.2f}'\n",
    "out = '번호: {}, 이름: {}, 평균점수: {}'\n",
    "\n",
    "# 출력\n",
    "print(out.format(stu01['no'], stu01['name'], f\"{stu01_mean:.2f}\"))\n",
    "print(out.format(stu02['no'], stu02['name'], f\"{stu02_mean:.2f}\"))\n",
    "print(out.format(stu03['no'], stu03['name'], stu03_mean))\n",
    "\n",
    "\n"
   ]
  },
  {
   "cell_type": "markdown",
   "metadata": {
    "id": "0v-yOCb5-9ke"
   },
   "source": [
    "<img src='https://raw.githubusercontent.com/jangrae/img/master/practice_20e.png' width=45 align=\"left\"/>"
   ]
  }
 ],
 "metadata": {
  "colab": {
   "provenance": []
  },
  "kernelspec": {
   "display_name": "Python 3 (ipykernel)",
   "language": "python",
   "name": "python3"
  },
  "language_info": {
   "codemirror_mode": {
    "name": "ipython",
    "version": 3
   },
   "file_extension": ".py",
   "mimetype": "text/x-python",
   "name": "python",
   "nbconvert_exporter": "python",
   "pygments_lexer": "ipython3",
   "version": "3.13.5"
  }
 },
 "nbformat": 4,
 "nbformat_minor": 4
}
