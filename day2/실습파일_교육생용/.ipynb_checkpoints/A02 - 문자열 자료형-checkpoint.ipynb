{
 "cells": [
  {
   "cell_type": "markdown",
   "metadata": {
    "id": "b3TDAdnvnSbh"
   },
   "source": [
    "<center><img src='https://raw.githubusercontent.com/Jangrae/img/master/title3.png' width=500/></center>"
   ]
  },
  {
   "cell_type": "markdown",
   "metadata": {
    "id": "413yAfItnv9-"
   },
   "source": [
    "# 2.문자열 자료형\n",
    "\n",
    "- 기본 자료형이지만 이해해야 할 부분이 많아 별도로 분리해서 학습합니다."
   ]
  },
  {
   "cell_type": "markdown",
   "metadata": {
    "id": "kKXefopnnv9-"
   },
   "source": [
    "## 2.1.문자열 사용\n",
    "\n",
    "- Python의 문자열은 많은 편의성과 다양한 기능을 제공합니다."
   ]
  },
  {
   "cell_type": "markdown",
   "metadata": {
    "id": "lPlwfVkOnv99"
   },
   "source": [
    "**1) 문자열 표현**\n",
    "\n",
    "- **작은 따옴표**, 또는 **큰 따옴표**를 사용해 문자열을 표현합니다.\n",
    "- **len()** 함수로 문자열 길이(=포함된 문자 개수)를 확인할 수 있습니다."
   ]
  },
  {
   "cell_type": "code",
   "execution_count": null,
   "metadata": {
    "id": "V0d6x1Jku-lI"
   },
   "outputs": [],
   "source": [
    "# 문자열 출력(Hello World)\n",
    "print('Hello World')\n",
    "print(\"Hello World\")"
   ]
  },
  {
   "cell_type": "code",
   "execution_count": null,
   "metadata": {
    "id": "sNZuPrSsMoBp"
   },
   "outputs": [],
   "source": [
    "# 문자열 변수\n",
    "a = 'Hello'\n",
    "b = \"World\"\n",
    "\n",
    "# 확인\n",
    "print(a, b)"
   ]
  },
  {
   "cell_type": "markdown",
   "metadata": {
    "id": "wcsmb_AlUv_T"
   },
   "source": [
    "**[참고] 문자열 길이 확인**\n",
    "\n",
    "- **len()** 함수로 문자열 길이(=포함된 문자 개수)를 확인할 수 있습니다."
   ]
  },
  {
   "cell_type": "code",
   "execution_count": null,
   "metadata": {
    "id": "YpAUd-k2VaYn"
   },
   "outputs": [],
   "source": [
    "# 문자열 길이 확인\n",
    "print(len(a))"
   ]
  },
  {
   "cell_type": "markdown",
   "metadata": {
    "id": "wDbBQfhyVaYo"
   },
   "source": [
    "**[참고] 여러 줄 문자열 표현**\n",
    "\n",
    "- 문자열 앞뒤에 따옴표 세 개를 나열하거나, \\\\n을 사용해 여러 줄 표현이 가능합니다.\n",
    "- print() 함수를 사용해야 의도한 내용이 제대로 표시됩니다."
   ]
  },
  {
   "cell_type": "code",
   "execution_count": null,
   "metadata": {
    "id": "zjpA99dfVaYo"
   },
   "outputs": [],
   "source": [
    "# 여러 줄 문자열 표시\n",
    "s1 = \"여러 줄의 문자열을 표시할 때는 \\n을 사용하세요\"\n",
    "print(s1)"
   ]
  },
  {
   "cell_type": "code",
   "execution_count": null,
   "metadata": {
    "id": "Xf0BYJ9jVaYo"
   },
   "outputs": [],
   "source": [
    "s2 = \"\"\"또 다른 방법은\n",
    "큰 따옴표나 작은 따옴표를 세 개 사용하는 것입니다.\"\"\"\n",
    "print(s2)"
   ]
  },
  {
   "cell_type": "markdown",
   "metadata": {
    "id": "O5mVEqB7nv9v"
   },
   "source": [
    "## 2.2.문자열 연산\n",
    "\n",
    "- 문자열 연산은 숫자 연산과 당연히 다릅니다.\n",
    "- 문자열 연산에 대해 알아두면 이후에 편리하게 사용할 수 있습니다."
   ]
  },
  {
   "cell_type": "markdown",
   "metadata": {
    "id": "ucdDlanHnv9u"
   },
   "source": [
    "**1) 문자열 + 문자열 = 문자열 결합**"
   ]
  },
  {
   "cell_type": "code",
   "execution_count": null,
   "metadata": {
    "id": "Zw3mEBIZnv9s"
   },
   "outputs": [],
   "source": [
    "# 문자열 변수\n",
    "s1 = 'hello'\n",
    "s2 = 'world'\n",
    "\n",
    "# 문자열 더하기\n",
    "hw = s1 + ' ' + s2\n",
    "\n",
    "# 확인\n",
    "print(hw)"
   ]
  },
  {
   "cell_type": "markdown",
   "metadata": {
    "id": "Gefg0ZxYnv9s"
   },
   "source": [
    "**2) 문자열 * 정수 = 문자열 반복**"
   ]
  },
  {
   "cell_type": "code",
   "execution_count": null,
   "metadata": {
    "id": "qJIvIquUnv9q",
    "scrolled": true
   },
   "outputs": [],
   "source": [
    "# * 사용해 문자열 반복\n",
    "print('*' * 17)\n",
    "print('** ' + s1 + ' ' + s2 + ' **')\n",
    "print('*' * 17)"
   ]
  },
  {
   "cell_type": "code",
   "execution_count": 1,
   "metadata": {
    "id": "LnZOe10Dnv9o"
   },
   "outputs": [
    {
     "name": "stdout",
     "output_type": "stream",
     "text": [
      "hello\n",
      "\n",
      "hellohello\n"
     ]
    }
   ],
   "source": [
    "# 문자열에 0을 곱하면 문자열이 제거됨\n",
    "s = 'hello'\n",
    "print(s * 1)\n",
    "print(s * 0)\n",
    "print(s * 2)"
   ]
  },
  {
   "cell_type": "markdown",
   "metadata": {
    "id": "Xw2cbounXIeA"
   },
   "source": [
    "## 2.3.문자열 내 값 추가\n",
    "\n",
    "- 문자열 내에 다른 값을 추가하고 싶을 때 **f-String**을 사용합니다.\n",
    "- 문자열 앞에 **소문자 f**를 붙이고, 문자열 안 **중괄호 {}** 안에 변수 이름을 대입합니다."
   ]
  },
  {
   "cell_type": "code",
   "execution_count": 3,
   "metadata": {
    "id": "XJSbOOcNXIeA"
   },
   "outputs": [
    {
     "name": "stdout",
     "output_type": "stream",
     "text": [
      "이름: 홍길동\n",
      "나이: 25\n",
      "점수: 2345.6789\n",
      "25살의 홍길동의 점수는 2345입니다.\n"
     ]
    }
   ],
   "source": [
    "# 다양한 변수\n",
    "name = '홍길동'\n",
    "age = 25\n",
    "score = 2345.6789\n",
    "\n",
    "# 확인\n",
    "print(f'이름: {name}')\n",
    "print(f'나이: {age}')\n",
    "print(f'점수: {score}')\n",
    "print(f'{age}살의 {name}의 점수는 {int(score)}입니다.')"
   ]
  },
  {
   "cell_type": "markdown",
   "metadata": {
    "id": "0_DUbqdWXIeA"
   },
   "source": [
    "**[참고] 형식 지정**\n",
    "\n",
    "- 출력되는 형태를 나름으로 조절할 수 있습니다. (문자열:s, 정수:d, 실수:f)"
   ]
  },
  {
   "cell_type": "code",
   "execution_count": 4,
   "metadata": {
    "id": "VRxkX3MWXIeB"
   },
   "outputs": [
    {
     "name": "stdout",
     "output_type": "stream",
     "text": [
      "25살의 홍길동의 점수는 2,345.68입니다.\n"
     ]
    }
   ],
   "source": [
    "# 확인\n",
    "print(f'{age}살의 {name}의 점수는 {score:,.2f}입니다.')"
   ]
  },
  {
   "cell_type": "markdown",
   "metadata": {
    "id": "yG_fw-IwXSIH"
   },
   "source": [
    "<img src='https://raw.githubusercontent.com/jangrae/img/master/practice_20.png' width=120 align=\"left\"/>\n"
   ]
  },
  {
   "cell_type": "markdown",
   "metadata": {
    "id": "r_UhGHB3XSIN"
   },
   "source": [
    "[문1] 우선 다음 코드를 실행하여 점수 합계와 평균을 구하세요."
   ]
  },
  {
   "cell_type": "code",
   "execution_count": 7,
   "metadata": {
    "id": "ivi3dzCjWZjW"
   },
   "outputs": [
    {
     "name": "stdout",
     "output_type": "stream",
     "text": [
      "1104\n",
      "220.8\n",
      "20\n"
     ]
    }
   ],
   "source": [
    "# 변수에 값 대입\n",
    "name = '홍길동'\n",
    "age = 25\n",
    "score1 = 153\n",
    "score2 = 204\n",
    "score3 = 259\n",
    "score4 = 221\n",
    "score5 = 267\n",
    "\n",
    "# 합계\n",
    "tot_score = score1 + score2 + score3 + score4 + score5\n",
    "print(tot_score)\n",
    "\n",
    "# 평균\n",
    "avg_score = tot_score / 5\n",
    "print(avg_score)\n",
    "\n",
    "# 연령대\n",
    "age_group = age // 10 * 10\n",
    "print(age_group)"
   ]
  },
  {
   "cell_type": "markdown",
   "metadata": {
    "id": "AzeqaED94FFb"
   },
   "source": [
    "[문2]  f-String을 사용해 위 변수들 값이 다음과 같은 형태로 출력되도록 코드를 작성하세요.\n",
    "\n",
    "~~~\n",
    "이름: 홍길동\n",
    "연령대: 20대\n",
    "점수: 153, 204, 259, 221, 267\n",
    "합계: 1,104 / 평균: 220.80\n",
    "~~~\n"
   ]
  },
  {
   "cell_type": "code",
   "execution_count": null,
   "metadata": {
    "id": "rYyZO2Mf3kGd"
   },
   "outputs": [],
   "source": [
    "# 확인\n",
    "\n",
    "\n",
    "\n"
   ]
  },
  {
   "cell_type": "markdown",
   "metadata": {
    "id": "5T5BiNF99gk3"
   },
   "source": [
    "<img src='https://raw.githubusercontent.com/jangrae/img/master/practice_20e.png' width=45 align=\"left\"/>"
   ]
  },
  {
   "cell_type": "markdown",
   "metadata": {
    "id": "Mf3CUJV6nv9D"
   },
   "source": [
    "## 2.4.문자열 관련 주요 메서드\n",
    "\n",
    "- 변수(또는 개체) 뒤에 '.함수' 형태로 사용하는 함수를 **메서드(Method)** 라고 부릅니다.\n",
    "- 아래 언급된 메서드 외에도 문자열 관련 메서드가 상당히 많으니 관련 자료를 참고하기 바랍니다.\n",
    "- 문자열을 변환하는 메서드를 사용해도 그 결과가 변수에 반영되지는 않습니다."
   ]
  },
  {
   "cell_type": "code",
   "execution_count": 8,
   "metadata": {
    "id": "LEJSq8fU1meL"
   },
   "outputs": [
    {
     "name": "stdout",
     "output_type": "stream",
     "text": [
      "I HAVE A DREAM.\n",
      "I have a Dream.\n"
     ]
    }
   ],
   "source": [
    "# 대문자로 변환\n",
    "s = 'I have a Dream.'\n",
    "print(s.upper())\n",
    "print(s)"
   ]
  },
  {
   "cell_type": "markdown",
   "metadata": {
    "id": "W50C5m-j2coJ"
   },
   "source": [
    "- 변환 결과를 변수에 반영하려면 메서드가 반환하는 값을 변수에 대입해야 합니다."
   ]
  },
  {
   "cell_type": "code",
   "execution_count": 9,
   "metadata": {
    "id": "tRNEhqKD2RlG"
   },
   "outputs": [
    {
     "name": "stdout",
     "output_type": "stream",
     "text": [
      "I HAVE A DREAM.\n",
      "I HAVE A DREAM.\n"
     ]
    }
   ],
   "source": [
    "# 대문자로 변환\n",
    "s = 'I have a Dream.'\n",
    "print(s.upper())\n",
    "\n",
    "# 변수에 반영\n",
    "s = s.upper()\n",
    "print(s)"
   ]
  },
  {
   "cell_type": "markdown",
   "metadata": {
    "id": "4m4mAgvInv9C"
   },
   "source": [
    "**1) 대/소문자 변환**\n",
    "\n",
    "- **capitalize()** 메서드: 문자열 첫 문자만 대문자, 나머지 모두 소문자로 변환합니다.\n",
    "- **title()** 메서드: 단어 첫 문자만 대문자, 나머지는 모두 소문자로 변환합니다.\n",
    "- **upper()** 메서드: 모든 문자를 대문자로 변환합니다.\n",
    "- **lower()** 메서드: 모든 문자를 소문자로 변환합니다."
   ]
  },
  {
   "cell_type": "code",
   "execution_count": 10,
   "metadata": {
    "id": "h-VPVu7bnv8_"
   },
   "outputs": [
    {
     "name": "stdout",
     "output_type": "stream",
     "text": [
      "I have a dream.\n",
      "I Have A Dream.\n",
      "I HAVE A DREAM.\n",
      "i have a dream.\n"
     ]
    }
   ],
   "source": [
    "# 대/소문자 변환\n",
    "s = 'I have a Dream.'\n",
    "print(s.capitalize())\n",
    "print(s.title())\n",
    "print(s.upper())\n",
    "print(s.lower())"
   ]
  },
  {
   "cell_type": "markdown",
   "metadata": {
    "id": "md4Vri-Cnv88"
   },
   "source": [
    "**2) 일부 변경 및 제거**\n",
    "\n",
    "- **replace(x, y)** 메서드: 문자열에 포함된 일부 문자열 x를 문자열 y로 변경합니다.\n",
    "- **strip(x)** 메서드: 문자열에서 양쪽의 공백 또는 특수 문자를 제거합니다."
   ]
  },
  {
   "cell_type": "code",
   "execution_count": 11,
   "metadata": {
    "id": "i_DoGsi1nv86"
   },
   "outputs": [
    {
     "name": "stdout",
     "output_type": "stream",
     "text": [
      "now here\n"
     ]
    }
   ],
   "source": [
    "# 문자열 변경\n",
    "s = 'nowhere'\n",
    "print(s.replace('now', 'now '))"
   ]
  },
  {
   "cell_type": "code",
   "execution_count": 16,
   "metadata": {
    "id": "OdGH553bnv84"
   },
   "outputs": [
    {
     "name": "stdout",
     "output_type": "stream",
     "text": [
      "world\n",
      "#world#$$#\n",
      "world\n",
      "world\n",
      "world#$$\n"
     ]
    }
   ],
   "source": [
    "# 앞 뒤 빈 문자열, 특수 문자 제거\n",
    "print('  world '.strip())\n",
    "print('#world#$$#'.strip())\n",
    "print('#world#$$#'.strip('$#'))\n",
    "print('#world#$$#'.strip('#$'))\n",
    "print('#world#$$#'.strip('#'))"
   ]
  },
  {
   "cell_type": "markdown",
   "metadata": {
    "id": "RgMGHIqyZxrh"
   },
   "source": [
    "- replace() 메서드를 사용하는 경우가 많으니 꼭 기억합니다."
   ]
  },
  {
   "cell_type": "code",
   "execution_count": 17,
   "metadata": {
    "id": "gZzdk2PCZvTH"
   },
   "outputs": [
    {
     "name": "stdout",
     "output_type": "stream",
     "text": [
      "246912\n"
     ]
    }
   ],
   "source": [
    "# 문자열 변수\n",
    "num = '123,456'\n",
    "\n",
    "# 콤마 제거 후 정수로 변환\n",
    "num = num.replace(',', '')\n",
    "num = int(num)\n",
    "\n",
    "# 연산\n",
    "print(num * 2)"
   ]
  },
  {
   "cell_type": "markdown",
   "metadata": {
    "id": "1D4Bdz2zzHcw"
   },
   "source": [
    "<img src='https://raw.githubusercontent.com/jangrae/img/master/practice_20.png' width=120 align=\"left\"/>\n"
   ]
  },
  {
   "cell_type": "markdown",
   "metadata": {
    "id": "CGcLErfHzHc8"
   },
   "source": [
    "[문1] 다음 코드의 실행 결과가 '파이썬을 열심히 공부할께요!'가 되게 수정해 보세요.\n",
    "\n"
   ]
  },
  {
   "cell_type": "code",
   "execution_count": 18,
   "metadata": {
    "id": "Gnf1I1TCzHc9"
   },
   "outputs": [
    {
     "name": "stdout",
     "output_type": "stream",
     "text": [
      "파이썬을 열심히 공부할께요!\n"
     ]
    }
   ],
   "source": [
    "# 문자열 변수\n",
    "my_str = '파이썬을 대충 공부할께요!'\n",
    "my_str = my_str.replace(\"대충\", \"열심히\")\n",
    "# 문자열 변환\n",
    "print(my_str)"
   ]
  },
  {
   "cell_type": "markdown",
   "metadata": {
    "id": "5un4EKE79gk7"
   },
   "source": [
    "<img src='https://raw.githubusercontent.com/jangrae/img/master/practice_20e.png' width=45 align=\"left\"/>"
   ]
  },
  {
   "cell_type": "markdown",
   "metadata": {
    "id": "1cMQvgEPttnG"
   },
   "source": [
    "**3) 분리와 연결**\n",
    "\n",
    "- **split(x)** 메서드: x 문자를 구분자로 하여 문자열을 분리하여 리스트로 변환합니다.(공백이 기본 구분자)\n",
    "- **x.join(s)** 메서드: x를 구분자로 하여 요소들을 연결한 문자열로 변환합니다."
   ]
  },
  {
   "cell_type": "code",
   "execution_count": 19,
   "metadata": {
    "id": "Kr1e73DWtSGg"
   },
   "outputs": [
    {
     "name": "stdout",
     "output_type": "stream",
     "text": [
      "['I', 'have', 'a', 'Dream!']\n"
     ]
    }
   ],
   "source": [
    "# 문자열 변수\n",
    "s = 'I have a Dream!'\n",
    "\n",
    "# 문자열 분리\n",
    "print(s.split())"
   ]
  },
  {
   "cell_type": "code",
   "execution_count": 27,
   "metadata": {
    "id": "SaaQFB7PaXkj"
   },
   "outputs": [
    {
     "name": "stdout",
     "output_type": "stream",
     "text": [
      "1/2/3/4/5/6/7/8/9\n",
      "['1', '2', '3', '4', '5', '6', '7', '8', '9']\n"
     ]
    }
   ],
   "source": [
    "# 문자열 변수\n",
    "s = '1/2/3/4/5/6/7/8/9'\n",
    "\n",
    "# 문자열 분리\n",
    "s_new = s.split('/')\n",
    "s_new1 = '/'.join(s_new)\n",
    "print(s_new1)\n",
    "\n",
    "# 확인\n",
    "print(s_new)"
   ]
  },
  {
   "cell_type": "code",
   "execution_count": 38,
   "metadata": {
    "id": "2G2_3COou5s4"
   },
   "outputs": [
    {
     "name": "stdout",
     "output_type": "stream",
     "text": [
      "오늘은 2020년 09월 14일 입니다.\n"
     ]
    }
   ],
   "source": [
    "# 문자열 변수\n",
    "s = '2020-09-14'\n",
    "\n",
    "# 문자열 분리\n",
    "year = s.split('-')[0]\n",
    "month = s.split('-')[1]\n",
    "day = s.split('-')[2]\n",
    "\n",
    "# 확인\n",
    "print(f'오늘은 {year}년 {month}월 {day}일 입니다.')"
   ]
  },
  {
   "cell_type": "markdown",
   "metadata": {
    "id": "5nqEy_lq_r7F"
   },
   "source": [
    "- join() 메서드로 구분자를 두어 연결된 문자열을 만듭니다."
   ]
  },
  {
   "cell_type": "code",
   "execution_count": 22,
   "metadata": {
    "id": "z4c1dNlWwEF8"
   },
   "outputs": [
    {
     "name": "stdout",
     "output_type": "stream",
     "text": [
      "홍길동/한사랑/강우동/박여인\n"
     ]
    }
   ],
   "source": [
    "# 요소를 연결해서 문자열로\n",
    "a = ['홍길동', '한사랑', '강우동', '박여인']\n",
    "s = '/'.join(a)\n",
    "\n",
    "# 확인\n",
    "print(s)"
   ]
  },
  {
   "cell_type": "code",
   "execution_count": 23,
   "metadata": {
    "id": "tl2rg8MTwR_5"
   },
   "outputs": [
    {
     "name": "stdout",
     "output_type": "stream",
     "text": [
      "['홍길동', '한사랑', '강우동', '박여인']\n"
     ]
    }
   ],
   "source": [
    "# 문자열을 구분자로 나누어 리스트로\n",
    "b = s.split('/')\n",
    "\n",
    "# 확인\n",
    "print(b)"
   ]
  },
  {
   "cell_type": "markdown",
   "metadata": {
    "id": "erK6_Ziqt8BX"
   },
   "source": [
    "<img src='https://raw.githubusercontent.com/jangrae/img/master/practice_20.png' width=120 align=\"left\"/>\n"
   ]
  },
  {
   "cell_type": "markdown",
   "metadata": {
    "id": "bOoP_UFBt8Bb"
   },
   "source": [
    "[문1] 다음 주어진 문자열을 적절한 구분자를 기준으로 분리하세요.\n",
    "\n"
   ]
  },
  {
   "cell_type": "code",
   "execution_count": 29,
   "metadata": {
    "id": "kx1krZ60t8Bb"
   },
   "outputs": [
    {
     "name": "stdout",
     "output_type": "stream",
     "text": [
      "['15', '23', '52', '41', '25', '60', '47', '28', '49', '60']\n"
     ]
    }
   ],
   "source": [
    "# 문자열 변수\n",
    "my_str = '15, 23, 52, 41, 25, 60, 47, 28, 49, 60'\n",
    "\n",
    "# 문자열 분리\n",
    "my_str = my_str.split(', ')\n",
    "print(my_str)"
   ]
  },
  {
   "cell_type": "markdown",
   "metadata": {
    "id": "pbWswLrSvnqp"
   },
   "source": [
    "[문2] 다음 주어진 리스트의 요소를 yyyy-mm-dd 형태로 연결해 dt 변수에 담고 결과를  확인하세요.\n",
    "\n"
   ]
  },
  {
   "cell_type": "code",
   "execution_count": 31,
   "metadata": {
    "id": "LuOuu6x7vnqq"
   },
   "outputs": [
    {
     "name": "stdout",
     "output_type": "stream",
     "text": [
      "2020-09-14\n"
     ]
    }
   ],
   "source": [
    "# 리스트 만들기\n",
    "my_list = ['2020', '09', '14']\n",
    "\n",
    "# 문자열 연결\n",
    "my_new_list = '-'.join(my_list)\n",
    "\n",
    "# 확인\n",
    "print(my_new_list)"
   ]
  },
  {
   "cell_type": "markdown",
   "metadata": {
    "id": "KXpjj3o-xuhi"
   },
   "source": [
    "[문3] 위에서 배운 문자열 관련 메서드를 사용해 다음 주어진 리스트의 요소를 모두 대문자로 바꾸세요.\n"
   ]
  },
  {
   "cell_type": "code",
   "execution_count": 37,
   "metadata": {
    "id": "XxoTFaMFxBGO"
   },
   "outputs": [
    {
     "name": "stdout",
     "output_type": "stream",
     "text": [
      "['H', 'A', 'P', 'P', 'Y']\n"
     ]
    }
   ],
   "source": [
    "# 리스트 만들기\n",
    "a = ['h', 'a', 'p', 'p', 'y']\n",
    "\n",
    "# 대문자로 변경\n",
    "a_new = ' '.join(a)\n",
    "a_new = a_new.upper()\n",
    "a_new = a_new.split(' ')\n",
    "\n",
    "# 확인\n",
    "print(a_new)"
   ]
  },
  {
   "cell_type": "markdown",
   "metadata": {
    "id": "odRDnthh9glA"
   },
   "source": [
    "<img src='https://raw.githubusercontent.com/jangrae/img/master/practice_20e.png' width=45 align=\"left\"/>"
   ]
  },
  {
   "cell_type": "markdown",
   "metadata": {
    "id": "q1FqbGUAnSZp"
   },
   "source": [
    "<img src='https://raw.githubusercontent.com/jangrae/img/master/practice_30.png' width=120 align=\"left\"/>"
   ]
  },
  {
   "cell_type": "markdown",
   "metadata": {
    "id": "OuKFea0Io91y"
   },
   "source": [
    "[문1] 변수 a에 {}를 넣은 문자열 '이름: {}, 나이: {}'를 대입하고 .format()으로 적당한 값을 넣어 출력하세요."
   ]
  },
  {
   "cell_type": "code",
   "execution_count": 39,
   "metadata": {
    "id": "e9a66c46"
   },
   "outputs": [
    {
     "name": "stdout",
     "output_type": "stream",
     "text": [
      "이름: 홍길동, 나이: 20\n"
     ]
    }
   ],
   "source": [
    "a = '이름: {}, 나이: {}'\n",
    "print(a.format(\"홍길동\", 20))"
   ]
  },
  {
   "cell_type": "markdown",
   "metadata": {
    "id": "ZRaFEi5FpM3T"
   },
   "source": [
    "[문2] 밖에서 선언한 변수 값을 문자열 안에 넣어서 출력해 봅니다.\n",
    "\n",
    "- 변수 name에는 이름, age에는 나이 값을 대입\n",
    "- 변수 a에는 f'문자열{변수}...' 형태를 사용해 위와 동일한 결과가 나오도록 출력"
   ]
  },
  {
   "cell_type": "code",
   "execution_count": 41,
   "metadata": {
    "id": "f784c90c"
   },
   "outputs": [
    {
     "name": "stdout",
     "output_type": "stream",
     "text": [
      "이름: 김현준, 나이: 25\n"
     ]
    }
   ],
   "source": [
    "name = \"김현준\"\n",
    "age = 25\n",
    "a = f\"이름: {name}, 나이: {age}\"\n",
    "print(a)"
   ]
  },
  {
   "cell_type": "markdown",
   "metadata": {
    "id": "ugtIwJWypolH"
   },
   "source": [
    "[문3] 변수 b에 {}를 넣은 문자열 '{}은(는) {}원입니다.'를 대입하고 .format()으로 적당한 값을 넣어 출력하세요."
   ]
  },
  {
   "cell_type": "code",
   "execution_count": 42,
   "metadata": {
    "id": "f0f820d1"
   },
   "outputs": [
    {
     "name": "stdout",
     "output_type": "stream",
     "text": [
      "icecream은 1000원입니다\n"
     ]
    }
   ],
   "source": [
    "b = '{}은 {}원입니다'\n",
    "\n",
    "print(b.format('icecream', 1000))\n"
   ]
  },
  {
   "cell_type": "markdown",
   "metadata": {
    "id": "kDdcwmVcqCx9"
   },
   "source": [
    "[문4] 밖에서 선언한 변수 값을 문자열 안에 넣어서 출력하세요.\n",
    "\n",
    "- 변수 product에는 제품명, price에는 가격을 대입\n",
    "- 변수 b에는 f'문자열{변수}...' 형태를 사용해 위와 동일한 결과가 나오도록 출력"
   ]
  },
  {
   "cell_type": "code",
   "execution_count": 44,
   "metadata": {
    "id": "e842dc6e"
   },
   "outputs": [
    {
     "name": "stdout",
     "output_type": "stream",
     "text": [
      "icecream은 1000원입니다.\n"
     ]
    }
   ],
   "source": [
    "product = 'icecream'\n",
    "price = 1000\n",
    "b = f'{product}은 {price}원입니다.'\n",
    "print(b)"
   ]
  },
  {
   "cell_type": "markdown",
   "metadata": {
    "id": "9vHj-IAVrWoo"
   },
   "source": [
    "[문5] 아래와 같은 결과가 나오도록 변수 c에 f'''문자열{변수}...''' 형태를 사용해 문자열을 대입하여 출력하세요.\n",
    "\n",
    "- 단, 변수 product에 '아메리카노', count에 3, price에 4000을 대입합니다.\n",
    "\n",
    "\n",
    "        주문할게요.\n",
    "        아메리카노 3잔 주세요.\n",
    "        한 잔이 4000원 맞죠?\n"
   ]
  },
  {
   "cell_type": "code",
   "execution_count": 45,
   "metadata": {
    "id": "c9363f75"
   },
   "outputs": [
    {
     "name": "stdout",
     "output_type": "stream",
     "text": [
      "주문할게요.\n",
      "아메리카노 3잔 주세요.\n",
      "한 잔이 4000원 맞죠?\n"
     ]
    }
   ],
   "source": [
    "product = '아메리카노'\n",
    "count = 3\n",
    "price = 4000\n",
    "\n",
    "c = f'주문할게요.\\n{product} {count}잔 주세요.\\n한 잔이 {price}원 맞죠?'\n",
    "print(c)\n"
   ]
  },
  {
   "cell_type": "markdown",
   "metadata": {
    "id": "RVJh4EAWyMRi"
   },
   "source": [
    "[문6] 변수 a에 '나는 파이썬을 배우고 있다.'를 대입하고 공백을 기준으로 분할하여 리스트 형태로 출력하세요.\n",
    "\n",
    "- 힌트: 문자열.split(분할의 기준이 될 값)"
   ]
  },
  {
   "cell_type": "code",
   "execution_count": 46,
   "metadata": {
    "id": "99de1e4b"
   },
   "outputs": [
    {
     "name": "stdout",
     "output_type": "stream",
     "text": [
      "['나는', '파이썬을', '배우고', '있다.']\n"
     ]
    }
   ],
   "source": [
    "a = '나는 파이썬을 배우고 있다.'\n",
    "print(a.split(' '))\n"
   ]
  },
  {
   "cell_type": "markdown",
   "metadata": {
    "id": "4US6i-1Z9glC"
   },
   "source": [
    "<img src='https://raw.githubusercontent.com/jangrae/img/master/practice_30e.png' width=45 align=\"left\"/>"
   ]
  }
 ],
 "metadata": {
  "colab": {
   "provenance": []
  },
  "kernelspec": {
   "display_name": "Python 3 (ipykernel)",
   "language": "python",
   "name": "python3"
  },
  "language_info": {
   "codemirror_mode": {
    "name": "ipython",
    "version": 3
   },
   "file_extension": ".py",
   "mimetype": "text/x-python",
   "name": "python",
   "nbconvert_exporter": "python",
   "pygments_lexer": "ipython3",
   "version": "3.13.5"
  }
 },
 "nbformat": 4,
 "nbformat_minor": 4
}
