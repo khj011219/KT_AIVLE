{
 "cells": [
  {
   "cell_type": "markdown",
   "metadata": {
    "id": "b3TDAdnvnSbh"
   },
   "source": [
    "<center><img src='https://raw.githubusercontent.com/Jangrae/img/master/title.png' width=500/></center>"
   ]
  },
  {
   "cell_type": "markdown",
   "metadata": {},
   "source": [
    "- Shift + Enter: 실행하고 다음 셀로 이동\n",
    "- Ctrl + Enter: 실행하고 해당 셀에 머물기\n",
    "- M: 텍스트 셀로 변경\n",
    "- Y: 코드 셀로 변경"
   ]
  },
  {
   "cell_type": "markdown",
   "metadata": {
    "id": "wVEoaIRSnSbX"
   },
   "source": [
    "# 1. 기본 연산자\n",
    "\n",
    "- 기본 연산자를 시작으로하여 Python을 배워봅니다."
   ]
  },
  {
   "cell_type": "markdown",
   "metadata": {
    "id": "8VnMvdQ1JN0U"
   },
   "source": [
    "## 1.1.시작하기\n",
    "\n",
    "- 우선 변수, 식별자, 키워드에 대한 개념을 세워봅니다."
   ]
  },
  {
   "cell_type": "markdown",
   "metadata": {
    "id": "ym1lFmBLzvCS"
   },
   "source": [
    "\n",
    "### 1.1.1.변수(Variables)\n",
    "\n",
    "- **변수**는 값을 담는 그릇 또는 상자라고 할 수 있습니다.\n",
    "- 이후 연산 등의 **재사용 목적**을 위해 값을 담아 두는 존재입니다.\n",
    "- 변수에 담은 데이터를 이렇게 저렇게 처리하는 것이 **프로그래밍**입니다.\n",
    "- 변수에 담아진 수 많은 데이터를 분석하는 것이 **데이터 분석**입니다.\n",
    "- **변수 = 값** 형태로 값을 대입하면서 변수를 선언합니다.\n",
    "- 변수 이름은 그 의미를 알 수 있게 적절한 단어를 사용합니다.\n",
    "- 변수에 대입된 값에 의해 변수의 자료형(=데이터 형식)이 결정됩니다.\n",
    "- 코드셀에 변수 이름만 입력하고 실행하면 변수의 값이 표시됩니다."
   ]
  },
  {
   "cell_type": "code",
   "execution_count": null,
   "metadata": {
    "id": "cfFkbuwWi2YI"
   },
   "outputs": [],
   "source": [
    "# 정수형 변수\n",
    "age = 30\n",
    "\n",
    "# 변수 값 확인\n",
    "age"
   ]
  },
  {
   "cell_type": "markdown",
   "metadata": {
    "id": "O_EDB2Dzji33"
   },
   "source": [
    "- 변수를 일부러 제거하지 않는 한 코드 셀이 달라도 변수는 계속 유지됩니다."
   ]
  },
  {
   "cell_type": "code",
   "execution_count": null,
   "metadata": {
    "id": "IPG7fpYTOh3K"
   },
   "outputs": [],
   "source": [
    "# 변수 값 변경\n",
    "age = age + 1\n",
    "\n",
    "# 변수 값 확인\n",
    "age"
   ]
  },
  {
   "cell_type": "markdown",
   "metadata": {
    "id": "0OcSMKImPwtw"
   },
   "source": [
    "### 1.1.2.식별자(Identifier)\n",
    "\n",
    "- 변수 또는 함수 등에 이름을 붙이기 위해 사용하는 단어를 **식별자**라고 합니다.\n",
    "- 식별자는 다음과 같은 **규칙**을 갖습니다.\n",
    "    - 키워드를 사용할 수 없음\n",
    "    - 언더 바(_)를 제외하고는 특수 문자를 사용할 수 없음\n",
    "    - 공백을 포함해서는 안됨\n",
    "    - 숫자로 시작하면 안됨\n",
    "- 다음은 올바른 식별자의 예입니다.\n",
    "     - age, score, member, member_01, num01, num02\n",
    "- 다음은 올바르지 않은 식별자의 예입니다.\n",
    "     - if, while, 123, 3Member, My Score, a+b\n",
    "- 대/소문자를 구분하므로 대/소문자 여부에 신경쓰지 않게 **소문자 사용을 권고**합니다.\n",
    "- 또한 언더 바와 영어 단어를 적절히 섞어 가독성이 좋게 하기를 권고합니다.\n",
    "     - 안 좋은 예: myname, englishscore\n",
    "     - 좋은 예: my_name, english_score"
   ]
  },
  {
   "cell_type": "markdown",
   "metadata": {
    "id": "po5-04aGnSaS"
   },
   "source": [
    "### 1.1.3.Python 키워드(Keywords)\n",
    "\n",
    "- Python 키워드는 Python 자체 사용 목적으로 이미 예약된 문자열입니다.\n",
    "- Python 키워드를 변수나 함수 이름, 즉 **식별자**로 사용할 수 없습니다.\n",
    "- 다음이 Python 키워드이며, Python 버전이 바뀌면서 달라질 가능성이 있습니다.\n",
    "\n",
    "<img src='https://raw.githubusercontent.com/jangrae/img/master/keywords.png' width=540 align=\"left\"/>\n"
   ]
  },
  {
   "cell_type": "markdown",
   "metadata": {
    "id": "K7Q8jA_ePeOp"
   },
   "source": [
    "- keyword 라이브러리를 사용해 Python 현재 버전의 키워드를 확인할 수 있습니다."
   ]
  },
  {
   "cell_type": "code",
   "execution_count": 1,
   "metadata": {
    "id": "iGPLu-ytPbe6"
   },
   "outputs": [
    {
     "name": "stdout",
     "output_type": "stream",
     "text": [
      "['False', 'None', 'True', 'and', 'as', 'assert', 'async', 'await', 'break', 'class', 'continue', 'def', 'del', 'elif', 'else', 'except', 'finally', 'for', 'from', 'global', 'if', 'import', 'in', 'is', 'lambda', 'nonlocal', 'not', 'or', 'pass', 'raise', 'return', 'try', 'while', 'with', 'yield']\n"
     ]
    }
   ],
   "source": [
    "# 키워드 확인\n",
    "import keyword\n",
    "print(keyword.kwlist)"
   ]
  },
  {
   "cell_type": "markdown",
   "metadata": {
    "id": "oCIdeoiULBGb"
   },
   "source": [
    "## 1.2.연산자(Operators)\n",
    "\n",
    "- Python은 수식을 **계산(=산술)** 하거나 값을 **비교**하거나 **대입**하는 등의 다양한 **연산자**를 가지고 있습니다."
   ]
  },
  {
   "cell_type": "markdown",
   "metadata": {
    "id": "UhL38daDnSbW"
   },
   "source": [
    "### 1.2.1.산술 연산자(Arithmetic Operators)\n",
    "\n",
    "- **사칙연산(+, -, \\*, /)** 은 일반적으로 알고 있는 연산 방법(더하기 빼기 등)과 같습니다.\n",
    "- **나머지**(%), **몫**(//), **제곱**(**)에 대한 부분은 조금 낯설 것이니 관심을 두고 배워야 합니다.\n",
    "- 값을 더하거나 빼는 등의 처리를 하는 연산자를 **산술 연산자**라고 부릅니다.\n",
    "- 대부분 정수와 실수가 산술 연산자 처리 대상이 됩니다."
   ]
  },
  {
   "cell_type": "code",
   "execution_count": 3,
   "metadata": {
    "id": "hbUK6u6xVlrp"
   },
   "outputs": [],
   "source": [
    "# 정수형 변수\n",
    "a = 26\n",
    "b = 5"
   ]
  },
  {
   "cell_type": "markdown",
   "metadata": {
    "id": "2k3q0gKsgX1s"
   },
   "source": [
    "**1) 사칙 연산자**"
   ]
  },
  {
   "cell_type": "code",
   "execution_count": null,
   "metadata": {
    "id": "CaNIcLwEVuec"
   },
   "outputs": [],
   "source": [
    "# 더하기\n",
    "a + b"
   ]
  },
  {
   "cell_type": "code",
   "execution_count": null,
   "metadata": {
    "id": "Y_m8Lef5VzSa"
   },
   "outputs": [],
   "source": [
    "# 빼기\n",
    "a - b"
   ]
  },
  {
   "cell_type": "code",
   "execution_count": null,
   "metadata": {
    "id": "uzwLqK3aV3TU"
   },
   "outputs": [],
   "source": [
    "# 곱하기\n",
    "a * b"
   ]
  },
  {
   "cell_type": "code",
   "execution_count": null,
   "metadata": {
    "id": "A1UhMZNXV5ew"
   },
   "outputs": [],
   "source": [
    "# 나누기\n",
    "a / b"
   ]
  },
  {
   "cell_type": "markdown",
   "metadata": {
    "id": "ssVQaWY4gab4"
   },
   "source": [
    "**2) 몫, 나머지, 제곱 연산자**"
   ]
  },
  {
   "cell_type": "code",
   "execution_count": null,
   "metadata": {
    "id": "qP5VtYX9HC1O"
   },
   "outputs": [],
   "source": [
    "# 몫\n",
    "a // b"
   ]
  },
  {
   "cell_type": "code",
   "execution_count": null,
   "metadata": {
    "id": "DFr0Im_RWDuP"
   },
   "outputs": [],
   "source": [
    "# 나머지\n",
    "a % b"
   ]
  },
  {
   "cell_type": "code",
   "execution_count": 6,
   "metadata": {
    "id": "MA8u8Uqwdu1l"
   },
   "outputs": [
    {
     "data": {
      "text/plain": [
       "676"
      ]
     },
     "execution_count": 6,
     "metadata": {},
     "output_type": "execute_result"
    }
   ],
   "source": [
    "# 제곱\n",
    "a ** 2"
   ]
  },
  {
   "cell_type": "markdown",
   "metadata": {
    "id": "AvxHXnlzlve5"
   },
   "source": [
    "**3) 연산자 활용**\n",
    "\n",
    "- **% 연산자**는 짝수 또는 홀수 인지를 판단할 때 사용하는 경우가 많습니다.\n",
    "- 조건문(if 문)을 아직 배우지 않았지만 다음 코드의 의미는 파악이 될 것입니다."
   ]
  },
  {
   "cell_type": "code",
   "execution_count": null,
   "metadata": {
    "id": "Zj2-CL7Rk-dG"
   },
   "outputs": [],
   "source": [
    "# 정수형 변수\n",
    "a = 20\n",
    "\n",
    "# 짝/홀수 판단\n",
    "if a % 2 == 0:\n",
    "    result = '짝수'\n",
    "else:\n",
    "    result = '홀수'\n",
    "\n",
    "# 확인\n",
    "result"
   ]
  },
  {
   "cell_type": "markdown",
   "metadata": {
    "id": "OQl-BIXjl7PZ"
   },
   "source": [
    "- **// 연산자**는 10 단위 또는 100 단위 등의 수를 구할 때 사용하는 경우가 많습니다."
   ]
  },
  {
   "cell_type": "code",
   "execution_count": null,
   "metadata": {
    "id": "1kz_hfAjlXm2"
   },
   "outputs": [],
   "source": [
    "# 정수형 선언\n",
    "age = 26\n",
    "\n",
    "# 10으로 나눈 몫을 구한 후 10 곱하기\n",
    "age = age // 10 * 10\n",
    "\n",
    "# 확인\n",
    "age"
   ]
  },
  {
   "cell_type": "markdown",
   "metadata": {
    "id": "tFoxj6aPi_zv"
   },
   "source": [
    "### 1.2.2.print() 함수\n",
    "\n",
    "- 단순 값, 변수의 값, 연산 결과 등을 확인하기 위해 print() 함수를 사용합니다.\n",
    "- 아래 코드의 실행 결과를 비교해 보면 print() 함수의 필요성을 알 수 있습니다.\n",
    "- print() 함수 안에 콤마로 구분해 값을 여러 개 전달할 수 있어 다음과 같이 사용할 수 있습니다."
   ]
  },
  {
   "cell_type": "code",
   "execution_count": null,
   "metadata": {
    "id": "apORw_qkWgWG"
   },
   "outputs": [],
   "source": [
    "# 실수형 변수\n",
    "c = 10.5\n",
    "d = 2.5"
   ]
  },
  {
   "cell_type": "code",
   "execution_count": null,
   "metadata": {
    "id": "rho5x1f3HMXP"
   },
   "outputs": [],
   "source": [
    "# print() 함수를 사용하지 않은 경우 --> 값이 하나만 표시됨\n",
    "c % d\n",
    "c // d"
   ]
  },
  {
   "cell_type": "code",
   "execution_count": null,
   "metadata": {
    "id": "YcUEC61tHMXU"
   },
   "outputs": [],
   "source": [
    "# print() 함수를 사용한 경우 #1 --> 값이 여러번 표시됨\n",
    "print(c % d)\n",
    "print(c // d)"
   ]
  },
  {
   "cell_type": "code",
   "execution_count": null,
   "metadata": {
    "id": "D6GBFXWyHMXa"
   },
   "outputs": [],
   "source": [
    "# print() 함수를 사용한 경우 #2\n",
    "print('c =', c)\n",
    "print('d =', d)\n",
    "print('c % d =', c % d)\n",
    "print('c // d =', c // d)"
   ]
  },
  {
   "cell_type": "markdown",
   "metadata": {
    "id": "q1FqbGUAnSZp"
   },
   "source": [
    "<img src='https://raw.githubusercontent.com/jangrae/img/master/practice_20.png' width=120 align=\"left\"/>"
   ]
  },
  {
   "cell_type": "markdown",
   "metadata": {
    "id": "51ljTpTPbsDR"
   },
   "source": [
    "[문1] name, age 변수에 본인의 이름과 나이를 대입하고 코드를 실행하세요"
   ]
  },
  {
   "cell_type": "code",
   "execution_count": 7,
   "metadata": {
    "id": "EaIKTWfJxpGm"
   },
   "outputs": [],
   "source": [
    "# 변수에 이름과 나이 대입\n",
    "name = \"김현준\"\n",
    "age = 25"
   ]
  },
  {
   "cell_type": "code",
   "execution_count": 8,
   "metadata": {
    "id": "V6ZZJ-mbuqqf"
   },
   "outputs": [],
   "source": [
    "# 나이 빼기\n",
    "age = age - 10"
   ]
  },
  {
   "cell_type": "code",
   "execution_count": 9,
   "metadata": {
    "id": "HHfw7B2EGZNe"
   },
   "outputs": [
    {
     "name": "stdout",
     "output_type": "stream",
     "text": [
      "이름: 김현준\n",
      "나이: 15\n"
     ]
    }
   ],
   "source": [
    "# 값 확인 #1\n",
    "print('이름:', name)\n",
    "print('나이:', age)"
   ]
  },
  {
   "cell_type": "code",
   "execution_count": 10,
   "metadata": {
    "id": "vIFPEBs_F3gQ"
   },
   "outputs": [
    {
     "name": "stdout",
     "output_type": "stream",
     "text": [
      "이름: 김현준 / 나이: 15\n"
     ]
    }
   ],
   "source": [
    "# 값 확인 #2\n",
    "print('이름:', name, '/', '나이:', age)"
   ]
  },
  {
   "cell_type": "markdown",
   "metadata": {
    "id": "KiWSExcHrpKz"
   },
   "source": [
    "[문2] 다음 변수들의 합계와 평균을 tot_score, avg_score 변수에 대입한 후 결과를 확인하는 코드를 작성하세요."
   ]
  },
  {
   "cell_type": "code",
   "execution_count": 18,
   "metadata": {
    "id": "poI79WZ2rpK1"
   },
   "outputs": [
    {
     "name": "stdout",
     "output_type": "stream",
     "text": [
      "1104\n",
      "220.8\n"
     ]
    }
   ],
   "source": [
    "# 정수형 변수\n",
    "score1 = 153\n",
    "score2 = 204\n",
    "score3 = 259\n",
    "score4 = 221\n",
    "score5 = 267\n",
    "\n",
    "# 합계 구하기\n",
    "\n",
    "scores = [153, 204, 259, 221, 267]\n",
    "total = 0\n",
    "\n",
    "for i in scores:\n",
    "    total += i\n",
    "\n",
    "print(total)\n",
    "\n",
    "# 평균 구하기\n",
    "avg = total/5\n",
    "\n",
    "print(avg)\n",
    "\n",
    "# 출력\n"
   ]
  },
  {
   "cell_type": "markdown",
   "metadata": {
    "id": "VTlu-bdSfMYw"
   },
   "source": [
    "<img src='https://raw.githubusercontent.com/jangrae/img/master/practice_20e.png' width=45 align=\"left\"/>"
   ]
  },
  {
   "cell_type": "markdown",
   "metadata": {
    "id": "KuBFqcFVnSa9"
   },
   "source": [
    "### 1.2.3.비교 연산자(Comparison Operators)\n",
    "\n",
    "- 값이나 변수 또는 연산 결과 등의 크기를 비교하는 연산자를 비교 연산자라고 합니다.\n",
    "- = 는 값을 대입하는 연산자이며, '같다' 비교는 <font color='red'>**==**</font> 연산자를 사용합니다.\n",
    "- '같지않다' 비교는 <> 가 아닌 <font color='red'>**!=**</font> 을 사용해야 함을 기억하세요.\n",
    "- Python은 문자의 **대문자와 소문자를 구분**하여 비교하니 주의하세요.\n",
    "- 비교 연산의 결과는 **True** 아니면 **False** 가 됩니다(true, false가 아닌, True, False 임)."
   ]
  },
  {
   "cell_type": "markdown",
   "metadata": {
    "id": "i4fEVNDaIWYl"
   },
   "source": [
    "**1) 숫자 비교**"
   ]
  },
  {
   "cell_type": "code",
   "execution_count": null,
   "metadata": {
    "id": "7HMeP6o7w9oY"
   },
   "outputs": [],
   "source": [
    "# 정수형 변수\n",
    "a = 10\n",
    "b = 20\n",
    "\n",
    "# '크다' 비교\n",
    "a > b"
   ]
  },
  {
   "cell_type": "code",
   "execution_count": null,
   "metadata": {
    "id": "6oT_GQRNy9lH"
   },
   "outputs": [],
   "source": [
    "# '같다' 비교\n",
    "a == b"
   ]
  },
  {
   "cell_type": "code",
   "execution_count": null,
   "metadata": {
    "id": "NRcQtoA0zJPO"
   },
   "outputs": [],
   "source": [
    "# '작다' 비교\n",
    "a < b"
   ]
  },
  {
   "cell_type": "markdown",
   "metadata": {
    "id": "sbplhlgenSa3"
   },
   "source": [
    "**[참고] 조건문에 사용됨**\n",
    "\n",
    "- 비교 연산자는 조건에 따라 처리를 제어하는 **조건문**에 많이 사용합니다.\n",
    "- 다음 구문은 score 변수 값이 80 이상이면 'Good' 그렇지 않으면 'Bad'를 출력합니다."
   ]
  },
  {
   "cell_type": "code",
   "execution_count": null,
   "metadata": {
    "id": "dwyvxSesnSa1",
    "scrolled": true
   },
   "outputs": [],
   "source": [
    "# 정수형 변수\n",
    "score = 85\n",
    "\n",
    "# 조건문 예\n",
    "if score >= 80:\n",
    "    print('Good')\n",
    "else:\n",
    "    print('Bad')"
   ]
  },
  {
   "cell_type": "markdown",
   "metadata": {
    "id": "Tb6Z_02anSa0"
   },
   "source": [
    "### 1.2.4.복합 대입 연산자(Compound Assignment Operators)\n",
    "\n",
    "- **연산과 대입을 동시**에 수행할 수 있는 연산자를 복합 대입 연산자라고 부릅니다.\n",
    "- 코드를 단순하게 해주지만, **너무 많이 사용하면 오히려 복잡해 질 수도** 있으니 적절히 사용하기 바랍니다."
   ]
  },
  {
   "cell_type": "code",
   "execution_count": null,
   "metadata": {
    "id": "0siq1phV0qqV"
   },
   "outputs": [],
   "source": [
    "# 정수형 변수\n",
    "a = 10\n",
    "\n",
    "# 복합 대입 연산자 사용\n",
    "a += 10\n",
    "a -= 2\n",
    "a *= 2\n",
    "a /= 5\n",
    "\n",
    "# 확인\n",
    "print(a)"
   ]
  },
  {
   "cell_type": "markdown",
   "metadata": {
    "id": "8TjR-5qNnSZ8"
   },
   "source": [
    "## 1.3.자료형 변환\n",
    "\n",
    "- **float()**, **int()**, **str()**, **bool()** 함수를 사용해 자료형을 변환합니다.\n",
    "- 함수 이름이 자료형 이름과 같으므로 쉽게 기억할 수 있을 것입니다.\n",
    "- **type()** 함수로 자료형을 확인할 수 있습니다."
   ]
  },
  {
   "cell_type": "markdown",
   "metadata": {
    "id": "eSZr_1SynSZ7"
   },
   "source": [
    "**1) float() 함수: 문자열, 정수 → 실수**"
   ]
  },
  {
   "cell_type": "code",
   "execution_count": 19,
   "metadata": {
    "id": "VTI8Tux1nSZ4",
    "scrolled": true
   },
   "outputs": [
    {
     "name": "stdout",
     "output_type": "stream",
     "text": [
      "<class 'float'>\n",
      "<class 'float'>\n",
      "10.5\n",
      "10.0\n"
     ]
    }
   ],
   "source": [
    "# 문자열, 정수 --> 실수\n",
    "a = float('10.5')\n",
    "b = float(10)\n",
    "print(type(a))\n",
    "print(type(b))\n",
    "print(a)\n",
    "print(b)"
   ]
  },
  {
   "cell_type": "markdown",
   "metadata": {
    "id": "7QQoA5dJnSZ3"
   },
   "source": [
    "**2) int() 함수: 문자열, 실수 → 정수**"
   ]
  },
  {
   "cell_type": "code",
   "execution_count": 20,
   "metadata": {
    "id": "9Hn3DPLmnSZ1"
   },
   "outputs": [
    {
     "name": "stdout",
     "output_type": "stream",
     "text": [
      "<class 'int'>\n",
      "<class 'int'>\n",
      "10\n",
      "123\n"
     ]
    }
   ],
   "source": [
    "# 문자열, 실수 --> 정수\n",
    "a = int('10')\n",
    "b = int(123.45)\n",
    "print(type(a))\n",
    "print(type(b))\n",
    "print(a)\n",
    "print(b)"
   ]
  },
  {
   "cell_type": "markdown",
   "metadata": {
    "id": "1OcjLvr-nSZx"
   },
   "source": [
    "\n",
    "**3) str() 함수: 숫자 → 문자열**"
   ]
  },
  {
   "cell_type": "code",
   "execution_count": 24,
   "metadata": {
    "id": "wh7j6zwFnSZv"
   },
   "outputs": [
    {
     "name": "stdout",
     "output_type": "stream",
     "text": [
      "<class 'str'>\n",
      "123.45\n"
     ]
    }
   ],
   "source": [
    "# 숫자 --> 문자열\n",
    "c = str(123.45)\n",
    "print(type(c))\n",
    "print(c)"
   ]
  },
  {
   "cell_type": "markdown",
   "metadata": {
    "id": "wenVox4lnSZu"
   },
   "source": [
    "**4) bool() 함수: 숫자, 문자열 → 불리언형**\n",
    "\n",
    "- 0이면 False, 나머지는 True"
   ]
  },
  {
   "cell_type": "code",
   "execution_count": 25,
   "metadata": {
    "id": "TmWwJn21nSZs"
   },
   "outputs": [
    {
     "name": "stdout",
     "output_type": "stream",
     "text": [
      "<class 'bool'>\n",
      "True\n",
      "<class 'bool'>\n",
      "False\n"
     ]
    }
   ],
   "source": [
    "# 숫자 --> 불리언형\n",
    "d = bool(-12)\n",
    "print(type(d))\n",
    "print(d)\n",
    "\n",
    "e = bool(0)\n",
    "print(type(e))\n",
    "print(e)"
   ]
  },
  {
   "cell_type": "markdown",
   "metadata": {
    "id": "xdjVNYvPn_UJ"
   },
   "source": [
    "\n",
    "- 완전 공백('')이면 False, 나머지는 True"
   ]
  },
  {
   "cell_type": "code",
   "execution_count": 26,
   "metadata": {
    "id": "zTW-7WPjnSZp"
   },
   "outputs": [
    {
     "name": "stdout",
     "output_type": "stream",
     "text": [
      "<class 'bool'> True\n",
      "<class 'bool'> False\n"
     ]
    }
   ],
   "source": [
    "# 문자 --> 불리언형\n",
    "f = bool('a')\n",
    "print(type(f), f)\n",
    "\n",
    "g = bool('')\n",
    "print(type(g), g)"
   ]
  },
  {
   "cell_type": "markdown",
   "metadata": {
    "id": "VYRwidRa8GjP"
   },
   "source": [
    "<img src='https://raw.githubusercontent.com/jangrae/img/master/practice_20.png' width=120 align=\"left\"/>"
   ]
  },
  {
   "cell_type": "markdown",
   "metadata": {
    "id": "Tp_2pk-awN-O"
   },
   "source": [
    "[문1] 다음 셀이 오류 없이 제대로 수행되게 수정해 보세요."
   ]
  },
  {
   "cell_type": "code",
   "execution_count": 28,
   "metadata": {
    "id": "mg49AFdUnSZn"
   },
   "outputs": [
    {
     "name": "stdout",
     "output_type": "stream",
     "text": [
      "I am 20 years old.\n"
     ]
    }
   ],
   "source": [
    "# 문자열과 숫자 연결\n",
    "print('I am ' + str(20) + ' years old.')"
   ]
  },
  {
   "cell_type": "markdown",
   "metadata": {
    "id": "SorGh3sL8GjP"
   },
   "source": [
    "<img src='https://raw.githubusercontent.com/jangrae/img/master/practice_20e.png' width=45 align=\"left\"/>"
   ]
  },
  {
   "cell_type": "markdown",
   "metadata": {
    "id": "LMHCsoso8GjP"
   },
   "source": [
    "<img src='https://raw.githubusercontent.com/jangrae/img/master/practice_30.png' width=120 align=\"left\"/>"
   ]
  },
  {
   "cell_type": "markdown",
   "metadata": {
    "id": "_xpgPrlt3LES"
   },
   "source": [
    "[문1] 두 문자열 '파이썬을 배웁시다.',  '누구든 할 수 있습니다.'를 하나의 print() 함수로 출력하세요."
   ]
  },
  {
   "cell_type": "code",
   "execution_count": 29,
   "metadata": {
    "id": "viypc3IK24aS"
   },
   "outputs": [
    {
     "name": "stdout",
     "output_type": "stream",
     "text": [
      "파이썬을 배웁시다. 누구든 할 수 있습니다.\n"
     ]
    }
   ],
   "source": [
    "print(\"파이썬을 배웁시다.\", \"누구든 할 수 있습니다.\")\n"
   ]
  },
  {
   "cell_type": "markdown",
   "metadata": {
    "id": "FluLogo_3Q8V"
   },
   "source": [
    "[문2] 숫자 123, 문자열 '오늘은', 문자열 '12월20일 입니다.'를 각각의 print() 함수로 출력하세요."
   ]
  },
  {
   "cell_type": "code",
   "execution_count": 30,
   "metadata": {
    "id": "bZEhloQa24aT"
   },
   "outputs": [
    {
     "name": "stdout",
     "output_type": "stream",
     "text": [
      "123 오늘은 12월20일 입니다.\n"
     ]
    }
   ],
   "source": [
    "print(str(123), \"오늘은\", \"12월20일 입니다.\")\n"
   ]
  },
  {
   "cell_type": "markdown",
   "metadata": {
    "id": "wyXqysTg4GnG"
   },
   "source": [
    "[문3] 31과 31.0이 같은 지를 비교 연산자로 확인하세요."
   ]
  },
  {
   "cell_type": "code",
   "execution_count": 31,
   "metadata": {
    "id": "rey0ew4q24aY"
   },
   "outputs": [
    {
     "name": "stdout",
     "output_type": "stream",
     "text": [
      "True\n"
     ]
    }
   ],
   "source": [
    "print(31 == 31.0)\n"
   ]
  },
  {
   "cell_type": "markdown",
   "metadata": {
    "id": "1Bw7M9Kk4I2H"
   },
   "source": [
    "[문4] 24와 24.0이 다른 지를 비교 연산자로 확인하세요."
   ]
  },
  {
   "cell_type": "code",
   "execution_count": 32,
   "metadata": {
    "id": "znPWjSZB24aY"
   },
   "outputs": [
    {
     "name": "stdout",
     "output_type": "stream",
     "text": [
      "True\n"
     ]
    }
   ],
   "source": [
    "print(24 == 24.0)\n"
   ]
  },
  {
   "cell_type": "markdown",
   "metadata": {
    "id": "33FHKoVH5PFi"
   },
   "source": [
    "[문5] 홍길동의 성적을 아래 요구사항에 따라 처리하세요.\n",
    "- 국어: 96점, 수학: 72점, 영어: 88점\n",
    "- 변수 kor, math, eng에 각 과목 점수 대입\n",
    "- 변수 avg에 평균 점수를 계산하여 대입\n",
    "- 문자열 '홍길동의 평균 점수는'과 변수 avg를 하나의 print() 함수로 출력\n",
    "- 평균 = (전체 자료의 합) / (전체 자료의 수)"
   ]
  },
  {
   "cell_type": "code",
   "execution_count": 42,
   "metadata": {
    "id": "Za0wRbCc24ac"
   },
   "outputs": [
    {
     "name": "stdout",
     "output_type": "stream",
     "text": [
      "홍길동의 평균 점수는 85.3\n",
      "홍길동의 평균 점수는 85.33333333333333\n"
     ]
    }
   ],
   "source": [
    "kor = 96\n",
    "math = 72\n",
    "eng = 88\n",
    "\n",
    "avg = (kor + math + eng) / 3\n",
    "\n",
    "print(\"홍길동의 평균 점수는\", round(avg,1))\n"
   ]
  },
  {
   "cell_type": "markdown",
   "metadata": {
    "id": "MozyZf2e8GjP"
   },
   "source": [
    "<img src='https://raw.githubusercontent.com/jangrae/img/master/practice_30e.png' width=45 align=\"left\"/>"
   ]
  }
 ],
 "metadata": {
  "colab": {
   "provenance": []
  },
  "kernelspec": {
   "display_name": "Python 3 (ipykernel)",
   "language": "python",
   "name": "python3"
  },
  "language_info": {
   "codemirror_mode": {
    "name": "ipython",
    "version": 3
   },
   "file_extension": ".py",
   "mimetype": "text/x-python",
   "name": "python",
   "nbconvert_exporter": "python",
   "pygments_lexer": "ipython3",
   "version": "3.13.5"
  }
 },
 "nbformat": 4,
 "nbformat_minor": 4
}
